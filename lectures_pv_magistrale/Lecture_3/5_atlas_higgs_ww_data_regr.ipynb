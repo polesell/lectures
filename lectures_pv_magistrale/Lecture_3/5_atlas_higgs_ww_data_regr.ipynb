{
 "cells": [
  {
   "cell_type": "markdown",
   "metadata": {
    "id": "TiSTHbA25ZtB"
   },
   "source": [
    "# Performing the Higgs -> WW-> 2 leptons search \n",
    "\n",
    "\n",
    "\n"
   ]
  },
  {
   "cell_type": "markdown",
   "metadata": {
    "id": "5dgRkVPu5ZtK"
   },
   "source": [
    "# Installation of packages not available by default on colab\n"
   ]
  },
  {
   "cell_type": "code",
   "execution_count": null,
   "metadata": {
    "colab": {
     "base_uri": "https://localhost:8080/"
    },
    "id": "rjpPQFJHBHZO",
    "outputId": "4e4e4a10-448d-4576-a5a3-c9810c5fa386"
   },
   "outputs": [],
   "source": [
    "import sys\n",
    "# update the pip package installer\n",
    "#%pip install --upgrade --user pip\n",
    "# install required packages\n",
    "#%pip install --upgrade --user uproot awkward vector numpy matplotlib\n",
    "\n",
    "!pip install uproot\n",
    "!pip install vector\n",
    "!pip install awkward\n",
    "!pip install hist"
   ]
  },
  {
   "cell_type": "markdown",
   "metadata": {
    "id": "YrW2zmSv5ZtP"
   },
   "source": [
    "## Import packages used in the analysis\n",
    "\n",
    "We're going to be using a number of tools to help us:\n",
    "* uproot: lets us read .root files typically used in particle physics into data formats used in python\n",
    "* awkward: lets us store data as awkward arrays, a format that generalizes numpy to nested data with possibly variable length lists\n",
    "* vector: to allow vectorized 4-momentum calculations\n",
    "* numpy: provides numerical calculations such as histogramming\n",
    "* matplotlib: common tool for making plots, figures, images, visualisations"
   ]
  },
  {
   "cell_type": "code",
   "execution_count": 1,
   "metadata": {
    "id": "0tezkWvi5ZtP"
   },
   "outputs": [],
   "source": [
    "import uproot # for reading .root files\n",
    "import awkward as ak # to represent nested data in columnar format\n",
    "import vector # for 4-momentum calculations\n",
    "import time # to measure time to analyse\n",
    "import math # for mathematical functions such as square root\n",
    "import numpy as np # for numerical calculations such as histogramming\n",
    "import matplotlib.pyplot as plt\n",
    "import pandas as pd\n"
   ]
  },
  {
   "cell_type": "markdown",
   "metadata": {
    "id": "x1jsgyX25ZtR"
   },
   "source": [
    "## Data fraction, file path\n",
    "\n",
    "General definitions of fraction of data used, where to access the input files"
   ]
  },
  {
   "cell_type": "code",
   "execution_count": 2,
   "metadata": {
    "id": "kvTJwT3Fu0B8"
   },
   "outputs": [],
   "source": [
    "#lumi = 0.5 # fb-1 # data_A only\n",
    "#lumi = 1.9 # fb-1 # data_B only\n",
    "#lumi = 2.9 # fb-1 # data_C only\n",
    "#lumi = 4.7 # fb-1 # data_D only\n",
    "lumi = 10 # fb-1 # data_A,data_B,data_C,data_D\n",
    "fraction = 625000 # reduce this is if you want the code to run quicker"
   ]
  },
  {
   "cell_type": "markdown",
   "metadata": {
    "id": "nQfajNQQ5ZtR"
   },
   "source": [
    "<a id='fraction'></a>"
   ]
  },
  {
   "cell_type": "code",
   "execution_count": 3,
   "metadata": {
    "id": "M7SvDjMB5ZtS"
   },
   "outputs": [],
   "source": [
    "tuple_path = \"https://atlas-opendata.web.cern.ch/atlas-opendata/samples/2020/2lep/\" # web address"
   ]
  },
  {
   "cell_type": "markdown",
   "metadata": {
    "id": "ygZz8Zeg5ZtU"
   },
   "source": [
    "Units, as stored in the data files.<br /> \n",
    "The quantities in the ATLAS ntuple are unfortunately stored in MeV.<br />\n",
    "Since the natural unit for LHC analysis is GeV, we define conversion factors"
   ]
  },
  {
   "cell_type": "code",
   "execution_count": 4,
   "metadata": {
    "id": "dlHtfEWO5ZtU"
   },
   "outputs": [],
   "source": [
    "MeV = 0.001\n",
    "GeV = 1.0\n",
    "mz = 91.12"
   ]
  },
  {
   "cell_type": "markdown",
   "metadata": {
    "id": "1rwxT2a_u0CA"
   },
   "source": [
    "Define different classes of ntuples to access as a dictionary called \"samples\".<br />\n",
    "One has four types of ntuples:<br />\n",
    "<ul>\n",
    "<li>Data: the real data collected by ATLAS at the LHC\n",
    "<li>Reducible backgrounds: \n",
    "<li>Irreducible backgrounds\n",
    "<li>Signal\n",
    "</ul>\n",
    "The names in the list must correspond to the names of a sample defined in infofile.py"
   ]
  },
  {
   "cell_type": "code",
   "execution_count": 5,
   "metadata": {
    "id": "cpceF7lo5ZtT"
   },
   "outputs": [],
   "source": [
    "samples = {\n",
    "#  'data': {\n",
    "#    'list' : ['data_A','data_B','data_C','data_D'],\n",
    "#  },\n",
    "#  'reducible' : { # ttbar\n",
    "#     'list' : ['ttbar_lep'],\n",
    "#     'color' : \"#6b59d3\" # purple\n",
    "#  },\n",
    "  'background' : { # WW\n",
    "     'list' : ['llvv'],\n",
    "     'color' : \"#ff0000\" # red\n",
    "  },\n",
    "  'signal' : { # H -> WW -> llvv\n",
    "     'list' : ['ggH125_WW2lep'],\n",
    "     'color' : \"#00cdff\" # light blue\n",
    "  },\n",
    "}"
   ]
  },
  {
   "cell_type": "code",
   "execution_count": 6,
   "metadata": {
    "colab": {
     "base_uri": "https://localhost:8080/"
    },
    "id": "eXQ9WIxju0B4",
    "outputId": "57d3c8c1-0a61-4f59-90e8-98a4f9147281"
   },
   "outputs": [],
   "source": [
    "import os.path\n",
    "if os.path.isfile('infofile.py')==False:\n",
    "  !wget https://raw.githubusercontent.com/atlas-outreach-data-tools/notebooks-collection-opendata/master/13-TeV-examples/uproot_python/infofile.py    \n",
    "import infofile    \n",
    "#!head -n 12 infofile.py"
   ]
  },
  {
   "cell_type": "code",
   "execution_count": 7,
   "metadata": {
    "id": "elnlxPRBu0CB"
   },
   "outputs": [],
   "source": [
    "def get_xsec_weight(sample):\n",
    "  info = infofile.infos[sample] # open infofile\n",
    "  xsec_weight = (lumi*1000*info[\"xsec\"])/(info[\"sumw\"]*info[\"red_eff\"]) #*1000 to go from fb-1 to pb-1\n",
    "  return xsec_weight # return cross-section weight\n",
    "\n",
    "def calc_weight(xsec_weight, events):\n",
    "    return (\n",
    "        xsec_weight\n",
    "        * events.mcWeight\n",
    "        * events.scaleFactor_PILEUP\n",
    "        * events.scaleFactor_ELE\n",
    "        * events.scaleFactor_MUON\n",
    "        * events.scaleFactor_LepTRIGGER\n",
    "    )"
   ]
  },
  {
   "cell_type": "code",
   "execution_count": 8,
   "metadata": {
    "id": "EEWAYhJru0CB"
   },
   "outputs": [],
   "source": [
    "def get_data_from_files():\n",
    "\n",
    "  data = {} # define empty dictionary to hold dataframes\n",
    "  statMC = {}\n",
    "  for s in samples: # loop over samples\n",
    "    print('Processing '+s+' samples') # print which sample\n",
    "    frames = [] # define empty list to hold data\n",
    "    stattot=0\n",
    "    for val in samples[s]['list']: # loop over each file\n",
    "      if s == 'data': prefix = \"Data/\" # Data prefix\n",
    "      else: # MC prefix\n",
    "        prefix = \"MC/mc_\"+str(infofile.infos[val][\"DSID\"])+\".\"\n",
    "      fileString = tuple_path+prefix+val+\".2lep.root\" # file name to open\n",
    "      temp, stats = read_file(fileString,val) # call the function read_file defined below\n",
    "      stattot=stattot+stats\n",
    "      frames.append(temp) # append dataframe returned from read_file to list of dataframes\n",
    "    data[s] = pd.concat(frames) # dictionary entry is concatenated dataframes\n",
    "    statMC[s]=stattot\n",
    "\n",
    "  return data, statMC# return dictionary of dataframes"
   ]
  },
  {
   "cell_type": "markdown",
   "metadata": {
    "id": "2MyurcAr5ZtV"
   },
   "source": [
    "Define function to calculate kinematic quantities based on components of two leptons and Etmiss.<br />\n",
    "It accesses the dataframe where the particle data are stored as scalar components, and creates an \n",
    "array of 4-vectors with the vector library<br />\n",
    "The variables are then built using the 4-vector algebra"
   ]
  },
  {
   "cell_type": "code",
   "execution_count": 9,
   "metadata": {
    "id": "oj8gJb4R5ZtV"
   },
   "outputs": [],
   "source": [
    "def calc_kine(dff):\n",
    "    pl1=vector.array({\"pt\":dff[\"ptl1\"], \"phi\":dff[\"phil1\"],\n",
    "       \"eta\":dff[\"etal1\"], \"e\":dff[\"el1\"]})\n",
    "    pl2=vector.array({\"pt\":dff[\"ptl2\"], \"phi\":dff[\"phil2\"],\n",
    "       \"eta\":dff[\"etal2\"], \"e\":dff[\"el2\"]})\n",
    "    etmv=vector.array({\"pt\":dff[\"met_et\"], \"phi\":dff[\"met_phi\"]})\n",
    "    etm=dff[\"met_et\"]\n",
    "    pll=pl1+pl2\n",
    "    ptllv=vector.array({\"x\":pll.x, \"y\":pll.y})\n",
    "    c2=(etmv.x+ptllv.x)**2+(etmv.y+ptllv.y)**2\n",
    "    dphill=pl1.deltaphi(pl2)\n",
    "    dphillm=pll.deltaphi(etmv)\n",
    "    mll=pll.M\n",
    "    ptll=pll.pt\n",
    "    etll=np.sqrt(ptll*ptll+mll*mll)\n",
    "    c1=(etll+etm)**2\n",
    "    mt=np.sqrt(c1-c2)\n",
    "    return mll,dphill,ptll,dphillm,mt"
   ]
  },
  {
   "cell_type": "markdown",
   "metadata": {},
   "source": [
    "Calculate the angular difference in transverse plane between each of the leptons and the Etmiss vector.<br />\n",
    "They will be used to reduce number of variables exploiting the azimuthal invariance of the events"
   ]
  },
  {
   "cell_type": "code",
   "execution_count": 10,
   "metadata": {},
   "outputs": [],
   "source": [
    "def calc_dphil1m(dff):\n",
    "    pl=vector.array({\"pt\":dff[\"ptl1\"], \"phi\":dff[\"phil1\"],\n",
    "       \"eta\":dff[\"etal1\"], \"e\":dff[\"el1\"]})\n",
    "    em=vector.array({\"pt\":dff[\"met_et\"], \"phi\":dff[\"met_phi\"]})\n",
    "    return pl.deltaphi(em)\n",
    "def calc_dphil2m(dff):\n",
    "    pl=vector.array({\"pt\":dff[\"ptl2\"], \"phi\":dff[\"phil2\"],\n",
    "       \"eta\":dff[\"etal2\"], \"e\":dff[\"el2\"]})\n",
    "    em=vector.array({\"pt\":dff[\"met_et\"], \"phi\":dff[\"met_phi\"]})\n",
    "    return pl.deltaphi(em)"
   ]
  },
  {
   "cell_type": "markdown",
   "metadata": {
    "id": "qip61stOu0CC"
   },
   "source": [
    "Simple template for a selection function acting on the dataframe, it creates a boolean. Implement selections on the quality of leptons"
   ]
  },
  {
   "cell_type": "code",
   "execution_count": 11,
   "metadata": {
    "id": "QR-1NL4f5ZtV"
   },
   "outputs": [],
   "source": [
    "def cut_iso(df):\n",
    "   isol1=(df[\"ptcl1\"]/df[\"ptl1\"]<0.2) & (df[\"etcl1\"]/df[\"ptl1\"]<0.2)\n",
    "   isol2=(df[\"ptcl2\"]/df[\"ptl2\"]<0.2) & (df[\"etcl2\"]/df[\"ptl2\"]<0.2)\n",
    "   return isol1 & isol2\n",
    "def cut_ossf(df):\n",
    "   ltc1=df[\"chl1\"]*df[\"typl1\"]\n",
    "   ltc2=df[\"chl2\"]*df[\"typl2\"]\n",
    "   return (ltc1+ltc2!=0) & ((df[\"chl1\"]+df[\"chl2\"])>0) \n",
    "def cut_tight(df):\n",
    "   return (df[\"tightl1\"]==1) & (df[\"tightl2\"]==1)"
   ]
  },
  {
   "cell_type": "markdown",
   "metadata": {
    "id": "R-GwlBqK5ZtW"
   },
   "source": [
    "Define function to get data from files.\n",
    "\n",
    "The datasets used in this notebook have already been filtered to include at least 4 leptons per event"
   ]
  },
  {
   "cell_type": "code",
   "execution_count": 33,
   "metadata": {
    "id": "uRmvqb0U5ZtW"
   },
   "outputs": [],
   "source": [
    "def read_file(path, sample):\n",
    "  with uproot.open( path + \":mini\") as tree:\n",
    "    numevents = tree.num_entries # number of events\n",
    "    stopev=numevents*fraction\n",
    "    if fraction>1:\n",
    "      stopev=fraction\n",
    "    if 'data' not in sample: \n",
    "      xsec_weight = get_xsec_weight(sample) # get cross-section weight\n",
    "      print('sample xs weight',xsec_weight,'totev ',xsec_weight*numevents )    \n",
    "# variables to extract from ntuple are separated \n",
    "    lepvar=[\"lep_pt\", \"lep_eta\", \"lep_phi\",\"lep_E\",\n",
    "          \"lep_charge\",\"lep_type\",\n",
    "          \"lep_ptcone30\",\"lep_etcone20\", \"lep_isTightID\"]\n",
    "    scalvar=[\"met_et\",\"met_phi\",\"jet_n\"]\n",
    "    weivar=[\"mcWeight\",\"scaleFactor_PILEUP\",\n",
    "            \"scaleFactor_ELE\",\"scaleFactor_MUON\",\n",
    "            \"scaleFactor_LepTRIGGER\"] # variables to calculate Monte Carlo weight\n",
    "    tupvar=weivar+lepvar+scalvar\n",
    "# read tree into awkward array with uproot\n",
    "    print(\"num\",numevents, stopev)\n",
    "    lep_momentum = tree.arrays(tupvar,entry_stop=stopev,library=\"ak\")\n",
    "# define the names of the variables to go into dataframe\n",
    "    colnam=[\"ptl1\",\"etal1\",\"phil1\",\"el1\",\"chl1\",\"typl1\",\"ptcl1\",\"etcl1\",\"tightl1\",\n",
    "          \"ptl2\",\"etal2\",\"phil2\",\"el2\",\"chl2\",\"typl2\",\"ptcl2\",\"etcl2\",\"tightl2\"]\n",
    "# create numpy vector assuming that lep_ arrays have 4 components\n",
    "    for i in range(0,2):\n",
    "      for j in range(0,len(lepvar)):\n",
    "        if i==0 and j==0:\n",
    "          ptlep=ak.to_numpy(lep_momentum[lepvar[j]][:,i])\n",
    "        else:\n",
    "          ptlep=np.vstack([ptlep,ak.to_numpy(lep_momentum[lepvar[j]][:,i])])\n",
    "# end up with numpy 2d vector with n_var rows and n_event columns\n",
    "# to transpose, as in pandas 'features' are columns and 'observations' rows\n",
    "    ptlep=ptlep.transpose()\n",
    "# create dataframe \n",
    "    df = pd.DataFrame(ptlep)\n",
    "# add names of columns\n",
    "    df.columns=colnam \n",
    "# add scalar variables\n",
    "    for i in range(0, len(scalvar)):\n",
    "      df[scalvar[i]]=lep_momentum[scalvar[i]]\n",
    "#   calculate dphi rotation variables\n",
    "    df[\"dphil1m\"]=calc_dphil1m(df)\n",
    "    df[\"dphil2m\"]=calc_dphil2m(df)\n",
    "#   calculate lepton-lepton variables\n",
    "    mll,dphill,ptll,dphillm,mt=calc_kine(df)\n",
    "    df[\"dphill\"]=np.abs(dphill)\n",
    "    df[\"dphillm\"]=np.abs(dphillm)\n",
    "    df[\"mll\"]=mll\n",
    "    df[\"ptll\"]=ptll\n",
    "    df[\"mt\"]=mt\n",
    "# add MC weights and signal/background labelling\n",
    "    if 'data' not in sample: # only do this for Monte Carlo simulation files\n",
    "# multiply all Monte Carlo weights and scale factors together to give total weight\n",
    "      wei=calc_weight(xsec_weight, lep_momentum)*numevents/stopev\n",
    "      numevscal=sum(wei)\n",
    "      print(\" events with MC weight: \", numevscal)\n",
    "      df[\"totalWeight\"] = wei\n",
    "      \n",
    "      if  'H125' in sample:\n",
    "        df[\"SIG\"]=np.ones(df.shape[0])\n",
    "      else:\n",
    "        df[\"SIG\"]=np.zeros(df.shape[0])\n",
    "    print(\"dataframe after preselection \" ,df.shape)\n",
    "    return df, numevscal"
   ]
  },
  {
   "cell_type": "code",
   "execution_count": null,
   "metadata": {},
   "outputs": [],
   "source": []
  },
  {
   "cell_type": "markdown",
   "metadata": {
    "id": "mwFgiBZ35ZtY"
   },
   "source": [
    "# Run the reading of files"
   ]
  },
  {
   "cell_type": "code",
   "execution_count": 34,
   "metadata": {
    "colab": {
     "base_uri": "https://localhost:8080/"
    },
    "id": "AZerdO-d5ZtY",
    "outputId": "b60b1980-25a5-424f-9ba2-bbfd4ab169ab",
    "scrolled": false
   },
   "outputs": [
    {
     "name": "stdout",
     "output_type": "stream",
     "text": [
      "Processing background samples\n",
      "sample xs weight 0.02473775926465947 totev  84332.08505687251\n",
      "num 3409043 625000\n",
      " events with MC weight:  24478.20358414148\n",
      "dataframe after preselection  (625000, 30)\n",
      "Processing signal samples\n",
      "sample xs weight 2.652880224948454e-05 totev  16.67826004221719\n",
      "num 628685 625000\n",
      " events with MC weight:  421.9573338056145\n",
      "dataframe after preselection  (625000, 30)\n",
      "dict_keys(['background', 'signal'])\n",
      "{'background': 24478.20358414148, 'signal': 421.9573338056145}\n",
      "Time taken: 68.4s\n"
     ]
    }
   ],
   "source": [
    "start = time.time() # time at start of whole processing\n",
    "df, statMC = get_data_from_files() #process all files\n",
    "print(df.keys())\n",
    "print(statMC)\n",
    "elapsed = time.time() - start # time after whole processing\n",
    "print(\"Time taken: \"+str(round(elapsed,1))+\"s\") # print total time taken to process every file"
   ]
  },
  {
   "cell_type": "markdown",
   "metadata": {},
   "source": [
    "## Apply preselections or add secondary variables if desired to separate datafranes"
   ]
  },
  {
   "cell_type": "markdown",
   "metadata": {},
   "source": [
    "Define routine which loops over all the samples in the dictionary of dataframes and applies\n",
    "selections on them. <br />\n",
    "It would be simpler to apply the cuts when reading the files, but in this way you can play with \n",
    "the selections without the need of reloading the files every time<br />\n",
    "One can also create dataframes with different selection levels and compare them"
   ]
  },
  {
   "cell_type": "code",
   "execution_count": 35,
   "metadata": {},
   "outputs": [],
   "source": [
    "def add_columns(df):\n",
    "\n",
    "  data = {} # define empty dictionary to hold dataframes\n",
    "  for s in samples: # loop over samples\n",
    "    print('Add columns '+s+' samples') # print which sample\n",
    "    print('before', df[s].shape) \n",
    "    adddf=df[s] \n",
    "#   put here def of new variable\n",
    "    data[s]=adddf\n",
    "\n",
    "  return data # return dictionary of dataframes\n",
    "\n",
    "def apply_selections(df):\n",
    "\n",
    "  data = {} # define empty dictionary to hold dataframes\n",
    "  for s in samples: # loop over samples\n",
    "    print('Apply selections on '+s+' samples') # print which sample\n",
    "    print('before', df[s].shape) \n",
    "    seldf=df[s]\n",
    "    seldf=seldf.query(\"ptl1>20000\")\n",
    "    print('after',seldf.shape)\n",
    "    data[s]=seldf\n",
    "#    data[s] = pd.concat(frames) # dictionary entry is concatenated dataframes\n",
    "\n",
    "  return data # return dictionary of dataframes"
   ]
  },
  {
   "cell_type": "code",
   "execution_count": 36,
   "metadata": {},
   "outputs": [],
   "source": [
    "# Calculate events for available samples in dataframe dictionary normalised\n",
    "# to available statistics\n",
    "def calc_events(df):\n",
    "  stat = {} # define empty dictionary to hold stat\n",
    "  for s in samples: # loop over samples\n",
    "    if s not in ['data']: \n",
    "      print('Calculate events on '+s+' samples') # print which sample\n",
    "      stat[s]=(df[s]['totalWeight']).sum()\n",
    "    if s in ['data']:\n",
    "      stat[s]=df[s].shape[0]\n",
    "  return stat # return dictionary of statistics"
   ]
  },
  {
   "cell_type": "markdown",
   "metadata": {},
   "source": [
    "## Look at statistics before preselection"
   ]
  },
  {
   "cell_type": "code",
   "execution_count": 37,
   "metadata": {},
   "outputs": [
    {
     "name": "stdout",
     "output_type": "stream",
     "text": [
      "Calculate events on background samples\n",
      "Calculate events on signal samples\n",
      "421.95733380561074 24478.203584141247\n"
     ]
    }
   ],
   "source": [
    "finstat=calc_events(df)\n",
    "nsig=finstat['signal']\n",
    "nbg=finstat['background']\n",
    "print(nsig,nbg)"
   ]
  },
  {
   "cell_type": "markdown",
   "metadata": {},
   "source": [
    "## Apply preselections and check  numbers of events normalised to statistics"
   ]
  },
  {
   "cell_type": "code",
   "execution_count": 38,
   "metadata": {},
   "outputs": [
    {
     "name": "stdout",
     "output_type": "stream",
     "text": [
      "Apply selections on background samples\n",
      "before (625000, 30)\n",
      "after (625000, 30)\n",
      "Apply selections on signal samples\n",
      "before (625000, 30)\n",
      "after (625000, 30)\n"
     ]
    }
   ],
   "source": [
    "dfs=apply_selections(df)"
   ]
  },
  {
   "cell_type": "code",
   "execution_count": 39,
   "metadata": {},
   "outputs": [
    {
     "name": "stdout",
     "output_type": "stream",
     "text": [
      "Calculate events on background samples\n",
      "Calculate events on signal samples\n",
      "421.95733380561074 24478.203584141247\n"
     ]
    }
   ],
   "source": [
    "finstat1=calc_events(dfs)\n",
    "nsig1=finstat1['signal']\n",
    "nbg1=finstat1['background']\n",
    "print(nsig1,nbg1)\n"
   ]
  },
  {
   "cell_type": "markdown",
   "metadata": {},
   "source": [
    "# Prepare data for ML analysis\n",
    "\n",
    "## Fist step: build dataframes on which the analysis will be performed.<br />\n",
    "\n",
    "* Concatenate signal and background files\n",
    "* Randomize the distribution such that signal and background are randomly mixed\n",
    "* To allow visualisation remove events with very high values of the unbounded variables\n",
    "* Split out of the samples the events with row numbering above a given number to be used as a validation sample in the following"
   ]
  },
  {
   "cell_type": "code",
   "execution_count": 40,
   "metadata": {},
   "outputs": [
    {
     "name": "stdout",
     "output_type": "stream",
     "text": [
      "background 625000\n",
      "signal 625000\n",
      "df_all  (1244347, 13)\n",
      "df_val  (244347, 13)\n",
      "df_all  (1000000, 13)\n"
     ]
    }
   ],
   "source": [
    "tfea = ['SIG','ptl1','ptl2','dphil1m','dphil2m','etal1','etal2','met_et','mll','mt','ptll','dphill','dphillm'] # list of features for discriminant analysis\n",
    "# concatenate all samples\n",
    "df_all=pd.concat(df[key][tfea] for key in df)\n",
    "for key in df:\n",
    "   print(key,df[key].shape[0])\n",
    "df_all.columns=tfea\n",
    "#print(df_all.keys)\n",
    "# randomize it\n",
    "df_all=df_all.sample(frac=1)\n",
    "# kludge, put reasonable upper limit on unbounded variables to allow automatic plotting\n",
    "# in a reasobnable range\n",
    "df_all=df_all.query(\"ptl1<500000 & ptl2<250000 & met_et<500000 & mll<500000 & mt<1000000 & ptll<500000\")\n",
    "print(\"df_all \", df_all.shape)\n",
    "split=1000000\n",
    "df_val=df_all[split:]\n",
    "print(\"df_val \", df_val.shape)\n",
    "df_all=df_all[:split]\n",
    "print(\"df_all \", df_all.shape)"
   ]
  },
  {
   "cell_type": "markdown",
   "metadata": {},
   "source": [
    "## Definition of training and test samples\n",
    "\n",
    "As usual use train_test_split from sklearn library"
   ]
  },
  {
   "cell_type": "code",
   "execution_count": 41,
   "metadata": {},
   "outputs": [
    {
     "name": "stdout",
     "output_type": "stream",
     "text": [
      "Index(['ptl1', 'ptl2', 'dphil1m', 'dphil2m', 'etal1', 'etal2', 'met_et', 'mll',\n",
      "       'mt', 'ptll', 'dphill', 'dphillm'],\n",
      "      dtype='object')\n",
      "(1000000, 12)\n",
      "Index(['ptl1', 'ptl2', 'dphil1m', 'dphil2m', 'etal1', 'etal2', 'met_et', 'mll',\n",
      "       'mt', 'ptll', 'dphill', 'dphillm'],\n",
      "      dtype='object')\n"
     ]
    }
   ],
   "source": [
    "from sklearn.model_selection import train_test_split\n",
    "#Define vectors for input to ML\n",
    "# Use 'SIG' column as definition of target\n",
    "y = df_all['SIG']\n",
    "y_val=df_val['SIG']\n",
    "\n",
    "X = df_all[[col for col in df_all.columns if col!=\"SIG\"]]\n",
    "X_val=df_val[[col for col in df_all.columns if col!=\"SIG\"]]\n",
    "col_fin=X.columns\n",
    "print(col_fin)\n",
    "print(X.shape)\n",
    "X_train, X_test, y_train, y_test = train_test_split(X, y,\n",
    "                                   test_size=.25, random_state=0)\n",
    "print(X_train.columns)"
   ]
  },
  {
   "cell_type": "markdown",
   "metadata": {},
   "source": [
    "## Scaling of samples so that all of the variables  are in the same range\n",
    "\n",
    "Needed to make life easier for ML<br />\n",
    "Use StandardScaler method from sklearn library"
   ]
  },
  {
   "cell_type": "code",
   "execution_count": 42,
   "metadata": {},
   "outputs": [
    {
     "name": "stdout",
     "output_type": "stream",
     "text": [
      "Index(['ptl1', 'ptl2', 'dphil1m', 'dphil2m', 'etal1', 'etal2', 'met_et', 'mll',\n",
      "       'mt', 'ptll', 'dphill', 'dphillm'],\n",
      "      dtype='object')\n",
      "Index(['ptl1', 'ptl2', 'dphil1m', 'dphil2m', 'etal1', 'etal2', 'met_et', 'mll',\n",
      "       'mt', 'ptll', 'dphill', 'dphillm'],\n",
      "      dtype='object')\n",
      "Index(['ptl1', 'ptl2', 'dphil1m', 'dphil2m', 'etal1', 'etal2', 'met_et', 'mll',\n",
      "       'mt', 'ptll', 'dphill', 'dphillm'],\n",
      "      dtype='object')\n"
     ]
    }
   ],
   "source": [
    "from sklearn.preprocessing import StandardScaler\n",
    "scaler = StandardScaler() # initialise StandardScaler\n",
    "print(X_train.columns)\n",
    "# Fit only to the training data\n",
    "scaler.fit(X_train)\n",
    "\n",
    "# Now apply the transformations to the data:\n",
    "X_trains = scaler.transform(X_train)\n",
    "X_tests = scaler.transform(X_test)\n",
    "X_vals=scaler.transform(X_test)\n",
    "Xs = scaler.transform(X)\n",
    "print(X_train.columns)\n",
    "# rebuild dataframe for scaled variables for debugging purposes\n",
    "df_scal = pd.DataFrame(Xs)\n",
    "df_scal.columns=col_fin\n",
    "#add back labels \n",
    "df_scal['SIG']=y.values\n",
    "print(X.columns)"
   ]
  },
  {
   "cell_type": "markdown",
   "metadata": {
    "id": "pzk5n_pc5Zta"
   },
   "source": [
    "# Set of  standard diagnostic methods to understand the performance of the  classification algorithms"
   ]
  },
  {
   "cell_type": "markdown",
   "metadata": {},
   "source": [
    "## Simple wrapper for histogramming a variable from the dataframe"
   ]
  },
  {
   "cell_type": "code",
   "execution_count": 43,
   "metadata": {
    "id": "L5vLBRJXu0CG"
   },
   "outputs": [],
   "source": [
    "# in input:  df=dataframe var=variable in dataframe, \n",
    "# scale=scale factor on value of variable (e.g. for scaling between MeV and GeV)\n",
    "# nbin,xlow,xhigh: limits of histogram\n",
    "# norm: choose whether you plot acutal number of events in bin or fraction of events \n",
    "#       in each bin with respect to total\n",
    "# labx, laby labels of x and y axis of histogram \n",
    "# title: title of hisotgram\n",
    "# leg: legenda for content, useful if you superimpose two hists\n",
    "def hist1d(df, var, scale, nbin, xlow, xhig, norm, labx, laby, title, leg):\n",
    "  bins = np.linspace(xlow,xhig,nbin)\n",
    "  plt.hist(df[var]*scale, bins, alpha=0.5, density=norm, label=leg)\n",
    "  plt.xlabel(labx)\n",
    "  plt.ylabel(laby)\n",
    "  plt.legend(loc='best')\n",
    "# 2d, same definition of inputs as above\n",
    "def hist2d(df,var1,var2,scalex,scaley,nbinx,xlow,xhig,nbiny,ylow,yhig,labx,laby,title):\n",
    "  binx = np.linspace(xlow,xhig,nbinx)\n",
    "  biny = np.linspace(ylow,yhig,nbiny)\n",
    "  plt.hist2d(df[var1]*scalex, df[var2]*scaley, bins=[binx, biny], density=False, cmin=0.5)\n",
    "  plt.xlabel(labx)\n",
    "  plt.ylabel(laby)"
   ]
  },
  {
   "cell_type": "markdown",
   "metadata": {},
   "source": [
    "## Plot history of losses along epochs for Keras"
   ]
  },
  {
   "cell_type": "code",
   "execution_count": 44,
   "metadata": {},
   "outputs": [],
   "source": [
    "import matplotlib.pyplot as plt\n",
    "\n",
    "# plot the  history \n",
    "def plothis(history, title):\n",
    "  plt.plot(history.history['loss'])\n",
    "  plt.plot(history.history['val_loss'])\n",
    "  plt.title(title)\n",
    "  plt.ylabel('loss')\n",
    "  plt.xlabel('epoch')\n",
    "  plt.legend(['train', 'test'], loc='upper right')\n",
    "#  plt.show()\n",
    "\n",
    "def plothis_file(filehis, title):\n",
    "  hh = pd.read_csv(filehis, header=0, engine='python')   \n",
    "  plt.plot(hh['loss'].values)\n",
    "  plt.plot(hh['val_loss'].values)\n",
    "  plt.title(title)\n",
    "  plt.ylabel('loss')\n",
    "  plt.xlabel('epoch')\n",
    "  plt.legend(['train', 'test'], loc='upper right')\n",
    "#plothis(history, 'test network')"
   ]
  },
  {
   "cell_type": "markdown",
   "metadata": {},
   "source": [
    "## Plot distribution of output probabilities  for signal and backround\n",
    "\n",
    "The output of the classification is for each event a number between 0 and 1 representing the probability that that event is a signal event. Since for each event we know whether it was a signal (SIG=1) or a background (SIG=0), we can plot the output probability of the network for each of the two classes.\n"
   ]
  },
  {
   "cell_type": "code",
   "execution_count": 45,
   "metadata": {},
   "outputs": [],
   "source": [
    "\n",
    "def plot_prob(y_test, Ypredt):\n",
    "\n",
    "#build a dataframe with as columns the output PROB and the label (SIG)\n",
    "\n",
    "  df_test_acc = pd.DataFrame({'PROB':Ypredt[:,0]})\n",
    "  df_test_acc['SIG']=y_test\n",
    "\n",
    "# split according to the label\n",
    "  df_test_acc_bkg = df_test_acc.query('SIG==0')\n",
    "  df_test_acc_sig = df_test_acc.query('SIG==1')\n",
    "  print('nsig ',df_test_acc_sig.shape[0])\n",
    "  print('nbkg ',df_test_acc_bkg.shape[0])\n",
    "  bins = np.linspace(0, 1,50)\n",
    "  plt.hist(df_test_acc_bkg.PROB, bins, alpha=0.5, density=True, label='Background')\n",
    "  plt.hist(df_test_acc_sig.PROB, bins, alpha=0.5, density=True, label='Signal')\n",
    "  plt.legend(loc='best')\n",
    "  plt.show()"
   ]
  },
  {
   "attachments": {},
   "cell_type": "markdown",
   "metadata": {},
   "source": [
    "## Plot ROC curve and calculate AUC"
   ]
  },
  {
   "cell_type": "markdown",
   "metadata": {},
   "source": [
    "A measure of how near the ideal our ROC curve is is the 'area under the curve' (AUC), which is also available in sklearn metrics. The ideal case would have AUC=1 and th worst case AUC=0.5"
   ]
  },
  {
   "cell_type": "code",
   "execution_count": 46,
   "metadata": {},
   "outputs": [],
   "source": [
    "from sklearn.metrics import roc_curve\n",
    "from sklearn.metrics import auc\n",
    "from sklearn.metrics import roc_auc_score\n",
    "\n",
    "def plot_roc_base(y_test, Ypredt, labroc):\n",
    "  fpr_keras, tpr_keras, thresholds_keras = roc_curve(y_test, Ypredt)\n",
    "  auc_keras = auc(fpr_keras, tpr_keras)\n",
    "  print(labroc,\" auc \",auc_keras)\n",
    "  plt.plot(fpr_keras, tpr_keras, label=labroc+' AUC = {:.3f}'.format(auc_keras))\n",
    "\n",
    "def plot_roc_single(y_test, Ypredt, labroc):\n",
    "   plt.plot([0.001, 1], [0, 1], 'k--')\n",
    "   plot_roc_base(y_test, Ypredt, labroc)\n",
    "   plt.xlabel('False positive rate')\n",
    "   plt.ylabel('True positive rate')\n",
    "   plt.legend(loc='best')\n",
    "   plt.show    \n"
   ]
  },
  {
   "cell_type": "markdown",
   "metadata": {},
   "source": [
    "## Calculate statistical significance of signal after selection"
   ]
  },
  {
   "cell_type": "code",
   "execution_count": 47,
   "metadata": {},
   "outputs": [],
   "source": [
    "from numpy import sqrt\n",
    "from math import log\n",
    "from numpy import nanmax\n",
    "\n",
    "def calc_sig(nsig, nbg, nbExpEr):\n",
    "    nbObs=nsig+nbg\n",
    "    nbExp=nbg\n",
    "    if nbExp>0 and nbExpEr>0:\n",
    "      factor1 = nbObs*log( (nbObs*(nbExp+nbExpEr**2))/(nbExp**2+nbObs*nbExpEr**2) )\n",
    "      factor2 = (nbExp**2/nbExpEr**2)*log( 1 + (nbExpEr**2*(nbObs-nbExp))/(nbExp*(nbExp+nbExpEr**2)) )\n",
    "      signi  = sqrt(2*(factor1 - factor2))\n",
    "    if nbExp>0 and nbExpEr==0:\n",
    "      signi=sqrt(2*((nsig+nbg)*log(1+nsig/nbg)-nsig))\n",
    "    if nbExp==0 and nbExpEr==0:\n",
    "      signi=sqrt(nsig)\n",
    "    if nbExp==0 and nbExpEr>0:\n",
    "      signi=nsig/sqrt(nbExpEr)\n",
    "    return signi\n",
    "\n",
    "def calc_sing_signi(effsig,effbg,nsigtot,nbgtot,errfbg):\n",
    "    n_bg=nbgtot*effbg\n",
    "    err_bg=n_bg*errfbg\n",
    "    n_sig=nsigtot*effsig\n",
    "    print('nsig=',n_sig,'nbg=',n_bg)\n",
    "    return calc_sig(n_sig,n_bg,err_bg)\n",
    "\n",
    "def plot_signi_base(y_test, Ypredt, nsigtot, nbgtot, errfbg, lab):\n",
    "  fpr_keras, tpr_keras, thresholds_keras = roc_curve(y_test, Ypredt)\n",
    "  n_bg=fpr_keras*nbgtot\n",
    "  n_sig=tpr_keras*nsigtot\n",
    "  errbg=errfbg*n_bg\n",
    "  signi=[]\n",
    "  thr=[]      \n",
    "  for i in range(1,len(n_sig)):\n",
    "      if(thresholds_keras[i]>0.):\n",
    "        signi.append(calc_sig(n_sig[i],n_bg[i],errbg[i]))\n",
    "        thr.append(thresholds_keras[i])        \n",
    "  imax=-1\n",
    "  signimax=0.\n",
    "  for i in range(0,len(signi)):\n",
    "     if signi[i]>signimax:\n",
    "        imax=i\n",
    "        signimax=signi[i]  \n",
    "  maxs=nanmax(signi)\n",
    "  print(lab+\":\") \n",
    "  print(\" max significance is  \",signimax,\" nbg \",n_bg[imax],\" nsig \",n_sig[imax],\" cut \",thresholds_keras[imax])\n",
    "  print(\" background efficiency: \", n_bg[imax]/nbgtot,\" signal efficiency: \", n_sig[imax]/nsigtot )\n",
    "  plt.plot(thr,signi, label=lab)\n",
    "    \n",
    "  plt.xlabel('Cut on PROB')\n",
    "  plt.ylabel('Significance')\n",
    "\n",
    "\n",
    "  return thr, signi, imax"
   ]
  },
  {
   "cell_type": "markdown",
   "metadata": {},
   "source": [
    "## Plot distributions of variables for accepted and rejected events\n",
    "\n",
    "In order to understand what the ML algorithm  does, it can be useful to plot the distribution of the variables for accepted and rejected events, and their correlations.\n"
   ]
  },
  {
   "cell_type": "code",
   "execution_count": 48,
   "metadata": {},
   "outputs": [],
   "source": [
    "def plot_varsel(df, sel1, sel2, var, blow, bhigh, nbin):\n",
    "  df_pass = df.query(sel1)\n",
    "  df_nopass = df.query(sel2)\n",
    "  bins = np.linspace(blow, bhigh, nbin)\n",
    "  plt.hist(df_pass[var], bins, alpha=0.5, density=True, label=sel1)\n",
    "  plt.hist(df_nopass[var], bins, alpha=0.5, density=True, label=sel2)\n",
    "  plt.legend(loc='best')\n",
    "  plt.xlabel(var)\n",
    "  plt.ylabel('normalised events')\n",
    "  plt.show()"
   ]
  },
  {
   "cell_type": "markdown",
   "metadata": {},
   "source": [
    "# Try simplest  ML classifiers"
   ]
  },
  {
   "cell_type": "markdown",
   "metadata": {},
   "source": [
    "## Logistic regression\n",
    "\n",
    "Implement in Keras and run"
   ]
  },
  {
   "cell_type": "code",
   "execution_count": 49,
   "metadata": {},
   "outputs": [
    {
     "name": "stdout",
     "output_type": "stream",
     "text": [
      "2.12.0\n",
      "Model: \"sequential_1\"\n",
      "_________________________________________________________________\n",
      " Layer (type)                Output Shape              Param #   \n",
      "=================================================================\n",
      " dense_1 (Dense)             (None, 1)                 13        \n",
      "                                                                 \n",
      "=================================================================\n",
      "Total params: 13\n",
      "Trainable params: 13\n",
      "Non-trainable params: 0\n",
      "_________________________________________________________________\n",
      "Training -----------\n",
      "Epoch 1/5\n",
      "7500/7500 [==============================] - 8s 1ms/step - loss: 0.4135 - accuracy: 0.8143 - val_loss: 0.3685 - val_accuracy: 0.8417\n",
      "Epoch 2/5\n",
      "7500/7500 [==============================] - 8s 1ms/step - loss: 0.3674 - accuracy: 0.8419 - val_loss: 0.3663 - val_accuracy: 0.8410\n",
      "Epoch 3/5\n",
      "7500/7500 [==============================] - 9s 1ms/step - loss: 0.3665 - accuracy: 0.8418 - val_loss: 0.3660 - val_accuracy: 0.8417\n",
      "Epoch 4/5\n",
      "7500/7500 [==============================] - 8s 1ms/step - loss: 0.3664 - accuracy: 0.8419 - val_loss: 0.3659 - val_accuracy: 0.8415\n",
      "Epoch 5/5\n",
      "7500/7500 [==============================] - 9s 1ms/step - loss: 0.3663 - accuracy: 0.8418 - val_loss: 0.3660 - val_accuracy: 0.8416\n",
      "7813/7813 [==============================] - 6s 743us/step\n"
     ]
    }
   ],
   "source": [
    "import tensorflow\n",
    "print(tensorflow.__version__)\n",
    "from tensorflow import keras\n",
    "#from keras.utils import plot_model\n",
    "from tensorflow.keras.layers import Dense\n",
    "from sklearn.model_selection import train_test_split\n",
    "import warnings\n",
    "\n",
    "varnum=X_trains.shape[1]\n",
    "model = keras.Sequential()\n",
    "#model.add(keras.layers.Dense(50, input_dim=varnum, activation='tanh'))\n",
    "#model.add(keras.layers.Dense(1, activation='sigmoid'))\n",
    "model.add(keras.layers.Dense(1, input_dim=varnum, activation='sigmoid'))\n",
    "model.summary()\n",
    "\n",
    "model.compile(optimizer='adam',\n",
    "              loss='binary_crossentropy',\n",
    "              metrics=['accuracy'])\n",
    "print('Training -----------')\n",
    "history=model.fit(X_trains, y_train, validation_data=(X_tests,y_test), batch_size=100, epochs=5)\n",
    "Ypredr=model.predict(X_tests)"
   ]
  },
  {
   "cell_type": "markdown",
   "metadata": {},
   "source": [
    "Now verify performance:\n",
    "    \n",
    "* Look at evolution of loss as a function of the epoch for training and validation samples\n",
    "* Plot distribution of output probability for signal and background\n",
    "* Plot ROC\n",
    "* Evaluate statistical sensitivity as a function of the selection on the probability\n",
    "* For relevant variables compare distribution for events with probability<0.5 and events with probability<0.5\n",
    "* Write out the optimised weights to nderstand the relative importance of variables"
   ]
  },
  {
   "cell_type": "code",
   "execution_count": 50,
   "metadata": {
    "scrolled": false
   },
   "outputs": [
    {
     "data": {
      "image/png": "[encoded data removed]",
      "text/plain": [
       "<Figure size 432x288 with 1 Axes>"
      ]
     },
     "metadata": {
      "needs_background": "light"
     },
     "output_type": "display_data"
    },
    {
     "name": "stdout",
     "output_type": "stream",
     "text": [
      "Index(['ptl1', 'ptl2', 'dphil1m', 'dphil2m', 'etal1', 'etal2', 'met_et', 'mll',\n",
      "       'mt', 'ptll', 'dphill', 'dphillm', 'SIG', 'PROB'],\n",
      "      dtype='object')\n",
      "nsig  125680\n",
      "nbkg  124320\n"
     ]
    },
    {
     "data": {
      "image/png": "[encoded data removed]",
      "text/plain": [
       "<Figure size 432x288 with 1 Axes>"
      ]
     },
     "metadata": {
      "needs_background": "light"
     },
     "output_type": "display_data"
    },
    {
     "name": "stdout",
     "output_type": "stream",
     "text": [
      "Logistic regression  auc  0.9028771301686394\n"
     ]
    },
    {
     "data": {
      "image/png": "[encoded data removed]",
      "text/plain": [
       "<Figure size 432x288 with 1 Axes>"
      ]
     },
     "metadata": {
      "needs_background": "light"
     },
     "output_type": "display_data"
    },
    {
     "name": "stdout",
     "output_type": "stream",
     "text": [
      "Logistic Regression:\n",
      " max significance is   5.329118661249793  nbg  3384.261287035262  nsig  315.2526235652418  cut  0.6812278\n",
      " background efficiency:  0.13825611325611326  signal efficiency:  0.7471196690006364\n"
     ]
    },
    {
     "data": {
      "image/png": "[encoded data removed]",
      "text/plain": [
       "<Figure size 432x288 with 1 Axes>"
      ]
     },
     "metadata": {
      "needs_background": "light"
     },
     "output_type": "display_data"
    },
    {
     "name": "stdout",
     "output_type": "stream",
     "text": [
      "PROB<0.68117684 PROB>0.68117684\n"
     ]
    },
    {
     "data": {
      "image/png": "[encoded data removed]",
      "text/plain": [
       "<Figure size 432x288 with 1 Axes>"
      ]
     },
     "metadata": {
      "needs_background": "light"
     },
     "output_type": "display_data"
    },
    {
     "data": {
      "image/png": "[encoded data removed]",
      "text/plain": [
       "<Figure size 432x288 with 1 Axes>"
      ]
     },
     "metadata": {
      "needs_background": "light"
     },
     "output_type": "display_data"
    },
    {
     "data": {
      "image/png": "[encoded data removed]",
      "text/plain": [
       "<Figure size 432x288 with 1 Axes>"
      ]
     },
     "metadata": {
      "needs_background": "light"
     },
     "output_type": "display_data"
    },
    {
     "name": "stdout",
     "output_type": "stream",
     "text": [
      "layer weights [[-1.0686367 ]\n",
      " [-0.4334792 ]\n",
      " [ 0.01686529]\n",
      " [ 0.00354896]\n",
      " [-0.01439123]\n",
      " [-0.00295858]\n",
      " [-0.19933143]\n",
      " [-2.8238766 ]\n",
      " [-1.7573187 ]\n",
      " [ 1.2144824 ]\n",
      " [ 0.360415  ]\n",
      " [ 0.4198463 ]]\n",
      "layer biases [-1.3604649]\n"
     ]
    }
   ],
   "source": [
    "plothis(history, 'test network')\n",
    "plt.show()\n",
    "\n",
    "df_test_acc_r=X_test.copy()\n",
    "df_test_acc_r['SIG']=y_test\n",
    "df_test_acc_r['PROB']=Ypredr\n",
    "\n",
    "print(df_test_acc_r.columns)\n",
    "# split according to the label\n",
    "df_test_acc_r_bkg = df_test_acc_r.query('SIG==0')\n",
    "df_test_acc_r_sig = df_test_acc_r.query('SIG==1')\n",
    "print('nsig ',df_test_acc_r_sig.shape[0])\n",
    "print('nbkg ',df_test_acc_r_bkg.shape[0])\n",
    "bins = np.linspace(0, 1,50)\n",
    "plt.hist(df_test_acc_r_bkg.PROB, bins, alpha=0.5, density=True, label='Background')\n",
    "plt.hist(df_test_acc_r_sig.PROB, bins, alpha=0.5, density=True, label='Signal')\n",
    "plt.legend(loc='best')\n",
    "plt.show()\n",
    "\n",
    "plot_roc_single(y_test, Ypredr, 'Logistic regression')\n",
    "plt.show()\n",
    "\n",
    "thr, signi, imax=plot_signi_base(y_test, Ypredr, statMC['signal'], statMC['background'], 0.001, 'Logistic Regression')\n",
    "plt.show()\n",
    "thrmax=thr[imax]\n",
    "sel1='PROB<'+str(thrmax)\n",
    "sel2='PROB>'+str(thrmax)\n",
    "print(sel1,sel2)\n",
    "plot_varsel(df_test_acc_r, sel1, sel2, 'mll', 0.,250000, 50)\n",
    "plot_varsel(df_test_acc_r, sel1, sel2, 'met_et', 0., 250000 , 50)\n",
    "plot_varsel(df_test_acc_r, sel1, sel2, 'mt', 0., 250000 , 50)\n",
    "\n",
    "layer_weights = model.layers[0].get_weights()[0]\n",
    "layer_biases  = model.layers[0].get_weights()[1]\n",
    "print('layer weights',layer_weights)\n",
    "print('layer biases',layer_biases)"
   ]
  },
  {
   "cell_type": "markdown",
   "metadata": {},
   "source": [
    "# Decision tree classifier\n",
    "\n",
    "Documentation for the possible options is in <br />\n",
    "\n",
    "https://scikit-learn.org/stable/modules/generated/sklearn.tree.DecisionTreeClassifier.html\n",
    "    "
   ]
  },
  {
   "cell_type": "code",
   "execution_count": 51,
   "metadata": {},
   "outputs": [],
   "source": [
    "from sklearn.tree import DecisionTreeClassifier\n",
    "from sklearn import tree\n",
    "\n",
    "test_tree = pd.DataFrame(X_test)\n",
    "test_tree.columns=col_fin\n",
    "\n",
    "\n",
    "clf = DecisionTreeClassifier(max_leaf_nodes=6, criterion='gini', splitter='best', random_state=0)\n",
    "clf.fit(X_train, y_train)\n",
    "\n",
    "Ypred_tree=clf.predict_proba(test_tree)"
   ]
  },
  {
   "cell_type": "code",
   "execution_count": 52,
   "metadata": {},
   "outputs": [
    {
     "name": "stdout",
     "output_type": "stream",
     "text": [
      "(250000, 2)\n",
      "Index(['ptl1', 'ptl2', 'dphil1m', 'dphil2m', 'etal1', 'etal2', 'met_et', 'mll',\n",
      "       'mt', 'ptll', 'dphill', 'dphillm', 'SIG', 'PROB'],\n",
      "      dtype='object')\n",
      "nsig  125680\n",
      "nbkg  124320\n"
     ]
    },
    {
     "data": {
      "image/png": "[encoded data removed]",
      "text/plain": [
       "<Figure size 432x288 with 1 Axes>"
      ]
     },
     "metadata": {
      "needs_background": "light"
     },
     "output_type": "display_data"
    },
    {
     "name": "stdout",
     "output_type": "stream",
     "text": [
      "Decision Tree  auc  0.88816698306643\n"
     ]
    },
    {
     "data": {
      "image/png": "[encoded data removed]",
      "text/plain": [
       "<Figure size 432x288 with 1 Axes>"
      ]
     },
     "metadata": {
      "needs_background": "light"
     },
     "output_type": "display_data"
    },
    {
     "name": "stdout",
     "output_type": "stream",
     "text": [
      "effsig  0.7186187141947804 effbg  0.13219916344916344\n",
      "totsig 421.9573338056145 totbg 24478.20358414148\n",
      "nsig= 303.22643666444844 nbg= 3235.9980365618176\n",
      "significance 0.8 5.241547879235802\n"
     ]
    },
    {
     "data": {
      "image/png": "[encoded data removed]",
      "text/plain": [
       "<Figure size 432x288 with 1 Axes>"
      ]
     },
     "metadata": {
      "needs_background": "light"
     },
     "output_type": "display_data"
    },
    {
     "data": {
      "image/png": "[encoded data removed]",
      "text/plain": [
       "<Figure size 432x288 with 1 Axes>"
      ]
     },
     "metadata": {
      "needs_background": "light"
     },
     "output_type": "display_data"
    },
    {
     "data": {
      "image/png": "[encoded data removed]",
      "text/plain": [
       "<Figure size 432x288 with 1 Axes>"
      ]
     },
     "metadata": {
      "needs_background": "light"
     },
     "output_type": "display_data"
    }
   ],
   "source": [
    "print(Ypred_tree.shape)\n",
    "df_test_acc_t=X_test.copy()\n",
    "df_test_acc_t['SIG']=y_test\n",
    "df_test_acc_t['PROB']=Ypred_tree[:,1]\n",
    "\n",
    "print(df_test_acc_t.columns)\n",
    "# split according to the label\n",
    "df_test_acc_t_bkg = df_test_acc_t.query('SIG==0')\n",
    "df_test_acc_t_sig = df_test_acc_t.query('SIG==1')\n",
    "print('nsig ',df_test_acc_t_sig.shape[0])\n",
    "print('nbkg ',df_test_acc_t_bkg.shape[0])\n",
    "bins = np.linspace(0, 1,50)\n",
    "plt.hist(df_test_acc_t_bkg.PROB, bins, alpha=0.5, density=True, label='Background')\n",
    "plt.hist(df_test_acc_t_sig.PROB, bins, alpha=0.5, density=True, label='Signal')\n",
    "plt.legend(loc='best')\n",
    "\n",
    "plt.show()\n",
    "\n",
    "plot_roc_single(y_test, Ypred_tree[:,1], 'Decision Tree')\n",
    "plt.show()\n",
    "\n",
    "effsig= df_test_acc_t_sig.query('PROB>0.8').shape[0]/df_test_acc_t_sig.shape[0]\n",
    "effbkg= df_test_acc_t_bkg.query('PROB>0.8').shape[0]/df_test_acc_t_bkg.shape[0]\n",
    "print('effsig ',effsig,'effbg ',effbkg)\n",
    "print('totsig',statMC['signal'],'totbg',statMC['background'])\n",
    "print('significance 0.8',calc_sing_signi(effsig,effbkg,statMC['signal'],statMC['background'],0.001))\n",
    "#plot_signi_base(y_test, Ypred_tree[:,1], statMC['signal'], statMC['background'], 0.01, 'Decision Tree')\n",
    "#plt.show()\n",
    "\n",
    "\n",
    "\n",
    "plot_varsel(df_test_acc_t, 'PROB<0.5', 'PROB>0.5', 'mll', 0.,250000, 50)\n",
    "plot_varsel(df_test_acc_t, 'PROB<0.5', 'PROB>0.5', 'met_et', 0., 250000 , 50)\n",
    "plot_varsel(df_test_acc_t, 'PROB<0.5', 'PROB>0.5', 'mt', 0., 250000 , 50)"
   ]
  },
  {
   "cell_type": "code",
   "execution_count": 55,
   "metadata": {},
   "outputs": [
    {
     "data": {
      "text/plain": [
       "'simple.pdf'"
      ]
     },
     "execution_count": 55,
     "metadata": {},
     "output_type": "execute_result"
    }
   ],
   "source": [
    "import graphviz\n",
    "dot_data = tree.export_graphviz(clf, out_file=None)\n",
    "dot_data = tree.export_graphviz(clf, out_file=None,\n",
    "                     class_names=[\"bad\",\"good\"],\n",
    "                     filled=True, rounded=True,\n",
    "                     special_characters=True)\n",
    "graph = graphviz.Source(dot_data)\n",
    "graph.render(\"simple\",view=True)"
   ]
  },
  {
   "cell_type": "markdown",
   "metadata": {},
   "source": [
    "# Esercizi"
   ]
  },
  {
   "cell_type": "markdown",
   "metadata": {},
   "source": [
    "* Try to run Logistic Regression with non-renormalised variables and extract best significance\n",
    "* Try to change optimiser for logistic regression \n",
    "* Try to remove the variables with lowest weights, and compare performance\n",
    "\n",
    "* Add one layer to the LR model and compare performance -> this is the shallow learning\n",
    "  * Vary parameters of added layer\n",
    "\n",
    "* Modify parameteres in decision tree\n",
    "  * In particular, increase number of leaves, and verify on graphical representation of the tree what id did \n",
    "* Rerun decision tree only with variables actually used by tree\n"
   ]
  },
  {
   "cell_type": "code",
   "execution_count": null,
   "metadata": {},
   "outputs": [],
   "source": []
  }
 ],
 "metadata": {
  "colab": {
   "provenance": []
  },
  "kernelspec": {
   "display_name": "Python 3 (ipykernel)",
   "language": "python",
   "name": "python3"
  },
  "language_info": {
   "codemirror_mode": {
    "name": "ipython",
    "version": 3
   },
   "file_extension": ".py",
   "mimetype": "text/x-python",
   "name": "python",
   "nbconvert_exporter": "python",
   "pygments_lexer": "ipython3",
   "version": "3.8.10"
  },
  "toc": {
   "base_numbering": 1,
   "nav_menu": {},
   "number_sections": true,
   "sideBar": true,
   "skip_h1_title": false,
   "title_cell": "Table of Contents",
   "title_sidebar": "Contents",
   "toc_cell": false,
   "toc_position": {},
   "toc_section_display": true,
   "toc_window_display": false
  }
 },
 "nbformat": 4,
 "nbformat_minor": 1
}
