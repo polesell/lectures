{
 "cells": [
  {
   "cell_type": "markdown",
   "metadata": {
    "id": "TiSTHbA25ZtB"
   },
   "source": [
    "# Testing basic ML algorithms in 2d \n"
   ]
  },
  {
   "cell_type": "code",
   "execution_count": null,
   "metadata": {},
   "outputs": [],
   "source": [
    "import math # for mathematical functions such as square root\n",
    "import numpy as np # for numerical calculations such as histogramming\n",
    "import matplotlib.pyplot as plt\n",
    "import pandas as pd"
   ]
  },
  {
   "cell_type": "markdown",
   "metadata": {},
   "source": [
    "# Simple generation exercise\n",
    "\n",
    "Divide a 2-d space in two regions based on a function of the two variables, \n",
    "and populate the two regions with randomly distributed points "
   ]
  },
  {
   "cell_type": "code",
   "execution_count": null,
   "metadata": {},
   "outputs": [],
   "source": [
    "def generate_samples(n=10000):\n",
    " # generate random inputs in [-0.5, 0.5]\n",
    " X1 = np.random.random(n)-0.5\n",
    " X2 = np.random.random(n)-0.5\n",
    "# X3 = X1*0.2+X2*0.3<0\n",
    "# X3=((X1<0) & (X2<0)) | ((X1>0.25) & (X2>0.25))\n",
    " X3=X1*X1*0.3-X2*0.2>0\n",
    "# X3=X1*X1*0.3-X2*0.2>0\n",
    "# define labelling as a logical function\n",
    "# stacking requires vectors to be defined as 2-d vector with\n",
    "# second dimension=1\n",
    " X1 = X1.reshape(n, 1)\n",
    " X2 = X2.reshape(n, 1)\n",
    " X3 = X3.reshape(n, 1)\n",
    "# print(X1)\n",
    "# print(X2)\n",
    "# print(X3)\n",
    " data= np.hstack((X1, X2, X3))\n",
    "# print(data)\n",
    " return pd.DataFrame(data,columns=['x1', 'x2','SIG'])"
   ]
  },
  {
   "cell_type": "markdown",
   "metadata": {},
   "source": [
    "Visualise generated patterns in 2-d parameter space"
   ]
  },
  {
   "cell_type": "code",
   "execution_count": null,
   "metadata": {},
   "outputs": [],
   "source": [
    "def plot_scat(df, sel1, sel2, var1, var2, blx, bhx, bly, bhy):\n",
    "  df_pass = df.query(sel1)\n",
    "  df_nopass = df.query(sel2)\n",
    "  fig= plt.figure(figsize=(14,5))\n",
    "  plt.subplot(1, 2,1)\n",
    "  plt.xlim([blx,bhx])\n",
    "  plt.ylim([bly,bhy])\n",
    "  plt.plot(df_nopass[var1], df_nopass[var2], 'bo', alpha=0.4, label=sel2)\n",
    "  plt.legend(loc='best')\n",
    "  plt.xlabel(var1)\n",
    "  plt.ylabel(var2)\n",
    "  plt.subplot(1, 2,2)\n",
    "  plt.xlim([blx,bhx])\n",
    "  plt.ylim([blx,bhx])\n",
    "  plt.plot(df_pass[var1], df_pass[var2], 'ro', alpha=0.4, label=sel1)\n",
    "  plt.legend(loc='best')\n",
    "  plt.xlabel(var1)\n",
    "  plt.ylabel(var2)\n",
    "  plt.show()"
   ]
  },
  {
   "cell_type": "markdown",
   "metadata": {},
   "source": [
    "## Run generation"
   ]
  },
  {
   "cell_type": "code",
   "execution_count": null,
   "metadata": {},
   "outputs": [],
   "source": [
    "df = generate_samples()\n",
    "sel1='SIG==0'\n",
    "sel2='SIG==1'\n",
    "plot_scat(df, sel1, sel2, 'x1', 'x2', -0.5, 0.5, -0.5, 0.5)"
   ]
  },
  {
   "cell_type": "markdown",
   "metadata": {
    "id": "pzk5n_pc5Zta"
   },
   "source": [
    "# Set of  standard diagnostic methods to understand the performance of the  classification algorithms"
   ]
  },
  {
   "cell_type": "markdown",
   "metadata": {},
   "source": [
    "## Simple wrapper for histogramming a variable from the dataframe"
   ]
  },
  {
   "cell_type": "code",
   "execution_count": null,
   "metadata": {
    "id": "L5vLBRJXu0CG"
   },
   "outputs": [],
   "source": [
    "# in input:  df=dataframe var=variable in dataframe, \n",
    "# scale=scale factor on value of variable (e.g. for scaling between MeV and GeV)\n",
    "# nbin,xlow,xhigh: limits of histogram\n",
    "# norm: choose whether you plot acutal number of events in bin or fraction of events \n",
    "#       in each bin with respect to total\n",
    "# labx, laby labels of x and y axis of histogram \n",
    "# title: title of hisotgram\n",
    "# leg: legenda for content, useful if you superimpose two hists\n",
    "def hist1d(df, var, scale, nbin, xlow, xhig, norm, labx, laby, title, leg):\n",
    "  bins = np.linspace(xlow,xhig,nbin)\n",
    "  plt.hist(df[var]*scale, bins, alpha=0.5, density=norm, label=leg)\n",
    "  plt.xlabel(labx)\n",
    "  plt.ylabel(laby)\n",
    "  plt.legend(loc='best')\n",
    "# 2d, same definition of inputs as above\n",
    "def hist2d(df,var1,var2,scalex,scaley,nbinx,xlow,xhig,nbiny,ylow,yhig,labx,laby,title):\n",
    "  binx = np.linspace(xlow,xhig,nbinx)\n",
    "  biny = np.linspace(ylow,yhig,nbiny)\n",
    "  plt.hist2d(df[var1]*scalex, df[var2]*scaley, bins=[binx, biny], density=False, cmin=0.5)\n",
    "  plt.xlabel(labx)\n",
    "  plt.ylabel(laby)"
   ]
  },
  {
   "cell_type": "markdown",
   "metadata": {},
   "source": [
    "## Plot history of losses along epochs for Keras"
   ]
  },
  {
   "cell_type": "code",
   "execution_count": null,
   "metadata": {},
   "outputs": [],
   "source": [
    "import matplotlib.pyplot as plt\n",
    "\n",
    "# plot the  history \n",
    "def plothis(history, title):\n",
    "  plt.plot(history.history['loss'])\n",
    "  plt.plot(history.history['val_loss'])\n",
    "  plt.title(title)\n",
    "  plt.ylabel('loss')\n",
    "  plt.xlabel('epoch')\n",
    "  plt.legend(['train', 'test'], loc='upper right')\n",
    "#  plt.show()\n",
    "\n",
    "def plothis_file(filehis, title):\n",
    "  hh = pd.read_csv(filehis, header=0, engine='python')   \n",
    "  plt.plot(hh['loss'].values)\n",
    "  plt.plot(hh['val_loss'].values)\n",
    "  plt.title(title)\n",
    "  plt.ylabel('loss')\n",
    "  plt.xlabel('epoch')\n",
    "  plt.legend(['train', 'test'], loc='upper right')\n",
    "#plothis(history, 'test network')"
   ]
  },
  {
   "cell_type": "markdown",
   "metadata": {},
   "source": [
    "## Plot distribution of output probabilities  for signal and backround\n",
    "\n",
    "The output of the classification is for each event a number between 0 and 1 representing the probability that that event is a signal event. Since for each event we know whether it was a signal (SIG=1) or a background (SIG=0), we can plot the output probability of the network for each of the two classes.\n"
   ]
  },
  {
   "cell_type": "code",
   "execution_count": null,
   "metadata": {},
   "outputs": [],
   "source": [
    "\n",
    "def plot_prob(y_test, Ypredt):\n",
    "\n",
    "#build a dataframe with as columns the output PROB and the label (SIG)\n",
    "\n",
    "  df_test_acc = pd.DataFrame({'PROB':Ypredt[:,0]})\n",
    "  df_test_acc['SIG']=y_test\n",
    "\n",
    "# split according to the label\n",
    "  df_test_acc_bkg = df_test_acc.query('SIG==0')\n",
    "  df_test_acc_sig = df_test_acc.query('SIG==1')\n",
    "  print('nsig ',df_test_acc_sig.shape[0])\n",
    "  print('nbkg ',df_test_acc_bkg.shape[0])\n",
    "  bins = np.linspace(0, 1,50)\n",
    "  plt.hist(df_test_acc_bkg.PROB, bins, alpha=0.5, density=True, label='Background')\n",
    "  plt.hist(df_test_acc_sig.PROB, bins, alpha=0.5, density=True, label='Signal')\n",
    "  plt.legend(loc='best')\n",
    "  plt.show()"
   ]
  },
  {
   "attachments": {
    "fig13.png": {
     "image/png": "[encoded data removed]"
    }
   },
   "cell_type": "markdown",
   "metadata": {},
   "source": [
    "## Plot ROC curve and calculate AUC\n",
    "In order to perform our the final selection we put a lower limit on the value of the probability and we count the fraction of events above this limit for both signal and backround, i.e for each value of PROB we have two values: The 'true positive rate (TPR)' (efficiency of signal selection in HEP language), and 'false positive rate (FPR)' (efficency for selecting background). If we TPR versus FPR the other as a function of PROB we obtain a curve called the Receive Operating Characteristic (ROC) curve https://en.wikipedia.org/wiki/Receiver_operating_characteristic. Methods for building the ROC curve are availabel in sklearn.metrics. An ideal ROC curve would be along upper x and left y axes of the plot, corresponding to the case where all of the signal events have PROB=1 and all background events have PROB=0. The worst case is a curve where TPR=FPR, i.e. the discrimination power is the same as extracting a random number for PROB.\n",
    "\n",
    "![fig13.png](attachment:fig13.png)\n"
   ]
  },
  {
   "cell_type": "markdown",
   "metadata": {},
   "source": [
    "A measure of how near the ideal our ROC curve is is the 'area under the curve' (AUC), which is also available in sklearn metrics. The ideal case would have AUC=1 and th worst case AUC=0.5"
   ]
  },
  {
   "cell_type": "code",
   "execution_count": null,
   "metadata": {},
   "outputs": [],
   "source": [
    "from sklearn.metrics import roc_curve\n",
    "from sklearn.metrics import auc\n",
    "from sklearn.metrics import roc_auc_score\n",
    "\n",
    "def plot_roc_base(y_test, Ypredt, labroc):\n",
    "  fpr_keras, tpr_keras, thresholds_keras = roc_curve(y_test, Ypredt)\n",
    "  auc_keras = auc(fpr_keras, tpr_keras)\n",
    "  print(labroc,\" auc \",auc_keras)\n",
    "  plt.plot(fpr_keras, tpr_keras, label=labroc+' AUC = {:.3f}'.format(auc_keras))\n",
    "\n",
    "def plot_roc_single(y_test, Ypredt, labroc):\n",
    "   plt.plot([0.001, 1], [0, 1], 'k--')\n",
    "   plot_roc_base(y_test, Ypredt, labroc)\n",
    "   plt.xlabel('False positive rate')\n",
    "   plt.ylabel('True positive rate')\n",
    "   plt.legend(loc='best')\n",
    "   plt.show    \n"
   ]
  },
  {
   "cell_type": "markdown",
   "metadata": {},
   "source": [
    "## Plot distributions of variables for accepted and rejected events\n",
    "\n",
    "In order to understand what the ML algorithm  does, it can be useful to plot the distribution of the variables for accepted and rejected events, and their correlations.\n"
   ]
  },
  {
   "cell_type": "code",
   "execution_count": null,
   "metadata": {},
   "outputs": [],
   "source": [
    "def plot_varsel(df, sel1, sel2, var, blow, bhigh, nbin):\n",
    "  df_pass = df.query(sel1)\n",
    "  df_nopass = df.query(sel2)\n",
    "  bins = np.linspace(blow, bhigh, nbin)\n",
    "  plt.hist(df_pass[var], bins, alpha=0.5, density=True, label=sel1)\n",
    "  plt.hist(df_nopass[var], bins, alpha=0.5, density=True, label=sel2)\n",
    "  plt.legend(loc='best')\n",
    "  plt.xlabel(var)\n",
    "  plt.ylabel('normalised events')\n",
    "  plt.show()"
   ]
  },
  {
   "cell_type": "markdown",
   "metadata": {},
   "source": [
    "Split train and test with sklearn"
   ]
  },
  {
   "cell_type": "code",
   "execution_count": null,
   "metadata": {
    "scrolled": true
   },
   "outputs": [],
   "source": [
    "from sklearn.model_selection import train_test_split\n",
    "#Define vectors for input to ML\n",
    "# Use 'SIG' column as definition of target\n",
    "y = df['SIG']\n",
    "\n",
    "X = df[[col for col in df.columns if col!=\"SIG\"]]\n",
    "col_fin=X.columns\n",
    "X_train, X_test, y_train, y_test = train_test_split(X, y,\n",
    "                                   test_size=.25, random_state=0)\n",
    "\n",
    "\n"
   ]
  },
  {
   "cell_type": "markdown",
   "metadata": {},
   "source": [
    "# Try simplest  ML classifiers"
   ]
  },
  {
   "cell_type": "markdown",
   "metadata": {},
   "source": [
    "## Logistic regression\n",
    "\n",
    "Implement in Keras and run"
   ]
  },
  {
   "cell_type": "code",
   "execution_count": null,
   "metadata": {},
   "outputs": [],
   "source": [
    "import tensorflow\n",
    "print(tensorflow.__version__)\n",
    "from tensorflow import keras\n",
    "#from keras.utils import plot_model\n",
    "from tensorflow.keras.layers import Dense\n",
    "from sklearn.model_selection import train_test_split\n",
    "import warnings\n",
    "\n",
    "varnum=X_train.shape[1]\n",
    "model = keras.Sequential()\n",
    "model.add(keras.layers.Dense(1, input_dim=varnum, activation='sigmoid'))\n",
    "model.summary()\n",
    "\n",
    "model.compile(optimizer='SGD',\n",
    "              loss='binary_crossentropy',\n",
    "              metrics=['accuracy'])\n",
    "history=model.fit(X_train, y_train, \n",
    "                  validation_data=(X_test,y_test), \n",
    "                  batch_size=100, epochs=100)\n",
    "Ypredr=model.predict(X_test)"
   ]
  },
  {
   "cell_type": "markdown",
   "metadata": {},
   "source": [
    "Now verify performance:\n",
    "    \n",
    "* Look at evolution of loss as a function of the epoch for training and validation samples\n",
    "* Plot distribution of output probability for signal and background\n",
    "* Plot ROC\n",
    "* Evaluate statistical sensitivity as a function of the selection on the probability\n",
    "* For relevant variables compare distribution for events with probability<0.5 and events with probability<0.5\n",
    "* Write out the optimised weights to nderstand the relative importance of variables"
   ]
  },
  {
   "cell_type": "code",
   "execution_count": null,
   "metadata": {
    "scrolled": true
   },
   "outputs": [],
   "source": [
    "plothis(history, 'test network')\n",
    "plt.show()\n",
    "\n",
    "df_test_acc_r=X_test.copy()\n",
    "df_test_acc_r['SIG']=y_test\n",
    "df_test_acc_r['PROB']=Ypredr\n",
    "\n",
    "print(df_test_acc_r.columns)\n",
    "# split according to the label\n",
    "df_test_acc_r_bkg = df_test_acc_r.query('SIG==0')\n",
    "df_test_acc_r_sig = df_test_acc_r.query('SIG==1')\n",
    "print('nsig ',df_test_acc_r_sig.shape[0])\n",
    "print('nbkg ',df_test_acc_r_bkg.shape[0])\n",
    "bins = np.linspace(0, 1,50)\n",
    "plt.hist(df_test_acc_r_bkg.PROB, bins, alpha=0.5, density=True, label='Background')\n",
    "plt.hist(df_test_acc_r_sig.PROB, bins, alpha=0.5, density=True, label='Signal')\n",
    "plt.legend(loc='best')\n",
    "plt.show()\n",
    "\n",
    "plot_roc_single(y_test, Ypredr, 'Logistic regression')\n",
    "plt.show()\n",
    "sel1='SIG==0'\n",
    "sel2='SIG==1'\n",
    "plot_scat(df, sel1, sel2, 'x1', 'x2', -0.5, 0.5, -0.5, 0.5)\n",
    "thrmax=0.5\n",
    "sel1='PROB<'+str(thrmax)\n",
    "sel2='PROB>'+str(thrmax)\n",
    "print(sel1,sel2)\n",
    "plot_scat(df_test_acc_r, sel1, sel2, 'x1', 'x2', -0.5, 0.5, -0.5, 0.5)\n",
    "\n",
    "\n",
    "layer_weights = model.layers[0].get_weights()[0]\n",
    "layer_biases  = model.layers[0].get_weights()[1]\n",
    "print('layer weights',layer_weights)\n",
    "print('layer biases',layer_biases)"
   ]
  },
  {
   "cell_type": "markdown",
   "metadata": {},
   "source": [
    "# Decision tree classifier\n",
    "\n",
    "Documentation for the possible options is in <br />\n",
    "\n",
    "https://scikit-learn.org/stable/modules/generated/sklearn.tree.DecisionTreeClassifier.html\n",
    "    "
   ]
  },
  {
   "cell_type": "code",
   "execution_count": null,
   "metadata": {},
   "outputs": [],
   "source": [
    "from sklearn.tree import DecisionTreeClassifier\n",
    "from sklearn import tree\n",
    "\n",
    "test_tree = pd.DataFrame(X_test)\n",
    "test_tree.columns=col_fin\n",
    "\n",
    "\n",
    "clf = DecisionTreeClassifier(max_leaf_nodes=10, criterion='gini', splitter='best', random_state=0)\n",
    "clf.fit(X_train, y_train)\n",
    "\n",
    "Ypred_tree=clf.predict_proba(test_tree)\n",
    "\n",
    "print('Training finished')"
   ]
  },
  {
   "cell_type": "code",
   "execution_count": null,
   "metadata": {},
   "outputs": [],
   "source": [
    "print(Ypred_tree.shape)\n",
    "df_test_acc_t=X_test.copy()\n",
    "df_test_acc_t['SIG']=y_test\n",
    "df_test_acc_t['PROB']=Ypred_tree[:,1]\n",
    "\n",
    "print(df_test_acc_t.columns)\n",
    "# split according to the label\n",
    "df_test_acc_t_bkg = df_test_acc_t.query('SIG==0')\n",
    "df_test_acc_t_sig = df_test_acc_t.query('SIG==1')\n",
    "print('nsig ',df_test_acc_t_sig.shape[0])\n",
    "print('nbkg ',df_test_acc_t_bkg.shape[0])\n",
    "bins = np.linspace(0, 1,50)\n",
    "plt.hist(df_test_acc_t_bkg.PROB, bins, alpha=0.5, density=True, label='Background')\n",
    "plt.hist(df_test_acc_t_sig.PROB, bins, alpha=0.5, density=True, label='Signal')\n",
    "plt.legend(loc='best')\n",
    "\n",
    "plt.show()\n",
    "\n",
    "plot_roc_single(y_test, Ypred_tree[:,1], 'Decision Tree')\n",
    "\n",
    "plot_scat(df_test_acc_t, 'SIG==0', 'SIG==1', 'x1', 'x2', -0.5, 0.5, -0.5, 0.5)\n",
    "plt.show()\n",
    "\n",
    "thrmax=0.5\n",
    "sel1='PROB<'+str(thrmax)\n",
    "sel2='PROB>'+str(thrmax)\n",
    "plot_scat(df_test_acc_t, sel1, sel2, 'x1', 'x2', -0.5, 0.5, -0.5, 0.5)\n",
    "\n"
   ]
  },
  {
   "cell_type": "code",
   "execution_count": null,
   "metadata": {},
   "outputs": [],
   "source": [
    "import graphviz\n",
    "dot_data = tree.export_graphviz(clf, out_file=None)\n",
    "dot_data = tree.export_graphviz(clf, out_file=None,\n",
    "                     class_names=[\"bad\",\"good\"],\n",
    "                     filled=True, rounded=True,\n",
    "                     special_characters=True)\n",
    "graph = graphviz.Source(dot_data)\n",
    "graph.render(\"simple\")"
   ]
  },
  {
   "cell_type": "markdown",
   "metadata": {},
   "source": [
    "# Exercises"
   ]
  },
  {
   "cell_type": "markdown",
   "metadata": {},
   "source": [
    "\n"
   ]
  },
  {
   "cell_type": "markdown",
   "metadata": {},
   "source": [
    "* Uncomment and try different patterns in generation and look how the algorithms performs in different cases\n",
    "* Study dependence of performance from number of events\n",
    "* Study dependence of performance of regression from choice of optimizer number of epoch, size of batches\n",
    "* Study dependence of performance of decision tree from number of leaves/loss criterion\n",
    "* Extend generation to three variables, and test the algorithms"
   ]
  },
  {
   "cell_type": "code",
   "execution_count": null,
   "metadata": {},
   "outputs": [],
   "source": []
  }
 ],
 "metadata": {
  "colab": {
   "provenance": []
  },
  "kernelspec": {
   "display_name": "Python 3 (ipykernel)",
   "language": "python",
   "name": "python3"
  },
  "language_info": {
   "codemirror_mode": {
    "name": "ipython",
    "version": 3
   },
   "file_extension": ".py",
   "mimetype": "text/x-python",
   "name": "python",
   "nbconvert_exporter": "python",
   "pygments_lexer": "ipython3",
   "version": "3.8.10"
  },
  "toc": {
   "base_numbering": 1,
   "nav_menu": {},
   "number_sections": true,
   "sideBar": true,
   "skip_h1_title": false,
   "title_cell": "Table of Contents",
   "title_sidebar": "Contents",
   "toc_cell": false,
   "toc_position": {},
   "toc_section_display": true,
   "toc_window_display": false
  }
 },
 "nbformat": 4,
 "nbformat_minor": 1
}
