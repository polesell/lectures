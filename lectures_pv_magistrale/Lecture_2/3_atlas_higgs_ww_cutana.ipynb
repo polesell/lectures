{
 "cells": [
  {
   "cell_type": "markdown",
   "metadata": {
    "id": "TiSTHbA25ZtB"
   },
   "source": [
    "# Performing the Higgs -> WW-> l leptons search \n",
    "\n",
    "##  Cut-based analysis\n",
    "\n",
    "Focus on discriminating Higgs signal from irreducible SM WW production.\n",
    "\n",
    "Final state is 2 leptons + missing tranverse momentum.\n",
    "\n",
    "No peak structure available as for H->ZZ->4l\n",
    "\n",
    "\n",
    "\n",
    "\n"
   ]
  },
  {
   "cell_type": "markdown",
   "metadata": {
    "id": "I-aLTXX95ZtF"
   },
   "source": [
    "<a id='contents'></a>"
   ]
  },
  {
   "cell_type": "markdown",
   "metadata": {
    "id": "cest8B065ZtH"
   },
   "source": [
    "<a id='running'></a>"
   ]
  },
  {
   "cell_type": "markdown",
   "metadata": {
    "id": "5dgRkVPu5ZtK"
   },
   "source": [
    "# Installation of packages not available by default on colab\n"
   ]
  },
  {
   "cell_type": "code",
   "execution_count": null,
   "metadata": {
    "colab": {
     "base_uri": "https://localhost:8080/"
    },
    "id": "rjpPQFJHBHZO",
    "outputId": "4e4e4a10-448d-4576-a5a3-c9810c5fa386"
   },
   "outputs": [],
   "source": [
    "import sys\n",
    "# update the pip package installer\n",
    "#%pip install --upgrade --user pip\n",
    "# install required packages\n",
    "#%pip install --upgrade --user uproot awkward vector numpy matplotlib\n",
    "\n",
    "!pip install uproot\n",
    "!pip install vector\n",
    "!pip install awkward\n",
    "!pip install hist"
   ]
  },
  {
   "cell_type": "markdown",
   "metadata": {
    "id": "YrW2zmSv5ZtP"
   },
   "source": [
    "## Import packages used in the analysis\n",
    "\n",
    "We're going to be using a number of tools to help us:\n",
    "* uproot: lets us read .root files typically used in particle physics into data formats used in python\n",
    "* awkward: lets us store data as awkward arrays, a format that generalizes numpy to nested data with possibly variable length lists\n",
    "* vector: to allow vectorized 4-momentum calculations\n",
    "* numpy: provides numerical calculations such as histogramming\n",
    "* matplotlib: common tool for making plots, figures, images, visualisations"
   ]
  },
  {
   "cell_type": "code",
   "execution_count": null,
   "metadata": {
    "id": "0tezkWvi5ZtP"
   },
   "outputs": [],
   "source": [
    "import uproot # for reading .root files\n",
    "import awkward as ak # to represent nested data in columnar format\n",
    "import vector # for 4-momentum calculations\n",
    "import time # to measure time to analyse\n",
    "import math # for mathematical functions such as square root\n",
    "import numpy as np # for numerical calculations such as histogramming\n",
    "import matplotlib.pyplot as plt\n",
    "import pandas as pd\n"
   ]
  },
  {
   "cell_type": "markdown",
   "metadata": {
    "id": "x1jsgyX25ZtR"
   },
   "source": [
    "## Data fraction, file path\n",
    "\n",
    "General definitions of fraction of data used, where to access the input files"
   ]
  },
  {
   "cell_type": "code",
   "execution_count": null,
   "metadata": {
    "id": "kvTJwT3Fu0B8"
   },
   "outputs": [],
   "source": [
    "#lumi = 0.5 # fb-1 # data_A only\n",
    "#lumi = 1.9 # fb-1 # data_B only\n",
    "#lumi = 2.9 # fb-1 # data_C only\n",
    "#lumi = 4.7 # fb-1 # data_D only\n",
    "lumi = 10 # fb-1 # data_A,data_B,data_C,data_D\n",
    "fraction = 600000 # reduce this is if you want the code to run quicker"
   ]
  },
  {
   "cell_type": "markdown",
   "metadata": {
    "id": "nQfajNQQ5ZtR"
   },
   "source": [
    "<a id='fraction'></a>"
   ]
  },
  {
   "cell_type": "code",
   "execution_count": null,
   "metadata": {
    "id": "M7SvDjMB5ZtS"
   },
   "outputs": [],
   "source": [
    "tuple_path = \"https://atlas-opendata.web.cern.ch/atlas-opendata/samples/2020/2lep/\" # web address"
   ]
  },
  {
   "cell_type": "markdown",
   "metadata": {
    "id": "ygZz8Zeg5ZtU"
   },
   "source": [
    "Units, as stored in the data files.<br /> \n",
    "The quantities in the ATLAS ntuple are unfortunately stored in MeV.<br />\n",
    "Since the natural unit for LHC analysis is GeV, we define conversion factors"
   ]
  },
  {
   "cell_type": "code",
   "execution_count": null,
   "metadata": {
    "id": "dlHtfEWO5ZtU"
   },
   "outputs": [],
   "source": [
    "MeV = 0.001\n",
    "GeV = 1.0\n",
    "mz = 91.12"
   ]
  },
  {
   "cell_type": "markdown",
   "metadata": {
    "id": "1rwxT2a_u0CA"
   },
   "source": [
    "Define different classes of ntuples to access as a dictionary called \"samples\".<br />\n",
    "One has four types of ntuples:<br />\n",
    "<ul>\n",
    "<li>Data: the real data collected by ATLAS at the LHC\n",
    "<li>Reducible backgrounds: \n",
    "<li>Irreducible backgrounds\n",
    "<li>Signal\n",
    "</ul>\n",
    "The names in the list must correspond to the names of a sample defined in infofile.py"
   ]
  },
  {
   "cell_type": "code",
   "execution_count": null,
   "metadata": {
    "id": "cpceF7lo5ZtT"
   },
   "outputs": [],
   "source": [
    "samples = {\n",
    "#  'data': {\n",
    "#    'list' : ['data_A','data_B','data_C','data_D'],\n",
    "#  },\n",
    "#  'background' : { # ttbar\n",
    "#     'list' : ['ttbar_lep'],\n",
    "#     'color' : \"#6b59d3\" # purple\n",
    "#  },\n",
    "  'background' : { # WW\n",
    "     'list' : ['llvv'],\n",
    "     'color' : \"#ff0000\" # red\n",
    "  },\n",
    "  'signal' : { # H -> WW -> llvv\n",
    "     'list' : ['ggH125_WW2lep'],\n",
    "     'color' : \"#00cdff\" # light blue\n",
    "  },\n",
    "}"
   ]
  },
  {
   "cell_type": "code",
   "execution_count": null,
   "metadata": {
    "colab": {
     "base_uri": "https://localhost:8080/"
    },
    "id": "eXQ9WIxju0B4",
    "outputId": "57d3c8c1-0a61-4f59-90e8-98a4f9147281"
   },
   "outputs": [],
   "source": [
    "import os.path\n",
    "if os.path.isfile('infofile.py')==False:\n",
    "  !wget https://raw.githubusercontent.com/atlas-outreach-data-tools/notebooks-collection-opendata/master/13-TeV-examples/uproot_python/infofile.py    \n",
    "import infofile    \n",
    "#!head -n 12 infofile.py"
   ]
  },
  {
   "cell_type": "code",
   "execution_count": null,
   "metadata": {
    "id": "elnlxPRBu0CB"
   },
   "outputs": [],
   "source": [
    "def get_xsec_weight(sample):\n",
    "  info = infofile.infos[sample] # open infofile\n",
    "  xsec_weight = (lumi*1000*info[\"xsec\"])/(info[\"sumw\"]*info[\"red_eff\"]) #*1000 to go from fb-1 to pb-1\n",
    "  return xsec_weight # return cross-section weight\n",
    "\n",
    "def calc_weight(xsec_weight, events):\n",
    "    return (\n",
    "        xsec_weight\n",
    "        * events.mcWeight\n",
    "        * events.scaleFactor_PILEUP\n",
    "        * events.scaleFactor_ELE\n",
    "        * events.scaleFactor_MUON\n",
    "        * events.scaleFactor_LepTRIGGER\n",
    "    )"
   ]
  },
  {
   "cell_type": "code",
   "execution_count": null,
   "metadata": {
    "id": "EEWAYhJru0CB"
   },
   "outputs": [],
   "source": [
    "def get_data_from_files():\n",
    "\n",
    "  data = {} # define empty dictionary to hold dataframes\n",
    "  for s in samples: # loop over samples\n",
    "    print('Processing '+s+' samples') # print which sample\n",
    "    frames = [] # define empty list to hold data\n",
    "    for val in samples[s]['list']: # loop over each file\n",
    "      if s == 'data': prefix = \"Data/\" # Data prefix\n",
    "      else: # MC prefix\n",
    "        prefix = \"MC/mc_\"+str(infofile.infos[val][\"DSID\"])+\".\"\n",
    "      fileString = tuple_path+prefix+val+\".2lep.root\" # file name to open\n",
    "      temp = read_file(fileString,val) # call the function read_file defined below\n",
    "      frames.append(temp) # append dataframe returned from read_file to list of dataframes\n",
    "    data[s] = pd.concat(frames) # dictionary entry is concatenated dataframes\n",
    "\n",
    "  return data # return dictionary of dataframes"
   ]
  },
  {
   "cell_type": "markdown",
   "metadata": {
    "id": "2MyurcAr5ZtV"
   },
   "source": [
    "Define function to calculate 4-lepton invariant mass.<br />\n",
    "It accesses the dataframe where the particle data are stored as scalar components, and creates an array of 4-vectors "
   ]
  },
  {
   "cell_type": "code",
   "execution_count": null,
   "metadata": {
    "id": "oj8gJb4R5ZtV"
   },
   "outputs": [],
   "source": [
    "def calc_kine(dff):\n",
    "    pl1=vector.array({\"pt\":dff[\"ptl1\"], \"phi\":dff[\"phil1\"],\n",
    "       \"eta\":dff[\"etal1\"], \"e\":dff[\"el1\"]})\n",
    "    pl2=vector.array({\"pt\":dff[\"ptl2\"], \"phi\":dff[\"phil2\"],\n",
    "       \"eta\":dff[\"etal2\"], \"e\":dff[\"el2\"]})\n",
    "    etmv=vector.array({\"pt\":dff[\"met_et\"], \"phi\":dff[\"met_phi\"]})\n",
    "    etm=dff[\"met_et\"]\n",
    "    pll=pl1+pl2\n",
    "    dphill=pl1.deltaphi(pl2)\n",
    "    dphillm=pll.deltaphi(etmv)\n",
    "    mll=pll.M\n",
    "    ptll=pll.pt\n",
    "    return mll,dphill,ptll,dphillm"
   ]
  },
  {
   "cell_type": "code",
   "execution_count": null,
   "metadata": {},
   "outputs": [],
   "source": [
    "def calc_dphil1m(dff):\n",
    "    pl=vector.array({\"pt\":dff[\"ptl1\"], \"phi\":dff[\"phil1\"],\n",
    "       \"eta\":dff[\"etal1\"], \"e\":dff[\"el1\"]})\n",
    "    em=vector.array({\"pt\":dff[\"met_et\"], \"phi\":dff[\"met_phi\"]})\n",
    "    return pl.deltaphi(em)\n",
    "def calc_dphil2m(dff):\n",
    "    pl=vector.array({\"pt\":dff[\"ptl2\"], \"phi\":dff[\"phil2\"],\n",
    "       \"eta\":dff[\"etal2\"], \"e\":dff[\"el2\"]})\n",
    "    em=vector.array({\"pt\":dff[\"met_et\"], \"phi\":dff[\"met_phi\"]})\n",
    "    return pl.deltaphi(em)"
   ]
  },
  {
   "cell_type": "markdown",
   "metadata": {
    "id": "qip61stOu0CC"
   },
   "source": [
    "Simple template for a selection function acting on the dataframe, it creates a boolean"
   ]
  },
  {
   "cell_type": "code",
   "execution_count": null,
   "metadata": {
    "id": "QR-1NL4f5ZtV"
   },
   "outputs": [],
   "source": [
    "def cut_iso(df):\n",
    "   isol1=(df[\"ptcl1\"]/df[\"ptl1\"]<0.2) & (df[\"etcl1\"]/df[\"ptl1\"]<0.2)\n",
    "   isol2=(df[\"ptcl2\"]/df[\"ptl2\"]<0.2) & (df[\"etcl2\"]/df[\"ptl2\"]<0.2)\n",
    "   return isol1 & isol2\n",
    "def cut_ossf(df):\n",
    "   ltc1=df[\"chl1\"]*df[\"typl1\"]\n",
    "   ltc2=df[\"chl2\"]*df[\"typl2\"]\n",
    "   return (ltc1+ltc2!=0) & ((df[\"chl1\"]+df[\"chl2\"])>0) \n",
    "def cut_tight(df):\n",
    "   return (df[\"tightl1\"]==1) & (df[\"tightl2\"]==1)"
   ]
  },
  {
   "cell_type": "markdown",
   "metadata": {
    "id": "R-GwlBqK5ZtW"
   },
   "source": [
    "Define function to get data from files.\n",
    "\n",
    "The datasets used in this notebook have already been filtered to include at least 4 leptons per event"
   ]
  },
  {
   "cell_type": "code",
   "execution_count": null,
   "metadata": {
    "id": "uRmvqb0U5ZtW"
   },
   "outputs": [],
   "source": [
    "def read_file(path, sample):\n",
    "  with uproot.open( path + \":mini\") as tree:\n",
    "    numevents = tree.num_entries # number of events\n",
    "    stopev=numevents*fraction\n",
    "    if fraction>1:\n",
    "      stopev=fraction\n",
    "    if 'data' not in sample: xsec_weight = get_xsec_weight(sample) # get cross-section weight\n",
    "# variables to extract from ntuple\n",
    "    lepvar=[\"lep_pt\", \"lep_eta\", \"lep_phi\",\"lep_E\",\n",
    "          \"lep_charge\",\"lep_type\",\n",
    "          \"lep_ptcone30\",\"lep_etcone20\", \"lep_isTightID\"]\n",
    "    scalvar=[\"met_et\",\"met_phi\",\"jet_n\"]\n",
    "    weivar=[\"mcWeight\",\"scaleFactor_PILEUP\",\n",
    "            \"scaleFactor_ELE\",\"scaleFactor_MUON\",\n",
    "            \"scaleFactor_LepTRIGGER\"] # variables to calculate Monte Carlo weight\n",
    "    tupvar=weivar+lepvar+scalvar\n",
    "# read tree into awkward array with uproot\n",
    "    print(\"num\",numevents, stopev)\n",
    "    lep_momentum = tree.arrays(tupvar,entry_stop=stopev,library=\"ak\")\n",
    "# define the names of the variables to go into dataframe\n",
    "    colnam=[\"ptl1\",\"etal1\",\"phil1\",\"el1\",\"chl1\",\"typl1\",\"ptcl1\",\"etcl1\",\"tightl1\",\n",
    "          \"ptl2\",\"etal2\",\"phil2\",\"el2\",\"chl2\",\"typl2\",\"ptcl2\",\"etcl2\",\"tightl2\"]\n",
    "# create numpy vector assuming that lep_ arrays have 4 components\n",
    "    for i in range(0,2):\n",
    "      for j in range(0,len(lepvar)):\n",
    "        if i==0 and j==0:\n",
    "          ptlep=ak.to_numpy(lep_momentum[lepvar[j]][:,i])\n",
    "        else:\n",
    "          ptlep=np.vstack([ptlep,ak.to_numpy(lep_momentum[lepvar[j]][:,i])])\n",
    "# end up with numpy 2d vector with n_var rows and n_event columns\n",
    "# to transpose, as in pandas 'features' are columns and 'observations' rows\n",
    "    ptlep=ptlep.transpose()\n",
    "# create dataframe \n",
    "    df = pd.DataFrame(ptlep)\n",
    "# add names of columns\n",
    "    df.columns=colnam \n",
    "# add scalar variables\n",
    "    for i in range(0, len(scalvar)):\n",
    "      df[scalvar[i]]=lep_momentum[scalvar[i]]\n",
    "#   calculate dphi rotation variables\n",
    "    df[\"dphil1m\"]=calc_dphil1m(df)\n",
    "    df[\"dphil2m\"]=calc_dphil2m(df)\n",
    "#   calculate lepton-lepton variables\n",
    "    mll,dphill,ptll,dphillm=calc_kine(df)\n",
    "    df[\"dphill\"]=np.abs(dphill)\n",
    "    df[\"dphillm\"]=np.abs(dphillm)\n",
    "    df[\"mll\"]=mll\n",
    "    df[\"ptll\"]=ptll\n",
    "# add MC weights and signal/background labelling\n",
    "    if 'data' not in sample: # only do this for Monte Carlo simulation files\n",
    "# multiply all Monte Carlo weights and scale factors together to give total weight\n",
    "      df[\"totalWeight\"] = calc_weight(xsec_weight, lep_momentum)*numevents/stopev\n",
    "      if  'H125' in sample:\n",
    "        df[\"SIG\"]=np.ones(df.shape[0])\n",
    "      else:\n",
    "        df[\"SIG\"]=np.zeros(df.shape[0])\n",
    "    print(\"dataframe content \" ,df.shape)\n",
    "    return df"
   ]
  },
  {
   "cell_type": "markdown",
   "metadata": {
    "id": "mwFgiBZ35ZtY"
   },
   "source": [
    "This is where the processing happens"
   ]
  },
  {
   "cell_type": "code",
   "execution_count": null,
   "metadata": {
    "colab": {
     "base_uri": "https://localhost:8080/"
    },
    "id": "AZerdO-d5ZtY",
    "outputId": "b60b1980-25a5-424f-9ba2-bbfd4ab169ab",
    "scrolled": false
   },
   "outputs": [],
   "source": [
    "start = time.time() # time at start of whole processing\n",
    "df = get_data_from_files() #process all files\n",
    "print(df.keys())\n",
    "elapsed = time.time() - start # time after whole processing\n",
    "print(\"Time taken: \"+str(round(elapsed,1))+\"s\") # print total time taken to process every file"
   ]
  },
  {
   "cell_type": "markdown",
   "metadata": {},
   "source": [
    "## Apply preselections or add secondary variables if desired to separate datafranes"
   ]
  },
  {
   "cell_type": "markdown",
   "metadata": {
    "id": "FWOGZ50Uu0CF"
   },
   "source": [
    "Define routine which loops over all the samples in the dictionary of dataframes and applies\n",
    "selections on them. <br />\n",
    "It would be simpler to apply the cuts when reading the files, but in this way you can play with \n",
    "the selections without the need of reloading the files every time<br />\n",
    "One can also create dataframes with different selection levels and compare them"
   ]
  },
  {
   "cell_type": "code",
   "execution_count": null,
   "metadata": {},
   "outputs": [],
   "source": [
    "def add_columns(df):\n",
    "\n",
    "  data = {} # define empty dictionary to hold dataframes\n",
    "  for s in samples: # loop over samples\n",
    "    print('Add columns '+s+' samples') # print which sample\n",
    "    print('before', df[s].shape) \n",
    "    adddf=df[s] \n",
    "    data[s]=adddf\n",
    "\n",
    "  return data # return dictionary of dataframes"
   ]
  },
  {
   "cell_type": "code",
   "execution_count": null,
   "metadata": {
    "colab": {
     "base_uri": "https://localhost:8080/"
    },
    "id": "eFKlNfmX5Zta",
    "outputId": "ced0ec82-c008-4dbf-8de6-ec9e1dcc1cf7"
   },
   "outputs": [],
   "source": [
    "def apply_selections(df):\n",
    "\n",
    "  data = {} # define empty dictionary to hold dataframes\n",
    "  for s in samples: # loop over samples\n",
    "    print('Apply selections on '+s+' samples') # print which sample\n",
    "    print('before', df[s].shape) \n",
    "    seldf=df[s]\n",
    "    seldf=seldf.query(\"ptl1>20000\")\n",
    "    print('after',seldf.shape)\n",
    "    data[s]=seldf\n",
    "#    data[s] = pd.concat(frames) # dictionary entry is concatenated dataframes\n",
    "\n",
    "  return data # return dictionary of dataframes"
   ]
  },
  {
   "cell_type": "code",
   "execution_count": null,
   "metadata": {},
   "outputs": [],
   "source": [
    "# Calculate events for available samples in dataframe dictionary normalised\n",
    "# to available statistics\n",
    "def calc_events(df):\n",
    "  stat = {} # define empty dictionary to hold stat\n",
    "  for s in samples: # loop over samples\n",
    "    if s not in ['data']: \n",
    "      print('Calculate events on '+s+' samples') # print which sample\n",
    "      stat[s]=(df[s]['totalWeight']).sum()\n",
    "    if s in ['data']:\n",
    "      stat[s]=df[s].shape[0]\n",
    "  return stat # return dictionary of statistics"
   ]
  },
  {
   "cell_type": "markdown",
   "metadata": {},
   "source": [
    "## Look at signal and background statistics after reading data"
   ]
  },
  {
   "cell_type": "code",
   "execution_count": null,
   "metadata": {},
   "outputs": [],
   "source": [
    "finstat=calc_events(df)\n",
    "nsig=finstat['signal']\n",
    "nbg=finstat['background']\n",
    "print(nsig,nbg)"
   ]
  },
  {
   "cell_type": "markdown",
   "metadata": {},
   "source": [
    "## Apply preselections and check  numbers of events normalised to statistics"
   ]
  },
  {
   "cell_type": "code",
   "execution_count": null,
   "metadata": {
    "colab": {
     "base_uri": "https://localhost:8080/"
    },
    "id": "eFKlNfmX5Zta",
    "outputId": "ced0ec82-c008-4dbf-8de6-ec9e1dcc1cf7"
   },
   "outputs": [],
   "source": [
    "dfs=apply_selections(df)"
   ]
  },
  {
   "cell_type": "code",
   "execution_count": null,
   "metadata": {},
   "outputs": [],
   "source": [
    "finstat1=calc_events(dfs)\n",
    "nsig1=finstat1['signal']\n",
    "nbg1=finstat1['background']\n",
    "print(nsig1,nbg1)"
   ]
  },
  {
   "cell_type": "markdown",
   "metadata": {},
   "source": [
    "## Calculation of significance"
   ]
  },
  {
   "cell_type": "code",
   "execution_count": null,
   "metadata": {},
   "outputs": [],
   "source": [
    "from math import sqrt, log\n",
    "def calc_sig(nsig, nbg, nbExpEr):\n",
    "    nbObs=nsig+nbg\n",
    "    nbExp=nbg\n",
    "    if nbExp>0 and nbExpEr>0:\n",
    "      factor1 = nbObs*log( (nbObs*(nbExp+nbExpEr**2))/(nbExp**2+nbObs*nbExpEr**2) )\n",
    "      factor2 = (nbExp**2/nbExpEr**2)*log( 1 + (nbExpEr**2*(nbObs-nbExp))/(nbExp*(nbExp+nbExpEr**2)) )\n",
    "      signi  = sqrt(2*(factor1 - factor2))\n",
    "    if nbExp>0 and nbExpEr==0:\n",
    "      signi=sqrt(2*((nsig+nbg)*log(1+nsig/nbg)-nsig))\n",
    "    if nbExp==0 and nbExpEr==0:\n",
    "      signi=sqrt(nsig)\n",
    "    if nbExp==0 and nbExpEr>0:\n",
    "      signi=nsig/sqrt(nbExpEr)\n",
    "    return signi"
   ]
  },
  {
   "cell_type": "code",
   "execution_count": null,
   "metadata": {},
   "outputs": [],
   "source": [
    "print(\"significance is \",calc_sig(nsig1,nbg1,0.))"
   ]
  },
  {
   "cell_type": "markdown",
   "metadata": {},
   "source": [
    "## Join samples into a dataframe including only variables to be used for analysis"
   ]
  },
  {
   "cell_type": "markdown",
   "metadata": {},
   "source": [
    "Cut analysis can be directly performed using the dataframes created below, since we later want to go to ML, lets create already a dataframe only with the ntuples which will be used for cuts, with both signal and background in a single file, with the relative lebelling in the variable SIG."
   ]
  },
  {
   "cell_type": "code",
   "execution_count": null,
   "metadata": {},
   "outputs": [],
   "source": [
    "tfea = ['SIG','ptl1','ptl2','dphil1m','dphil2m','etal1','etal2','met_et','mll','ptll','dphill','dphillm','totalWeight'] # list of features for discriminant analysis\n",
    "# concatenate all samples\n",
    "df_all=pd.concat(df[key][tfea] for key in df)\n",
    "for key in df:\n",
    "   print(key,df[key].shape[0])\n",
    "df_all.columns=tfea\n",
    "#print(df_all.keys)\n",
    "# randomize it\n",
    "df_all=df_all.sample(frac=1)\n",
    "# kludge, put reasonable upper limit on unbounded variables to allow automatic plotting\n",
    "# in a reasobnable range\n",
    "df_all=df_all.query(\"ptl1<500000 & ptl2<250000 & met_et<500000 & mll<500000 & ptll<500000\")\n",
    "print(\"df_all \", df_all.shape)\n",
    "split=1000000\n",
    "df_val=df_all[split:]\n",
    "print(\"df_val \", df_val.shape)\n",
    "df_all=df_all[:split]\n",
    "print(\"df_all \", df_all.shape)"
   ]
  },
  {
   "cell_type": "markdown",
   "metadata": {},
   "source": [
    "# Go for cut-based analysis\n",
    "\n",
    "First step is visual inspection of  all variables in dataframe to find the ones with best discriminating power.\n",
    "We will use some standard tools for the inspection"
   ]
  },
  {
   "cell_type": "markdown",
   "metadata": {},
   "source": [
    "Use seaborn library https://seaborn.pydata.orgto get a synoptic view of all variables\n",
    "\n",
    "First one-dimensional"
   ]
  },
  {
   "cell_type": "code",
   "execution_count": null,
   "metadata": {},
   "outputs": [],
   "source": [
    "import seaborn as sns\n",
    "import matplotlib.pyplot as plt\n",
    "\n",
    "# Look at variables: first basic kinematics\n",
    "nrow = int(len(tfea)/3)\n",
    "print(nrow)\n",
    "print \n",
    "if(len(tfea)%3>0):\n",
    "  nrow=nrow+1\n",
    "if nrow==0:\n",
    "  nrow=1;\n",
    "fig, axes = plt.subplots(nrow,3  , figsize=(14, 3.5*nrow))\n",
    "for ii in range (0, len(tfea)):\n",
    "  idf=ii\n",
    "  i1=int(ii/3)\n",
    "  i2=ii%3\n",
    "  sns.histplot( df_all, ax=axes[i1,i2], x=tfea[idf], hue=\"SIG\",element=\"step\")\n",
    "plt.show()"
   ]
  },
  {
   "cell_type": "markdown",
   "metadata": {},
   "source": [
    "Then bidimensional for promising variables"
   ]
  },
  {
   "cell_type": "code",
   "execution_count": null,
   "metadata": {},
   "outputs": [],
   "source": [
    "import seaborn as sns\n",
    "import matplotlib.pyplot as plt\n",
    "\n",
    "dfsmall=df_all.head(5000) \n",
    "g = sns.pairplot(dfsmall, vars=[\"met_et\", \"mll\",\"dphill\"], hue=\"SIG\",height=5)\n",
    "#g = sns.PairGrid(df1, vars=[\"MET_val\", \"MET_rel\",\"axial_MET\"], hue=\"SIG\",height=5)\n",
    "#g.map_diag(sns.histplot)\n",
    "#g.map_offdiag(sns.scatterplot, s=20)\n",
    "g.add_legend()"
   ]
  },
  {
   "cell_type": "markdown",
   "metadata": {
    "id": "pzk5n_pc5Zta"
   },
   "source": [
    "## Free Plotting\n",
    "\n",
    "Set simple wrapper for plotting histograms with matplotlib"
   ]
  },
  {
   "cell_type": "code",
   "execution_count": null,
   "metadata": {
    "id": "L5vLBRJXu0CG"
   },
   "outputs": [],
   "source": [
    "# in input:  df=dataframe var=variable in dataframe, \n",
    "# scale=scale factor on value of variable (e.g. for scaling between MeV and GeV)\n",
    "# nbin,xlow,xhigh: limits of histogram\n",
    "# norm: choose whether you plot acutal number of events in bin or fraction of events \n",
    "#       in each bin with respect to total\n",
    "# labx, laby labels of x and y axis of histogram \n",
    "# title: title of hisotgram\n",
    "# leg: legenda for content, useful if you superimpose two hists\n",
    "def hist1d(df, var, scale, nbin, xlow, xhig, norm, labx, laby, title, leg):\n",
    "  bins = np.linspace(xlow,xhig,nbin)\n",
    "  plt.hist(df[var]*scale, bins, alpha=0.5, density=norm, label=leg)\n",
    "  plt.xlabel(labx)\n",
    "  plt.ylabel(laby)\n",
    "  plt.legend(loc='best')\n",
    "# 2d, same definition of inputs as above\n",
    "def hist2d(df,var1,var2,scalex,scaley,nbinx,xlow,xhig,nbiny,ylow,yhig,labx,laby,title):\n",
    "  binx = np.linspace(xlow,xhig,nbinx)\n",
    "  biny = np.linspace(ylow,yhig,nbiny)\n",
    "  plt.hist2d(df[var1]*scalex, df[var2]*scaley, bins=[binx, biny], density=False, cmin=0.5)\n",
    "  plt.xlabel(labx)\n",
    "  plt.ylabel(laby)"
   ]
  },
  {
   "cell_type": "code",
   "execution_count": null,
   "metadata": {
    "colab": {
     "base_uri": "https://localhost:8080/",
     "height": 1000
    },
    "id": "AQ3untsTu0CG",
    "outputId": "03daf22c-4131-4575-c55a-ad0e02546e95"
   },
   "outputs": [],
   "source": [
    "hist1d(df_all.query(\"SIG==0\"),\"mll\",MeV,100,0.,500.,False,'mll [GeV]','Number of events','','Background')\n",
    "hist1d(df_all.query(\"SIG==1\"),\"mll\",MeV,100,0.,500.,False,'mll [GeV]','Number of events','Unscaled','Signal')\n",
    "plt.show()\n",
    "hist2d(df_all.query(\"SIG==0\"),\"ptl1\",\"etal1\",MeV,1,100,0.,200.,100,-3.,3.,'pt(lep1) [GeV]','pt(lep2) [GeV]','')\n",
    "plt.show()"
   ]
  },
  {
   "cell_type": "code",
   "execution_count": null,
   "metadata": {},
   "outputs": [],
   "source": []
  },
  {
   "cell_type": "code",
   "execution_count": null,
   "metadata": {},
   "outputs": [],
   "source": [
    "def plot_varsel(df, sel1, sel2, var, blow, bhigh, nbin):\n",
    "  df_pass = df.query(sel1)\n",
    "  df_nopass = df.query(sel2)\n",
    "  bins = np.linspace(blow, bhigh, nbin)\n",
    "  plt.hist(df_pass[var], bins, alpha=0.5, density=True, label=sel1)\n",
    "  plt.hist(df_nopass[var], bins, alpha=0.5, density=True, label=sel2)\n",
    "  plt.legend(loc='best')\n",
    "  plt.xlabel(var)\n",
    "  plt.ylabel('normalised events')\n",
    "  plt.show()"
   ]
  },
  {
   "cell_type": "code",
   "execution_count": null,
   "metadata": {},
   "outputs": [],
   "source": [
    "string=\"mll<55000\"\n",
    "df_all_s=df_all.query(string)"
   ]
  },
  {
   "cell_type": "code",
   "execution_count": null,
   "metadata": {},
   "outputs": [],
   "source": [
    "numsig=df_all_s.query(\"SIG==1\")[\"totalWeight\"].sum()\n",
    "numbg=df_all_s.query(\"SIG==0\")[\"totalWeight\"].sum()\n",
    "print('after cuts; signal:',numsig,' background:',numbg)"
   ]
  },
  {
   "cell_type": "code",
   "execution_count": null,
   "metadata": {},
   "outputs": [],
   "source": [
    "print(\"significance is:\",calc_sig(numsig, numbg, 0.001*numbg))"
   ]
  },
  {
   "cell_type": "code",
   "execution_count": null,
   "metadata": {},
   "outputs": [],
   "source": [
    "hist1d(df_all_s.query(\"SIG==0\"),\"ptl1\",MeV,100,0.,200.,True,'mll','Number of events','','Background')\n",
    "hist1d(df_all_s.query(\"SIG==1\"),\"ptl1\",MeV,100,0.,200.,True,'mll','Number of events','','Signal')\n",
    "plt.show()"
   ]
  },
  {
   "cell_type": "markdown",
   "metadata": {
    "id": "jpMrzx4E5Ztd"
   },
   "source": [
    "## Exercises\n",
    "\n"
   ]
  },
  {
   "attachments": {
    "mtdef.png": {
     "image/png": "[encoded data removed]"
    }
   },
   "cell_type": "markdown",
   "metadata": {
    "id": "nAczWo8i5Ztd"
   },
   "source": [
    "* Play around with cuts trying to achieve the best possible significance when fighting with WW background\n",
    "    * Implement the mT variable defined as \n",
    "    ![mtdef.png](attachment:mtdef.png)\n",
    "    in the ATLAS WW paper https://www.sciencedirect.com/science/article/pii/S0370269318309936?via%3Dihub\n",
    "    and verify the impact on the analysis\n",
    "* Replace WW background with ttbar background and try same exercise.<br /> \n",
    "    Hints: \n",
    "     * number of jets become important.\n",
    "     * build the variable corresponding to the modulus of the vector sum of the transverse momenta  of the two lepton and Etmiss.<br />Add it to the dataframe and verify whether it is a good discriminant variable\n",
    "* Redo exercise with both WW and ttbar on"
   ]
  },
  {
   "cell_type": "code",
   "execution_count": null,
   "metadata": {},
   "outputs": [],
   "source": []
  }
 ],
 "metadata": {
  "colab": {
   "provenance": []
  },
  "kernelspec": {
   "display_name": "Python 3 (ipykernel)",
   "language": "python",
   "name": "python3"
  },
  "language_info": {
   "codemirror_mode": {
    "name": "ipython",
    "version": 3
   },
   "file_extension": ".py",
   "mimetype": "text/x-python",
   "name": "python",
   "nbconvert_exporter": "python",
   "pygments_lexer": "ipython3",
   "version": "3.8.10"
  },
  "toc": {
   "base_numbering": 1,
   "nav_menu": {},
   "number_sections": true,
   "sideBar": true,
   "skip_h1_title": false,
   "title_cell": "Table of Contents",
   "title_sidebar": "Contents",
   "toc_cell": false,
   "toc_position": {},
   "toc_section_display": true,
   "toc_window_display": false
  }
 },
 "nbformat": 4,
 "nbformat_minor": 1
}
