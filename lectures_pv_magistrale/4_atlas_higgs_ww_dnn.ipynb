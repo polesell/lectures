{
 "cells": [
  {
   "cell_type": "markdown",
   "metadata": {
    "id": "TiSTHbA25ZtB"
   },
   "source": [
    "# Performing the Higgs -> WW-> l leptons search \n",
    "\n",
    "##  Test performance of sequential DNN \n",
    "\n",
    "Focus on discriminating Higgs signal from irreducible SM WW production.\n",
    "\n",
    "Final state is 2 leptons + missing tranverse momentum.\n",
    "\n",
    "This notebooks shows the use of a fully connected network for the analysis"
   ]
  },
  {
   "cell_type": "markdown",
   "metadata": {
    "id": "5dgRkVPu5ZtK"
   },
   "source": [
    "# Installation of packages not available by default on colab\n"
   ]
  },
  {
   "cell_type": "code",
   "execution_count": 35,
   "metadata": {
    "colab": {
     "base_uri": "https://localhost:8080/"
    },
    "id": "rjpPQFJHBHZO",
    "outputId": "4e4e4a10-448d-4576-a5a3-c9810c5fa386"
   },
   "outputs": [
    {
     "name": "stdout",
     "output_type": "stream",
     "text": [
      "Defaulting to user installation because normal site-packages is not writeable\n",
      "Requirement already satisfied: vector in /home/polesell/.local/lib/python3.10/site-packages (1.1.1.post1)\n",
      "Requirement already satisfied: numpy>=1.13.3 in /home/polesell/.local/lib/python3.10/site-packages (from vector) (1.26.1)\n",
      "Requirement already satisfied: packaging>=19 in /usr/lib/python3/dist-packages (from vector) (21.3)\n"
     ]
    }
   ],
   "source": [
    "import sys\n",
    "# update the pip package installer\n",
    "#%pip install --upgrade --user pip\n",
    "# install required packages\n",
    "#%pip install --upgrade --user uproot awkward vector numpy matplotlib\n",
    "\n",
    "\n",
    "!pip install vector\n",
    "#!pip install hist"
   ]
  },
  {
   "cell_type": "markdown",
   "metadata": {
    "id": "YrW2zmSv5ZtP"
   },
   "source": [
    "## Import packages used in the analysis\n",
    "\n",
    "We're going to be using a number of tools to help us:\n",
    "* vector: to allow vectorized 4-momentum calculations\n",
    "* numpy: provides numerical calculations such as histogramming\n",
    "* matplotlib: common tool for making plots, figures, images, visualisations"
   ]
  },
  {
   "cell_type": "code",
   "execution_count": 36,
   "metadata": {
    "id": "0tezkWvi5ZtP"
   },
   "outputs": [],
   "source": [
    "\n",
    "import vector # for 4-momentum calculations\n",
    "import time # to measure time to analyse\n",
    "import math # for mathematical functions such as square root\n",
    "import numpy as np # for numerical calculations such as histogramming\n",
    "import matplotlib.pyplot as plt\n",
    "import pandas as pd\n"
   ]
  },
  {
   "cell_type": "markdown",
   "metadata": {},
   "source": [
    "## Read in csv files for signal and background"
   ]
  },
  {
   "cell_type": "code",
   "execution_count": 37,
   "metadata": {},
   "outputs": [
    {
     "name": "stdout",
     "output_type": "stream",
     "text": [
      "Size of dataset : 100000\n"
     ]
    }
   ],
   "source": [
    "fn2=\"https://cernbox.cern.ch/remote.php/dav/public-files/6mTuRapglPXnwUT/hww_atlas.csv.gz\" #hww\n",
    "totf2=600000\n",
    "#fn1=\"https://cernbox.cern.ch/remote.php/dav/public-files/bt9p3KS952M0I11/ttlep_atlas.csv.gz\" #ttlep\n",
    "fn1=\"https://cernbox.cern.ch/remote.php/dav/public-files/ndKtAQHMxNUmumC/ww_atlas.csv.gz\" #ww\n",
    "totf1=600000\n",
    "\n",
    "N = 100000\n",
    "print(\"Size of dataset : %i\"%N)\n",
    "df1 = pd.read_csv(fn1, compression='gzip', header=0,nrows=N,engine='python')\n",
    "df2 = pd.read_csv(fn2, compression='gzip', header=0,nrows=N,engine='python')"
   ]
  },
  {
   "cell_type": "code",
   "execution_count": 38,
   "metadata": {},
   "outputs": [
    {
     "name": "stdout",
     "output_type": "stream",
     "text": [
      "(100000, 16)\n",
      "(100000, 16)\n"
     ]
    }
   ],
   "source": [
    "print(df1.shape)\n",
    "print(df2.shape)"
   ]
  },
  {
   "cell_type": "markdown",
   "metadata": {},
   "source": [
    "## Add labelling and high-level variables\n",
    "\n",
    "The csv files only contain the 4-vectors of the two leptons. In order to perform analysis:\n",
    "\n",
    "* Label whether each sample is signal or background\n",
    "* concatenate samples\n",
    "* store 4-vectors of leptons amd etmiss in 'vector' structures for manipulation\n",
    "* build high-level variables\n",
    "* drop redundant ones"
   ]
  },
  {
   "cell_type": "code",
   "execution_count": 39,
   "metadata": {},
   "outputs": [],
   "source": [
    "# add labelling signal/background\n",
    "df1['SIG']=0\n",
    "df2['SIG']=1\n",
    "\n",
    "\n",
    "dftot=pd.concat([df1,df2])\n",
    "\n",
    "#\n",
    "# create array of 4-vectors of two leptons and etmiss for calculation of derived\n",
    "# variables\n",
    "#\n",
    "p4l1=vector.array({\"pt\":dftot[\"ptl1\"], \"phi\":dftot[\"phil1\"],\n",
    "    \"eta\":dftot[\"etal1\"], \"e\":dftot[\"el1\"]})\n",
    "p4l2=vector.array({\"pt\":dftot[\"ptl2\"], \"phi\":dftot[\"phil2\"],\n",
    "    \"eta\":dftot[\"etal2\"], \"e\":dftot[\"el2\"]})\n",
    "etmv=vector.array({\"pt\":dftot[\"met_et\"], \"phi\":dftot[\"met_phi\"]})\n",
    "\n",
    "#\n",
    "#  rotate variables to exploit azimuthal symmetry\n",
    "#\n",
    "dftot[\"dphil1m\"]=p4l1.deltaphi(etmv)\n",
    "dftot[\"dphil2m\"]=p4l2.deltaphi(etmv)\n",
    "\n",
    "#  High level variables for 2-l+etm system\n",
    "#\n",
    "p4ll=p4l1+p4l2\n",
    "dftot[\"dphill\"]=p4l1.deltaphi(p4l2)\n",
    "dftot[\"dphillm\"]=p4ll.deltaphi(etmv)\n",
    "ptll=p4ll.pt\n",
    "mll=p4ll.M\n",
    "dftot[\"ptll\"]=ptll\n",
    "dftot[\"mll\"]=mll\n",
    "#\n",
    "#  transverse mass of decaying particle\n",
    "#\n",
    "etm=dftot[\"met_et\"]\n",
    "ptllv=vector.array({\"x\":p4ll.x, \"y\":p4ll.y})\n",
    "c2=(etmv.x+ptllv.x)**2+(etmv.y+ptllv.y)**2\n",
    "etll=np.sqrt(ptll*ptll+mll*mll)\n",
    "c1=(etll+etm)**2\n",
    "mt=np.sqrt(c1-c2)\n",
    "dftot[\"mt\"]=mt\n",
    "#\n",
    "#   drop redundant variables\n",
    "#\n",
    "df=dftot.drop(columns=['phil1','phil2','met_phi'])\n",
    "\n",
    "#coln=df.columns\n",
    "\n",
    "#print(coln)\n",
    "\n",
    "#print(df.head())\n",
    "\n",
    "#print(df.info())"
   ]
  },
  {
   "cell_type": "markdown",
   "metadata": {},
   "source": [
    "## Look at signal and background statistics after reading data"
   ]
  },
  {
   "cell_type": "code",
   "execution_count": 40,
   "metadata": {},
   "outputs": [
    {
     "name": "stdout",
     "output_type": "stream",
     "text": [
      "473.0495225939998 26582.429539060377\n"
     ]
    }
   ],
   "source": [
    "def getnormev(df,totsig,totbg,evread):\n",
    "  nsigw=((df.query(\"SIG==1\"))[\"totalWeight\"]).sum()*totsig/evread\n",
    "  nbgw=((df.query(\"SIG==0\"))[\"totalWeight\"]).sum()*totbg/evread\n",
    "  return nsigw,nbgw\n",
    "\n",
    "nsigw,nbgw=getnormev(df,totf2,totf1,N)\n",
    "print(nsigw,nbgw)"
   ]
  },
  {
   "cell_type": "markdown",
   "metadata": {},
   "source": [
    "## Calculation of significance before selection"
   ]
  },
  {
   "cell_type": "code",
   "execution_count": 41,
   "metadata": {},
   "outputs": [],
   "source": [
    "from math import sqrt, log\n",
    "def calc_sig(nsig, nbg, nbExpEr):\n",
    "    nbObs=nsig+nbg\n",
    "    nbExp=nbg\n",
    "    if nbExp>0 and nbExpEr>0:\n",
    "      factor1 = nbObs*log( (nbObs*(nbExp+nbExpEr**2))/(nbExp**2+nbObs*nbExpEr**2) )\n",
    "      factor2 = (nbExp**2/nbExpEr**2)*log( 1 + (nbExpEr**2*(nbObs-nbExp))/(nbExp*(nbExp+nbExpEr**2)) )\n",
    "      signi  = sqrt(2*(factor1 - factor2))\n",
    "    if nbExp>0 and nbExpEr==0:\n",
    "      signi=sqrt(2*((nsig+nbg)*log(1+nsig/nbg)-nsig))\n",
    "    if nbExp==0 and nbExpEr==0:\n",
    "      signi=sqrt(nsig)\n",
    "    if nbExp==0 and nbExpEr>0:\n",
    "      signi=nsig/sqrt(nbExpEr)\n",
    "    return signi"
   ]
  },
  {
   "cell_type": "code",
   "execution_count": 42,
   "metadata": {},
   "outputs": [
    {
     "name": "stdout",
     "output_type": "stream",
     "text": [
      "significance is  1.5092571763799594\n"
     ]
    }
   ],
   "source": [
    "print(\"significance is \",calc_sig(nsigw,nbgw,0.01*nbgw))"
   ]
  },
  {
   "cell_type": "markdown",
   "metadata": {},
   "source": [
    "## Define dataframe with variables to be used for training\n",
    "\n",
    "Dataframe will also contain flag on whether it is signal and background ('SIG') and weight for normalisation to LHC statistics ('totalWeight')\n",
    "\n",
    "We randomize the sample. This is not needed, as the splitting in the next cell will mix events"
   ]
  },
  {
   "cell_type": "code",
   "execution_count": 43,
   "metadata": {},
   "outputs": [
    {
     "name": "stdout",
     "output_type": "stream",
     "text": [
      "df_all  (200000, 14)\n"
     ]
    }
   ],
   "source": [
    "tfea = ['SIG','ptl1','ptl2','dphil1m','dphil2m','etal1','etal2','met_et','mll','ptll','dphill','dphillm','mt','totalWeight'] # list of features for discriminant analysis\n",
    "df_all=df[tfea]\n",
    "df_all.columns=tfea\n",
    "#print(df_all.keys)\n",
    "# randomize it\n",
    "df_all=df_all.sample(frac=1)\n",
    "\n",
    "print(\"df_all \", df_all.shape)\n"
   ]
  },
  {
   "cell_type": "markdown",
   "metadata": {},
   "source": [
    "## Definition of training and test samples\n",
    "\n",
    "As usual use train_test_split from sklearn library\n",
    "Two steps:\n",
    "\n",
    "* Split out a 25% test sample to use at the end for performance evaluation:  X_testu\n",
    "* Remaining 75% split into a 90% training sample and 10% validation sample to be used during training: X_trainu, X_valu"
   ]
  },
  {
   "cell_type": "code",
   "execution_count": 44,
   "metadata": {},
   "outputs": [
    {
     "name": "stdout",
     "output_type": "stream",
     "text": [
      "Index(['ptl1', 'ptl2', 'dphil1m', 'dphil2m', 'etal1', 'etal2', 'met_et', 'mll',\n",
      "       'ptll', 'dphill', 'dphillm', 'mt', 'totalWeight'],\n",
      "      dtype='object')\n",
      "(200000, 13)\n",
      "Index(['ptl1', 'ptl2', 'dphil1m', 'dphil2m', 'etal1', 'etal2', 'met_et', 'mll',\n",
      "       'ptll', 'dphill', 'dphillm', 'mt'],\n",
      "      dtype='object')\n",
      "(135000, 12)\n"
     ]
    }
   ],
   "source": [
    "from sklearn.model_selection import train_test_split\n",
    "#Define vectors for input to ML\n",
    "\n",
    "# Use 'SIG' column as definition of target\n",
    "y = df_all['SIG']\n",
    "\n",
    "# drop it from dataframe for\n",
    "X = df_all[[col for col in df_all.columns if col!=\"SIG\"]]\n",
    "col_fin=X.columns\n",
    "print(col_fin)\n",
    "print(X.shape)\n",
    "\n",
    "# now split out test saple for final performance evaluations\n",
    "\n",
    "X_traina, X_testu, y_traina, y_test = train_test_split(X, y,\n",
    "                                   test_size=.25, random_state=0)\n",
    "\n",
    "# save in X_testw test sample with weights included\n",
    "\n",
    "X_testw=X_testu\n",
    "\n",
    "# now further split train sample in actual train and validation\n",
    "\n",
    "X_trainu, X_valu, y_train, y_val = train_test_split(X_traina, y_traina,\n",
    "                                   test_size=.10, random_state=0)\n",
    "\n",
    "\n",
    "# drop weighths \n",
    "\n",
    "X_trainu=X_trainu[[col for col in X_trainu.columns if col!=\"totalWeight\"]]\n",
    "X_testu=X_testu[[col for col in X_testu.columns if col!=\"totalWeight\"]]\n",
    "X_valu=X_valu[[col for col in X_valu.columns if col!=\"totalWeight\"]]\n",
    "\n",
    "print(X_trainu.columns)\n",
    "print(X_trainu.shape)\n",
    "\n"
   ]
  },
  {
   "cell_type": "markdown",
   "metadata": {},
   "source": [
    "## Scaling of samples so that all of the variables  are in the same range\n",
    "\n",
    "Needed to make life easier for ML<br />\n",
    "Use StandardScaler method from sklearn library"
   ]
  },
  {
   "cell_type": "code",
   "execution_count": 45,
   "metadata": {},
   "outputs": [
    {
     "name": "stdout",
     "output_type": "stream",
     "text": [
      "Index(['ptl1', 'ptl2', 'dphil1m', 'dphil2m', 'etal1', 'etal2', 'met_et', 'mll',\n",
      "       'ptll', 'dphill', 'dphillm', 'mt'],\n",
      "      dtype='object')\n",
      "train  (135000, 12)\n",
      "ytrain nbg (67411, 1) ytrain nsig (67589, 1)\n",
      "test (50000, 12)\n",
      "val (15000, 12)\n"
     ]
    }
   ],
   "source": [
    "from sklearn.preprocessing import StandardScaler\n",
    "scaler = StandardScaler() # initialise StandardScaler\n",
    "print(X_trainu.columns)\n",
    "# Fit only to the training data\n",
    "scaler.fit(X_trainu)\n",
    "\n",
    "# Now apply the transformations to the data:\n",
    "X_train = scaler.transform(X_trainu)\n",
    "X_test = scaler.transform(X_testu)\n",
    "X_test=pd.DataFrame(X_test)\n",
    "X_val=scaler.transform(X_valu)\n",
    "print('train ', X_train.shape)\n",
    "dfy=pd.DataFrame(y_train)\n",
    "print('ytrain nbg',dfy.query(\"SIG==0\").shape,'ytrain nsig',dfy.query(\"SIG==1\").shape)\n",
    "print('test', X_test.shape)\n",
    "print('val', X_val.shape)"
   ]
  },
  {
   "cell_type": "markdown",
   "metadata": {},
   "source": [
    "# Deep Neural Network\n",
    "\n",
    "Implement in Keras and run"
   ]
  },
  {
   "cell_type": "code",
   "execution_count": 46,
   "metadata": {},
   "outputs": [
    {
     "name": "stdout",
     "output_type": "stream",
     "text": [
      "Model: \"sequential_3\"\n",
      "_________________________________________________________________\n",
      " Layer (type)                Output Shape              Param #   \n",
      "=================================================================\n",
      " dense_15 (Dense)            (None, 100)               1300      \n",
      "                                                                 \n",
      " dense_16 (Dense)            (None, 100)               10100     \n",
      "                                                                 \n",
      " dense_17 (Dense)            (None, 100)               10100     \n",
      "                                                                 \n",
      " dense_18 (Dense)            (None, 100)               10100     \n",
      "                                                                 \n",
      " dense_19 (Dense)            (None, 1)                 101       \n",
      "                                                                 \n",
      "=================================================================\n",
      "Total params: 31701 (123.83 KB)\n",
      "Trainable params: 31701 (123.83 KB)\n",
      "Non-trainable params: 0 (0.00 Byte)\n",
      "_________________________________________________________________\n",
      "\n",
      "Epoch 1: val_loss improved from inf to 0.39315, saving model to best_mod.h5\n"
     ]
    },
    {
     "name": "stderr",
     "output_type": "stream",
     "text": [
      "/home/polesell/.local/lib/python3.10/site-packages/keras/src/engine/training.py:3079: UserWarning: You are saving your model as an HDF5 file via `model.save()`. This file format is considered legacy. We recommend using instead the native Keras format, e.g. `model.save('my_model.keras')`.\n",
      "  saving_api.save_model(\n"
     ]
    },
    {
     "name": "stdout",
     "output_type": "stream",
     "text": [
      "\n",
      "Epoch 2: val_loss improved from 0.39315 to 0.36079, saving model to best_mod.h5\n",
      "\n",
      "Epoch 3: val_loss improved from 0.36079 to 0.35508, saving model to best_mod.h5\n",
      "\n",
      "Epoch 4: val_loss improved from 0.35508 to 0.35225, saving model to best_mod.h5\n",
      "\n",
      "Epoch 5: val_loss improved from 0.35225 to 0.35042, saving model to best_mod.h5\n",
      "\n",
      "Epoch 6: val_loss improved from 0.35042 to 0.34945, saving model to best_mod.h5\n",
      "\n",
      "Epoch 7: val_loss improved from 0.34945 to 0.34745, saving model to best_mod.h5\n",
      "\n",
      "Epoch 8: val_loss improved from 0.34745 to 0.34655, saving model to best_mod.h5\n",
      "\n",
      "Epoch 9: val_loss improved from 0.34655 to 0.34594, saving model to best_mod.h5\n",
      "\n",
      "Epoch 10: val_loss improved from 0.34594 to 0.34533, saving model to best_mod.h5\n",
      "\n",
      "Epoch 11: val_loss improved from 0.34533 to 0.34452, saving model to best_mod.h5\n",
      "\n",
      "Epoch 12: val_loss improved from 0.34452 to 0.34387, saving model to best_mod.h5\n",
      "\n",
      "Epoch 13: val_loss improved from 0.34387 to 0.34337, saving model to best_mod.h5\n",
      "\n",
      "Epoch 14: val_loss improved from 0.34337 to 0.34286, saving model to best_mod.h5\n",
      "\n",
      "Epoch 15: val_loss improved from 0.34286 to 0.34261, saving model to best_mod.h5\n",
      "\n",
      "Epoch 16: val_loss did not improve from 0.34261\n",
      "\n",
      "Epoch 17: val_loss improved from 0.34261 to 0.34211, saving model to best_mod.h5\n",
      "\n",
      "Epoch 18: val_loss improved from 0.34211 to 0.34189, saving model to best_mod.h5\n",
      "\n",
      "Epoch 19: val_loss improved from 0.34189 to 0.34173, saving model to best_mod.h5\n",
      "\n",
      "Epoch 20: val_loss improved from 0.34173 to 0.34159, saving model to best_mod.h5\n",
      "\n",
      "Epoch 21: val_loss did not improve from 0.34159\n",
      "\n",
      "Epoch 22: val_loss improved from 0.34159 to 0.34154, saving model to best_mod.h5\n",
      "\n",
      "Epoch 23: val_loss improved from 0.34154 to 0.34100, saving model to best_mod.h5\n",
      "\n",
      "Epoch 24: val_loss did not improve from 0.34100\n",
      "\n",
      "Epoch 25: val_loss did not improve from 0.34100\n",
      "\n",
      "Epoch 26: val_loss improved from 0.34100 to 0.34054, saving model to best_mod.h5\n",
      "\n",
      "Epoch 27: val_loss did not improve from 0.34054\n",
      "\n",
      "Epoch 28: val_loss improved from 0.34054 to 0.34034, saving model to best_mod.h5\n",
      "\n",
      "Epoch 29: val_loss did not improve from 0.34034\n",
      "\n",
      "Epoch 30: val_loss did not improve from 0.34034\n",
      "\n",
      "Epoch 31: val_loss did not improve from 0.34034\n",
      "\n",
      "Epoch 32: val_loss did not improve from 0.34034\n",
      "\n",
      "Epoch 33: val_loss did not improve from 0.34034\n",
      "\n",
      "Epoch 34: val_loss improved from 0.34034 to 0.34018, saving model to best_mod.h5\n",
      "\n",
      "Epoch 35: val_loss did not improve from 0.34018\n",
      "\n",
      "Epoch 36: val_loss improved from 0.34018 to 0.33967, saving model to best_mod.h5\n",
      "\n",
      "Epoch 37: val_loss improved from 0.33967 to 0.33950, saving model to best_mod.h5\n",
      "\n",
      "Epoch 38: val_loss did not improve from 0.33950\n",
      "\n",
      "Epoch 39: val_loss did not improve from 0.33950\n",
      "\n",
      "Epoch 40: val_loss did not improve from 0.33950\n",
      "\n",
      "Epoch 41: val_loss did not improve from 0.33950\n",
      "\n",
      "Epoch 42: val_loss did not improve from 0.33950\n",
      "\n",
      "Epoch 43: val_loss did not improve from 0.33950\n",
      "\n",
      "Epoch 44: val_loss improved from 0.33950 to 0.33935, saving model to best_mod.h5\n",
      "\n",
      "Epoch 45: val_loss improved from 0.33935 to 0.33934, saving model to best_mod.h5\n",
      "\n",
      "Epoch 46: val_loss improved from 0.33934 to 0.33923, saving model to best_mod.h5\n",
      "\n",
      "Epoch 47: val_loss did not improve from 0.33923\n",
      "\n",
      "Epoch 48: val_loss did not improve from 0.33923\n",
      "\n",
      "Epoch 49: val_loss improved from 0.33923 to 0.33918, saving model to best_mod.h5\n",
      "\n",
      "Epoch 50: val_loss improved from 0.33918 to 0.33908, saving model to best_mod.h5\n",
      "\n",
      "Epoch 51: val_loss did not improve from 0.33908\n",
      "\n",
      "Epoch 52: val_loss did not improve from 0.33908\n",
      "\n",
      "Epoch 53: val_loss did not improve from 0.33908\n",
      "\n",
      "Epoch 54: val_loss did not improve from 0.33908\n",
      "\n",
      "Epoch 55: val_loss improved from 0.33908 to 0.33894, saving model to best_mod.h5\n",
      "\n",
      "Epoch 56: val_loss did not improve from 0.33894\n",
      "\n",
      "Epoch 57: val_loss did not improve from 0.33894\n",
      "\n",
      "Epoch 58: val_loss did not improve from 0.33894\n",
      "\n",
      "Epoch 59: val_loss did not improve from 0.33894\n",
      "\n",
      "Epoch 60: val_loss did not improve from 0.33894\n",
      "\n",
      "Epoch 61: val_loss did not improve from 0.33894\n",
      "\n",
      "Epoch 62: val_loss did not improve from 0.33894\n",
      "\n",
      "Epoch 63: val_loss did not improve from 0.33894\n",
      "\n",
      "Epoch 64: val_loss improved from 0.33894 to 0.33859, saving model to best_mod.h5\n",
      "\n",
      "Epoch 65: val_loss did not improve from 0.33859\n",
      "\n",
      "Epoch 66: val_loss did not improve from 0.33859\n",
      "\n",
      "Epoch 67: val_loss did not improve from 0.33859\n",
      "\n",
      "Epoch 68: val_loss did not improve from 0.33859\n",
      "\n",
      "Epoch 69: val_loss did not improve from 0.33859\n",
      "\n",
      "Epoch 70: val_loss did not improve from 0.33859\n",
      "\n",
      "Epoch 71: val_loss did not improve from 0.33859\n",
      "\n",
      "Epoch 72: val_loss improved from 0.33859 to 0.33834, saving model to best_mod.h5\n",
      "\n",
      "Epoch 73: val_loss did not improve from 0.33834\n",
      "\n",
      "Epoch 74: val_loss did not improve from 0.33834\n",
      "\n",
      "Epoch 75: val_loss did not improve from 0.33834\n",
      "\n",
      "Epoch 76: val_loss did not improve from 0.33834\n",
      "\n",
      "Epoch 77: val_loss did not improve from 0.33834\n",
      "\n",
      "Epoch 78: val_loss did not improve from 0.33834\n",
      "\n",
      "Epoch 79: val_loss did not improve from 0.33834\n",
      "\n",
      "Epoch 80: val_loss did not improve from 0.33834\n",
      "\n",
      "Epoch 81: val_loss did not improve from 0.33834\n",
      "\n",
      "Epoch 82: val_loss did not improve from 0.33834\n",
      "Test score: 0.3387014865875244\n",
      "Test accuracy: 0.8507599830627441\n"
     ]
    }
   ],
   "source": [
    "#\n",
    "#  define function for running NN, which in turn includes function \n",
    "#  for creating the model\n",
    "#\n",
    "\n",
    "import tensorflow\n",
    "from tensorflow import keras\n",
    "from tensorflow.keras.layers import Dense\n",
    "from tensorflow.keras.layers import Dropout\n",
    "from tensorflow.keras import regularizers\n",
    "from tensorflow.keras.regularizers import l2\n",
    "from tensorflow.keras.regularizers import l1\n",
    "from tensorflow.keras.callbacks import EarlyStopping\n",
    "from tensorflow.keras.callbacks import ModelCheckpoint\n",
    "from tensorflow.keras.callbacks import CSVLogger\n",
    "from tensorflow.keras.utils     import plot_model\n",
    "from tensorflow.keras.models import load_model\n",
    "from sklearn.model_selection import train_test_split\n",
    "import warnings\n",
    "\n",
    "warnings.filterwarnings(action='ignore', category=FutureWarning)\n",
    "# Define number of input variables as size of one row of the training dataframe\n",
    "varnum=X_train.shape[1]\n",
    "model = keras.Sequential()\n",
    "# add input layer\n",
    "drop=0.1\n",
    "model.add(keras.layers.Dense(100, input_dim=varnum, activation='relu'))\n",
    "#model.add(Dropout(drop))\n",
    "#model.add(keras.layers.Dense(50,  kernel_regularizer=l2(reg), activation='tanh'))\n",
    "model.add(keras.layers.Dense(100,  activation='relu'))\n",
    "#model.add(Dropout(drop))\n",
    "model.add(keras.layers.Dense(100,  activation='relu'))\n",
    "#model.add(Dropout(drop))\n",
    "model.add(keras.layers.Dense(100,  activation='relu'))\n",
    "#model.add(Dropout(drop))\n",
    "model.add(keras.layers.Dense(1, activation='sigmoid'))\n",
    "model.summary()\n",
    "\n",
    "opt = keras.optimizers.SGD(learning_rate=0.01)\n",
    "#opt= 'adam'\n",
    "model.compile(optimizer=opt,\n",
    "              loss='binary_crossentropy',\n",
    "              metrics=['accuracy'])\n",
    "# define the name of the files where we save the best model and the training history\n",
    "savemod=\"best_mod.h5\"\n",
    "savelog=\"history.csv\"\n",
    "#  Set up callbacks during optimisation \n",
    "#\n",
    "#  define early stopping. The programme monitors the value of the validation loss, and it\n",
    "#  stops the optimisation when it does not decrease for 'patience' validation epochs\n",
    "#  one has to put a patience parameter because the validation loss may fluctuate\n",
    "#  and because one the optimisation may flattem out for some time and then restart\n",
    "#\n",
    "es = EarlyStopping(monitor='val_loss', mode='min', verbose=0, patience=10)\n",
    "#\n",
    "#  whenever the loss value is improved save the model, in this way at the end \n",
    "#  of the optimisation one will have the best model found on disk\n",
    "#\n",
    "mc = ModelCheckpoint(savemod, monitor='val_loss', mode='min', save_best_only=True, verbose=1)\n",
    "#\n",
    "#  log onto file the values of accuracy and loss for each step in the optimisation\n",
    "#\n",
    "hl = CSVLogger(savelog, separator=\",\", append=False)\n",
    "#\n",
    "#  fit model\n",
    "#\n",
    "epochs=100\n",
    "history = model.fit(X_train, y_train, validation_data=(X_val, y_val), \n",
    "                         batch_size=200, epochs=200000, callbacks=[es, mc, hl], verbose=0) \n",
    "#history = model.fit(X_train, y_train, validation_data=(X_test, y_test), \n",
    "#                         batch_size=200, epochs=epochs, callbacks=[mc, hl], verbose=0)\n",
    "\n",
    "score = model.evaluate(X_test, y_test, verbose=0)\n",
    "\n",
    "print('Test score:', score[0])\n",
    "print('Test accuracy:', score[1])"
   ]
  },
  {
   "cell_type": "markdown",
   "metadata": {},
   "source": [
    "## Run prediction"
   ]
  },
  {
   "cell_type": "code",
   "execution_count": 47,
   "metadata": {},
   "outputs": [
    {
     "name": "stdout",
     "output_type": "stream",
     "text": [
      "1563/1563 [==============================] - 1s 626us/step\n"
     ]
    }
   ],
   "source": [
    "Ypredr=model.predict(X_test)"
   ]
  },
  {
   "cell_type": "markdown",
   "metadata": {},
   "source": [
    "## Create dataframe with labels, probabilities  and normalisation weights"
   ]
  },
  {
   "cell_type": "code",
   "execution_count": 48,
   "metadata": {},
   "outputs": [],
   "source": [
    "df_test_acc_r=X_testw.copy()\n",
    "\n",
    "df_test_acc_r['SIG']=y_test\n",
    "df_test_acc_r['PROB']=Ypredr"
   ]
  },
  {
   "cell_type": "markdown",
   "metadata": {},
   "source": [
    "# Look at the classification performance"
   ]
  },
  {
   "cell_type": "markdown",
   "metadata": {},
   "source": [
    "## Plot history of losses along epochs for Keras"
   ]
  },
  {
   "cell_type": "code",
   "execution_count": 49,
   "metadata": {},
   "outputs": [
    {
     "data": {
      "image/png": "[encoded data removed]",
      "text/plain": [
       "<Figure size 432x288 with 1 Axes>"
      ]
     },
     "metadata": {
      "needs_background": "light"
     },
     "output_type": "display_data"
    }
   ],
   "source": [
    "plt.plot(history.history['loss'])\n",
    "plt.plot(history.history['val_loss'])\n",
    "plt.title('regression')\n",
    "plt.ylabel('loss')\n",
    "plt.xlabel('epoch')\n",
    "plt.legend(['train', 'test'], loc='upper right')\n",
    "plt.show()"
   ]
  },
  {
   "cell_type": "markdown",
   "metadata": {},
   "source": [
    "## Plot distribution of output probabilities  for signal and backround\n",
    "\n",
    "The output of the classification is for each event a number between 0 and 1 representing the probability that that event is a signal event. Since for each event we know whether it was a signal (SIG=1) or a background (SIG=0), we can plot the output probability of the network for each of the two classes.\n",
    "This is done in order to understand on which variables the network leveraged for the classification\n"
   ]
  },
  {
   "cell_type": "code",
   "execution_count": 50,
   "metadata": {},
   "outputs": [
    {
     "name": "stdout",
     "output_type": "stream",
     "text": [
      "nsig  24885\n",
      "nbkg  25115\n"
     ]
    },
    {
     "data": {
      "image/png": "[encoded data removed]",
      "text/plain": [
       "<Figure size 432x288 with 1 Axes>"
      ]
     },
     "metadata": {
      "needs_background": "light"
     },
     "output_type": "display_data"
    }
   ],
   "source": [
    "# split according to the label\n",
    "df_test_acc_r_bkg = df_test_acc_r.query('SIG==0')\n",
    "df_test_acc_r_sig = df_test_acc_r.query('SIG==1')\n",
    "print('nsig ',df_test_acc_r_sig.shape[0])\n",
    "print('nbkg ',df_test_acc_r_bkg.shape[0])\n",
    "bins = np.linspace(0, 1,50)\n",
    "plt.hist(df_test_acc_r_bkg.PROB, bins, alpha=0.5, density=True, label='Background')\n",
    "plt.hist(df_test_acc_r_sig.PROB, bins, alpha=0.5, density=True, label='Signal')\n",
    "plt.legend(loc='best')\n",
    "plt.show()"
   ]
  },
  {
   "cell_type": "markdown",
   "metadata": {},
   "source": [
    "## Plot ROC curve and calculate AUC\n",
    "In order to perform our the final selection we put a lower limit on the value of the probability and we count the fraction of events above this limit for both signal and backround, i.e for each value of PROB we have two values: The 'true positive rate (TPR)' (efficiency of signal selection in HEP language), and 'false positive rate (FPR)' (efficency for selecting background). If we TPR versus FPR the other as a function of PROB we obtain a curve called the Receive Operating Characteristic (ROC) curve https://en.wikipedia.org/wiki/Receiver_operating_characteristic. Methods for building the ROC curve are availabel in sklearn.metrics. An ideal ROC curve would be along upper x and left y axes of the plot, corresponding to the case where all of the signal events have PROB=1 and all background events have PROB=0. The worst case is a curve where TPR=FPR, i.e. the discrimination power is the same as extracting a random number for PROB."
   ]
  },
  {
   "cell_type": "code",
   "execution_count": 51,
   "metadata": {},
   "outputs": [
    {
     "name": "stdout",
     "output_type": "stream",
     "text": [
      "Regression auc  0.9155076505418855\n"
     ]
    },
    {
     "data": {
      "text/plain": [
       "<function matplotlib.pyplot.show(close=None, block=None)>"
      ]
     },
     "execution_count": 51,
     "metadata": {},
     "output_type": "execute_result"
    },
    {
     "data": {
      "image/png": "[encoded data removed]",
      "text/plain": [
       "<Figure size 432x288 with 1 Axes>"
      ]
     },
     "metadata": {
      "needs_background": "light"
     },
     "output_type": "display_data"
    }
   ],
   "source": [
    "from sklearn.metrics import roc_curve\n",
    "from sklearn.metrics import auc\n",
    "from sklearn.metrics import roc_auc_score\n",
    "\n",
    "plt.plot([0.001, 1], [0, 1], 'k--')\n",
    "fpr_keras, tpr_keras, thresholds_keras = roc_curve(y_test, Ypredr)\n",
    "auc_keras = auc(fpr_keras, tpr_keras)\n",
    "print(\"Regression auc \",auc_keras)\n",
    "plt.plot(fpr_keras, tpr_keras, label='Regresssion AUC = {:.3f}'.format(auc_keras))\n",
    "plt.xlabel('False positive rate')\n",
    "plt.ylabel('True positive rate')\n",
    "plt.legend(loc='best')\n",
    "plt.show    \n"
   ]
  },
  {
   "cell_type": "markdown",
   "metadata": {},
   "source": [
    "# Calculate signal significance after selection"
   ]
  },
  {
   "cell_type": "markdown",
   "metadata": {},
   "source": [
    "The output of the 'roc_curve' function is made of three vectors:\n",
    "\n",
    " * a vector with number of events 'SIG=0' with 'PROB' above threshold (false positives)\n",
    " * a vector with number of events 'SIG=1' with 'PROB' above threshold (true positives)\n",
    " * a vector of thresholds on 'PROB'\n",
    " \n",
    "We loop on the vector of thresholds, and for each threshold we calculate the number of signal and background events normalised to the LHC statistics, and on the basis of that we calculate significance"
   ]
  },
  {
   "cell_type": "code",
   "execution_count": 52,
   "metadata": {},
   "outputs": [],
   "source": [
    "from numpy import nanmax\n",
    "#   calculate significance for a discriminator yielding\n",
    "#   predictions Ypredt for labels y_test, assuming\n",
    "#   nsigtot:  number of signal events before selection\n",
    "#   nbgtot: nuber of background events before selection\n",
    "#   errfbg: fractional systematic uncertainty on background\n",
    "#\n",
    "def plot_signi_base(y_test, Ypredt, nsigtot, nbgtot, errfbg, lab):\n",
    "  fpr_keras, tpr_keras, thresholds_keras = roc_curve(y_test, Ypredt)\n",
    "  n_bg=fpr_keras*nbgtot\n",
    "  n_sig=tpr_keras*nsigtot\n",
    "  errbg=errfbg*n_bg\n",
    "  signi=[]\n",
    "  thr=[]      \n",
    "  for i in range(1,len(n_sig)):\n",
    "      if(thresholds_keras[i]>0.):\n",
    "        signi.append(calc_sig(n_sig[i],n_bg[i],errbg[i]))\n",
    "        thr.append(thresholds_keras[i])        \n",
    "  imax=-1\n",
    "  signimax=0.\n",
    "  for i in range(0,len(signi)):\n",
    "     if signi[i]>signimax:\n",
    "        imax=i\n",
    "        signimax=signi[i]  \n",
    "  maxs=nanmax(signi)\n",
    "  print(lab+\":\") \n",
    "  print(\" max significance is  \",signimax,\" nbg \",n_bg[imax],\" nsig \",n_sig[imax],\" cut \",thresholds_keras[imax])\n",
    "  print(\" background efficiency: \", n_bg[imax]/nbgtot,\" signal efficiency: \", n_sig[imax]/nsigtot )\n",
    "  plt.plot(thr,signi, label=lab)\n",
    "    \n",
    "  plt.xlabel('Cut on PROB')\n",
    "  plt.ylabel('Significance')\n",
    "\n",
    "\n",
    "  return thr, signi, imax\n",
    "\n",
    "\n",
    "  "
   ]
  },
  {
   "cell_type": "code",
   "execution_count": 53,
   "metadata": {},
   "outputs": [
    {
     "name": "stdout",
     "output_type": "stream",
     "text": [
      "117.74215444859995 6726.42379179048\n"
     ]
    }
   ],
   "source": [
    "nsigw,nbgw=getnormev(df_test_acc_r,totf2,totf1,N)\n",
    "print(nsigw,nbgw)"
   ]
  },
  {
   "cell_type": "code",
   "execution_count": 54,
   "metadata": {},
   "outputs": [
    {
     "name": "stdout",
     "output_type": "stream",
     "text": [
      "nbg 6726.42379179048:\n",
      " max significance is   2.9192187570376023  nbg  586.8044805022075  nsig  74.3074356285016  cut  0.7914702\n",
      " background efficiency:  0.08723870197093371  signal efficiency:  0.6311030741410488\n"
     ]
    },
    {
     "data": {
      "text/plain": [
       "<function matplotlib.pyplot.show(close=None, block=None)>"
      ]
     },
     "execution_count": 54,
     "metadata": {},
     "output_type": "execute_result"
    },
    {
     "data": {
      "image/png": "[encoded data removed]",
      "text/plain": [
       "<Figure size 432x288 with 1 Axes>"
      ]
     },
     "metadata": {
      "needs_background": "light"
     },
     "output_type": "display_data"
    }
   ],
   "source": [
    "# The background estimate has a systematic  uncertainty  which is expressed as a fraction of background events\n",
    "# we use 1% \n",
    "bfr=0.01\n",
    "thr, signi, imax=plot_signi_base(y_test, Ypredr,nsigw,nbgw,bfr, 'nbg '+str(nbgw))\n",
    "plt.legend(loc='best')\n",
    "plt.show"
   ]
  },
  {
   "cell_type": "markdown",
   "metadata": {},
   "source": [
    "## Compare label and prediction in 1-d projections"
   ]
  },
  {
   "cell_type": "code",
   "execution_count": 55,
   "metadata": {},
   "outputs": [
    {
     "data": {
      "image/png": "[encoded data removed]",
      "text/plain": [
       "<Figure size 1008x360 with 2 Axes>"
      ]
     },
     "metadata": {
      "needs_background": "light"
     },
     "output_type": "display_data"
    },
    {
     "data": {
      "image/png": "[encoded data removed]",
      "text/plain": [
       "<Figure size 1008x360 with 2 Axes>"
      ]
     },
     "metadata": {
      "needs_background": "light"
     },
     "output_type": "display_data"
    }
   ],
   "source": [
    "MeV=0.001\n",
    "pred_false='PROB<0.5'\n",
    "pred_true='PROB>0.5'\n",
    "lab_false='SIG==0'\n",
    "lab_true='SIG==1'\n",
    "nbin=50\n",
    "blow=0.\n",
    "fig1= plt.figure(figsize=(14,5))\n",
    "plt.subplot(1, 2,1)\n",
    "var=\"mt\"\n",
    "varmin=0.\n",
    "varmax=250.\n",
    "scale=MeV\n",
    "bins = np.linspace(varmin , varmax, nbin)\n",
    "plt.hist(df_test_acc_r.query(pred_false)[var]*scale, bins, alpha=0.5, density=True, label=pred_false)\n",
    "plt.hist(df_test_acc_r.query(pred_true)[var]*scale, bins, alpha=0.5, density=True, label=pred_true)\n",
    "plt.legend(loc='best')\n",
    "plt.xlabel(var)\n",
    "plt.ylabel('normalised events')\n",
    "plt.subplot(1, 2,2)\n",
    "plt.hist(df_test_acc_r.query(lab_false)[var]*MeV, bins, alpha=0.5, density=True, label=lab_false)\n",
    "plt.hist(df_test_acc_r.query(lab_true)[var]*MeV, bins, alpha=0.5, density=True, label=lab_true)\n",
    "plt.legend(loc='best')\n",
    "plt.xlabel(var)\n",
    "plt.ylabel('normalised events')\n",
    "plt.show()\n",
    "var=\"mll\"\n",
    "varmin=0.\n",
    "varmax=250\n",
    "scale=MeV\n",
    "bins = np.linspace(varmin , varmax, nbin)\n",
    "fig2= plt.figure(figsize=(14,5))\n",
    "plt.subplot(1, 2,1)\n",
    "plt.hist(df_test_acc_r.query(pred_false)[var]*MeV, bins, alpha=0.5, density=True, label=pred_false)\n",
    "plt.hist(df_test_acc_r.query(pred_true)[var]*MeV, bins, alpha=0.5, density=True, label=pred_true)\n",
    "plt.legend(loc='best')\n",
    "plt.xlabel(var)\n",
    "plt.ylabel('normalised events')\n",
    "plt.subplot(1, 2,2)\n",
    "plt.hist(df_test_acc_r.query(lab_false)[var]*MeV, bins, alpha=0.5, density=True, label=lab_false)\n",
    "plt.hist(df_test_acc_r.query(lab_true)[var]*MeV, bins, alpha=0.5, density=True, label=lab_true)\n",
    "plt.legend(loc='best')\n",
    "plt.xlabel(var)\n",
    "plt.ylabel('normalised events')\n",
    "plt.show()"
   ]
  },
  {
   "cell_type": "markdown",
   "metadata": {},
   "source": [
    "## Compare label and prediction in 2-d projections"
   ]
  },
  {
   "cell_type": "code",
   "execution_count": 56,
   "metadata": {},
   "outputs": [
    {
     "data": {
      "image/png": "[encoded data removed]",
      "text/plain": [
       "<Figure size 1008x360 with 2 Axes>"
      ]
     },
     "metadata": {
      "needs_background": "light"
     },
     "output_type": "display_data"
    },
    {
     "data": {
      "image/png": "[encoded data removed]",
      "text/plain": [
       "<Figure size 1008x360 with 2 Axes>"
      ]
     },
     "metadata": {
      "needs_background": "light"
     },
     "output_type": "display_data"
    }
   ],
   "source": [
    "pred_false='PROB<0.5'\n",
    "pred_true='PROB>0.5'\n",
    "lab_false='SIG==0'\n",
    "lab_true='SIG==1'\n",
    "varx=\"mt\"\n",
    "varminx=0.\n",
    "varmaxx=250.\n",
    "nbinx=50\n",
    "scalex=MeV\n",
    "vary=\"mll\"\n",
    "nbiny=50\n",
    "varminy=0.\n",
    "varmaxy=250\n",
    "scaley=MeV\n",
    "binx = np.linspace(varminx,varmaxx,nbinx)\n",
    "biny = np.linspace(varminy,varmaxy,nbiny)\n",
    "fig1= plt.figure(figsize=(14,5))\n",
    "plt.subplot(1, 2,1)\n",
    "plt.hist2d(df_test_acc_r.query(pred_false)[varx]*scalex, df_test_acc_r.query(pred_false)[vary]*scaley, \n",
    "           bins=[binx, biny], density=False)\n",
    "plt.xlabel(varx)\n",
    "plt.ylabel(vary)\n",
    "plt.title(pred_false)\n",
    "plt.subplot(1, 2,2)\n",
    "plt.hist2d(df_test_acc_r.query(lab_false)[varx]*scalex, df_test_acc_r.query(lab_false)[vary]*scaley, \n",
    "           bins=[binx, biny], density=False)\n",
    "plt.xlabel(varx)\n",
    "plt.ylabel(vary)\n",
    "plt.title(lab_false)\n",
    "plt.show()\n",
    "fig2= plt.figure(figsize=(14,5))\n",
    "plt.subplot(1, 2,1)\n",
    "plt.hist2d(df_test_acc_r.query(pred_true)[varx]*scalex, df_test_acc_r.query(pred_true)[vary]*scaley, \n",
    "           bins=[binx, biny], density=False)\n",
    "plt.xlabel(varx)\n",
    "plt.ylabel(vary)\n",
    "plt.title(pred_true)\n",
    "plt.subplot(1, 2,2)\n",
    "plt.hist2d(df_test_acc_r.query(lab_true)[varx]*scalex, df_test_acc_r.query(lab_true)[vary]*scaley, \n",
    "           bins=[binx, biny], density=False)\n",
    "plt.xlabel(varx)\n",
    "plt.ylabel(vary)\n",
    "plt.title(lab_true)\n",
    "plt.show()"
   ]
  },
  {
   "cell_type": "markdown",
   "metadata": {},
   "source": [
    "# Exercises"
   ]
  },
  {
   "cell_type": "markdown",
   "metadata": {},
   "source": [
    "Exercises:\n",
    "* Study performance of network by playing with hyperparameters\n",
    "  * Choice of optimiser (adam vs SGD)\n",
    "  * Choice of activation funtion (tanh vs relu)\n",
    "  * Number of layers\n",
    "  * Number of nodes\n",
    "  * Level of dropout\n",
    "  * Level of regularisation\n",
    "* Study performance by removing high level variables (mll, ptll, mt)\n",
    "  * Verify dependence on number of events in input\n",
    "  \n"
   ]
  },
  {
   "cell_type": "markdown",
   "metadata": {},
   "source": [
    "\n"
   ]
  }
 ],
 "metadata": {
  "colab": {
   "provenance": []
  },
  "kernelspec": {
   "display_name": "Python 3 (ipykernel)",
   "language": "python",
   "name": "python3"
  },
  "language_info": {
   "codemirror_mode": {
    "name": "ipython",
    "version": 3
   },
   "file_extension": ".py",
   "mimetype": "text/x-python",
   "name": "python",
   "nbconvert_exporter": "python",
   "pygments_lexer": "ipython3",
   "version": "3.10.12"
  },
  "toc": {
   "base_numbering": 1,
   "nav_menu": {},
   "number_sections": true,
   "sideBar": true,
   "skip_h1_title": false,
   "title_cell": "Table of Contents",
   "title_sidebar": "Contents",
   "toc_cell": false,
   "toc_position": {},
   "toc_section_display": true,
   "toc_window_display": false
  }
 },
 "nbformat": 4,
 "nbformat_minor": 1
}
