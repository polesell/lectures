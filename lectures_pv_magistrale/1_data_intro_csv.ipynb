{
 "cells": [
  {
   "attachments": {
    "Screenshot%20from%202023-04-21%2011-16-41.png": {
     "image/png": "[encoded data removed]"
    }
   },
   "cell_type": "markdown",
   "metadata": {
    "id": "TiSTHbA25ZtB"
   },
   "source": [
    "# Accessing the ATLAS Open Data\n",
    "\n",
    "This notebook is based on the use of  ATLAS Open Data \n",
    "http://opendata.atlas.cern\n",
    "\n",
    "ATLAS Open Data provides open access to proton-proton collision data at the LHC. \n",
    "\n",
    "The ATLAS Collaboration makes avaliable approximately 1/10 of the data and the corresponding Monte Carlo samples for didactic purposes. \n",
    "\n",
    "The data are made available under the form of ROOT ntuples, the contents are:\n",
    "![Screenshot%20from%202023-04-21%2011-16-41.png](attachment:Screenshot%20from%202023-04-21%2011-16-41.png)\n",
    "\n",
    "The meaning of these variables is explained in the lectures for the course.\n",
    "\n",
    "Files for the 2-lepton final state were processed and saved into csv files, only including the four-vectors of\n",
    "the reconstructed leptons, the two components of Etmiss and the number of jets, as well as a weight which allows the normalisation of the samples to an integrated luminosity of 10 fb-1\n",
    "\n",
    "The csv files are loaded into pandas dataframes, and the aim of this logbook is to introduce the reader \n",
    "to the elementary manipulation of a pandas dataframe for a set of events produced by a multi-purpose \n",
    "HEP experiment such as the ones running at the LHC. \n"
   ]
  },
  {
   "cell_type": "markdown",
   "metadata": {
    "id": "5dgRkVPu5ZtK"
   },
   "source": [
    "## Installation of packages not available by default on colab"
   ]
  },
  {
   "cell_type": "code",
   "execution_count": 1,
   "metadata": {
    "colab": {
     "base_uri": "https://localhost:8080/"
    },
    "id": "rjpPQFJHBHZO",
    "outputId": "bbfaa500-8482-4f73-d0a6-6a3ea80ffb27"
   },
   "outputs": [],
   "source": [
    "import sys\n",
    "# update the pip package installer\n",
    "#%pip install --upgrade --user pip\n",
    "# install required packages\n",
    "#%pip install --upgrade --user uproot awkward vector numpy matplotlib\n",
    "\n",
    "#!pip install vector"
   ]
  },
  {
   "cell_type": "markdown",
   "metadata": {
    "id": "YrW2zmSv5ZtP"
   },
   "source": [
    "## Import packages used in the analysis\n",
    "\n",
    "We're going to be using a number of tools to help us:\n",
    "* vector: to allow vectorized 4-momentum calculations\n",
    "* numpy: provides numerical calculations such as histogramming\n",
    "* matplotlib: common tool for making plots, figures, images, visualisations"
   ]
  },
  {
   "cell_type": "code",
   "execution_count": 2,
   "metadata": {
    "id": "0tezkWvi5ZtP"
   },
   "outputs": [],
   "source": [
    "import vector # for 4-momentum calculations\n",
    "import time # to measure time to analyse\n",
    "import math # for mathematical functions such as square root\n",
    "import numpy as np # for numerical calculations such as histogramming\n",
    "import matplotlib.pyplot as plt\n",
    "import pandas as pd"
   ]
  },
  {
   "cell_type": "markdown",
   "metadata": {
    "id": "x1jsgyX25ZtR"
   },
   "source": [
    "## File path\n",
    "\n",
    "Files for processes including two leptons in the final state. We consider three files including the following simulated physics processes:\n",
    "\n",
    "* pp -> WW -> llvv\n",
    "* pp -> h -> WW -> llvv\n",
    "* pp -> tt -> WWbb -> bbllvv\n",
    "\n",
    "where \"l\" is an electron or a muon, \"v\" is a neutrino, escaping detection, and \"b\" is a jet produced from the hadronisation of a b-quark\n",
    "\n",
    "The files are in csv format, and were processed from the ATLAS open data ntuples"
   ]
  },
  {
   "cell_type": "code",
   "execution_count": 3,
   "metadata": {},
   "outputs": [
    {
     "name": "stdout",
     "output_type": "stream",
     "text": [
      "Size of dataset : 600000\n"
     ]
    }
   ],
   "source": [
    "#fn1=\"https://cernbox.cern.ch/remote.php/dav/public-files/6mTuRapglPXnwUT/hww_atlas.csv.gz\" #hww\n",
    "#fn1=\"https://cernbox.cern.ch/remote.php/dav/public-files/bt9p3KS952M0I11/ttlep_atlas.csv.gz\" #ttlep\n",
    "fn1=\"https://cernbox.cern.ch/remote.php/dav/public-files/ndKtAQHMxNUmumC/ww_atlas.csv.gz\" #ww\n",
    "\n",
    "# define the number of events one wants to read from csv files. For simple tests one may \n",
    "# want to define a small number of events to speed up processing\n",
    "N = 10000\n",
    "print(\"Size of dataset : %i\"%N)\n",
    "dftot = pd.read_csv(fn1, compression='gzip', header=0,nrows=N,engine='python')"
   ]
  },
  {
   "cell_type": "markdown",
   "metadata": {},
   "source": [
    "Inspect the created dataframe"
   ]
  },
  {
   "cell_type": "code",
   "execution_count": 4,
   "metadata": {
    "scrolled": true
   },
   "outputs": [
    {
     "name": "stdout",
     "output_type": "stream",
     "text": [
      "Index(['ptl1', 'etal1', 'phil1', 'el1', 'chl1', 'typl1', 'ptl2', 'etal2',\n",
      "       'phil2', 'el2', 'chl2', 'typl2', 'met_et', 'met_phi', 'jet_n',\n",
      "       'totalWeight'],\n",
      "      dtype='object')\n",
      "(10000, 16)\n",
      "           ptl1     etal1     phil1           el1  chl1  typl1          ptl2  \\\n",
      "0  66719.210938  0.302357  2.448181  69792.250000   1.0   11.0  38223.332031   \n",
      "1  29149.914062  1.102973  1.423768  48753.128906  -1.0   11.0  29030.730469   \n",
      "2  52254.113281 -0.618223  2.940946  62562.000000   1.0   11.0  43302.742188   \n",
      "3  33380.015625  0.246225 -2.339833  34397.000000   1.0   11.0  29918.826172   \n",
      "4  36902.187500  1.114667  0.709427  62301.644531  -1.0   13.0  31770.462891   \n",
      "\n",
      "      etal2     phil2            el2  chl2  typl2      met_et   met_phi  \\\n",
      "0  1.466256 -2.912213   87221.343750  -1.0   13.0  130877.860  1.609380   \n",
      "1 -0.051656  1.128289   29069.662109   1.0   13.0   36958.645 -1.323970   \n",
      "2 -1.738426 -0.194456  126967.546875  -1.0   13.0   42118.477 -0.893646   \n",
      "3  0.042298  1.883797   29945.593750  -1.0   11.0   40383.035 -0.103110   \n",
      "4  1.025301 -0.661148   49984.828125   1.0   11.0   46337.420  1.167819   \n",
      "\n",
      "   jet_n  totalWeight  \n",
      "0      6     0.885226  \n",
      "1      1     5.429856  \n",
      "2      1     1.163943  \n",
      "3      0     8.433208  \n",
      "4      2     1.080508  \n",
      "<class 'pandas.core.frame.DataFrame'>\n",
      "RangeIndex: 10000 entries, 0 to 9999\n",
      "Data columns (total 16 columns):\n",
      " #   Column       Non-Null Count  Dtype  \n",
      "---  ------       --------------  -----  \n",
      " 0   ptl1         10000 non-null  float64\n",
      " 1   etal1        10000 non-null  float64\n",
      " 2   phil1        10000 non-null  float64\n",
      " 3   el1          10000 non-null  float64\n",
      " 4   chl1         10000 non-null  float64\n",
      " 5   typl1        10000 non-null  float64\n",
      " 6   ptl2         10000 non-null  float64\n",
      " 7   etal2        10000 non-null  float64\n",
      " 8   phil2        10000 non-null  float64\n",
      " 9   el2          10000 non-null  float64\n",
      " 10  chl2         10000 non-null  float64\n",
      " 11  typl2        10000 non-null  float64\n",
      " 12  met_et       10000 non-null  float64\n",
      " 13  met_phi      10000 non-null  float64\n",
      " 14  jet_n        10000 non-null  int64  \n",
      " 15  totalWeight  10000 non-null  float64\n",
      "dtypes: float64(15), int64(1)\n",
      "memory usage: 1.2 MB\n",
      "None\n"
     ]
    }
   ],
   "source": [
    "coln=dftot.columns\n",
    "\n",
    "print(coln)\n",
    "\n",
    "print(dftot.shape)\n",
    "\n",
    "print(dftot.head())\n",
    "\n",
    "print(dftot.info())"
   ]
  },
  {
   "cell_type": "markdown",
   "metadata": {},
   "source": [
    "# Manipulation of the contents of the dataframe\n",
    "\n",
    "Having in memory a dataframe representing the features of the events we are interested in, we want to\n",
    "\n",
    "* Create derivate variables fron the 4-vectors of the two leptons and insert them in the database\n",
    "* Drop variables which may be redundant\n",
    "* Apply selections on the variables to reduce the size of the dataframes"
   ]
  },
  {
   "cell_type": "markdown",
   "metadata": {
    "id": "2MyurcAr5ZtV"
   },
   "source": [
    "### Build 4-vectors for each of the two leptons\n",
    "\n",
    "In order to perform operations on leptons to create high-level variables it is convenient to create 4-leptons objects on which dedicated libraries can perform kinematic calculations\n",
    "\n",
    "It accesses the dataframe where the particle data are stored as scalar components, and creates an array of 4-vectors  based on the 'vector' library https://pypi.org/project/vector/"
   ]
  },
  {
   "cell_type": "code",
   "execution_count": 5,
   "metadata": {},
   "outputs": [
    {
     "name": "stdout",
     "output_type": "stream",
     "text": [
      "10000 10000 10000\n"
     ]
    }
   ],
   "source": [
    "#\n",
    "# create array of 4-vectors of two leptons and etmiss for calculation of derived\n",
    "# variables\n",
    "#\n",
    "p4l1=vector.array({\"pt\":dftot[\"ptl1\"], \"phi\":dftot[\"phil1\"],\n",
    "    \"eta\":dftot[\"etal1\"], \"e\":dftot[\"el1\"]})\n",
    "p4l2=vector.array({\"pt\":dftot[\"ptl2\"], \"phi\":dftot[\"phil2\"],\n",
    "    \"eta\":dftot[\"etal2\"], \"e\":dftot[\"el2\"]})\n",
    "etmv=vector.array({\"pt\":dftot[\"met_et\"], \"phi\":dftot[\"met_phi\"]})\n",
    "\n",
    "print(p4l1.size, p4l2.size, etmv.size)"
   ]
  },
  {
   "cell_type": "markdown",
   "metadata": {},
   "source": [
    "### Trivial check:\n",
    "for first event and the first lepton show that the 'pt' variable of the 4-vector is indeed sqrt(px^2+py^2)"
   ]
  },
  {
   "cell_type": "code",
   "execution_count": 6,
   "metadata": {},
   "outputs": [
    {
     "name": "stdout",
     "output_type": "stream",
     "text": [
      "pt= 66719.2109375\n",
      "px= -51311.73230835598 py= 42644.56865344327\n",
      "pt from components 66719.2109375\n",
      "theta rec 1.2729431816007153 theta 1.2729431816007153\n"
     ]
    }
   ],
   "source": [
    "print(\"pt=\",p4l1[0].pt)\n",
    "print(\"px=\",p4l1[0].px,\"py=\",p4l1[0].py)\n",
    "ptrec=np.sqrt(p4l1.px**2+p4l1.py**2)\n",
    "print(\"pt from components\",ptrec[0])\n",
    "theta=np.arctan(p4l1.pt/p4l1.pz)\n",
    "print(\"theta rec\",theta[0],\"theta\",p4l1[0].theta)"
   ]
  },
  {
   "cell_type": "markdown",
   "metadata": {},
   "source": [
    " ## Add  higher level variables to ntuple\n",
    " \n",
    " Exploit the 4-vectors to build kinematic variables involving the two leptons\n",
    " most variables of interest can be easily built using the functions described in the page \n",
    " https://pypi.org/project/vector/  (scroll a bit down to see what is available)"
   ]
  },
  {
   "cell_type": "code",
   "execution_count": 7,
   "metadata": {},
   "outputs": [],
   "source": [
    "#\n",
    "# replace azimuthal angle for two leptons with the azimutal distance from etmiss vector\n",
    "#\n",
    "dftot[\"dphil1m\"]=p4l1.deltaphi(etmv)\n",
    "dftot[\"dphil2m\"]=p4l2.deltaphi(etmv)\n",
    "dftot[\"ptsum\"]=dftot[\"ptl1\"]+dftot[\"ptl2\"]"
   ]
  },
  {
   "cell_type": "code",
   "execution_count": 8,
   "metadata": {},
   "outputs": [
    {
     "name": "stdout",
     "output_type": "stream",
     "text": [
      "Index(['ptl1', 'etal1', 'phil1', 'el1', 'chl1', 'typl1', 'ptl2', 'etal2',\n",
      "       'phil2', 'el2', 'chl2', 'typl2', 'met_et', 'met_phi', 'jet_n',\n",
      "       'totalWeight', 'dphil1m', 'dphil2m', 'ptsum', 'ptll'],\n",
      "      dtype='object')\n",
      "           ptl1     etal1     phil1           el1  chl1  typl1          ptl2  \\\n",
      "0  66719.210938  0.302357  2.448181  69792.250000   1.0   11.0  38223.332031   \n",
      "1  29149.914062  1.102973  1.423768  48753.128906  -1.0   11.0  29030.730469   \n",
      "2  52254.113281 -0.618223  2.940946  62562.000000   1.0   11.0  43302.742188   \n",
      "3  33380.015625  0.246225 -2.339833  34397.000000   1.0   11.0  29918.826172   \n",
      "4  36902.187500  1.114667  0.709427  62301.644531  -1.0   13.0  31770.462891   \n",
      "\n",
      "      etal2     phil2            el2  chl2  typl2      met_et   met_phi  \\\n",
      "0  1.466256 -2.912213   87221.343750  -1.0   13.0  130877.860  1.609380   \n",
      "1 -0.051656  1.128289   29069.662109   1.0   13.0   36958.645 -1.323970   \n",
      "2 -1.738426 -0.194456  126967.546875  -1.0   13.0   42118.477 -0.893646   \n",
      "3  0.042298  1.883797   29945.593750  -1.0   11.0   40383.035 -0.103110   \n",
      "4  1.025301 -0.661148   49984.828125   1.0   11.0   46337.420  1.167819   \n",
      "\n",
      "   jet_n  totalWeight   dphil1m   dphil2m          ptsum          ptll  \n",
      "0      6     0.885226  0.838801  1.761592  104942.542969  94821.407937  \n",
      "1      1     5.429856  2.747738  2.452259   58180.644531  57546.848251  \n",
      "2      1     1.163943 -2.448593  0.699191   95556.855469   8956.214335  \n",
      "3      0     8.433208 -2.236723  1.986907   63298.841797  32734.226405  \n",
      "4      2     1.080508 -0.458392 -1.828967   68672.650391  53268.010326  \n",
      "<class 'pandas.core.frame.DataFrame'>\n",
      "RangeIndex: 10000 entries, 0 to 9999\n",
      "Data columns (total 20 columns):\n",
      " #   Column       Non-Null Count  Dtype  \n",
      "---  ------       --------------  -----  \n",
      " 0   ptl1         10000 non-null  float64\n",
      " 1   etal1        10000 non-null  float64\n",
      " 2   phil1        10000 non-null  float64\n",
      " 3   el1          10000 non-null  float64\n",
      " 4   chl1         10000 non-null  float64\n",
      " 5   typl1        10000 non-null  float64\n",
      " 6   ptl2         10000 non-null  float64\n",
      " 7   etal2        10000 non-null  float64\n",
      " 8   phil2        10000 non-null  float64\n",
      " 9   el2          10000 non-null  float64\n",
      " 10  chl2         10000 non-null  float64\n",
      " 11  typl2        10000 non-null  float64\n",
      " 12  met_et       10000 non-null  float64\n",
      " 13  met_phi      10000 non-null  float64\n",
      " 14  jet_n        10000 non-null  int64  \n",
      " 15  totalWeight  10000 non-null  float64\n",
      " 16  dphil1m      10000 non-null  float64\n",
      " 17  dphil2m      10000 non-null  float64\n",
      " 18  ptsum        10000 non-null  float64\n",
      " 19  ptll         10000 non-null  float64\n",
      "dtypes: float64(19), int64(1)\n",
      "memory usage: 1.5 MB\n",
      "None\n"
     ]
    }
   ],
   "source": [
    "#  High level variables for 2-l+etm system\n",
    "#\n",
    "p4ll=p4l1+p4l2\n",
    "ptll=p4ll.pt\n",
    "dftot[\"ptll\"]=ptll\n",
    "#\n",
    "#   if you want to save space\n",
    "#   drop redundant variables\n",
    "#\n",
    "#df=dftot.drop(columns=['phil1','phil2','met_phi'])\n",
    "\n",
    "df=dftot\n",
    "\n",
    "coln=df.columns\n",
    "\n",
    "print(coln)\n",
    "\n",
    "print(df.head())\n",
    "\n",
    "print(df.info())\n"
   ]
  },
  {
   "cell_type": "markdown",
   "metadata": {
    "id": "ygZz8Zeg5ZtU"
   },
   "source": [
    "Units, as stored in the data files. The quantities in the ATLAS ntuple are unfortunately stored in MeV.\n",
    "Since the natural unit for LHC analysis is GeV, we define conversion factors"
   ]
  },
  {
   "cell_type": "code",
   "execution_count": 9,
   "metadata": {
    "id": "dlHtfEWO5ZtU"
   },
   "outputs": [],
   "source": [
    "MeV = 0.001\n",
    "GeV = 1.0"
   ]
  },
  {
   "cell_type": "markdown",
   "metadata": {
    "id": "mwFgiBZ35ZtY"
   },
   "source": [
    "This is where the reading of the file happens"
   ]
  },
  {
   "cell_type": "markdown",
   "metadata": {},
   "source": [
    "## Apply simple cuts to ntuple using query\n",
    "\n",
    "First build the selection string, then apply it to the dataframe to create new dataframe with reduced number of events"
   ]
  },
  {
   "cell_type": "code",
   "execution_count": 10,
   "metadata": {},
   "outputs": [
    {
     "name": "stdout",
     "output_type": "stream",
     "text": [
      "ptl1>50000.0 and ptl2>5000.0\n",
      " before  10000  after  6558  efficiency  0.6558\n"
     ]
    }
   ],
   "source": [
    "# build the selection string\n",
    "cutl1=50/MeV\n",
    "cutl2=5/MeV\n",
    "strcut=\"ptl1>\"+str(cutl1)+\" and ptl2>\"+str(cutl2)\n",
    "print(strcut)\n",
    "# optionally, create smaller dataframe with only variables on which \n",
    "# selection is performed and variable one wants to plot\n",
    "dfm4l=df.filter(items=['ptll','ptl1','ptl2'])\n",
    "# create new dataframe after applying selection\n",
    "dfm4l1=dfm4l.query(strcut)\n",
    "# print efficiency of cut\n",
    "print(\" before \",dfm4l.shape[0],\" after \",dfm4l1.shape[0], \" efficiency \", dfm4l1.shape[0]/dfm4l.shape[0])"
   ]
  },
  {
   "cell_type": "markdown",
   "metadata": {
    "id": "pzk5n_pc5Zta"
   },
   "source": [
    "## Plotting\n",
    "\n",
    "Set simple wrapper for plotting histograms with matplotlib"
   ]
  },
  {
   "cell_type": "code",
   "execution_count": 11,
   "metadata": {},
   "outputs": [],
   "source": [
    "# in input:  df=dataframe var=variable in dataframe, \n",
    "# scale=scale factor on value of variable (e.g. for scaling between MeV and GeV)\n",
    "# nbin,xlow,xhigh: limits of histogram\n",
    "# norm: choose whether you plot acutal number of events in bin or fraction of events \n",
    "#       in each bin with respect to total\n",
    "# labx, laby labels of x and y axis of histogram \n",
    "# title: title of hisotgram\n",
    "# leg: legenda for content, useful if you superimpose two hists\n",
    "def hist1d(df, var, scale, nbin, xlow, xhig, norm, labx, laby, title, leg):\n",
    "  bins = np.linspace(xlow,xhig,nbin)\n",
    "  plt.hist(df[var]*scale, bins, alpha=0.5, density=norm, label=leg)\n",
    "  plt.xlabel(labx)\n",
    "  plt.ylabel(laby)\n",
    "  plt.legend(loc='best')\n",
    "# 2d, same definition of inputs as above\n",
    "def hist2d(df,var1,var2,scalex,scaley,nbinx,xlow,xhig,nbiny,ylow,yhig,labx,laby,title):\n",
    "  binx = np.linspace(xlow,xhig,nbinx)\n",
    "  biny = np.linspace(ylow,yhig,nbiny)\n",
    "  plt.hist2d(df[var1]*scalex, df[var2]*scaley, bins=[binx, biny], density=False, cmin=0.5)\n",
    "  plt.xlabel(labx)\n",
    "  plt.ylabel(laby)"
   ]
  },
  {
   "cell_type": "markdown",
   "metadata": {
    "id": "Rdn4pnl-5Ztb"
   },
   "source": [
    "Call the functions to plot the data"
   ]
  },
  {
   "cell_type": "code",
   "execution_count": 12,
   "metadata": {},
   "outputs": [
    {
     "data": {
      "image/png": "[encoded data removed]",
      "text/plain": [
       "<Figure size 432x288 with 1 Axes>"
      ]
     },
     "metadata": {
      "needs_background": "light"
     },
     "output_type": "display_data"
    },
    {
     "data": {
      "image/png": "[encoded data removed]",
      "text/plain": [
       "<Figure size 432x288 with 1 Axes>"
      ]
     },
     "metadata": {
      "needs_background": "light"
     },
     "output_type": "display_data"
    }
   ],
   "source": [
    "hist2d(df,\"ptl1\",\"etal1\",MeV,1,100,0.,200.,100,-3.,3.,'pt(lep1) [GeV]','pt(lep2) [GeV]','')\n",
    "plt.show()\n",
    "hist1d(dfm4l,'ptll',MeV,100,0.,200,False,'ptll[GeV]','Number of events','','no cuts')\n",
    "hist1d(dfm4l1,'ptll',MeV,100,0.,200,False,'ptll[GeV]','Number of events','','cuts')\n",
    "plt.show()\n"
   ]
  },
  {
   "cell_type": "markdown",
   "metadata": {
    "id": "nAczWo8i5Ztd"
   },
   "source": [
    "<a id='going_further'></a>"
   ]
  },
  {
   "cell_type": "markdown",
   "metadata": {
    "id": "jpMrzx4E5Ztd"
   },
   "source": [
    "## Exercises to familiarise yourself with data\n",
    "\n",
    "The idea would be that you learn how to apply selection and add variables to a panda dataframe\n",
    "and you understand the impact of the selections by calculating the efficiencies and histogramming \n",
    "the impact on other variables\n",
    "\n",
    "You may want to perform the exercise below for different files, to see how the variables look\n",
    "like for different samples. You can do that by commenting and uncommenting names of files\n",
    "in the  <b>File path</b>  box\n",
    "\n",
    "Alternatively you may want to create a separate dataframe for each of the input files \n",
    "and compare  how the distributions you extract from the exercises below look for different files\n",
    "\n",
    "* Plot the distributions of the variables phil1 and phil2 and met_phi verify that they are flat\n",
    "* Plot the distributions of the variables dphil1m and dphil2m \n",
    "* Select events where the two leptons are opposite charge-same flavour  \n",
    "  (tip: chl1+chl2=0 and abs(typl1) = abs(typl2))\n",
    "* Calculate efficiency \n",
    "* Add to the dataframe the azimuthal distance between the two leptons (dphill) using the vector library https://pypi.org/project/vector/ and plot it \n",
    "* Add to the dataframe the invariant mass of the two leptons (mll) using the vector library https://pypi.org/project/vector/ and plot it (hint: scroll down the page for the vector library to see which operations between pairs of vectors are available) \n",
    "* Plot the distribution of mll and dphill before and after the selection on lepton flavour/charge for the WW sample\n",
    "* Redo it for the Higgs sample "
   ]
  },
  {
   "cell_type": "code",
   "execution_count": null,
   "metadata": {},
   "outputs": [],
   "source": []
  }
 ],
 "metadata": {
  "colab": {
   "provenance": []
  },
  "kernelspec": {
   "display_name": "Python 3 (ipykernel)",
   "language": "python",
   "name": "python3"
  },
  "language_info": {
   "codemirror_mode": {
    "name": "ipython",
    "version": 3
   },
   "file_extension": ".py",
   "mimetype": "text/x-python",
   "name": "python",
   "nbconvert_exporter": "python",
   "pygments_lexer": "ipython3",
   "version": "3.10.12"
  },
  "toc": {
   "base_numbering": 1,
   "nav_menu": {},
   "number_sections": true,
   "sideBar": true,
   "skip_h1_title": false,
   "title_cell": "Table of Contents",
   "title_sidebar": "Contents",
   "toc_cell": false,
   "toc_position": {},
   "toc_section_display": true,
   "toc_window_display": false
  }
 },
 "nbformat": 4,
 "nbformat_minor": 1
}
