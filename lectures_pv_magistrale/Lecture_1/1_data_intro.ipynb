{
 "cells": [
  {
   "attachments": {
    "Screenshot%20from%202023-04-21%2011-16-41.png": {
     "image/png": "[encoded data removed]"
    }
   },
   "cell_type": "markdown",
   "metadata": {
    "id": "TiSTHbA25ZtB"
   },
   "source": [
    "# Accessing the ATLAS Open Data\n",
    "\n",
    "This notebook is based on the use of  ATLAS Open Data \n",
    "http://opendata.atlas.cern\n",
    "\n",
    "ATLAS Open Data provides open access to proton-proton collision data at the LHC. \n",
    "\n",
    "The ATLAS Collaboration makes avaliable approximately 1/10 of the data and the corresponding Monte Carlo samples for didactic purposes. \n",
    "\n",
    "The data are made available under the form of ROOT ntuples, the contents are:\n",
    "![Screenshot%20from%202023-04-21%2011-16-41.png](attachment:Screenshot%20from%202023-04-21%2011-16-41.png)\n",
    "\n",
    "\n",
    "The purpose of this nootebook is to give an example of access to these ntuples based on the uproot package and to load the data onto a panda dataframe \n",
    "familiarise ourselves with the content of these ntuples, to learn how to calculate combinations of variables.\n",
    "\n",
    "The present notebook started from the one provided by ATLAS for the H->ZZ analysis, but it simplifies it to a single file for didactic purposes, and, most important, it speeds it up by avoiding explicit iteration on the events in the ntuples while reading files. The price is a somewhat awkward juggling of data\n"
   ]
  },
  {
   "cell_type": "markdown",
   "metadata": {
    "id": "5dgRkVPu5ZtK"
   },
   "source": [
    "## Installation of packages not available by default on colab"
   ]
  },
  {
   "cell_type": "code",
   "execution_count": 1,
   "metadata": {
    "colab": {
     "base_uri": "https://localhost:8080/"
    },
    "id": "rjpPQFJHBHZO",
    "outputId": "bbfaa500-8482-4f73-d0a6-6a3ea80ffb27"
   },
   "outputs": [
    {
     "name": "stdout",
     "output_type": "stream",
     "text": [
      "Defaulting to user installation because normal site-packages is not writeable\n",
      "Requirement already satisfied: uproot in /home/polesell/.local/lib/python3.8/site-packages (5.0.7)\n",
      "Requirement already satisfied: awkward>=2.0.0 in /home/polesell/.local/lib/python3.8/site-packages (from uproot) (2.1.3)\n",
      "Requirement already satisfied: numpy in /home/polesell/.local/lib/python3.8/site-packages (from uproot) (1.23.5)\n",
      "Requirement already satisfied: packaging in /home/polesell/.local/lib/python3.8/site-packages (from uproot) (21.3)\n",
      "Requirement already satisfied: awkward-cpp==14 in /home/polesell/.local/lib/python3.8/site-packages (from awkward>=2.0.0->uproot) (14)\n",
      "Requirement already satisfied: importlib-resources in /home/polesell/.local/lib/python3.8/site-packages (from awkward>=2.0.0->uproot) (5.4.0)\n",
      "Requirement already satisfied: typing-extensions>=4.1.0 in /home/polesell/.local/lib/python3.8/site-packages (from awkward>=2.0.0->uproot) (4.5.0)\n",
      "Requirement already satisfied: pyparsing!=3.0.5,>=2.0.2 in /home/polesell/.local/lib/python3.8/site-packages (from packaging->uproot) (2.4.7)\n",
      "Requirement already satisfied: zipp>=3.1.0 in /home/polesell/.local/lib/python3.8/site-packages (from importlib-resources->awkward>=2.0.0->uproot) (3.6.0)\n",
      "Defaulting to user installation because normal site-packages is not writeable\n",
      "Requirement already satisfied: vector in /home/polesell/.local/lib/python3.8/site-packages (1.0.0)\n",
      "Requirement already satisfied: numpy>=1.13.3 in /home/polesell/.local/lib/python3.8/site-packages (from vector) (1.23.5)\n",
      "Requirement already satisfied: packaging>=19 in /home/polesell/.local/lib/python3.8/site-packages (from vector) (21.3)\n",
      "Requirement already satisfied: pyparsing!=3.0.5,>=2.0.2 in /home/polesell/.local/lib/python3.8/site-packages (from packaging>=19->vector) (2.4.7)\n",
      "Defaulting to user installation because normal site-packages is not writeable\n",
      "Requirement already satisfied: awkward in /home/polesell/.local/lib/python3.8/site-packages (2.1.3)\n",
      "Requirement already satisfied: awkward-cpp==14 in /home/polesell/.local/lib/python3.8/site-packages (from awkward) (14)\n",
      "Requirement already satisfied: importlib-resources in /home/polesell/.local/lib/python3.8/site-packages (from awkward) (5.4.0)\n",
      "Requirement already satisfied: numpy>=1.17.0 in /home/polesell/.local/lib/python3.8/site-packages (from awkward) (1.23.5)\n",
      "Requirement already satisfied: packaging in /home/polesell/.local/lib/python3.8/site-packages (from awkward) (21.3)\n",
      "Requirement already satisfied: typing-extensions>=4.1.0 in /home/polesell/.local/lib/python3.8/site-packages (from awkward) (4.5.0)\n",
      "Requirement already satisfied: zipp>=3.1.0 in /home/polesell/.local/lib/python3.8/site-packages (from importlib-resources->awkward) (3.6.0)\n",
      "Requirement already satisfied: pyparsing!=3.0.5,>=2.0.2 in /home/polesell/.local/lib/python3.8/site-packages (from packaging->awkward) (2.4.7)\n"
     ]
    }
   ],
   "source": [
    "import sys\n",
    "# update the pip package installer\n",
    "#%pip install --upgrade --user pip\n",
    "# install required packages\n",
    "#%pip install --upgrade --user uproot awkward vector numpy matplotlib\n",
    "\n",
    "!pip install uproot\n",
    "!pip install vector\n",
    "!pip install awkward"
   ]
  },
  {
   "cell_type": "markdown",
   "metadata": {
    "id": "YrW2zmSv5ZtP"
   },
   "source": [
    "## Import packages used in the analysis\n",
    "\n",
    "We're going to be using a number of tools to help us:\n",
    "* uproot: lets us read .root files typically used in particle physics into data formats used in python\n",
    "* awkward: lets us store data as awkward arrays, a format that generalizes numpy to nested data with possibly variable length lists\n",
    "* vector: to allow vectorized 4-momentum calculations\n",
    "* numpy: provides numerical calculations such as histogramming\n",
    "* matplotlib: common tool for making plots, figures, images, visualisations"
   ]
  },
  {
   "cell_type": "code",
   "execution_count": 2,
   "metadata": {
    "id": "0tezkWvi5ZtP"
   },
   "outputs": [],
   "source": [
    "import uproot # for reading .root files\n",
    "import awkward as ak # to represent nested data in columnar format\n",
    "import vector # for 4-momentum calculations\n",
    "import time # to measure time to analyse\n",
    "import math # for mathematical functions such as square root\n",
    "import numpy as np # for numerical calculations such as histogramming\n",
    "import matplotlib.pyplot as plt\n",
    "import pandas as pd"
   ]
  },
  {
   "cell_type": "markdown",
   "metadata": {
    "id": "w8hU5HN-5ZtQ"
   },
   "source": [
    "[Back to contents](#contents)"
   ]
  },
  {
   "cell_type": "markdown",
   "metadata": {
    "id": "nQfajNQQ5ZtR"
   },
   "source": [
    "<a id='fraction'></a>"
   ]
  },
  {
   "cell_type": "markdown",
   "metadata": {
    "id": "x1jsgyX25ZtR"
   },
   "source": [
    "## Data fraction, file path\n",
    "\n",
    "General definitions of fraction of data used, where to access the input files"
   ]
  },
  {
   "cell_type": "code",
   "execution_count": 3,
   "metadata": {
    "id": "M7SvDjMB5ZtS"
   },
   "outputs": [],
   "source": [
    "fraction = 1.0 # reduce this is if you want the code to run quicker\n",
    "                                                                                                                                  \n",
    "#tuple_path = \"4lep/\" # local \n",
    "tuple_path = \"https://atlas-opendata.web.cern.ch/atlas-opendata/samples/2020/4lep/MC/\" # web address for MC\n",
    "#Monte carlo files: uncomment one at a time, otherwise it just picks up the last line\n",
    "#pp->ZZ->4l\n",
    "filename = \"mc_363490.llll.4lep.root\"\n",
    "#pp -> Higgs->ZZ->4l\n",
    "#filename = \"mc_345060.ggH125_ZZ4lep.4lep.root\"\n",
    "#pp>ttbar->4 leptons (reducible)\n",
    "#filename=\"mc_410000.ttbar_lep.4lep.root\"\n",
    "#Data\n",
    "#tuple_path = \"https://atlas-opendata.web.cern.ch/atlas-opendata/samples/2020/4lep/Data/\" # web address for data\n",
    "#filename = \"data_D.4lep.root\"\n",
    "\n",
    "filestring= tuple_path+filename"
   ]
  },
  {
   "cell_type": "markdown",
   "metadata": {
    "id": "cpceF7lo5ZtT"
   },
   "source": [
    "<a id='samples'></a>"
   ]
  },
  {
   "cell_type": "markdown",
   "metadata": {
    "id": "ygZz8Zeg5ZtU"
   },
   "source": [
    "Units, as stored in the data files. The quantities in the ATLAS ntuple are unfortunately stored in MeV.\n",
    "Since the natural unit for LHC analysis is GeV, we defineconversion factors"
   ]
  },
  {
   "cell_type": "code",
   "execution_count": 4,
   "metadata": {
    "id": "dlHtfEWO5ZtU"
   },
   "outputs": [],
   "source": [
    "MeV = 0.001\n",
    "GeV = 1.0"
   ]
  },
  {
   "cell_type": "markdown",
   "metadata": {
    "id": "2MyurcAr5ZtV"
   },
   "source": [
    "### Example of building a complex variable out of the 4-momenta of the four leptons\n",
    "\n",
    "Define function to calculate 4-lepton invariant mass.\n",
    "It accesses the dataframe where the particle data are stored as scalar components, and creates an array of 4-vectors  based on the 'vector' library https://pypi.org/project/vector/"
   ]
  },
  {
   "cell_type": "code",
   "execution_count": 5,
   "metadata": {
    "id": "oj8gJb4R5ZtV"
   },
   "outputs": [],
   "source": [
    "def calc_mllll(dff):\n",
    "#\n",
    "#   create array of 4-vectors, one for each lepton\n",
    "#\n",
    "    pl=[]\n",
    "    pl.append(vector.array({\"pt\":dff[\"ptl1\"], \"phi\":dff[\"phil1\"], \"eta\":dff[\"etal1\"], \"e\":dff[\"el1\"]}))\n",
    "    pl.append(vector.array({\"pt\":dff[\"ptl2\"], \"phi\":dff[\"phil2\"], \"eta\":dff[\"etal2\"], \"e\":dff[\"el2\"]}))\n",
    "    pl.append(vector.array({\"pt\":dff[\"ptl3\"], \"phi\":dff[\"phil3\"], \"eta\":dff[\"etal3\"], \"e\":dff[\"el3\"]}))\n",
    "    pl.append(vector.array({\"pt\":dff[\"ptl4\"], \"phi\":dff[\"phil4\"], \"eta\":dff[\"etal4\"], \"e\":dff[\"el4\"]}))\n",
    "    return (pl[0]+pl[1]+pl[2]+pl[3]).M"
   ]
  },
  {
   "cell_type": "markdown",
   "metadata": {},
   "source": [
    "## Example of defining a selection  function\n",
    "\n",
    "Simple template for a selection function acting on the dataframe, it creates a boolean\n",
    "only for complex selection, for simple boolean of variables use df.query"
   ]
  },
  {
   "cell_type": "code",
   "execution_count": 6,
   "metadata": {
    "id": "QR-1NL4f5ZtV"
   },
   "outputs": [],
   "source": [
    "def cut_ptl12(df):\n",
    "#   dummy example, the selection on the tranverse momentum would be done \n",
    "#   in a much simpler way as a query, this is just to give a template for more complex\n",
    "#   selections\n",
    "    return (df.ptl1>5/MeV)"
   ]
  },
  {
   "cell_type": "markdown",
   "metadata": {
    "id": "R-GwlBqK5ZtW"
   },
   "source": [
    "## Reading in the file\n",
    "\n",
    "Define function to get data from files.\n",
    "\n",
    "The datasets used in this notebook have already been filtered to include at least 4 leptons per event, so the lepton vectors have all dimension 4.\n",
    "\n",
    "Slightly complex gimmick to create a clean panda dataframe to be used in the following of the \n",
    "analysis\n",
    "\n",
    "Steps:\n",
    "\n",
    "* Read in the tree with uproot https://pypi.org/project/uproot/, and check number of events and structure of tree\n",
    "* Define variables of interest which we want to analyse\n",
    "* Store them into a series of awkward arrays  https://awkward-array.org/doc/main/index.html\n",
    "* Reformat the arrays to numpy vectors\n",
    "* Stack them\n",
    "* Insert them into a Panda dataframe\n",
    "* Label the columns of the dataframe\n",
    "* Add composite variables to the dataframe \n",
    "* Apply selections to the dataframe\n",
    "* Return the dataframe"
   ]
  },
  {
   "cell_type": "markdown",
   "metadata": {},
   "source": [
    "## Meaning of the lepton variables:\n",
    "* lep_pt, lep_eta, lep_phi, lep_e:  components of 4-momenum of lepton in collider coordinates\n",
    "* lep_charge: chage of the lepton, +1 or -1\n",
    "* type of lepton:  electron=11   muon=13\n",
    "* lep_ptcone30: sum of the transverse momenta of tracks in a cone surrounding the lepton (isolation variable)\n",
    "* lept_etcone20: sum of transverse momenta of calo cells in a cone surriunding the lepton (isolatin variable)\n",
    "* lep_isTightID: 0 or 1, it tells if a lepton passes the tight selection criteria for a lepton"
   ]
  },
  {
   "cell_type": "code",
   "execution_count": 7,
   "metadata": {
    "id": "uRmvqb0U5ZtW"
   },
   "outputs": [],
   "source": [
    "def read_file(filestring):\n",
    "  with uproot.open( filestring + \":mini\") as tree:\n",
    "    numevents = tree.num_entries # number of events\n",
    "    print(tree.keys())\n",
    "    print(tree.typenames())\n",
    "    print(tree.show())\n",
    "\n",
    "# variables to extract from ntuple\n",
    "    tupvar=[\"lep_pt\", \"lep_eta\", \"lep_phi\",\"lep_E\",\n",
    "          \"lep_charge\",\"lep_type\"]\n",
    "#          \"lep_ptcone30\",\"lep_etcone20\", \"lep_isTightID\"]\n",
    "# read tree into awkward array with uproot\n",
    "    lep_momentum = tree.arrays(tupvar,entry_stop=numevents*fraction,library=\"ak\")\n",
    "# define the names of the variables to go into dataframe\n",
    "    colnam=[\"ptl1\",\"etal1\",\"phil1\",\"el1\",\"chl1\",\"typl1\",\n",
    "          \"ptl2\",\"etal2\",\"phil2\",\"el2\",\"chl2\",\"typl2\",\n",
    "          \"ptl3\",\"etal3\",\"phil3\",\"el3\",\"chl3\",\"typl3\",\n",
    "          \"ptl4\",\"etal4\",\"phil4\",\"el4\",\"chl4\",\"typl4\"]\n",
    "# create numpy vector assuming that lep_ arrays have 4 components\n",
    "    for i in range(0,4):\n",
    "      for j in range(0,len(tupvar)):\n",
    "        if i==0 and j==0:\n",
    "          ptlep=ak.to_numpy(lep_momentum[tupvar[j]][:,i])\n",
    "        else:\n",
    "          ptlep=np.vstack([ptlep,ak.to_numpy(lep_momentum[tupvar[j]][:,i])])\n",
    "    print(ptlep.shape)\n",
    "# end up with numpy 2d vector with n_var rows and n_event columns\n",
    "# to transpose, as in pandas 'features' are columns and 'observations' rows\n",
    "    ptlep=ptlep.transpose()\n",
    "# create dataframe \n",
    "    df = pd.DataFrame(ptlep)\n",
    "# add names of columns\n",
    "    df.columns=colnam\n",
    "# add new derived variable\n",
    "    df[\"mllll\"]=calc_mllll(df)\n",
    "# apply cuts on variable\n",
    "#    df=df[cut_ptl1(df)]\n",
    "    return df"
   ]
  },
  {
   "cell_type": "markdown",
   "metadata": {
    "id": "mwFgiBZ35ZtY"
   },
   "source": [
    "This is where the reading of the file happens"
   ]
  },
  {
   "cell_type": "code",
   "execution_count": 8,
   "metadata": {
    "colab": {
     "base_uri": "https://localhost:8080/"
    },
    "id": "AZerdO-d5ZtY",
    "outputId": "a293e2ee-795c-447d-d478-1f8e1c0d98fd",
    "scrolled": false
   },
   "outputs": [
    {
     "name": "stdout",
     "output_type": "stream",
     "text": [
      "['runNumber', 'eventNumber', 'channelNumber', 'mcWeight', 'scaleFactor_PILEUP', 'scaleFactor_ELE', 'scaleFactor_MUON', 'scaleFactor_PHOTON', 'scaleFactor_TAU', 'scaleFactor_BTAG', 'scaleFactor_LepTRIGGER', 'scaleFactor_PhotonTRIGGER', 'trigE', 'trigM', 'trigP', 'lep_n', 'lep_truthMatched', 'lep_trigMatched', 'lep_pt', 'lep_eta', 'lep_phi', 'lep_E', 'lep_z0', 'lep_charge', 'lep_type', 'lep_isTightID', 'lep_ptcone30', 'lep_etcone20', 'lep_trackd0pvunbiased', 'lep_tracksigd0pvunbiased', 'met_et', 'met_phi', 'jet_n', 'jet_pt', 'jet_eta', 'jet_phi', 'jet_E', 'jet_jvt', 'jet_trueflav', 'jet_truthMatched', 'jet_MV2c10', 'photon_n', 'photon_truthMatched', 'photon_trigMatched', 'photon_pt', 'photon_eta', 'photon_phi', 'photon_E', 'photon_isTightID', 'photon_ptcone30', 'photon_etcone20', 'photon_convType', 'tau_n', 'tau_pt', 'tau_eta', 'tau_phi', 'tau_E', 'tau_isTightID', 'tau_truthMatched', 'tau_trigMatched', 'tau_nTracks', 'tau_BDTid', 'ditau_m', 'lep_pt_syst', 'met_et_syst', 'jet_pt_syst', 'photon_pt_syst', 'tau_pt_syst', 'XSection', 'SumWeights', 'largeRjet_n', 'largeRjet_pt', 'largeRjet_eta', 'largeRjet_phi', 'largeRjet_E', 'largeRjet_m', 'largeRjet_truthMatched', 'largeRjet_D2', 'largeRjet_tau32', 'largeRjet_pt_syst', 'tau_charge']\n",
      "{'runNumber': 'int32_t', 'eventNumber': 'int32_t', 'channelNumber': 'int32_t', 'mcWeight': 'float', 'scaleFactor_PILEUP': 'float', 'scaleFactor_ELE': 'float', 'scaleFactor_MUON': 'float', 'scaleFactor_PHOTON': 'float', 'scaleFactor_TAU': 'float', 'scaleFactor_BTAG': 'float', 'scaleFactor_LepTRIGGER': 'float', 'scaleFactor_PhotonTRIGGER': 'float', 'trigE': 'bool', 'trigM': 'bool', 'trigP': 'bool', 'lep_n': 'uint32_t', 'lep_truthMatched': 'std::vector<bool>', 'lep_trigMatched': 'std::vector<bool>', 'lep_pt': 'std::vector<float>', 'lep_eta': 'std::vector<float>', 'lep_phi': 'std::vector<float>', 'lep_E': 'std::vector<float>', 'lep_z0': 'std::vector<float>', 'lep_charge': 'std::vector<int32_t>', 'lep_type': 'std::vector<uint32_t>', 'lep_isTightID': 'std::vector<bool>', 'lep_ptcone30': 'std::vector<float>', 'lep_etcone20': 'std::vector<float>', 'lep_trackd0pvunbiased': 'std::vector<float>', 'lep_tracksigd0pvunbiased': 'std::vector<float>', 'met_et': 'float', 'met_phi': 'float', 'jet_n': 'uint32_t', 'jet_pt': 'std::vector<float>', 'jet_eta': 'std::vector<float>', 'jet_phi': 'std::vector<float>', 'jet_E': 'std::vector<float>', 'jet_jvt': 'std::vector<float>', 'jet_trueflav': 'std::vector<int32_t>', 'jet_truthMatched': 'std::vector<bool>', 'jet_MV2c10': 'std::vector<float>', 'photon_n': 'uint32_t', 'photon_truthMatched': 'std::vector<bool>', 'photon_trigMatched': 'std::vector<bool>', 'photon_pt': 'std::vector<float>', 'photon_eta': 'std::vector<float>', 'photon_phi': 'std::vector<float>', 'photon_E': 'std::vector<float>', 'photon_isTightID': 'std::vector<bool>', 'photon_ptcone30': 'std::vector<float>', 'photon_etcone20': 'std::vector<float>', 'photon_convType': 'std::vector<int32_t>', 'tau_n': 'uint32_t', 'tau_pt': 'std::vector<float>', 'tau_eta': 'std::vector<float>', 'tau_phi': 'std::vector<float>', 'tau_E': 'std::vector<float>', 'tau_isTightID': 'std::vector<bool>', 'tau_truthMatched': 'std::vector<bool>', 'tau_trigMatched': 'std::vector<bool>', 'tau_nTracks': 'std::vector<int32_t>', 'tau_BDTid': 'std::vector<float>', 'ditau_m': 'float', 'lep_pt_syst': 'std::vector<float>', 'met_et_syst': 'float', 'jet_pt_syst': 'std::vector<float>', 'photon_pt_syst': 'std::vector<float>', 'tau_pt_syst': 'std::vector<float>', 'XSection': 'float', 'SumWeights': 'float', 'largeRjet_n': 'uint32_t', 'largeRjet_pt': 'std::vector<float>', 'largeRjet_eta': 'std::vector<float>', 'largeRjet_phi': 'std::vector<float>', 'largeRjet_E': 'std::vector<float>', 'largeRjet_m': 'std::vector<float>', 'largeRjet_truthMatched': 'std::vector<float>', 'largeRjet_D2': 'std::vector<float>', 'largeRjet_tau32': 'std::vector<float>', 'largeRjet_pt_syst': 'std::vector<float>', 'tau_charge': 'std::vector<int32_t>'}\n",
      "name                 | typename                 | interpretation                \n",
      "---------------------+--------------------------+-------------------------------\n",
      "runNumber            | int32_t                  | AsDtype('>i4')\n",
      "eventNumber          | int32_t                  | AsDtype('>i4')\n",
      "channelNumber        | int32_t                  | AsDtype('>i4')\n",
      "mcWeight             | float                    | AsDtype('>f4')\n",
      "scaleFactor_PILEUP   | float                    | AsDtype('>f4')\n",
      "scaleFactor_ELE      | float                    | AsDtype('>f4')\n",
      "scaleFactor_MUON     | float                    | AsDtype('>f4')\n",
      "scaleFactor_PHOTON   | float                    | AsDtype('>f4')\n",
      "scaleFactor_TAU      | float                    | AsDtype('>f4')\n",
      "scaleFactor_BTAG     | float                    | AsDtype('>f4')\n",
      "scaleFactor_LepTR... | float                    | AsDtype('>f4')\n",
      "scaleFactor_Photo... | float                    | AsDtype('>f4')\n",
      "trigE                | bool                     | AsDtype('bool')\n",
      "trigM                | bool                     | AsDtype('bool')\n",
      "trigP                | bool                     | AsDtype('bool')\n",
      "lep_n                | uint32_t                 | AsDtype('>u4')\n",
      "lep_truthMatched     | std::vector<bool>        | AsJagged(AsDtype('bool'), h...\n",
      "lep_trigMatched      | std::vector<bool>        | AsJagged(AsDtype('bool'), h...\n",
      "lep_pt               | std::vector<float>       | AsJagged(AsDtype('>f4'), he...\n",
      "lep_eta              | std::vector<float>       | AsJagged(AsDtype('>f4'), he...\n",
      "lep_phi              | std::vector<float>       | AsJagged(AsDtype('>f4'), he...\n",
      "lep_E                | std::vector<float>       | AsJagged(AsDtype('>f4'), he...\n",
      "lep_z0               | std::vector<float>       | AsJagged(AsDtype('>f4'), he...\n",
      "lep_charge           | std::vector<int32_t>     | AsJagged(AsDtype('>i4'), he...\n",
      "lep_type             | std::vector<uint32_t>    | AsJagged(AsDtype('>u4'), he...\n",
      "lep_isTightID        | std::vector<bool>        | AsJagged(AsDtype('bool'), h...\n",
      "lep_ptcone30         | std::vector<float>       | AsJagged(AsDtype('>f4'), he...\n",
      "lep_etcone20         | std::vector<float>       | AsJagged(AsDtype('>f4'), he...\n",
      "lep_trackd0pvunbi... | std::vector<float>       | AsJagged(AsDtype('>f4'), he...\n",
      "lep_tracksigd0pvu... | std::vector<float>       | AsJagged(AsDtype('>f4'), he...\n",
      "met_et               | float                    | AsDtype('>f4')\n",
      "met_phi              | float                    | AsDtype('>f4')\n",
      "jet_n                | uint32_t                 | AsDtype('>u4')\n",
      "jet_pt               | std::vector<float>       | AsJagged(AsDtype('>f4'), he...\n",
      "jet_eta              | std::vector<float>       | AsJagged(AsDtype('>f4'), he...\n",
      "jet_phi              | std::vector<float>       | AsJagged(AsDtype('>f4'), he...\n",
      "jet_E                | std::vector<float>       | AsJagged(AsDtype('>f4'), he...\n",
      "jet_jvt              | std::vector<float>       | AsJagged(AsDtype('>f4'), he...\n",
      "jet_trueflav         | std::vector<int32_t>     | AsJagged(AsDtype('>i4'), he...\n",
      "jet_truthMatched     | std::vector<bool>        | AsJagged(AsDtype('bool'), h...\n",
      "jet_MV2c10           | std::vector<float>       | AsJagged(AsDtype('>f4'), he...\n",
      "photon_n             | uint32_t                 | AsDtype('>u4')\n",
      "photon_truthMatched  | std::vector<bool>        | AsJagged(AsDtype('bool'), h...\n",
      "photon_trigMatched   | std::vector<bool>        | AsJagged(AsDtype('bool'), h...\n",
      "photon_pt            | std::vector<float>       | AsJagged(AsDtype('>f4'), he...\n",
      "photon_eta           | std::vector<float>       | AsJagged(AsDtype('>f4'), he...\n",
      "photon_phi           | std::vector<float>       | AsJagged(AsDtype('>f4'), he...\n",
      "photon_E             | std::vector<float>       | AsJagged(AsDtype('>f4'), he...\n",
      "photon_isTightID     | std::vector<bool>        | AsJagged(AsDtype('bool'), h...\n",
      "photon_ptcone30      | std::vector<float>       | AsJagged(AsDtype('>f4'), he...\n",
      "photon_etcone20      | std::vector<float>       | AsJagged(AsDtype('>f4'), he...\n",
      "photon_convType      | std::vector<int32_t>     | AsJagged(AsDtype('>i4'), he...\n",
      "tau_n                | uint32_t                 | AsDtype('>u4')\n",
      "tau_pt               | std::vector<float>       | AsJagged(AsDtype('>f4'), he...\n",
      "tau_eta              | std::vector<float>       | AsJagged(AsDtype('>f4'), he...\n",
      "tau_phi              | std::vector<float>       | AsJagged(AsDtype('>f4'), he...\n",
      "tau_E                | std::vector<float>       | AsJagged(AsDtype('>f4'), he...\n",
      "tau_isTightID        | std::vector<bool>        | AsJagged(AsDtype('bool'), h...\n",
      "tau_truthMatched     | std::vector<bool>        | AsJagged(AsDtype('bool'), h...\n",
      "tau_trigMatched      | std::vector<bool>        | AsJagged(AsDtype('bool'), h...\n",
      "tau_nTracks          | std::vector<int32_t>     | AsJagged(AsDtype('>i4'), he...\n",
      "tau_BDTid            | std::vector<float>       | AsJagged(AsDtype('>f4'), he...\n",
      "ditau_m              | float                    | AsDtype('>f4')\n",
      "lep_pt_syst          | std::vector<float>       | AsJagged(AsDtype('>f4'), he...\n",
      "met_et_syst          | float                    | AsDtype('>f4')\n",
      "jet_pt_syst          | std::vector<float>       | AsJagged(AsDtype('>f4'), he...\n",
      "photon_pt_syst       | std::vector<float>       | AsJagged(AsDtype('>f4'), he...\n",
      "tau_pt_syst          | std::vector<float>       | AsJagged(AsDtype('>f4'), he...\n",
      "XSection             | float                    | AsDtype('>f4')\n",
      "SumWeights           | float                    | AsDtype('>f4')\n",
      "largeRjet_n          | uint32_t                 | AsDtype('>u4')\n",
      "largeRjet_pt         | std::vector<float>       | AsJagged(AsDtype('>f4'), he...\n",
      "largeRjet_eta        | std::vector<float>       | AsJagged(AsDtype('>f4'), he...\n",
      "largeRjet_phi        | std::vector<float>       | AsJagged(AsDtype('>f4'), he...\n",
      "largeRjet_E          | std::vector<float>       | AsJagged(AsDtype('>f4'), he...\n",
      "largeRjet_m          | std::vector<float>       | AsJagged(AsDtype('>f4'), he...\n",
      "largeRjet_truthMa... | std::vector<float>       | AsJagged(AsDtype('>f4'), he...\n",
      "largeRjet_D2         | std::vector<float>       | AsJagged(AsDtype('>f4'), he...\n",
      "largeRjet_tau32      | std::vector<float>       | AsJagged(AsDtype('>f4'), he...\n",
      "largeRjet_pt_syst    | std::vector<float>       | AsJagged(AsDtype('>f4'), he...\n",
      "tau_charge           | std::vector<int32_t>     | AsJagged(AsDtype('>i4'), he...\n",
      "None\n"
     ]
    },
    {
     "name": "stdout",
     "output_type": "stream",
     "text": [
      "(24, 554279)\n",
      "Time taken: 24.6s\n"
     ]
    }
   ],
   "source": [
    "start = time.time() # time at start of whole processing\n",
    "df=read_file(filestring) # process all files\n",
    "elapsed = time.time() - start # time after whole processing\n",
    "print(\"Time taken: \"+str(round(elapsed,1))+\"s\") # print total time taken to process every file"
   ]
  },
  {
   "cell_type": "markdown",
   "metadata": {},
   "source": [
    "## Apply simple cuts to ntuple using query\n",
    "\n",
    "First build the selection string, then apply it to the dataframe for creating a new variable"
   ]
  },
  {
   "cell_type": "code",
   "execution_count": 9,
   "metadata": {},
   "outputs": [
    {
     "name": "stdout",
     "output_type": "stream",
     "text": [
      "ptl1>50000.0 and ptl2>5000.0\n",
      " before  554279  after  435083  efficiency  0.7849530651531088\n"
     ]
    }
   ],
   "source": [
    "# build the selection string\n",
    "cutl1=50/MeV\n",
    "cutl2=5/MeV\n",
    "strcut=\"ptl1>\"+str(cutl1)+\" and ptl2>\"+str(cutl2)\n",
    "print(strcut)\n",
    "# optionally, create smaller dataframe with only variables on which \n",
    "# selection is performed and variable one wants to plot\n",
    "dfm4l=df.filter(items=['mllll','ptl1','ptl2'])\n",
    "# create new dataframe after applying selection\n",
    "dfm4l1=dfm4l.query(strcut)\n",
    "# print efficiency of cut\n",
    "print(\" before \",dfm4l.shape[0],\" after \",dfm4l1.shape[0], \" efficiency \", dfm4l1.shape[0]/dfm4l.shape[0])"
   ]
  },
  {
   "cell_type": "markdown",
   "metadata": {
    "id": "pzk5n_pc5Zta"
   },
   "source": [
    "## Plotting\n",
    "\n",
    "Set simple wrapper for plotting histograms with matplotlib"
   ]
  },
  {
   "cell_type": "code",
   "execution_count": 10,
   "metadata": {},
   "outputs": [],
   "source": [
    "# in input:  df=dataframe var=variable in dataframe, \n",
    "# scale=scale factor on value of variable (e.g. for scaling between MeV and GeV)\n",
    "# nbin,xlow,xhigh: limits of histogram\n",
    "# norm: choose whether you plot acutal number of events in bin or fraction of events \n",
    "#       in each bin with respect to total\n",
    "# labx, laby labels of x and y axis of histogram \n",
    "# title: title of hisotgram\n",
    "# leg: legenda for content, useful if you superimpose two hists\n",
    "def hist1d(df, var, scale, nbin, xlow, xhig, norm, labx, laby, title, leg):\n",
    "  bins = np.linspace(xlow,xhig,nbin)\n",
    "  plt.hist(df[var]*scale, bins, alpha=0.5, density=norm, label=leg)\n",
    "  plt.xlabel(labx)\n",
    "  plt.ylabel(laby)\n",
    "  plt.legend(loc='best')\n",
    "# 2d, same definition of inputs as above\n",
    "def hist2d(df,var1,var2,scalex,scaley,nbinx,xlow,xhig,nbiny,ylow,yhig,labx,laby,title):\n",
    "  binx = np.linspace(xlow,xhig,nbinx)\n",
    "  biny = np.linspace(ylow,yhig,nbiny)\n",
    "  plt.hist2d(df[var1]*scalex, df[var2]*scaley, bins=[binx, biny], density=False, cmin=0.5)\n",
    "  plt.xlabel(labx)\n",
    "  plt.ylabel(laby)"
   ]
  },
  {
   "cell_type": "markdown",
   "metadata": {
    "id": "Rdn4pnl-5Ztb"
   },
   "source": [
    "Call the functions to plot the data"
   ]
  },
  {
   "cell_type": "code",
   "execution_count": 11,
   "metadata": {},
   "outputs": [
    {
     "ename": "KeyError",
     "evalue": "'etal1'",
     "output_type": "error",
     "traceback": [
      "\u001b[0;31m---------------------------------------------------------------------------\u001b[0m",
      "\u001b[0;31mKeyError\u001b[0m                                  Traceback (most recent call last)",
      "\u001b[0;32m~/.local/lib/python3.8/site-packages/pandas/core/indexes/base.py\u001b[0m in \u001b[0;36mget_loc\u001b[0;34m(self, key, method, tolerance)\u001b[0m\n\u001b[1;32m   3360\u001b[0m             \u001b[0;32mtry\u001b[0m\u001b[0;34m:\u001b[0m\u001b[0;34m\u001b[0m\u001b[0;34m\u001b[0m\u001b[0m\n\u001b[0;32m-> 3361\u001b[0;31m                 \u001b[0;32mreturn\u001b[0m \u001b[0mself\u001b[0m\u001b[0;34m.\u001b[0m\u001b[0m_engine\u001b[0m\u001b[0;34m.\u001b[0m\u001b[0mget_loc\u001b[0m\u001b[0;34m(\u001b[0m\u001b[0mcasted_key\u001b[0m\u001b[0;34m)\u001b[0m\u001b[0;34m\u001b[0m\u001b[0;34m\u001b[0m\u001b[0m\n\u001b[0m\u001b[1;32m   3362\u001b[0m             \u001b[0;32mexcept\u001b[0m \u001b[0mKeyError\u001b[0m \u001b[0;32mas\u001b[0m \u001b[0merr\u001b[0m\u001b[0;34m:\u001b[0m\u001b[0;34m\u001b[0m\u001b[0;34m\u001b[0m\u001b[0m\n",
      "\u001b[0;32m~/.local/lib/python3.8/site-packages/pandas/_libs/index.pyx\u001b[0m in \u001b[0;36mpandas._libs.index.IndexEngine.get_loc\u001b[0;34m()\u001b[0m\n",
      "\u001b[0;32m~/.local/lib/python3.8/site-packages/pandas/_libs/index.pyx\u001b[0m in \u001b[0;36mpandas._libs.index.IndexEngine.get_loc\u001b[0;34m()\u001b[0m\n",
      "\u001b[0;32mpandas/_libs/hashtable_class_helper.pxi\u001b[0m in \u001b[0;36mpandas._libs.hashtable.PyObjectHashTable.get_item\u001b[0;34m()\u001b[0m\n",
      "\u001b[0;32mpandas/_libs/hashtable_class_helper.pxi\u001b[0m in \u001b[0;36mpandas._libs.hashtable.PyObjectHashTable.get_item\u001b[0;34m()\u001b[0m\n",
      "\u001b[0;31mKeyError\u001b[0m: 'etal1'",
      "\nThe above exception was the direct cause of the following exception:\n",
      "\u001b[0;31mKeyError\u001b[0m                                  Traceback (most recent call last)",
      "\u001b[0;32m/tmp/ipykernel_9653/2454334770.py\u001b[0m in \u001b[0;36m<module>\u001b[0;34m\u001b[0m\n\u001b[0;32m----> 1\u001b[0;31m \u001b[0mhist2d\u001b[0m\u001b[0;34m(\u001b[0m\u001b[0mdfm4l\u001b[0m\u001b[0;34m,\u001b[0m\u001b[0;34m\"ptl1\"\u001b[0m\u001b[0;34m,\u001b[0m\u001b[0;34m\"etal1\"\u001b[0m\u001b[0;34m,\u001b[0m\u001b[0mMeV\u001b[0m\u001b[0;34m,\u001b[0m\u001b[0;36m1\u001b[0m\u001b[0;34m,\u001b[0m\u001b[0;36m100\u001b[0m\u001b[0;34m,\u001b[0m\u001b[0;36m0.\u001b[0m\u001b[0;34m,\u001b[0m\u001b[0;36m200.\u001b[0m\u001b[0;34m,\u001b[0m\u001b[0;36m100\u001b[0m\u001b[0;34m,\u001b[0m\u001b[0;34m-\u001b[0m\u001b[0;36m3.\u001b[0m\u001b[0;34m,\u001b[0m\u001b[0;36m3.\u001b[0m\u001b[0;34m,\u001b[0m\u001b[0;34m'pt(lep1) [GeV]'\u001b[0m\u001b[0;34m,\u001b[0m\u001b[0;34m'pt(lep2) [GeV]'\u001b[0m\u001b[0;34m,\u001b[0m\u001b[0;34m''\u001b[0m\u001b[0;34m)\u001b[0m\u001b[0;34m\u001b[0m\u001b[0;34m\u001b[0m\u001b[0m\n\u001b[0m\u001b[1;32m      2\u001b[0m \u001b[0mplt\u001b[0m\u001b[0;34m.\u001b[0m\u001b[0mshow\u001b[0m\u001b[0;34m(\u001b[0m\u001b[0;34m)\u001b[0m\u001b[0;34m\u001b[0m\u001b[0;34m\u001b[0m\u001b[0m\n\u001b[1;32m      3\u001b[0m \u001b[0mhist1d\u001b[0m\u001b[0;34m(\u001b[0m\u001b[0mdfm4l\u001b[0m\u001b[0;34m,\u001b[0m\u001b[0;34m\"mllll\"\u001b[0m\u001b[0;34m,\u001b[0m\u001b[0mMeV\u001b[0m\u001b[0;34m,\u001b[0m\u001b[0;36m100\u001b[0m\u001b[0;34m,\u001b[0m\u001b[0;36m0.\u001b[0m\u001b[0;34m,\u001b[0m\u001b[0;36m200.\u001b[0m\u001b[0;34m,\u001b[0m\u001b[0;32mFalse\u001b[0m\u001b[0;34m,\u001b[0m\u001b[0;34m'mllll [GeV]'\u001b[0m\u001b[0;34m,\u001b[0m\u001b[0;34m'Number of events'\u001b[0m\u001b[0;34m,\u001b[0m\u001b[0;34m''\u001b[0m\u001b[0;34m,\u001b[0m\u001b[0;34m'no cuts on ptlep'\u001b[0m\u001b[0;34m)\u001b[0m\u001b[0;34m\u001b[0m\u001b[0;34m\u001b[0m\u001b[0m\n\u001b[1;32m      4\u001b[0m \u001b[0mhist1d\u001b[0m\u001b[0;34m(\u001b[0m\u001b[0mdfm4l1\u001b[0m\u001b[0;34m,\u001b[0m\u001b[0;34m\"mllll\"\u001b[0m\u001b[0;34m,\u001b[0m\u001b[0mMeV\u001b[0m\u001b[0;34m,\u001b[0m\u001b[0;36m100\u001b[0m\u001b[0;34m,\u001b[0m\u001b[0;36m0.\u001b[0m\u001b[0;34m,\u001b[0m\u001b[0;36m200.\u001b[0m\u001b[0;34m,\u001b[0m\u001b[0;32mFalse\u001b[0m\u001b[0;34m,\u001b[0m\u001b[0;34m'mllll [GeV]'\u001b[0m\u001b[0;34m,\u001b[0m\u001b[0;34m'Number of events'\u001b[0m\u001b[0;34m,\u001b[0m\u001b[0;34m''\u001b[0m\u001b[0;34m,\u001b[0m\u001b[0;34m'cuts on ptlep'\u001b[0m\u001b[0;34m)\u001b[0m\u001b[0;34m\u001b[0m\u001b[0;34m\u001b[0m\u001b[0m\n\u001b[1;32m      5\u001b[0m \u001b[0mplt\u001b[0m\u001b[0;34m.\u001b[0m\u001b[0mshow\u001b[0m\u001b[0;34m(\u001b[0m\u001b[0;34m)\u001b[0m\u001b[0;34m\u001b[0m\u001b[0;34m\u001b[0m\u001b[0m\n",
      "\u001b[0;32m/tmp/ipykernel_9653/2081179744.py\u001b[0m in \u001b[0;36mhist2d\u001b[0;34m(df, var1, var2, scalex, scaley, nbinx, xlow, xhig, nbiny, ylow, yhig, labx, laby, title)\u001b[0m\n\u001b[1;32m     17\u001b[0m   \u001b[0mbinx\u001b[0m \u001b[0;34m=\u001b[0m \u001b[0mnp\u001b[0m\u001b[0;34m.\u001b[0m\u001b[0mlinspace\u001b[0m\u001b[0;34m(\u001b[0m\u001b[0mxlow\u001b[0m\u001b[0;34m,\u001b[0m\u001b[0mxhig\u001b[0m\u001b[0;34m,\u001b[0m\u001b[0mnbinx\u001b[0m\u001b[0;34m)\u001b[0m\u001b[0;34m\u001b[0m\u001b[0;34m\u001b[0m\u001b[0m\n\u001b[1;32m     18\u001b[0m   \u001b[0mbiny\u001b[0m \u001b[0;34m=\u001b[0m \u001b[0mnp\u001b[0m\u001b[0;34m.\u001b[0m\u001b[0mlinspace\u001b[0m\u001b[0;34m(\u001b[0m\u001b[0mylow\u001b[0m\u001b[0;34m,\u001b[0m\u001b[0myhig\u001b[0m\u001b[0;34m,\u001b[0m\u001b[0mnbiny\u001b[0m\u001b[0;34m)\u001b[0m\u001b[0;34m\u001b[0m\u001b[0;34m\u001b[0m\u001b[0m\n\u001b[0;32m---> 19\u001b[0;31m   \u001b[0mplt\u001b[0m\u001b[0;34m.\u001b[0m\u001b[0mhist2d\u001b[0m\u001b[0;34m(\u001b[0m\u001b[0mdf\u001b[0m\u001b[0;34m[\u001b[0m\u001b[0mvar1\u001b[0m\u001b[0;34m]\u001b[0m\u001b[0;34m*\u001b[0m\u001b[0mscalex\u001b[0m\u001b[0;34m,\u001b[0m \u001b[0mdf\u001b[0m\u001b[0;34m[\u001b[0m\u001b[0mvar2\u001b[0m\u001b[0;34m]\u001b[0m\u001b[0;34m*\u001b[0m\u001b[0mscaley\u001b[0m\u001b[0;34m,\u001b[0m \u001b[0mbins\u001b[0m\u001b[0;34m=\u001b[0m\u001b[0;34m[\u001b[0m\u001b[0mbinx\u001b[0m\u001b[0;34m,\u001b[0m \u001b[0mbiny\u001b[0m\u001b[0;34m]\u001b[0m\u001b[0;34m,\u001b[0m \u001b[0mdensity\u001b[0m\u001b[0;34m=\u001b[0m\u001b[0;32mFalse\u001b[0m\u001b[0;34m,\u001b[0m \u001b[0mcmin\u001b[0m\u001b[0;34m=\u001b[0m\u001b[0;36m0.5\u001b[0m\u001b[0;34m)\u001b[0m\u001b[0;34m\u001b[0m\u001b[0;34m\u001b[0m\u001b[0m\n\u001b[0m\u001b[1;32m     20\u001b[0m   \u001b[0mplt\u001b[0m\u001b[0;34m.\u001b[0m\u001b[0mxlabel\u001b[0m\u001b[0;34m(\u001b[0m\u001b[0mlabx\u001b[0m\u001b[0;34m)\u001b[0m\u001b[0;34m\u001b[0m\u001b[0;34m\u001b[0m\u001b[0m\n\u001b[1;32m     21\u001b[0m   \u001b[0mplt\u001b[0m\u001b[0;34m.\u001b[0m\u001b[0mylabel\u001b[0m\u001b[0;34m(\u001b[0m\u001b[0mlaby\u001b[0m\u001b[0;34m)\u001b[0m\u001b[0;34m\u001b[0m\u001b[0;34m\u001b[0m\u001b[0m\n",
      "\u001b[0;32m~/.local/lib/python3.8/site-packages/pandas/core/frame.py\u001b[0m in \u001b[0;36m__getitem__\u001b[0;34m(self, key)\u001b[0m\n\u001b[1;32m   3456\u001b[0m             \u001b[0;32mif\u001b[0m \u001b[0mself\u001b[0m\u001b[0;34m.\u001b[0m\u001b[0mcolumns\u001b[0m\u001b[0;34m.\u001b[0m\u001b[0mnlevels\u001b[0m \u001b[0;34m>\u001b[0m \u001b[0;36m1\u001b[0m\u001b[0;34m:\u001b[0m\u001b[0;34m\u001b[0m\u001b[0;34m\u001b[0m\u001b[0m\n\u001b[1;32m   3457\u001b[0m                 \u001b[0;32mreturn\u001b[0m \u001b[0mself\u001b[0m\u001b[0;34m.\u001b[0m\u001b[0m_getitem_multilevel\u001b[0m\u001b[0;34m(\u001b[0m\u001b[0mkey\u001b[0m\u001b[0;34m)\u001b[0m\u001b[0;34m\u001b[0m\u001b[0;34m\u001b[0m\u001b[0m\n\u001b[0;32m-> 3458\u001b[0;31m             \u001b[0mindexer\u001b[0m \u001b[0;34m=\u001b[0m \u001b[0mself\u001b[0m\u001b[0;34m.\u001b[0m\u001b[0mcolumns\u001b[0m\u001b[0;34m.\u001b[0m\u001b[0mget_loc\u001b[0m\u001b[0;34m(\u001b[0m\u001b[0mkey\u001b[0m\u001b[0;34m)\u001b[0m\u001b[0;34m\u001b[0m\u001b[0;34m\u001b[0m\u001b[0m\n\u001b[0m\u001b[1;32m   3459\u001b[0m             \u001b[0;32mif\u001b[0m \u001b[0mis_integer\u001b[0m\u001b[0;34m(\u001b[0m\u001b[0mindexer\u001b[0m\u001b[0;34m)\u001b[0m\u001b[0;34m:\u001b[0m\u001b[0;34m\u001b[0m\u001b[0;34m\u001b[0m\u001b[0m\n\u001b[1;32m   3460\u001b[0m                 \u001b[0mindexer\u001b[0m \u001b[0;34m=\u001b[0m \u001b[0;34m[\u001b[0m\u001b[0mindexer\u001b[0m\u001b[0;34m]\u001b[0m\u001b[0;34m\u001b[0m\u001b[0;34m\u001b[0m\u001b[0m\n",
      "\u001b[0;32m~/.local/lib/python3.8/site-packages/pandas/core/indexes/base.py\u001b[0m in \u001b[0;36mget_loc\u001b[0;34m(self, key, method, tolerance)\u001b[0m\n\u001b[1;32m   3361\u001b[0m                 \u001b[0;32mreturn\u001b[0m \u001b[0mself\u001b[0m\u001b[0;34m.\u001b[0m\u001b[0m_engine\u001b[0m\u001b[0;34m.\u001b[0m\u001b[0mget_loc\u001b[0m\u001b[0;34m(\u001b[0m\u001b[0mcasted_key\u001b[0m\u001b[0;34m)\u001b[0m\u001b[0;34m\u001b[0m\u001b[0;34m\u001b[0m\u001b[0m\n\u001b[1;32m   3362\u001b[0m             \u001b[0;32mexcept\u001b[0m \u001b[0mKeyError\u001b[0m \u001b[0;32mas\u001b[0m \u001b[0merr\u001b[0m\u001b[0;34m:\u001b[0m\u001b[0;34m\u001b[0m\u001b[0;34m\u001b[0m\u001b[0m\n\u001b[0;32m-> 3363\u001b[0;31m                 \u001b[0;32mraise\u001b[0m \u001b[0mKeyError\u001b[0m\u001b[0;34m(\u001b[0m\u001b[0mkey\u001b[0m\u001b[0;34m)\u001b[0m \u001b[0;32mfrom\u001b[0m \u001b[0merr\u001b[0m\u001b[0;34m\u001b[0m\u001b[0;34m\u001b[0m\u001b[0m\n\u001b[0m\u001b[1;32m   3364\u001b[0m \u001b[0;34m\u001b[0m\u001b[0m\n\u001b[1;32m   3365\u001b[0m         \u001b[0;32mif\u001b[0m \u001b[0mis_scalar\u001b[0m\u001b[0;34m(\u001b[0m\u001b[0mkey\u001b[0m\u001b[0;34m)\u001b[0m \u001b[0;32mand\u001b[0m \u001b[0misna\u001b[0m\u001b[0;34m(\u001b[0m\u001b[0mkey\u001b[0m\u001b[0;34m)\u001b[0m \u001b[0;32mand\u001b[0m \u001b[0;32mnot\u001b[0m \u001b[0mself\u001b[0m\u001b[0;34m.\u001b[0m\u001b[0mhasnans\u001b[0m\u001b[0;34m:\u001b[0m\u001b[0;34m\u001b[0m\u001b[0;34m\u001b[0m\u001b[0m\n",
      "\u001b[0;31mKeyError\u001b[0m: 'etal1'"
     ]
    }
   ],
   "source": [
    "hist2d(dfm4l,\"ptl1\",\"etal1\",MeV,1,100,0.,200.,100,-3.,3.,'pt(lep1) [GeV]','pt(lep2) [GeV]','')\n",
    "plt.show()\n",
    "hist1d(dfm4l,\"mllll\",MeV,100,0.,200.,False,'mllll [GeV]','Number of events','','no cuts on ptlep')\n",
    "hist1d(dfm4l1,\"mllll\",MeV,100,0.,200.,False,'mllll [GeV]','Number of events','','cuts on ptlep')\n",
    "plt.show()\n"
   ]
  },
  {
   "cell_type": "markdown",
   "metadata": {
    "id": "nAczWo8i5Ztd"
   },
   "source": [
    "<a id='going_further'></a>"
   ]
  },
  {
   "cell_type": "markdown",
   "metadata": {
    "id": "jpMrzx4E5Ztd"
   },
   "source": [
    "## Exercises to familiarise yourself with ntuple\n",
    "\n",
    "The idea would be that you learn how to apply selection and add variables to a panda dataframe\n",
    "and you understand the impact of the selections by calculating the efficiencies and histogramming \n",
    "the impact on other variables\n",
    "\n",
    "You may want to perform the exercise below for different files, to see how the variables look\n",
    "like for different samples. You can do that by commenting and uncommenting names of files\n",
    "in the  <b>Data-fraction,-file-path</b>  box\n",
    "\n",
    "Alternatively you may want to create a separate dataframe for each of the input files \n",
    "and compare  how the distributions you extract from the exercises below look for different files\n",
    "\n",
    "* Add more cuts from the [Higgs discovery paper](https://www.sciencedirect.com/science/article/pii/S037026931200857X#se0040): examples\n",
    "    * Require that the event includes two different-flavour/opposite charge pairs<br />\n",
    "    (hint: the sum of charge mutliplied type should be zero)\n",
    "    * Require that the leptons are isolated, based on the isolation definition of the Higgs paper <br />\n",
    "    (pt in  cone)/(pt of lepton)<0.2 and (et_in cone)/(pt of lepton)<0.2\n",
    "    * Require that both leptons pass tight isolation \n",
    "* After each cut calculate the efficiency of the cut\n",
    "* Plot the distribution of the mllll variable after each of the cuts\n",
    "* (difficult) Add m12 variable, as defined in paper:<br />\n",
    "   among the different-flavour/opposite-sign pairs select the one whose invariant mass is nearest to the Z mass    (91.12 GeV),<br /> \n",
    "   and plot it\n",
    "* (simple) add the angular distance between the two leading leptons (1 and 2) using the vector library https://pypi.org/project/vector/ and plot it"
   ]
  },
  {
   "cell_type": "code",
   "execution_count": null,
   "metadata": {},
   "outputs": [],
   "source": []
  }
 ],
 "metadata": {
  "colab": {
   "provenance": []
  },
  "kernelspec": {
   "display_name": "Python 3 (ipykernel)",
   "language": "python",
   "name": "python3"
  },
  "language_info": {
   "codemirror_mode": {
    "name": "ipython",
    "version": 3
   },
   "file_extension": ".py",
   "mimetype": "text/x-python",
   "name": "python",
   "nbconvert_exporter": "python",
   "pygments_lexer": "ipython3",
   "version": "3.8.10"
  },
  "toc": {
   "base_numbering": 1,
   "nav_menu": {},
   "number_sections": true,
   "sideBar": true,
   "skip_h1_title": false,
   "title_cell": "Table of Contents",
   "title_sidebar": "Contents",
   "toc_cell": false,
   "toc_position": {},
   "toc_section_display": true,
   "toc_window_display": false
  }
 },
 "nbformat": 4,
 "nbformat_minor": 1
}
