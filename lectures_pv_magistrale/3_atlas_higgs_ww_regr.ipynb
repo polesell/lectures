{
 "cells": [
  {
   "cell_type": "markdown",
   "metadata": {
    "id": "TiSTHbA25ZtB"
   },
   "source": [
    "# Performing the Higgs -> WW-> l leptons search \n",
    "\n",
    "##  Test performance of logistic regression\n",
    "\n",
    "Focus on discriminating Higgs signal from irreducible SM WW production.\n",
    "\n",
    "Final state is 2 leptons + missing tranverse momentum.\n",
    "\n",
    "This notebooks shows the use of logistic regression for analysis, as a step towards a fully connected network\n",
    "\n",
    "\n",
    "\n",
    "\n",
    "\n",
    "\n"
   ]
  },
  {
   "cell_type": "markdown",
   "metadata": {
    "id": "5dgRkVPu5ZtK"
   },
   "source": [
    "# Installation of packages not available by default on colab\n"
   ]
  },
  {
   "cell_type": "code",
   "execution_count": 1,
   "metadata": {
    "colab": {
     "base_uri": "https://localhost:8080/"
    },
    "id": "rjpPQFJHBHZO",
    "outputId": "4e4e4a10-448d-4576-a5a3-c9810c5fa386"
   },
   "outputs": [],
   "source": [
    "import sys\n",
    "# update the pip package installer\n",
    "#%pip install --upgrade --user pip\n",
    "# install required packages\n",
    "#%pip install --upgrade --user uproot awkward vector numpy matplotlib\n",
    "\n",
    "\n",
    "#!pip install vector\n",
    "#!pip install hist"
   ]
  },
  {
   "cell_type": "markdown",
   "metadata": {
    "id": "YrW2zmSv5ZtP"
   },
   "source": [
    "## Import packages used in the analysis\n",
    "\n",
    "We're going to be using a number of tools to help us:\n",
    "* vector: to allow vectorized 4-momentum calculations\n",
    "* numpy: provides numerical calculations such as histogramming\n",
    "* matplotlib: common tool for making plots, figures, images, visualisations"
   ]
  },
  {
   "cell_type": "code",
   "execution_count": 2,
   "metadata": {
    "id": "0tezkWvi5ZtP"
   },
   "outputs": [],
   "source": [
    "\n",
    "import vector # for 4-momentum calculations\n",
    "import time # to measure time to analyse\n",
    "import math # for mathematical functions such as square root\n",
    "import numpy as np # for numerical calculations such as histogramming\n",
    "import matplotlib.pyplot as plt\n",
    "import pandas as pd\n"
   ]
  },
  {
   "cell_type": "markdown",
   "metadata": {},
   "source": [
    "## Read in csv files for signal and background"
   ]
  },
  {
   "cell_type": "code",
   "execution_count": 3,
   "metadata": {},
   "outputs": [
    {
     "name": "stdout",
     "output_type": "stream",
     "text": [
      "Size of dataset : 10000\n"
     ]
    }
   ],
   "source": [
    "fn2=\"https://cernbox.cern.ch/remote.php/dav/public-files/6mTuRapglPXnwUT/hww_atlas.csv.gz\" #hww\n",
    "totf2=600000\n",
    "#fn1=\"https://cernbox.cern.ch/remote.php/dav/public-files/bt9p3KS952M0I11/ttlep_atlas.csv.gz\" #ttlep\n",
    "fn1=\"https://cernbox.cern.ch/remote.php/dav/public-files/ndKtAQHMxNUmumC/ww_atlas.csv.gz\" #ww\n",
    "totf1=600000\n",
    "\n",
    "N = 10000\n",
    "print(\"Size of dataset : %i\"%N)\n",
    "df1 = pd.read_csv(fn1, compression='gzip', header=0,nrows=N,engine='python')\n",
    "df2 = pd.read_csv(fn2, compression='gzip', header=0,nrows=N,engine='python')"
   ]
  },
  {
   "cell_type": "markdown",
   "metadata": {},
   "source": [
    "## Add labelling and high-level variables\n",
    "\n",
    "The csv files only contain the 4-vectors of the two leptons. In order to perform analysis:\n",
    "\n",
    "* Label whether each sample is signal or background\n",
    "* concatenate samples\n",
    "* store 4-vectors of leptons amd etmiss in 'vector' structures for manipulation\n",
    "* build high-level variables\n",
    "* drop redundant ones"
   ]
  },
  {
   "cell_type": "code",
   "execution_count": 4,
   "metadata": {},
   "outputs": [],
   "source": [
    "# add labelling signal/background\n",
    "df1['SIG']=0\n",
    "df2['SIG']=1\n",
    "\n",
    "\n",
    "dftot=pd.concat([df1,df2])\n",
    "\n",
    "#\n",
    "# create array of 4-vectors of two leptons and etmiss for calculation of derived\n",
    "# variables\n",
    "#\n",
    "p4l1=vector.array({\"pt\":dftot[\"ptl1\"], \"phi\":dftot[\"phil1\"],\n",
    "    \"eta\":dftot[\"etal1\"], \"e\":dftot[\"el1\"]})\n",
    "p4l2=vector.array({\"pt\":dftot[\"ptl2\"], \"phi\":dftot[\"phil2\"],\n",
    "    \"eta\":dftot[\"etal2\"], \"e\":dftot[\"el2\"]})\n",
    "etmv=vector.array({\"pt\":dftot[\"met_et\"], \"phi\":dftot[\"met_phi\"]})\n",
    "\n",
    "#\n",
    "#  rotate variables to exploit azimuthal symmetry\n",
    "#\n",
    "dftot[\"dphil1m\"]=p4l1.deltaphi(etmv)\n",
    "dftot[\"dphil2m\"]=p4l2.deltaphi(etmv)\n",
    "\n",
    "#  High level variables for 2-l+etm system\n",
    "#\n",
    "p4ll=p4l1+p4l2\n",
    "dftot[\"dphill\"]=p4l1.deltaphi(p4l2)\n",
    "dftot[\"dphillm\"]=p4ll.deltaphi(etmv)\n",
    "ptll=p4ll.pt\n",
    "mll=p4ll.M\n",
    "dftot[\"ptll\"]=ptll\n",
    "dftot[\"mll\"]=mll\n",
    "#\n",
    "#  transverse mass of decaying particle\n",
    "#\n",
    "etm=dftot[\"met_et\"]\n",
    "ptllv=vector.array({\"x\":p4ll.x, \"y\":p4ll.y})\n",
    "c2=(etmv.x+ptllv.x)**2+(etmv.y+ptllv.y)**2\n",
    "etll=np.sqrt(ptll*ptll+mll*mll)\n",
    "c1=(etll+etm)**2\n",
    "mt=np.sqrt(c1-c2)\n",
    "dftot[\"mt\"]=mt\n",
    "#\n",
    "#   drop redundant variables\n",
    "#\n",
    "df=dftot.drop(columns=['phil1','phil2','met_phi'])\n",
    "\n",
    "#coln=df.columns\n",
    "\n",
    "#print(coln)\n",
    "\n",
    "#print(df.head())\n",
    "\n",
    "#print(df.info())"
   ]
  },
  {
   "cell_type": "markdown",
   "metadata": {},
   "source": [
    "## Look at signal and background statistics after reading data"
   ]
  },
  {
   "cell_type": "code",
   "execution_count": 5,
   "metadata": {},
   "outputs": [
    {
     "name": "stdout",
     "output_type": "stream",
     "text": [
      "473.09703183599987 26970.569601018\n"
     ]
    }
   ],
   "source": [
    "def getnormev(df,totsig,totbg,evread):\n",
    "  nsigw=((df.query(\"SIG==1\"))[\"totalWeight\"]).sum()*totsig/evread\n",
    "  nbgw=((df.query(\"SIG==0\"))[\"totalWeight\"]).sum()*totbg/evread\n",
    "  return nsigw,nbgw\n",
    "\n",
    "nsigw,nbgw=getnormev(df,totf2,totf1,N)\n",
    "print(nsigw,nbgw)"
   ]
  },
  {
   "cell_type": "markdown",
   "metadata": {},
   "source": [
    "## Calculation of significance before selection"
   ]
  },
  {
   "cell_type": "code",
   "execution_count": 6,
   "metadata": {},
   "outputs": [],
   "source": [
    "from math import sqrt, log\n",
    "def calc_sig(nsig, nbg, nbExpEr):\n",
    "    nbObs=nsig+nbg\n",
    "    nbExp=nbg\n",
    "    if nbExp>0 and nbExpEr>0:\n",
    "      factor1 = nbObs*log( (nbObs*(nbExp+nbExpEr**2))/(nbExp**2+nbObs*nbExpEr**2) )\n",
    "      factor2 = (nbExp**2/nbExpEr**2)*log( 1 + (nbExpEr**2*(nbObs-nbExp))/(nbExp*(nbExp+nbExpEr**2)) )\n",
    "      signi  = sqrt(2*(factor1 - factor2))\n",
    "    if nbExp>0 and nbExpEr==0:\n",
    "      signi=sqrt(2*((nsig+nbg)*log(1+nsig/nbg)-nsig))\n",
    "    if nbExp==0 and nbExpEr==0:\n",
    "      signi=sqrt(nsig)\n",
    "    if nbExp==0 and nbExpEr>0:\n",
    "      signi=nsig/sqrt(nbExpEr)\n",
    "    return signi"
   ]
  },
  {
   "cell_type": "code",
   "execution_count": 7,
   "metadata": {},
   "outputs": [
    {
     "name": "stdout",
     "output_type": "stream",
     "text": [
      "significance is  1.4907167185777639\n"
     ]
    }
   ],
   "source": [
    "print(\"significance is \",calc_sig(nsigw,nbgw,0.01*nbgw))"
   ]
  },
  {
   "cell_type": "markdown",
   "metadata": {},
   "source": [
    "## Define dataframe with variables to be used for training\n",
    "\n",
    "Dataframe will also contain flag on whether it is signal and background ('SIG') and weight for normalisation to LHC statistics ('totalWeight')\n",
    "\n",
    "We randomize the sample. This is not needed, as the splitting in the next cell will mix events"
   ]
  },
  {
   "cell_type": "code",
   "execution_count": 8,
   "metadata": {},
   "outputs": [
    {
     "name": "stdout",
     "output_type": "stream",
     "text": [
      "df_all  (20000, 14)\n"
     ]
    }
   ],
   "source": [
    "tfea = ['SIG','ptl1','ptl2','dphil1m','dphil2m','etal1','etal2','met_et','mll','ptll','dphill','dphillm','mt','totalWeight'] # list of features for discriminant analysis\n",
    "df_all=df[tfea]\n",
    "df_all.columns=tfea\n",
    "#print(df_all.keys)\n",
    "# randomize it\n",
    "df_all=df_all.sample(frac=1)\n",
    "\n",
    "print(\"df_all \", df_all.shape)\n"
   ]
  },
  {
   "cell_type": "markdown",
   "metadata": {},
   "source": [
    "## Definition of training and test samples\n",
    "\n",
    "As usual use train_test_split from sklearn library\n",
    "Two steps:\n",
    "\n",
    "* Split out a 25% test sample to use at the end for performance evaluation:  X_testu\n",
    "* Remaining 75% split into a 90% training sample and 10% validation sample to be used during training: X_trainu, X_valu"
   ]
  },
  {
   "cell_type": "code",
   "execution_count": 9,
   "metadata": {},
   "outputs": [
    {
     "name": "stderr",
     "output_type": "stream",
     "text": [
      "/usr/lib/python3/dist-packages/scipy/__init__.py:146: UserWarning: A NumPy version >=1.17.3 and <1.25.0 is required for this version of SciPy (detected version 1.26.1\n",
      "  warnings.warn(f\"A NumPy version >={np_minversion} and <{np_maxversion}\"\n"
     ]
    },
    {
     "name": "stdout",
     "output_type": "stream",
     "text": [
      "Index(['ptl1', 'ptl2', 'dphil1m', 'dphil2m', 'etal1', 'etal2', 'met_et', 'mll',\n",
      "       'ptll', 'dphill', 'dphillm', 'mt', 'totalWeight'],\n",
      "      dtype='object')\n",
      "(20000, 13)\n",
      "Index(['ptl1', 'ptl2', 'dphil1m', 'dphil2m', 'etal1', 'etal2', 'met_et', 'mll',\n",
      "       'ptll', 'dphill', 'dphillm', 'mt'],\n",
      "      dtype='object')\n",
      "(13500, 12)\n"
     ]
    }
   ],
   "source": [
    "from sklearn.model_selection import train_test_split\n",
    "#Define vectors for input to ML\n",
    "\n",
    "# Use 'SIG' column as definition of target\n",
    "y = df_all['SIG']\n",
    "\n",
    "# drop it from dataframe for\n",
    "X = df_all[[col for col in df_all.columns if col!=\"SIG\"]]\n",
    "col_fin=X.columns\n",
    "print(col_fin)\n",
    "print(X.shape)\n",
    "\n",
    "# now split out test saple for final performance evaluations\n",
    "\n",
    "X_traina, X_testu, y_traina, y_test = train_test_split(X, y,\n",
    "                                   test_size=.25, random_state=0)\n",
    "\n",
    "# save in X_testw test sample with weights included\n",
    "\n",
    "X_testw=X_testu\n",
    "\n",
    "# now further split train sample in actual train and validation\n",
    "\n",
    "X_trainu, X_valu, y_train, y_val = train_test_split(X_traina, y_traina,\n",
    "                                   test_size=.10, random_state=0)\n",
    "\n",
    "\n",
    "# drop weighths \n",
    "\n",
    "X_trainu=X_trainu[[col for col in X_trainu.columns if col!=\"totalWeight\"]]\n",
    "X_testu=X_testu[[col for col in X_testu.columns if col!=\"totalWeight\"]]\n",
    "X_valu=X_valu[[col for col in X_valu.columns if col!=\"totalWeight\"]]\n",
    "\n",
    "print(X_trainu.columns)\n",
    "print(X_trainu.shape)\n",
    "\n"
   ]
  },
  {
   "cell_type": "markdown",
   "metadata": {},
   "source": [
    "## Scaling of samples so that all of the variables  are in the same range\n",
    "\n",
    "Needed to make life easier for ML<br />\n",
    "Use StandardScaler method from sklearn library"
   ]
  },
  {
   "cell_type": "code",
   "execution_count": 10,
   "metadata": {},
   "outputs": [
    {
     "name": "stdout",
     "output_type": "stream",
     "text": [
      "Index(['ptl1', 'ptl2', 'dphil1m', 'dphil2m', 'etal1', 'etal2', 'met_et', 'mll',\n",
      "       'ptll', 'dphill', 'dphillm', 'mt'],\n",
      "      dtype='object')\n",
      "train  (13500, 12)\n",
      "ytrain nbg (6796, 1) ytrain nsig (6704, 1)\n",
      "test (5000, 12)\n",
      "val (1500, 12)\n"
     ]
    }
   ],
   "source": [
    "from sklearn.preprocessing import StandardScaler\n",
    "scaler = StandardScaler() # initialise StandardScaler\n",
    "print(X_trainu.columns)\n",
    "# Fit only to the training data\n",
    "scaler.fit(X_trainu)\n",
    "\n",
    "# Now apply the transformations to the data:\n",
    "X_train = scaler.transform(X_trainu)\n",
    "X_test = scaler.transform(X_testu)\n",
    "X_test=pd.DataFrame(X_test)\n",
    "X_val=scaler.transform(X_valu)\n",
    "print('train ', X_train.shape)\n",
    "dfy=pd.DataFrame(y_train)\n",
    "print('ytrain nbg',dfy.query(\"SIG==0\").shape,'ytrain nsig',dfy.query(\"SIG==1\").shape)\n",
    "print('test', X_test.shape)\n",
    "print('val', X_val.shape)"
   ]
  },
  {
   "cell_type": "markdown",
   "metadata": {},
   "source": [
    "# Logistic regression\n",
    "\n",
    "Implement in Keras and run"
   ]
  },
  {
   "cell_type": "code",
   "execution_count": 11,
   "metadata": {},
   "outputs": [
    {
     "name": "stderr",
     "output_type": "stream",
     "text": [
      "2024-05-03 14:39:09.895955: I tensorflow/core/util/port.cc:111] oneDNN custom operations are on. You may see slightly different numerical results due to floating-point round-off errors from different computation orders. To turn them off, set the environment variable `TF_ENABLE_ONEDNN_OPTS=0`.\n",
      "2024-05-03 14:39:09.897282: I tensorflow/tsl/cuda/cudart_stub.cc:28] Could not find cuda drivers on your machine, GPU will not be used.\n",
      "2024-05-03 14:39:09.920846: E tensorflow/compiler/xla/stream_executor/cuda/cuda_dnn.cc:9342] Unable to register cuDNN factory: Attempting to register factory for plugin cuDNN when one has already been registered\n",
      "2024-05-03 14:39:09.920870: E tensorflow/compiler/xla/stream_executor/cuda/cuda_fft.cc:609] Unable to register cuFFT factory: Attempting to register factory for plugin cuFFT when one has already been registered\n",
      "2024-05-03 14:39:09.920887: E tensorflow/compiler/xla/stream_executor/cuda/cuda_blas.cc:1518] Unable to register cuBLAS factory: Attempting to register factory for plugin cuBLAS when one has already been registered\n",
      "2024-05-03 14:39:09.925520: I tensorflow/tsl/cuda/cudart_stub.cc:28] Could not find cuda drivers on your machine, GPU will not be used.\n",
      "2024-05-03 14:39:09.925898: I tensorflow/core/platform/cpu_feature_guard.cc:182] This TensorFlow binary is optimized to use available CPU instructions in performance-critical operations.\n",
      "To enable the following instructions: AVX2 AVX_VNNI FMA, in other operations, rebuild TensorFlow with the appropriate compiler flags.\n",
      "2024-05-03 14:39:10.444253: W tensorflow/compiler/tf2tensorrt/utils/py_utils.cc:38] TF-TRT Warning: Could not find TensorRT\n"
     ]
    },
    {
     "name": "stdout",
     "output_type": "stream",
     "text": [
      "2.14.0\n",
      "Model: \"sequential\"\n",
      "_________________________________________________________________\n",
      " Layer (type)                Output Shape              Param #   \n",
      "=================================================================\n",
      " dense (Dense)               (None, 1)                 13        \n",
      "                                                                 \n",
      "=================================================================\n",
      "Total params: 13 (52.00 Byte)\n",
      "Trainable params: 13 (52.00 Byte)\n",
      "Non-trainable params: 0 (0.00 Byte)\n",
      "_________________________________________________________________\n",
      "Epoch 1/200\n",
      "135/135 [==============================] - 0s 2ms/step - loss: 0.7478 - accuracy: 0.5564 - val_loss: 0.6473 - val_accuracy: 0.6233\n",
      "Epoch 2/200\n",
      "135/135 [==============================] - 0s 1ms/step - loss: 0.6062 - accuracy: 0.6688 - val_loss: 0.5648 - val_accuracy: 0.7067\n",
      "Epoch 3/200\n",
      "135/135 [==============================] - 0s 1ms/step - loss: 0.5458 - accuracy: 0.7324 - val_loss: 0.5222 - val_accuracy: 0.7600\n",
      "Epoch 4/200\n",
      "135/135 [==============================] - 0s 805us/step - loss: 0.5115 - accuracy: 0.7650 - val_loss: 0.4955 - val_accuracy: 0.7820\n",
      "Epoch 5/200\n",
      "135/135 [==============================] - 0s 740us/step - loss: 0.4891 - accuracy: 0.7836 - val_loss: 0.4770 - val_accuracy: 0.7987\n",
      "Epoch 6/200\n",
      "135/135 [==============================] - 0s 719us/step - loss: 0.4731 - accuracy: 0.7950 - val_loss: 0.4631 - val_accuracy: 0.8040\n",
      "Epoch 7/200\n",
      "135/135 [==============================] - 0s 709us/step - loss: 0.4608 - accuracy: 0.8036 - val_loss: 0.4521 - val_accuracy: 0.8180\n",
      "Epoch 8/200\n",
      "135/135 [==============================] - 0s 730us/step - loss: 0.4511 - accuracy: 0.8102 - val_loss: 0.4433 - val_accuracy: 0.8220\n",
      "Epoch 9/200\n",
      "135/135 [==============================] - 0s 667us/step - loss: 0.4432 - accuracy: 0.8144 - val_loss: 0.4359 - val_accuracy: 0.8267\n",
      "Epoch 10/200\n",
      "135/135 [==============================] - 0s 706us/step - loss: 0.4366 - accuracy: 0.8187 - val_loss: 0.4297 - val_accuracy: 0.8273\n",
      "Epoch 11/200\n",
      "135/135 [==============================] - 0s 871us/step - loss: 0.4310 - accuracy: 0.8231 - val_loss: 0.4243 - val_accuracy: 0.8293\n",
      "Epoch 12/200\n",
      "135/135 [==============================] - 0s 730us/step - loss: 0.4262 - accuracy: 0.8264 - val_loss: 0.4196 - val_accuracy: 0.8313\n",
      "Epoch 13/200\n",
      "135/135 [==============================] - 0s 732us/step - loss: 0.4220 - accuracy: 0.8283 - val_loss: 0.4155 - val_accuracy: 0.8347\n",
      "Epoch 14/200\n",
      "135/135 [==============================] - 0s 800us/step - loss: 0.4183 - accuracy: 0.8299 - val_loss: 0.4119 - val_accuracy: 0.8353\n",
      "Epoch 15/200\n",
      "135/135 [==============================] - 0s 854us/step - loss: 0.4150 - accuracy: 0.8311 - val_loss: 0.4086 - val_accuracy: 0.8380\n",
      "Epoch 16/200\n",
      "135/135 [==============================] - 0s 1ms/step - loss: 0.4121 - accuracy: 0.8323 - val_loss: 0.4056 - val_accuracy: 0.8380\n",
      "Epoch 17/200\n",
      "135/135 [==============================] - 0s 987us/step - loss: 0.4095 - accuracy: 0.8336 - val_loss: 0.4029 - val_accuracy: 0.8393\n",
      "Epoch 18/200\n",
      "135/135 [==============================] - 0s 929us/step - loss: 0.4071 - accuracy: 0.8340 - val_loss: 0.4005 - val_accuracy: 0.8380\n",
      "Epoch 19/200\n",
      "135/135 [==============================] - 0s 730us/step - loss: 0.4049 - accuracy: 0.8346 - val_loss: 0.3982 - val_accuracy: 0.8380\n",
      "Epoch 20/200\n",
      "135/135 [==============================] - 0s 860us/step - loss: 0.4029 - accuracy: 0.8353 - val_loss: 0.3962 - val_accuracy: 0.8360\n",
      "Epoch 21/200\n",
      "135/135 [==============================] - 0s 1ms/step - loss: 0.4011 - accuracy: 0.8366 - val_loss: 0.3943 - val_accuracy: 0.8380\n",
      "Epoch 22/200\n",
      "135/135 [==============================] - 0s 861us/step - loss: 0.3994 - accuracy: 0.8370 - val_loss: 0.3925 - val_accuracy: 0.8387\n",
      "Epoch 23/200\n",
      "135/135 [==============================] - 0s 745us/step - loss: 0.3978 - accuracy: 0.8374 - val_loss: 0.3908 - val_accuracy: 0.8400\n",
      "Epoch 24/200\n",
      "135/135 [==============================] - 0s 2ms/step - loss: 0.3964 - accuracy: 0.8379 - val_loss: 0.3893 - val_accuracy: 0.8407\n",
      "Epoch 25/200\n",
      "135/135 [==============================] - 0s 2ms/step - loss: 0.3950 - accuracy: 0.8376 - val_loss: 0.3878 - val_accuracy: 0.8407\n",
      "Epoch 26/200\n",
      "135/135 [==============================] - 0s 739us/step - loss: 0.3938 - accuracy: 0.8375 - val_loss: 0.3865 - val_accuracy: 0.8427\n",
      "Epoch 27/200\n",
      "135/135 [==============================] - 0s 710us/step - loss: 0.3926 - accuracy: 0.8381 - val_loss: 0.3852 - val_accuracy: 0.8427\n",
      "Epoch 28/200\n",
      "135/135 [==============================] - 0s 1ms/step - loss: 0.3915 - accuracy: 0.8381 - val_loss: 0.3841 - val_accuracy: 0.8440\n",
      "Epoch 29/200\n",
      "135/135 [==============================] - 0s 812us/step - loss: 0.3905 - accuracy: 0.8387 - val_loss: 0.3829 - val_accuracy: 0.8460\n",
      "Epoch 30/200\n",
      "135/135 [==============================] - 0s 1ms/step - loss: 0.3895 - accuracy: 0.8390 - val_loss: 0.3819 - val_accuracy: 0.8480\n",
      "Epoch 31/200\n",
      "135/135 [==============================] - 0s 1ms/step - loss: 0.3886 - accuracy: 0.8394 - val_loss: 0.3809 - val_accuracy: 0.8480\n",
      "Epoch 32/200\n",
      "135/135 [==============================] - 0s 729us/step - loss: 0.3878 - accuracy: 0.8399 - val_loss: 0.3800 - val_accuracy: 0.8480\n",
      "Epoch 33/200\n",
      "135/135 [==============================] - 0s 1ms/step - loss: 0.3870 - accuracy: 0.8397 - val_loss: 0.3791 - val_accuracy: 0.8487\n",
      "Epoch 34/200\n",
      "135/135 [==============================] - 0s 882us/step - loss: 0.3862 - accuracy: 0.8396 - val_loss: 0.3782 - val_accuracy: 0.8500\n",
      "Epoch 35/200\n",
      "135/135 [==============================] - 0s 1ms/step - loss: 0.3855 - accuracy: 0.8399 - val_loss: 0.3774 - val_accuracy: 0.8493\n",
      "Epoch 36/200\n",
      "135/135 [==============================] - 0s 740us/step - loss: 0.3848 - accuracy: 0.8399 - val_loss: 0.3767 - val_accuracy: 0.8480\n",
      "Epoch 37/200\n",
      "135/135 [==============================] - 0s 880us/step - loss: 0.3842 - accuracy: 0.8399 - val_loss: 0.3759 - val_accuracy: 0.8473\n",
      "Epoch 38/200\n",
      "135/135 [==============================] - 0s 1ms/step - loss: 0.3836 - accuracy: 0.8398 - val_loss: 0.3753 - val_accuracy: 0.8473\n",
      "Epoch 39/200\n",
      "135/135 [==============================] - 0s 739us/step - loss: 0.3830 - accuracy: 0.8399 - val_loss: 0.3746 - val_accuracy: 0.8473\n",
      "Epoch 40/200\n",
      "135/135 [==============================] - 0s 716us/step - loss: 0.3825 - accuracy: 0.8393 - val_loss: 0.3740 - val_accuracy: 0.8480\n",
      "Epoch 41/200\n",
      "135/135 [==============================] - 0s 676us/step - loss: 0.3819 - accuracy: 0.8397 - val_loss: 0.3734 - val_accuracy: 0.8480\n",
      "Epoch 42/200\n",
      "135/135 [==============================] - 0s 735us/step - loss: 0.3815 - accuracy: 0.8399 - val_loss: 0.3728 - val_accuracy: 0.8473\n",
      "Epoch 43/200\n",
      "135/135 [==============================] - 0s 678us/step - loss: 0.3810 - accuracy: 0.8395 - val_loss: 0.3723 - val_accuracy: 0.8473\n",
      "Epoch 44/200\n",
      "135/135 [==============================] - 0s 681us/step - loss: 0.3805 - accuracy: 0.8393 - val_loss: 0.3718 - val_accuracy: 0.8473\n",
      "Epoch 45/200\n",
      "135/135 [==============================] - 0s 688us/step - loss: 0.3801 - accuracy: 0.8399 - val_loss: 0.3713 - val_accuracy: 0.8473\n",
      "Epoch 46/200\n",
      "135/135 [==============================] - 0s 701us/step - loss: 0.3797 - accuracy: 0.8399 - val_loss: 0.3708 - val_accuracy: 0.8473\n",
      "Epoch 47/200\n",
      "135/135 [==============================] - 0s 1ms/step - loss: 0.3793 - accuracy: 0.8399 - val_loss: 0.3703 - val_accuracy: 0.8473\n",
      "Epoch 48/200\n",
      "135/135 [==============================] - 0s 911us/step - loss: 0.3789 - accuracy: 0.8396 - val_loss: 0.3699 - val_accuracy: 0.8480\n",
      "Epoch 49/200\n",
      "135/135 [==============================] - 0s 865us/step - loss: 0.3786 - accuracy: 0.8396 - val_loss: 0.3695 - val_accuracy: 0.8473\n",
      "Epoch 50/200\n",
      "135/135 [==============================] - 0s 800us/step - loss: 0.3783 - accuracy: 0.8394 - val_loss: 0.3691 - val_accuracy: 0.8480\n",
      "Epoch 51/200\n",
      "135/135 [==============================] - 0s 752us/step - loss: 0.3779 - accuracy: 0.8393 - val_loss: 0.3687 - val_accuracy: 0.8480\n",
      "Epoch 52/200\n",
      "135/135 [==============================] - 0s 1ms/step - loss: 0.3776 - accuracy: 0.8398 - val_loss: 0.3683 - val_accuracy: 0.8493\n",
      "Epoch 53/200\n"
     ]
    },
    {
     "name": "stdout",
     "output_type": "stream",
     "text": [
      "135/135 [==============================] - 0s 706us/step - loss: 0.3773 - accuracy: 0.8396 - val_loss: 0.3680 - val_accuracy: 0.8493\n",
      "Epoch 54/200\n",
      "135/135 [==============================] - 0s 695us/step - loss: 0.3770 - accuracy: 0.8399 - val_loss: 0.3677 - val_accuracy: 0.8487\n",
      "Epoch 55/200\n",
      "135/135 [==============================] - 0s 772us/step - loss: 0.3768 - accuracy: 0.8397 - val_loss: 0.3673 - val_accuracy: 0.8487\n",
      "Epoch 56/200\n",
      "135/135 [==============================] - 0s 689us/step - loss: 0.3765 - accuracy: 0.8399 - val_loss: 0.3670 - val_accuracy: 0.8487\n",
      "Epoch 57/200\n",
      "135/135 [==============================] - 0s 891us/step - loss: 0.3763 - accuracy: 0.8404 - val_loss: 0.3667 - val_accuracy: 0.8480\n",
      "Epoch 58/200\n",
      "135/135 [==============================] - 0s 766us/step - loss: 0.3760 - accuracy: 0.8401 - val_loss: 0.3664 - val_accuracy: 0.8480\n",
      "Epoch 59/200\n",
      "135/135 [==============================] - 0s 888us/step - loss: 0.3758 - accuracy: 0.8401 - val_loss: 0.3661 - val_accuracy: 0.8480\n",
      "Epoch 60/200\n",
      "135/135 [==============================] - 0s 699us/step - loss: 0.3756 - accuracy: 0.8402 - val_loss: 0.3659 - val_accuracy: 0.8473\n",
      "Epoch 61/200\n",
      "135/135 [==============================] - 0s 1ms/step - loss: 0.3754 - accuracy: 0.8404 - val_loss: 0.3656 - val_accuracy: 0.8467\n",
      "Epoch 62/200\n",
      "135/135 [==============================] - 0s 757us/step - loss: 0.3752 - accuracy: 0.8402 - val_loss: 0.3653 - val_accuracy: 0.8467\n",
      "Epoch 63/200\n",
      "135/135 [==============================] - 0s 771us/step - loss: 0.3750 - accuracy: 0.8405 - val_loss: 0.3651 - val_accuracy: 0.8467\n",
      "Epoch 64/200\n",
      "135/135 [==============================] - 0s 745us/step - loss: 0.3748 - accuracy: 0.8400 - val_loss: 0.3649 - val_accuracy: 0.8467\n",
      "Epoch 65/200\n",
      "135/135 [==============================] - 0s 839us/step - loss: 0.3746 - accuracy: 0.8403 - val_loss: 0.3646 - val_accuracy: 0.8473\n",
      "Epoch 66/200\n",
      "135/135 [==============================] - 0s 954us/step - loss: 0.3744 - accuracy: 0.8402 - val_loss: 0.3644 - val_accuracy: 0.8467\n",
      "Epoch 67/200\n",
      "135/135 [==============================] - 0s 995us/step - loss: 0.3743 - accuracy: 0.8404 - val_loss: 0.3642 - val_accuracy: 0.8460\n",
      "Epoch 68/200\n",
      "135/135 [==============================] - 0s 2ms/step - loss: 0.3741 - accuracy: 0.8404 - val_loss: 0.3640 - val_accuracy: 0.8460\n",
      "Epoch 69/200\n",
      "135/135 [==============================] - 0s 999us/step - loss: 0.3739 - accuracy: 0.8404 - val_loss: 0.3638 - val_accuracy: 0.8460\n",
      "Epoch 70/200\n",
      "135/135 [==============================] - 0s 1ms/step - loss: 0.3738 - accuracy: 0.8402 - val_loss: 0.3636 - val_accuracy: 0.8473\n",
      "Epoch 71/200\n",
      "135/135 [==============================] - 0s 650us/step - loss: 0.3736 - accuracy: 0.8401 - val_loss: 0.3634 - val_accuracy: 0.8460\n",
      "Epoch 72/200\n",
      "135/135 [==============================] - 0s 835us/step - loss: 0.3735 - accuracy: 0.8404 - val_loss: 0.3633 - val_accuracy: 0.8460\n",
      "Epoch 73/200\n",
      "135/135 [==============================] - 0s 800us/step - loss: 0.3734 - accuracy: 0.8404 - val_loss: 0.3631 - val_accuracy: 0.8467\n",
      "Epoch 74/200\n",
      "135/135 [==============================] - 0s 1ms/step - loss: 0.3732 - accuracy: 0.8407 - val_loss: 0.3629 - val_accuracy: 0.8473\n",
      "Epoch 75/200\n",
      "135/135 [==============================] - 0s 674us/step - loss: 0.3731 - accuracy: 0.8404 - val_loss: 0.3628 - val_accuracy: 0.8473\n",
      "Epoch 76/200\n",
      "135/135 [==============================] - 0s 768us/step - loss: 0.3730 - accuracy: 0.8402 - val_loss: 0.3626 - val_accuracy: 0.8480\n",
      "Epoch 77/200\n",
      "135/135 [==============================] - 0s 689us/step - loss: 0.3729 - accuracy: 0.8402 - val_loss: 0.3625 - val_accuracy: 0.8487\n",
      "Epoch 78/200\n",
      "135/135 [==============================] - 0s 768us/step - loss: 0.3728 - accuracy: 0.8404 - val_loss: 0.3623 - val_accuracy: 0.8487\n",
      "Epoch 79/200\n",
      "135/135 [==============================] - 0s 2ms/step - loss: 0.3727 - accuracy: 0.8403 - val_loss: 0.3622 - val_accuracy: 0.8493\n",
      "Epoch 80/200\n",
      "135/135 [==============================] - 0s 1ms/step - loss: 0.3726 - accuracy: 0.8401 - val_loss: 0.3620 - val_accuracy: 0.8493\n",
      "Epoch 81/200\n",
      "135/135 [==============================] - 0s 778us/step - loss: 0.3725 - accuracy: 0.8399 - val_loss: 0.3619 - val_accuracy: 0.8493\n",
      "Epoch 82/200\n",
      "135/135 [==============================] - 0s 1ms/step - loss: 0.3724 - accuracy: 0.8398 - val_loss: 0.3618 - val_accuracy: 0.8493\n",
      "Epoch 83/200\n",
      "135/135 [==============================] - 0s 839us/step - loss: 0.3723 - accuracy: 0.8398 - val_loss: 0.3616 - val_accuracy: 0.8500\n",
      "Epoch 84/200\n",
      "135/135 [==============================] - 0s 1ms/step - loss: 0.3722 - accuracy: 0.8396 - val_loss: 0.3615 - val_accuracy: 0.8493\n",
      "Epoch 85/200\n",
      "135/135 [==============================] - 0s 851us/step - loss: 0.3721 - accuracy: 0.8396 - val_loss: 0.3614 - val_accuracy: 0.8493\n",
      "Epoch 86/200\n",
      "135/135 [==============================] - 0s 1ms/step - loss: 0.3720 - accuracy: 0.8399 - val_loss: 0.3613 - val_accuracy: 0.8500\n",
      "Epoch 87/200\n",
      "135/135 [==============================] - 0s 2ms/step - loss: 0.3719 - accuracy: 0.8398 - val_loss: 0.3611 - val_accuracy: 0.8500\n",
      "Epoch 88/200\n",
      "135/135 [==============================] - 0s 1ms/step - loss: 0.3718 - accuracy: 0.8393 - val_loss: 0.3610 - val_accuracy: 0.8500\n",
      "Epoch 89/200\n",
      "135/135 [==============================] - 0s 1ms/step - loss: 0.3718 - accuracy: 0.8393 - val_loss: 0.3609 - val_accuracy: 0.8500\n",
      "Epoch 90/200\n",
      "135/135 [==============================] - 0s 1ms/step - loss: 0.3717 - accuracy: 0.8397 - val_loss: 0.3608 - val_accuracy: 0.8493\n",
      "Epoch 91/200\n",
      "135/135 [==============================] - 0s 1ms/step - loss: 0.3716 - accuracy: 0.8398 - val_loss: 0.3607 - val_accuracy: 0.8493\n",
      "Epoch 92/200\n",
      "135/135 [==============================] - 0s 769us/step - loss: 0.3715 - accuracy: 0.8396 - val_loss: 0.3606 - val_accuracy: 0.8493\n",
      "Epoch 93/200\n",
      "135/135 [==============================] - 0s 899us/step - loss: 0.3715 - accuracy: 0.8399 - val_loss: 0.3605 - val_accuracy: 0.8493\n",
      "Epoch 94/200\n",
      "135/135 [==============================] - 0s 1ms/step - loss: 0.3714 - accuracy: 0.8394 - val_loss: 0.3605 - val_accuracy: 0.8493\n",
      "Epoch 95/200\n",
      "135/135 [==============================] - 0s 795us/step - loss: 0.3713 - accuracy: 0.8395 - val_loss: 0.3604 - val_accuracy: 0.8493\n",
      "Epoch 96/200\n",
      "135/135 [==============================] - 0s 1ms/step - loss: 0.3713 - accuracy: 0.8392 - val_loss: 0.3603 - val_accuracy: 0.8500\n",
      "Epoch 97/200\n",
      "135/135 [==============================] - 0s 1ms/step - loss: 0.3712 - accuracy: 0.8394 - val_loss: 0.3602 - val_accuracy: 0.8500\n",
      "Epoch 98/200\n",
      "135/135 [==============================] - 0s 703us/step - loss: 0.3712 - accuracy: 0.8387 - val_loss: 0.3601 - val_accuracy: 0.8500\n",
      "Epoch 99/200\n",
      "135/135 [==============================] - 0s 797us/step - loss: 0.3711 - accuracy: 0.8392 - val_loss: 0.3600 - val_accuracy: 0.8500\n",
      "Epoch 100/200\n",
      "135/135 [==============================] - 0s 1ms/step - loss: 0.3711 - accuracy: 0.8395 - val_loss: 0.3599 - val_accuracy: 0.8507\n",
      "Epoch 101/200\n",
      "135/135 [==============================] - 0s 1ms/step - loss: 0.3710 - accuracy: 0.8389 - val_loss: 0.3599 - val_accuracy: 0.8507\n",
      "Epoch 102/200\n",
      "135/135 [==============================] - 0s 2ms/step - loss: 0.3710 - accuracy: 0.8387 - val_loss: 0.3598 - val_accuracy: 0.8507\n",
      "Epoch 103/200\n",
      "135/135 [==============================] - 0s 2ms/step - loss: 0.3709 - accuracy: 0.8387 - val_loss: 0.3597 - val_accuracy: 0.8507\n",
      "Epoch 104/200\n",
      "135/135 [==============================] - 0s 847us/step - loss: 0.3709 - accuracy: 0.8387 - val_loss: 0.3597 - val_accuracy: 0.8507\n",
      "Epoch 105/200\n",
      "135/135 [==============================] - 0s 722us/step - loss: 0.3708 - accuracy: 0.8390 - val_loss: 0.3596 - val_accuracy: 0.8507\n",
      "Epoch 106/200\n",
      "135/135 [==============================] - 0s 797us/step - loss: 0.3708 - accuracy: 0.8385 - val_loss: 0.3595 - val_accuracy: 0.8507\n",
      "Epoch 107/200\n",
      "135/135 [==============================] - 0s 1ms/step - loss: 0.3707 - accuracy: 0.8387 - val_loss: 0.3595 - val_accuracy: 0.8507\n",
      "Epoch 108/200\n",
      "135/135 [==============================] - 0s 769us/step - loss: 0.3707 - accuracy: 0.8389 - val_loss: 0.3594 - val_accuracy: 0.8507\n",
      "Epoch 109/200\n"
     ]
    },
    {
     "name": "stdout",
     "output_type": "stream",
     "text": [
      "135/135 [==============================] - 0s 893us/step - loss: 0.3706 - accuracy: 0.8387 - val_loss: 0.3593 - val_accuracy: 0.8513\n",
      "Epoch 110/200\n",
      "135/135 [==============================] - 0s 707us/step - loss: 0.3706 - accuracy: 0.8387 - val_loss: 0.3593 - val_accuracy: 0.8513\n",
      "Epoch 111/200\n",
      "135/135 [==============================] - 0s 844us/step - loss: 0.3706 - accuracy: 0.8386 - val_loss: 0.3592 - val_accuracy: 0.8507\n",
      "Epoch 112/200\n",
      "135/135 [==============================] - 0s 1ms/step - loss: 0.3705 - accuracy: 0.8388 - val_loss: 0.3592 - val_accuracy: 0.8507\n",
      "Epoch 113/200\n",
      "135/135 [==============================] - 0s 885us/step - loss: 0.3705 - accuracy: 0.8387 - val_loss: 0.3591 - val_accuracy: 0.8507\n",
      "Epoch 114/200\n",
      "135/135 [==============================] - 0s 1ms/step - loss: 0.3704 - accuracy: 0.8384 - val_loss: 0.3590 - val_accuracy: 0.8507\n",
      "Epoch 115/200\n",
      "135/135 [==============================] - 0s 1ms/step - loss: 0.3704 - accuracy: 0.8387 - val_loss: 0.3590 - val_accuracy: 0.8507\n",
      "Epoch 116/200\n",
      "135/135 [==============================] - 0s 716us/step - loss: 0.3704 - accuracy: 0.8385 - val_loss: 0.3589 - val_accuracy: 0.8507\n",
      "Epoch 117/200\n",
      "135/135 [==============================] - 0s 872us/step - loss: 0.3703 - accuracy: 0.8386 - val_loss: 0.3589 - val_accuracy: 0.8507\n",
      "Epoch 118/200\n",
      "135/135 [==============================] - 0s 731us/step - loss: 0.3703 - accuracy: 0.8385 - val_loss: 0.3588 - val_accuracy: 0.8507\n",
      "Epoch 119/200\n",
      "135/135 [==============================] - 0s 889us/step - loss: 0.3703 - accuracy: 0.8386 - val_loss: 0.3588 - val_accuracy: 0.8507\n",
      "Epoch 120/200\n",
      "135/135 [==============================] - 0s 697us/step - loss: 0.3703 - accuracy: 0.8387 - val_loss: 0.3587 - val_accuracy: 0.8507\n",
      "Epoch 121/200\n",
      "135/135 [==============================] - 0s 711us/step - loss: 0.3702 - accuracy: 0.8389 - val_loss: 0.3587 - val_accuracy: 0.8507\n",
      "Epoch 122/200\n",
      "135/135 [==============================] - 0s 817us/step - loss: 0.3702 - accuracy: 0.8387 - val_loss: 0.3586 - val_accuracy: 0.8507\n",
      "Epoch 123/200\n",
      "135/135 [==============================] - 0s 913us/step - loss: 0.3702 - accuracy: 0.8388 - val_loss: 0.3586 - val_accuracy: 0.8507\n",
      "Epoch 124/200\n",
      "135/135 [==============================] - 0s 1ms/step - loss: 0.3701 - accuracy: 0.8387 - val_loss: 0.3586 - val_accuracy: 0.8507\n",
      "Epoch 125/200\n",
      "135/135 [==============================] - 0s 937us/step - loss: 0.3701 - accuracy: 0.8388 - val_loss: 0.3585 - val_accuracy: 0.8507\n",
      "Epoch 126/200\n",
      "135/135 [==============================] - 0s 715us/step - loss: 0.3701 - accuracy: 0.8387 - val_loss: 0.3585 - val_accuracy: 0.8507\n",
      "Epoch 127/200\n",
      "135/135 [==============================] - 0s 993us/step - loss: 0.3701 - accuracy: 0.8385 - val_loss: 0.3584 - val_accuracy: 0.8507\n",
      "Epoch 128/200\n",
      "135/135 [==============================] - 0s 2ms/step - loss: 0.3700 - accuracy: 0.8386 - val_loss: 0.3584 - val_accuracy: 0.8507\n",
      "Epoch 129/200\n",
      "135/135 [==============================] - 0s 798us/step - loss: 0.3700 - accuracy: 0.8389 - val_loss: 0.3584 - val_accuracy: 0.8507\n",
      "Epoch 130/200\n",
      "135/135 [==============================] - 0s 690us/step - loss: 0.3700 - accuracy: 0.8385 - val_loss: 0.3583 - val_accuracy: 0.8507\n",
      "Epoch 131/200\n",
      "135/135 [==============================] - 0s 725us/step - loss: 0.3700 - accuracy: 0.8387 - val_loss: 0.3583 - val_accuracy: 0.8507\n",
      "Epoch 132/200\n",
      "135/135 [==============================] - 0s 714us/step - loss: 0.3699 - accuracy: 0.8387 - val_loss: 0.3582 - val_accuracy: 0.8507\n",
      "Epoch 133/200\n",
      "135/135 [==============================] - 0s 1ms/step - loss: 0.3699 - accuracy: 0.8387 - val_loss: 0.3582 - val_accuracy: 0.8507\n",
      "Epoch 134/200\n",
      "135/135 [==============================] - 0s 1ms/step - loss: 0.3699 - accuracy: 0.8387 - val_loss: 0.3582 - val_accuracy: 0.8507\n",
      "Epoch 135/200\n",
      "135/135 [==============================] - 0s 1ms/step - loss: 0.3699 - accuracy: 0.8389 - val_loss: 0.3581 - val_accuracy: 0.8507\n",
      "Epoch 136/200\n",
      "135/135 [==============================] - 0s 2ms/step - loss: 0.3699 - accuracy: 0.8391 - val_loss: 0.3581 - val_accuracy: 0.8507\n",
      "Epoch 137/200\n",
      "135/135 [==============================] - 0s 1ms/step - loss: 0.3698 - accuracy: 0.8387 - val_loss: 0.3581 - val_accuracy: 0.8500\n",
      "Epoch 138/200\n",
      "135/135 [==============================] - 0s 1ms/step - loss: 0.3698 - accuracy: 0.8390 - val_loss: 0.3580 - val_accuracy: 0.8500\n",
      "Epoch 139/200\n",
      "135/135 [==============================] - 0s 746us/step - loss: 0.3698 - accuracy: 0.8387 - val_loss: 0.3580 - val_accuracy: 0.8500\n",
      "Epoch 140/200\n",
      "135/135 [==============================] - 0s 707us/step - loss: 0.3698 - accuracy: 0.8389 - val_loss: 0.3580 - val_accuracy: 0.8500\n",
      "Epoch 141/200\n",
      "135/135 [==============================] - 0s 853us/step - loss: 0.3698 - accuracy: 0.8389 - val_loss: 0.3579 - val_accuracy: 0.8500\n",
      "Epoch 142/200\n",
      "135/135 [==============================] - 0s 949us/step - loss: 0.3698 - accuracy: 0.8390 - val_loss: 0.3579 - val_accuracy: 0.8500\n",
      "Epoch 143/200\n",
      "135/135 [==============================] - 0s 808us/step - loss: 0.3697 - accuracy: 0.8391 - val_loss: 0.3579 - val_accuracy: 0.8500\n",
      "Epoch 144/200\n",
      "135/135 [==============================] - 0s 900us/step - loss: 0.3697 - accuracy: 0.8387 - val_loss: 0.3579 - val_accuracy: 0.8500\n",
      "Epoch 145/200\n",
      "135/135 [==============================] - 0s 1ms/step - loss: 0.3697 - accuracy: 0.8389 - val_loss: 0.3578 - val_accuracy: 0.8500\n",
      "Epoch 146/200\n",
      "135/135 [==============================] - 0s 2ms/step - loss: 0.3697 - accuracy: 0.8390 - val_loss: 0.3578 - val_accuracy: 0.8500\n",
      "Epoch 147/200\n",
      "135/135 [==============================] - 0s 874us/step - loss: 0.3697 - accuracy: 0.8388 - val_loss: 0.3578 - val_accuracy: 0.8500\n",
      "Epoch 148/200\n",
      "135/135 [==============================] - 0s 1ms/step - loss: 0.3697 - accuracy: 0.8389 - val_loss: 0.3578 - val_accuracy: 0.8500\n",
      "Epoch 149/200\n",
      "135/135 [==============================] - 0s 803us/step - loss: 0.3697 - accuracy: 0.8387 - val_loss: 0.3577 - val_accuracy: 0.8500\n",
      "Epoch 150/200\n",
      "135/135 [==============================] - 0s 720us/step - loss: 0.3696 - accuracy: 0.8387 - val_loss: 0.3577 - val_accuracy: 0.8500\n",
      "Epoch 151/200\n",
      "135/135 [==============================] - 0s 721us/step - loss: 0.3696 - accuracy: 0.8387 - val_loss: 0.3577 - val_accuracy: 0.8500\n",
      "Epoch 152/200\n",
      "135/135 [==============================] - 0s 728us/step - loss: 0.3696 - accuracy: 0.8387 - val_loss: 0.3577 - val_accuracy: 0.8500\n",
      "Epoch 153/200\n",
      "135/135 [==============================] - 0s 920us/step - loss: 0.3696 - accuracy: 0.8385 - val_loss: 0.3576 - val_accuracy: 0.8500\n",
      "Epoch 154/200\n",
      "135/135 [==============================] - 0s 887us/step - loss: 0.3696 - accuracy: 0.8385 - val_loss: 0.3576 - val_accuracy: 0.8500\n",
      "Epoch 155/200\n",
      "135/135 [==============================] - 0s 781us/step - loss: 0.3696 - accuracy: 0.8387 - val_loss: 0.3576 - val_accuracy: 0.8500\n",
      "Epoch 156/200\n",
      "135/135 [==============================] - 0s 687us/step - loss: 0.3696 - accuracy: 0.8384 - val_loss: 0.3576 - val_accuracy: 0.8500\n",
      "Epoch 157/200\n",
      "135/135 [==============================] - 0s 1ms/step - loss: 0.3695 - accuracy: 0.8387 - val_loss: 0.3575 - val_accuracy: 0.8500\n",
      "Epoch 158/200\n",
      "135/135 [==============================] - 0s 996us/step - loss: 0.3695 - accuracy: 0.8387 - val_loss: 0.3575 - val_accuracy: 0.8500\n",
      "Epoch 159/200\n",
      "135/135 [==============================] - 0s 827us/step - loss: 0.3695 - accuracy: 0.8383 - val_loss: 0.3575 - val_accuracy: 0.8500\n",
      "Epoch 160/200\n",
      "135/135 [==============================] - 0s 1ms/step - loss: 0.3695 - accuracy: 0.8386 - val_loss: 0.3575 - val_accuracy: 0.8500\n",
      "Epoch 161/200\n",
      "135/135 [==============================] - 0s 2ms/step - loss: 0.3695 - accuracy: 0.8385 - val_loss: 0.3575 - val_accuracy: 0.8500\n",
      "Epoch 162/200\n",
      "135/135 [==============================] - 0s 832us/step - loss: 0.3695 - accuracy: 0.8387 - val_loss: 0.3574 - val_accuracy: 0.8500\n",
      "Epoch 163/200\n",
      "135/135 [==============================] - 0s 709us/step - loss: 0.3695 - accuracy: 0.8386 - val_loss: 0.3574 - val_accuracy: 0.8500\n",
      "Epoch 164/200\n",
      "135/135 [==============================] - 0s 914us/step - loss: 0.3695 - accuracy: 0.8384 - val_loss: 0.3574 - val_accuracy: 0.8500\n",
      "Epoch 165/200\n"
     ]
    },
    {
     "name": "stdout",
     "output_type": "stream",
     "text": [
      "135/135 [==============================] - 0s 834us/step - loss: 0.3695 - accuracy: 0.8384 - val_loss: 0.3574 - val_accuracy: 0.8500\n",
      "Epoch 166/200\n",
      "135/135 [==============================] - 0s 718us/step - loss: 0.3695 - accuracy: 0.8384 - val_loss: 0.3574 - val_accuracy: 0.8500\n",
      "Epoch 167/200\n",
      "135/135 [==============================] - 0s 831us/step - loss: 0.3694 - accuracy: 0.8387 - val_loss: 0.3573 - val_accuracy: 0.8500\n",
      "Epoch 168/200\n",
      "135/135 [==============================] - 0s 787us/step - loss: 0.3694 - accuracy: 0.8384 - val_loss: 0.3573 - val_accuracy: 0.8493\n",
      "Epoch 169/200\n",
      "135/135 [==============================] - 0s 1ms/step - loss: 0.3694 - accuracy: 0.8384 - val_loss: 0.3573 - val_accuracy: 0.8493\n",
      "Epoch 170/200\n",
      "135/135 [==============================] - 0s 815us/step - loss: 0.3694 - accuracy: 0.8384 - val_loss: 0.3573 - val_accuracy: 0.8493\n",
      "Epoch 171/200\n",
      "135/135 [==============================] - 0s 946us/step - loss: 0.3694 - accuracy: 0.8386 - val_loss: 0.3573 - val_accuracy: 0.8487\n",
      "Epoch 172/200\n",
      "135/135 [==============================] - 0s 891us/step - loss: 0.3694 - accuracy: 0.8387 - val_loss: 0.3573 - val_accuracy: 0.8487\n",
      "Epoch 173/200\n",
      "135/135 [==============================] - 0s 1ms/step - loss: 0.3694 - accuracy: 0.8386 - val_loss: 0.3572 - val_accuracy: 0.8487\n",
      "Epoch 174/200\n",
      "135/135 [==============================] - 0s 708us/step - loss: 0.3694 - accuracy: 0.8387 - val_loss: 0.3572 - val_accuracy: 0.8487\n",
      "Epoch 175/200\n",
      "135/135 [==============================] - 0s 829us/step - loss: 0.3694 - accuracy: 0.8384 - val_loss: 0.3572 - val_accuracy: 0.8487\n",
      "Epoch 176/200\n",
      "135/135 [==============================] - 0s 802us/step - loss: 0.3694 - accuracy: 0.8383 - val_loss: 0.3572 - val_accuracy: 0.8487\n",
      "Epoch 177/200\n",
      "135/135 [==============================] - 0s 930us/step - loss: 0.3694 - accuracy: 0.8385 - val_loss: 0.3572 - val_accuracy: 0.8487\n",
      "Epoch 178/200\n",
      "135/135 [==============================] - 0s 731us/step - loss: 0.3694 - accuracy: 0.8382 - val_loss: 0.3572 - val_accuracy: 0.8487\n",
      "Epoch 179/200\n",
      "135/135 [==============================] - 0s 749us/step - loss: 0.3693 - accuracy: 0.8384 - val_loss: 0.3571 - val_accuracy: 0.8487\n",
      "Epoch 180/200\n",
      "135/135 [==============================] - 0s 969us/step - loss: 0.3693 - accuracy: 0.8384 - val_loss: 0.3571 - val_accuracy: 0.8487\n",
      "Epoch 181/200\n",
      "135/135 [==============================] - 0s 780us/step - loss: 0.3693 - accuracy: 0.8384 - val_loss: 0.3571 - val_accuracy: 0.8487\n",
      "Epoch 182/200\n",
      "135/135 [==============================] - 0s 750us/step - loss: 0.3693 - accuracy: 0.8383 - val_loss: 0.3571 - val_accuracy: 0.8487\n",
      "Epoch 183/200\n",
      "135/135 [==============================] - 0s 806us/step - loss: 0.3693 - accuracy: 0.8381 - val_loss: 0.3571 - val_accuracy: 0.8487\n",
      "Epoch 184/200\n",
      "135/135 [==============================] - 0s 684us/step - loss: 0.3693 - accuracy: 0.8383 - val_loss: 0.3571 - val_accuracy: 0.8487\n",
      "Epoch 185/200\n",
      "135/135 [==============================] - 0s 691us/step - loss: 0.3693 - accuracy: 0.8384 - val_loss: 0.3571 - val_accuracy: 0.8487\n",
      "Epoch 186/200\n",
      "135/135 [==============================] - 0s 991us/step - loss: 0.3693 - accuracy: 0.8384 - val_loss: 0.3571 - val_accuracy: 0.8487\n",
      "Epoch 187/200\n",
      "135/135 [==============================] - 0s 742us/step - loss: 0.3693 - accuracy: 0.8384 - val_loss: 0.3570 - val_accuracy: 0.8487\n",
      "Epoch 188/200\n",
      "135/135 [==============================] - 0s 1ms/step - loss: 0.3693 - accuracy: 0.8383 - val_loss: 0.3570 - val_accuracy: 0.8487\n",
      "Epoch 189/200\n",
      "135/135 [==============================] - 0s 1ms/step - loss: 0.3693 - accuracy: 0.8382 - val_loss: 0.3570 - val_accuracy: 0.8487\n",
      "Epoch 190/200\n",
      "135/135 [==============================] - 0s 789us/step - loss: 0.3693 - accuracy: 0.8381 - val_loss: 0.3570 - val_accuracy: 0.8487\n",
      "Epoch 191/200\n",
      "135/135 [==============================] - 0s 957us/step - loss: 0.3693 - accuracy: 0.8382 - val_loss: 0.3570 - val_accuracy: 0.8487\n",
      "Epoch 192/200\n",
      "135/135 [==============================] - 0s 875us/step - loss: 0.3693 - accuracy: 0.8382 - val_loss: 0.3570 - val_accuracy: 0.8487\n",
      "Epoch 193/200\n",
      "135/135 [==============================] - 0s 768us/step - loss: 0.3693 - accuracy: 0.8381 - val_loss: 0.3570 - val_accuracy: 0.8487\n",
      "Epoch 194/200\n",
      "135/135 [==============================] - 0s 2ms/step - loss: 0.3693 - accuracy: 0.8383 - val_loss: 0.3570 - val_accuracy: 0.8480\n",
      "Epoch 195/200\n",
      "135/135 [==============================] - 0s 812us/step - loss: 0.3692 - accuracy: 0.8381 - val_loss: 0.3569 - val_accuracy: 0.8487\n",
      "Epoch 196/200\n",
      "135/135 [==============================] - 0s 711us/step - loss: 0.3692 - accuracy: 0.8381 - val_loss: 0.3569 - val_accuracy: 0.8487\n",
      "Epoch 197/200\n",
      "135/135 [==============================] - 0s 1ms/step - loss: 0.3692 - accuracy: 0.8379 - val_loss: 0.3569 - val_accuracy: 0.8487\n",
      "Epoch 198/200\n",
      "135/135 [==============================] - 0s 937us/step - loss: 0.3692 - accuracy: 0.8382 - val_loss: 0.3569 - val_accuracy: 0.8480\n",
      "Epoch 199/200\n",
      "135/135 [==============================] - 0s 999us/step - loss: 0.3692 - accuracy: 0.8382 - val_loss: 0.3569 - val_accuracy: 0.8480\n",
      "Epoch 200/200\n",
      "135/135 [==============================] - 0s 723us/step - loss: 0.3692 - accuracy: 0.8379 - val_loss: 0.3569 - val_accuracy: 0.8487\n"
     ]
    }
   ],
   "source": [
    "import tensorflow\n",
    "print(tensorflow.__version__)\n",
    "from tensorflow import keras\n",
    "#from keras.utils import plot_model\n",
    "from tensorflow.keras.layers import Dense\n",
    "from sklearn.model_selection import train_test_split\n",
    "import warnings\n",
    "\n",
    "varnum=X_train.shape[1]\n",
    "model = keras.Sequential()\n",
    "model.add(keras.layers.Dense(1, input_dim=varnum, activation='sigmoid'))\n",
    "model.summary()\n",
    "\n",
    "model.compile(optimizer='SGD',\n",
    "              loss='binary_crossentropy',\n",
    "              metrics=['accuracy'])\n",
    "history=model.fit(X_train, y_train, \n",
    "                  validation_data=(X_val,y_val), \n",
    "                  batch_size=100, epochs=200)"
   ]
  },
  {
   "cell_type": "markdown",
   "metadata": {},
   "source": [
    "## Run prediction"
   ]
  },
  {
   "cell_type": "code",
   "execution_count": 12,
   "metadata": {},
   "outputs": [
    {
     "name": "stdout",
     "output_type": "stream",
     "text": [
      "157/157 [==============================] - 0s 740us/step\n"
     ]
    }
   ],
   "source": [
    "Ypredr=model.predict(X_test)"
   ]
  },
  {
   "cell_type": "markdown",
   "metadata": {},
   "source": [
    "## Create dataframe with labels, probabilities  and normalisation weights"
   ]
  },
  {
   "cell_type": "code",
   "execution_count": 13,
   "metadata": {},
   "outputs": [],
   "source": [
    "df_test_acc_r=X_testw.copy()\n",
    "\n",
    "df_test_acc_r['SIG']=y_test\n",
    "df_test_acc_r['PROB']=Ypredr"
   ]
  },
  {
   "cell_type": "markdown",
   "metadata": {},
   "source": [
    "# Look at the classification performance"
   ]
  },
  {
   "cell_type": "markdown",
   "metadata": {},
   "source": [
    "## Plot history of losses along epochs for Keras"
   ]
  },
  {
   "cell_type": "code",
   "execution_count": 14,
   "metadata": {},
   "outputs": [
    {
     "data": {
      "image/png": "[encoded data removed]",
      "text/plain": [
       "<Figure size 432x288 with 1 Axes>"
      ]
     },
     "metadata": {
      "needs_background": "light"
     },
     "output_type": "display_data"
    }
   ],
   "source": [
    "plt.plot(history.history['loss'])\n",
    "plt.plot(history.history['val_loss'])\n",
    "plt.title('regression')\n",
    "plt.ylabel('loss')\n",
    "plt.xlabel('epoch')\n",
    "plt.legend(['train', 'test'], loc='upper right')\n",
    "plt.show()"
   ]
  },
  {
   "cell_type": "markdown",
   "metadata": {},
   "source": [
    "## Plot distribution of output probabilities  for signal and backround\n",
    "\n",
    "The output of the classification is for each event a number between 0 and 1 representing the probability that that event is a signal event. Since for each event we know whether it was a signal (SIG=1) or a background (SIG=0), we can plot the output probability of the network for each of the two classes.\n",
    "This is done in order to understand on which variables the network leveraged for the classification\n"
   ]
  },
  {
   "cell_type": "code",
   "execution_count": 15,
   "metadata": {},
   "outputs": [
    {
     "name": "stdout",
     "output_type": "stream",
     "text": [
      "nsig  2530\n",
      "nbkg  2470\n"
     ]
    },
    {
     "data": {
      "image/png": "[encoded data removed]",
      "text/plain": [
       "<Figure size 432x288 with 1 Axes>"
      ]
     },
     "metadata": {
      "needs_background": "light"
     },
     "output_type": "display_data"
    }
   ],
   "source": [
    "# split according to the label\n",
    "df_test_acc_r_bkg = df_test_acc_r.query('SIG==0')\n",
    "df_test_acc_r_sig = df_test_acc_r.query('SIG==1')\n",
    "print('nsig ',df_test_acc_r_sig.shape[0])\n",
    "print('nbkg ',df_test_acc_r_bkg.shape[0])\n",
    "bins = np.linspace(0, 1,50)\n",
    "plt.hist(df_test_acc_r_bkg.PROB, bins, alpha=0.5, density=True, label='Background')\n",
    "plt.hist(df_test_acc_r_sig.PROB, bins, alpha=0.5, density=True, label='Signal')\n",
    "plt.legend(loc='best')\n",
    "plt.show()"
   ]
  },
  {
   "cell_type": "markdown",
   "metadata": {},
   "source": [
    "## Plot ROC curve and calculate AUC\n",
    "In order to perform our the final selection we put a lower limit on the value of the probability and we count the fraction of events above this limit for both signal and backround, i.e for each value of PROB we have two values: The 'true positive rate (TPR)' (efficiency of signal selection in HEP language), and 'false positive rate (FPR)' (efficency for selecting background). If we TPR versus FPR the other as a function of PROB we obtain a curve called the Receive Operating Characteristic (ROC) curve https://en.wikipedia.org/wiki/Receiver_operating_characteristic. Methods for building the ROC curve are availabel in sklearn.metrics. An ideal ROC curve would be along upper x and left y axes of the plot, corresponding to the case where all of the signal events have PROB=1 and all background events have PROB=0. The worst case is a curve where TPR=FPR, i.e. the discrimination power is the same as extracting a random number for PROB."
   ]
  },
  {
   "cell_type": "code",
   "execution_count": 16,
   "metadata": {},
   "outputs": [
    {
     "name": "stdout",
     "output_type": "stream",
     "text": [
      "Regression auc  0.8919372389624105\n"
     ]
    },
    {
     "data": {
      "text/plain": [
       "<function matplotlib.pyplot.show(close=None, block=None)>"
      ]
     },
     "execution_count": 16,
     "metadata": {},
     "output_type": "execute_result"
    },
    {
     "data": {
      "image/png": "[encoded data removed]",
      "text/plain": [
       "<Figure size 432x288 with 1 Axes>"
      ]
     },
     "metadata": {
      "needs_background": "light"
     },
     "output_type": "display_data"
    }
   ],
   "source": [
    "from sklearn.metrics import roc_curve\n",
    "from sklearn.metrics import auc\n",
    "from sklearn.metrics import roc_auc_score\n",
    "\n",
    "plt.plot([0.001, 1], [0, 1], 'k--')\n",
    "fpr_keras, tpr_keras, thresholds_keras = roc_curve(y_test, Ypredr)\n",
    "auc_keras = auc(fpr_keras, tpr_keras)\n",
    "print(\"Regression auc \",auc_keras)\n",
    "plt.plot(fpr_keras, tpr_keras, label='Regresssion AUC = {:.3f}'.format(auc_keras))\n",
    "plt.xlabel('False positive rate')\n",
    "plt.ylabel('True positive rate')\n",
    "plt.legend(loc='best')\n",
    "plt.show    \n"
   ]
  },
  {
   "cell_type": "markdown",
   "metadata": {},
   "source": [
    "# Calculate signal significance after selection"
   ]
  },
  {
   "cell_type": "code",
   "execution_count": 17,
   "metadata": {},
   "outputs": [
    {
     "name": "stdout",
     "output_type": "stream",
     "text": [
      "120.10336377600001 6645.151085783999\n"
     ]
    }
   ],
   "source": [
    "nsigw,nbgw=getnormev(df_test_acc_r,totf2,totf1,N)\n",
    "print(nsigw,nbgw)"
   ]
  },
  {
   "cell_type": "markdown",
   "metadata": {},
   "source": [
    "The output of the 'roc_curve' function is made of three vectors:\n",
    "\n",
    " * a vector with number of events 'SIG=0' with 'PROB' above threshold (false positives)\n",
    " * a vector with number of events 'SIG=1' with 'PROB' above threshold (true positives)\n",
    " * a vector of thresholds on 'PROB'\n",
    " \n",
    "We loop on the vector of thresholds, and for each threshold we calculate the number of signal and background events normalised to the LHC statistics, and on the basis of that we calculate significance"
   ]
  },
  {
   "cell_type": "code",
   "execution_count": 18,
   "metadata": {},
   "outputs": [],
   "source": [
    "from numpy import nanmax\n",
    "#   calculate significance for a discriminator yielding\n",
    "#   predictions Ypredt for labels y_test, assuming\n",
    "#   nsigtot:  number of signal events before selection\n",
    "#   nbgtot: nuber of background events before selection\n",
    "#   errfbg: fractional systematic uncertainty on background\n",
    "#\n",
    "def plot_signi_base(y_test, Ypredt, nsigtot, nbgtot, errfbg, lab):\n",
    "  fpr_keras, tpr_keras, thresholds_keras = roc_curve(y_test, Ypredt)\n",
    "  n_bg=fpr_keras*nbgtot\n",
    "  n_sig=tpr_keras*nsigtot\n",
    "  errbg=errfbg*n_bg\n",
    "  signi=[]\n",
    "  thr=[]      \n",
    "  for i in range(1,len(n_sig)):\n",
    "      if(thresholds_keras[i]>0.):\n",
    "        signi.append(calc_sig(n_sig[i],n_bg[i],errbg[i]))\n",
    "        thr.append(thresholds_keras[i])        \n",
    "  imax=-1\n",
    "  signimax=0.\n",
    "  for i in range(0,len(signi)):\n",
    "     if signi[i]>signimax:\n",
    "        imax=i\n",
    "        signimax=signi[i]  \n",
    "  maxs=nanmax(signi)\n",
    "  print(lab+\":\") \n",
    "  print(\" max significance is  \",signimax,\" nbg \",n_bg[imax],\" nsig \",n_sig[imax],\" cut \",thresholds_keras[imax])\n",
    "  print(\" background efficiency: \", n_bg[imax]/nbgtot,\" signal efficiency: \", n_sig[imax]/nsigtot )\n",
    "  plt.plot(thr,signi, label=lab)\n",
    "    \n",
    "  plt.xlabel('Cut on PROB')\n",
    "  plt.ylabel('Significance')\n",
    "\n",
    "\n",
    "  return thr, signi, imax\n",
    "\n",
    "\n",
    "  "
   ]
  },
  {
   "cell_type": "code",
   "execution_count": 19,
   "metadata": {},
   "outputs": [
    {
     "name": "stdout",
     "output_type": "stream",
     "text": [
      "nbg 6645.151085783999:\n",
      " max significance is   2.627508013098961  nbg  1092.2798950721879  nsig  92.52231462427827  cut  0.6466429\n",
      " background efficiency:  0.16437246963562754  signal efficiency:  0.7703557312252964\n"
     ]
    },
    {
     "data": {
      "text/plain": [
       "<function matplotlib.pyplot.show(close=None, block=None)>"
      ]
     },
     "execution_count": 19,
     "metadata": {},
     "output_type": "execute_result"
    },
    {
     "data": {
      "image/png": "[encoded data removed]",
      "text/plain": [
       "<Figure size 432x288 with 1 Axes>"
      ]
     },
     "metadata": {
      "needs_background": "light"
     },
     "output_type": "display_data"
    }
   ],
   "source": [
    "# The background estimate has a systematic  uncertainty  which is expressed as a fraction of background events\n",
    "# we use 1% \n",
    "bfr=0.01\n",
    "thr, signi, imax=plot_signi_base(y_test, Ypredr,nsigw,nbgw,bfr, 'nbg '+str(nbgw))\n",
    "plt.legend(loc='best')\n",
    "plt.show"
   ]
  },
  {
   "cell_type": "markdown",
   "metadata": {},
   "source": [
    "# Visualise weights\n",
    "\n",
    "The logistic regression network has only n+1 weights, where n is the number of variables on which the training is performed. Looking at the weights allows us to see which variables were found useful for discrimination by the network. It may be interesting to compare what the algorithm found with what we decided to cut on in the cut analysis in the notebook for the previous lecture "
   ]
  },
  {
   "cell_type": "code",
   "execution_count": 20,
   "metadata": {},
   "outputs": [
    {
     "name": "stdout",
     "output_type": "stream",
     "text": [
      "variable names Index(['ptl1', 'ptl2', 'dphil1m', 'dphil2m', 'etal1', 'etal2', 'met_et', 'mll',\n",
      "       'ptll', 'dphill', 'dphillm', 'mt'],\n",
      "      dtype='object')\n",
      "layer weights [[-1.0876305 ]\n",
      " [-0.54404974]\n",
      " [-0.03911907]\n",
      " [ 0.03724727]\n",
      " [-0.03020963]\n",
      " [ 0.03183336]\n",
      " [-0.43701527]\n",
      " [-3.0002968 ]\n",
      " [ 0.89455694]\n",
      " [-0.0420248 ]\n",
      " [-0.03630859]\n",
      " [-1.5400832 ]]\n",
      "layer biases [-1.3774273]\n",
      "(12,)\n"
     ]
    },
    {
     "data": {
      "image/png": "[encoded data removed]",
      "text/plain": [
       "<Figure size 432x288 with 1 Axes>"
      ]
     },
     "metadata": {
      "needs_background": "light"
     },
     "output_type": "display_data"
    }
   ],
   "source": [
    "layer_weights = model.layers[0].get_weights()[0]\n",
    "layer_biases  = model.layers[0].get_weights()[1]\n",
    "lw=np.asarray(layer_weights[:,0])\n",
    "print('variable names',X_testu.columns)\n",
    "print('layer weights',layer_weights)\n",
    "print('layer biases',layer_biases)\n",
    "print(lw.shape)\n",
    "plt.bar(np.arange(len(lw)), lw)\n",
    "plt.show()"
   ]
  },
  {
   "cell_type": "markdown",
   "metadata": {},
   "source": [
    "The dominant variable is m(ll) followed by mT. The variables involving the azimuthal angle and the eta position of the leptons do not provide any rejection, and could in principle be dropped"
   ]
  },
  {
   "cell_type": "markdown",
   "metadata": {},
   "source": [
    "## Compare label and prediction in 1-d projections"
   ]
  },
  {
   "cell_type": "code",
   "execution_count": 21,
   "metadata": {},
   "outputs": [
    {
     "data": {
      "image/png": "[encoded data removed]",
      "text/plain": [
       "<Figure size 1008x360 with 2 Axes>"
      ]
     },
     "metadata": {
      "needs_background": "light"
     },
     "output_type": "display_data"
    },
    {
     "data": {
      "image/png": "[encoded data removed]",
      "text/plain": [
       "<Figure size 1008x360 with 2 Axes>"
      ]
     },
     "metadata": {
      "needs_background": "light"
     },
     "output_type": "display_data"
    }
   ],
   "source": [
    "MeV=0.001\n",
    "pred_false='PROB<0.5'\n",
    "pred_true='PROB>0.5'\n",
    "lab_false='SIG==0'\n",
    "lab_true='SIG==1'\n",
    "nbin=50\n",
    "blow=0.\n",
    "fig1= plt.figure(figsize=(14,5))\n",
    "plt.subplot(1, 2,1)\n",
    "var=\"mt\"\n",
    "varmin=0.\n",
    "varmax=250.\n",
    "scale=MeV\n",
    "bins = np.linspace(varmin , varmax, nbin)\n",
    "plt.hist(df_test_acc_r.query(pred_false)[var]*scale, bins, alpha=0.5, density=True, label=pred_false)\n",
    "plt.hist(df_test_acc_r.query(pred_true)[var]*scale, bins, alpha=0.5, density=True, label=pred_true)\n",
    "plt.legend(loc='best')\n",
    "plt.xlabel(var)\n",
    "plt.ylabel('normalised events')\n",
    "plt.subplot(1, 2,2)\n",
    "plt.hist(df_test_acc_r.query(lab_false)[var]*MeV, bins, alpha=0.5, density=True, label=lab_false)\n",
    "plt.hist(df_test_acc_r.query(lab_true)[var]*MeV, bins, alpha=0.5, density=True, label=lab_true)\n",
    "plt.legend(loc='best')\n",
    "plt.xlabel(var)\n",
    "plt.ylabel('normalised events')\n",
    "plt.show()\n",
    "var=\"mll\"\n",
    "varmin=0.\n",
    "varmax=250\n",
    "scale=MeV\n",
    "bins = np.linspace(varmin , varmax, nbin)\n",
    "fig2= plt.figure(figsize=(14,5))\n",
    "plt.subplot(1, 2,1)\n",
    "plt.hist(df_test_acc_r.query(pred_false)[var]*MeV, bins, alpha=0.5, density=True, label=pred_false)\n",
    "plt.hist(df_test_acc_r.query(pred_true)[var]*MeV, bins, alpha=0.5, density=True, label=pred_true)\n",
    "plt.legend(loc='best')\n",
    "plt.xlabel(var)\n",
    "plt.ylabel('normalised events')\n",
    "plt.subplot(1, 2,2)\n",
    "plt.hist(df_test_acc_r.query(lab_false)[var]*MeV, bins, alpha=0.5, density=True, label=lab_false)\n",
    "plt.hist(df_test_acc_r.query(lab_true)[var]*MeV, bins, alpha=0.5, density=True, label=lab_true)\n",
    "plt.legend(loc='best')\n",
    "plt.xlabel(var)\n",
    "plt.ylabel('normalised events')\n",
    "plt.show()"
   ]
  },
  {
   "cell_type": "markdown",
   "metadata": {},
   "source": [
    "## Compare label and prediction in 2-d projections"
   ]
  },
  {
   "cell_type": "code",
   "execution_count": 22,
   "metadata": {},
   "outputs": [
    {
     "data": {
      "image/png": "[encoded data removed]",
      "text/plain": [
       "<Figure size 1008x360 with 2 Axes>"
      ]
     },
     "metadata": {
      "needs_background": "light"
     },
     "output_type": "display_data"
    },
    {
     "data": {
      "image/png": "[encoded data removed]",
      "text/plain": [
       "<Figure size 1008x360 with 2 Axes>"
      ]
     },
     "metadata": {
      "needs_background": "light"
     },
     "output_type": "display_data"
    }
   ],
   "source": [
    "pred_false='PROB<0.5'\n",
    "pred_true='PROB>0.5'\n",
    "lab_false='SIG==0'\n",
    "lab_true='SIG==1'\n",
    "varx=\"mt\"\n",
    "varminx=0.\n",
    "varmaxx=250.\n",
    "nbinx=50\n",
    "scalex=MeV\n",
    "vary=\"mll\"\n",
    "nbiny=50\n",
    "varminy=0.\n",
    "varmaxy=250\n",
    "scaley=MeV\n",
    "binx = np.linspace(varminx,varmaxx,nbinx)\n",
    "biny = np.linspace(varminy,varmaxy,nbiny)\n",
    "fig1= plt.figure(figsize=(14,5))\n",
    "plt.subplot(1, 2,1)\n",
    "plt.hist2d(df_test_acc_r.query(pred_false)[varx]*scalex, df_test_acc_r.query(pred_false)[vary]*scaley, \n",
    "           bins=[binx, biny], density=False)\n",
    "plt.xlabel(varx)\n",
    "plt.ylabel(vary)\n",
    "plt.title(pred_false)\n",
    "plt.subplot(1, 2,2)\n",
    "plt.hist2d(df_test_acc_r.query(lab_false)[varx]*scalex, df_test_acc_r.query(lab_false)[vary]*scaley, \n",
    "           bins=[binx, biny], density=False)\n",
    "plt.xlabel(varx)\n",
    "plt.ylabel(vary)\n",
    "plt.title(lab_false)\n",
    "plt.show()\n",
    "fig2= plt.figure(figsize=(14,5))\n",
    "plt.subplot(1, 2,1)\n",
    "plt.hist2d(df_test_acc_r.query(pred_true)[varx]*scalex, df_test_acc_r.query(pred_true)[vary]*scaley, \n",
    "           bins=[binx, biny], density=False)\n",
    "plt.xlabel(varx)\n",
    "plt.ylabel(vary)\n",
    "plt.title(pred_true)\n",
    "plt.subplot(1, 2,2)\n",
    "plt.hist2d(df_test_acc_r.query(lab_true)[varx]*scalex, df_test_acc_r.query(lab_true)[vary]*scaley, \n",
    "           bins=[binx, biny], density=False)\n",
    "plt.xlabel(varx)\n",
    "plt.ylabel(vary)\n",
    "plt.title(lab_true)\n",
    "plt.show()"
   ]
  },
  {
   "cell_type": "markdown",
   "metadata": {},
   "source": [
    "The algorithm effectively applies a cut of the type   mll<125-0.5 * mt\n",
    "This defines perfectly the signal but it keeps quite a bit of background"
   ]
  },
  {
   "cell_type": "markdown",
   "metadata": {},
   "source": [
    "# Exercises"
   ]
  },
  {
   "cell_type": "markdown",
   "metadata": {},
   "source": [
    "* Try to run Logistic Regression with non-renormalised variables and extract best significance\n",
    "* Try to change optimiser for logistic regression \n",
    "* Try to remove the variables with lowest weights, and compare performance\n",
    "\n",
    "* Add one layer to the LR model and compare performance -> this is the shallow learning\n",
    "  * Vary parameters of added layer"
   ]
  },
  {
   "cell_type": "markdown",
   "metadata": {},
   "source": [
    "\n"
   ]
  }
 ],
 "metadata": {
  "colab": {
   "provenance": []
  },
  "kernelspec": {
   "display_name": "Python 3 (ipykernel)",
   "language": "python",
   "name": "python3"
  },
  "language_info": {
   "codemirror_mode": {
    "name": "ipython",
    "version": 3
   },
   "file_extension": ".py",
   "mimetype": "text/x-python",
   "name": "python",
   "nbconvert_exporter": "python",
   "pygments_lexer": "ipython3",
   "version": "3.10.12"
  },
  "toc": {
   "base_numbering": 1,
   "nav_menu": {},
   "number_sections": true,
   "sideBar": true,
   "skip_h1_title": false,
   "title_cell": "Table of Contents",
   "title_sidebar": "Contents",
   "toc_cell": false,
   "toc_position": {},
   "toc_section_display": true,
   "toc_window_display": false
  }
 },
 "nbformat": 4,
 "nbformat_minor": 1
}
