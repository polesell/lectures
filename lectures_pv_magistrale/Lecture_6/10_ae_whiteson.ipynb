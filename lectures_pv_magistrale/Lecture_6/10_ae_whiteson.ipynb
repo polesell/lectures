{
 "cells": [
  {
   "cell_type": "markdown",
   "id": "77f155f0",
   "metadata": {
    "id": "77f155f0"
   },
   "source": [
    "# Classification exercise in HEP"
   ]
  },
  {
   "cell_type": "markdown",
   "id": "1e6dad39",
   "metadata": {},
   "source": [
    "## Example of KERAS-based DNN implementation of an LHC sarch analysis\n",
    "\n",
    "It is inspired by the work shown in Baldi et al.\n",
    "(https://arxiv.org/abs/1402.4735), and it uses as data samples the ones accompanying that paper, and available as\n",
    "\n",
    "https://archive.ics.uci.edu/ml/machine-learning-databases/00279/SUSY.csv.gz\n",
    "\n",
    "and\n",
    "\n",
    "https://archive.ics.uci.edu/ml/machine-learning-databases/00280/HIGGS.csv.gz."
   ]
  },
  {
   "cell_type": "markdown",
   "id": "5999f14b",
   "metadata": {},
   "source": [
    "## Definition of the physics problem\n",
    "\n",
    "Each of the samples includes a large sample of simulated LHC events, chracterised by a well defined final state. \n",
    "For the HIGGS sample the final state is two jets coming from the fragmentation of two b-quarks, and the decay \n",
    "products of two W bosons. If we adress the case where one of the W decays into a lepton and a neutrino, and the \n",
    "other decays into two jets, we have four jets, 1 lepton and the measured imbalance of the momentum in the plane. \n",
    "For each of the jets/lepton the 4-momentum is stored in the datafiles, in the standard coordinate system used in \n",
    "collider experiments, and the two components on the of the tranverse momentum imbalance (MET), which represent \n",
    "a measurement of the two transverse components of the momentum of the neutrino which escapes detection.\n",
    "Each event has a label 0 or 1, which will be named SIG, where 1 means that the event is a SIGNAL event, \n",
    "i.e. it was produced by the physical process we are trying to discover, and 0 means that the event is \n",
    "a BACKGROUND i.e. was produced by a known process, and we want to discard it. \n"
   ]
  },
  {
   "cell_type": "markdown",
   "id": "a03516ea",
   "metadata": {},
   "source": [
    "## Data loading\n",
    "\n",
    "The provided samples are of several million events, in order to fit into the colab memory and to have a reasonable execution speed during the lecture we provide in dropbox reduced samples of 240k events. To further speed up execution the sample can be further reduced m"
   ]
  },
  {
   "cell_type": "code",
   "execution_count": null,
   "id": "2a478a04",
   "metadata": {
    "id": "66879435",
    "outputId": "32bcd850-a50a-48ac-d347-85502013e80b"
   },
   "outputs": [],
   "source": [
    "#Load the dataset using pandas and numpy\n",
    "\n",
    "import pandas as pd\n",
    "import numpy as np\n",
    "import gzip\n",
    "import matplotlib.pyplot as plt\n",
    "\n",
    "\n",
    "higgsusy=1\n",
    "\n",
    "print(\"higgsusy switch \",higgsusy)\n",
    "\n",
    "if higgsusy==1:\n",
    "\n",
    "  link='https://www.dropbox.com/s/muyqdaw17iqxlnd/susyred1.csv.gz?dl=1' \n",
    "\n",
    "\n",
    "  features=['SIG','lep_1_pT', 'lep_1_eta', 'lep_1_phi', 'lep_2_pT', 'lep_2_eta', 'lep_2_phi',\n",
    "            'MET_val', 'MET_phi', 'MET_rel', 'axial_MET',  'MT2']        \n",
    "\n",
    "  low_features=['lep_1_pT', 'lep_1_eta', 'lep_1_phi', 'lep_2_pT', 'lep_2_eta', 'lep_2_phi',\n",
    "                'MET_val', 'MET_phi']\n",
    "\n",
    "  high_features=['MET_rel', 'axial_MET', 'MT2']\n",
    "                  \n",
    "if higgsusy==2:\n",
    "\n",
    "  link='https://www.dropbox.com/s/vdnstm4qo24uppn/higgsred.csv.gz?dl=1'\n",
    "  \n",
    "  features=['SIG','lepton_pT', 'lepton_eta', 'lepton_phi', 'MET_val', 'MET_phi', \n",
    "            'jet1_pt', 'jet1_eta', 'jet1_phi', 'jet1_btag', 'jet2_pt', 'jet2_eta', 'jet2_phi', 'jet2_btag', \n",
    "            'jet3_pt', 'jet3_eta', 'jet3_phi', 'jet3_btag', 'jet4_pt', 'jet4_eta', 'jet4_phi', 'jet4_btag', \n",
    "            'm_jj', 'm_jjj', 'm_lv', 'm_jlv', 'm_bb', 'm_wbb', 'm_wwbb']\n",
    "\n",
    "  low_features=['lepton_pT', 'lepton_eta', 'lepton_phi', 'MET_val', 'MET_phi', \n",
    "            'jet1_pt', 'jet1_eta', 'jet1_phi', 'jet1_btag', 'jet2_pt', 'jet2_eta', 'jet2_phi', 'jet2_btag', \n",
    "            'jet3_pt', 'jet3_eta', 'jet3_phi', 'jet3_btag', 'jet4_pt', 'jet4_eta', 'jet4_phi', 'jet4_btag']\n",
    "\n",
    "  high_features=['m_jj', 'm_jjj', 'm_lv', 'm_jlv', 'm_bb', 'm_wbb', 'm_wwbb']\n",
    "\n",
    "# define number of records that we want to read\n",
    "N = 240000\n",
    "print(\"Size of dataset : %i\"%N)\n",
    "df = pd.read_csv(link, compression='gzip', header=None,nrows=N,engine='python')\n",
    "#Name the columns using the 'features' array\n",
    "df.columns=features\n",
    "#Inspect contents\n",
    "#print(df.head)\n",
    "print (\"data loaded\")"
   ]
  },
  {
   "cell_type": "markdown",
   "id": "20cfa896",
   "metadata": {},
   "source": [
    "## Data preparation"
   ]
  },
  {
   "cell_type": "markdown",
   "id": "36b019af",
   "metadata": {
    "id": "36b019af"
   },
   "source": [
    "Once we have loaded the data, we need to define the input vector X, including all of the columns except the label one, and the target vector including only the label.\n",
    "\n",
    "Since we are going for anomaly detection, we split at this level the SM (bg, SIG==0) on which we will train the \n",
    "autoencoder, and the anomaly (sig, SIG==1) on which we will benchmark the performance of the autoencoder"
   ]
  },
  {
   "cell_type": "code",
   "execution_count": null,
   "id": "635cff04",
   "metadata": {},
   "outputs": [],
   "source": [
    "\n",
    "df_bgf=df.query(\"SIG==0\")\n",
    "df_sig=df.query(\"SIG==1\")\n",
    "df_bg = df_bgf[[col for col in df_bgf.columns if col!=\"SIG\"]]\n",
    "label_standard = df_bgf['SIG'].values\n",
    "df_sig = df_sig[[col for col in df_sig.columns if col!=\"SIG\"]]"
   ]
  },
  {
   "cell_type": "markdown",
   "id": "700b0eb6",
   "metadata": {
    "id": "700b0eb6"
   },
   "source": [
    "### Split training and test samples\n",
    "\n",
    "We split only the signal sample into a test and a train sample, and we further split away a 10% of the training events to be used for monitoring the optimisation"
   ]
  },
  {
   "cell_type": "code",
   "execution_count": null,
   "id": "cc70444e",
   "metadata": {
    "id": "bd4f1926",
    "outputId": "9b060cab-5c2d-47aa-f96c-d77ceb264ec8"
   },
   "outputs": [],
   "source": [
    "from sklearn.model_selection import train_test_split\n",
    "X_learn, X_test, label_learn, label_test = train_test_split(df_bg, label_standard, test_size=0.2)\n",
    "print(X_learn.shape, X_test.shape, label_learn.shape, label_test.shape)\n",
    "X_train, X_val, label_train, label_val = train_test_split(X_learn, label_learn, test_size=0.1)\n",
    "print(X_train.shape, X_val.shape, label_train.shape, label_val.shape, label_test.shape)\n",
    "del df_bg, df_bgf, label_standard, X_learn, label_learn"
   ]
  },
  {
   "cell_type": "markdown",
   "id": "d6f6bb76",
   "metadata": {},
   "source": [
    "### Scaling of features to have average one"
   ]
  },
  {
   "cell_type": "code",
   "execution_count": null,
   "id": "fabab2cc",
   "metadata": {},
   "outputs": [],
   "source": [
    "from sklearn.preprocessing import StandardScaler\n",
    "scaler = StandardScaler() # initialise StandardScaler\n",
    "\n",
    "# Fit only to the training data\n",
    "scaler.fit(X_train)\n",
    "\n",
    "# Now apply the transformations to the data:\n",
    "X_trains = scaler.transform(X_train)\n",
    "X_tests = scaler.transform(X_test)\n",
    "X_vals = scaler.transform(X_val)\n",
    "df_sigs = scaler.transform(df_sig)"
   ]
  },
  {
   "cell_type": "markdown",
   "id": "2afddc63",
   "metadata": {},
   "source": [
    "## Create the autoencoder"
   ]
  },
  {
   "cell_type": "code",
   "execution_count": null,
   "id": "ab961f8d",
   "metadata": {},
   "outputs": [],
   "source": [
    "# keras imports\n",
    "from tensorflow.keras.models import Model\n",
    "from tensorflow.keras.layers import Dense, Input, Flatten\n",
    "from tensorflow.keras.layers import BatchNormalization, Activation\n",
    "from tensorflow.keras.utils import plot_model\n",
    "from tensorflow.keras import backend as K\n",
    "from tensorflow.keras import metrics\n",
    "from tensorflow.keras.callbacks import EarlyStopping, ReduceLROnPlateau, TerminateOnNaN\n",
    "\n",
    "nvar=X_trains.shape[1]\n",
    "#---------\n",
    "# Encoder\n",
    "#---------\n",
    "inputLayer = Input(shape=nvar)\n",
    "#\n",
    "enc = Dense(100)(inputLayer)\n",
    "enc = Activation('elu')(enc)\n",
    "#\n",
    "enc = Dense(50)(inputLayer)\n",
    "enc = Activation('elu')(enc)\n",
    "#\n",
    "enc = Dense(5)(enc)\n",
    "enc = Activation('elu')(enc)\n",
    "\n",
    "#---------\n",
    "# Decoder\n",
    "#---------\n",
    "dec = Dense(50)(enc)\n",
    "dec = Activation('elu')(dec)\n",
    "#\n",
    "dec = Dense(100)(enc)\n",
    "dec = Activation('elu')(dec)\n",
    "#\n",
    "dec = Dense(nvar)(dec)\n",
    "autoencoder = Model(inputs=inputLayer, outputs=dec)\n",
    "\n",
    "autoencoder.compile(loss='mse', optimizer='adam')\n",
    "autoencoder.summary()"
   ]
  },
  {
   "cell_type": "markdown",
   "id": "1dc614c6",
   "metadata": {},
   "source": [
    "## Train the autoencoder"
   ]
  },
  {
   "cell_type": "code",
   "execution_count": null,
   "id": "ba15acee",
   "metadata": {},
   "outputs": [],
   "source": [
    "batch_size = 128\n",
    "n_epochs = 300\n",
    "\n",
    "history = autoencoder.fit(X_trains, X_trains, epochs=n_epochs, batch_size=batch_size, verbose = 2,\n",
    "                validation_data=(X_vals, X_vals),\n",
    "                callbacks = [\n",
    "                EarlyStopping(monitor='val_loss', patience=10, verbose=1),\n",
    "#                ReduceLROnPlateau(monitor='val_loss', factor=0.1, patience=2, verbose=1),\n",
    "                TerminateOnNaN()])"
   ]
  },
  {
   "cell_type": "code",
   "execution_count": null,
   "id": "08024b67",
   "metadata": {},
   "outputs": [],
   "source": [
    "# plot training history\n",
    "plt.plot(history.history['loss'])\n",
    "plt.plot(history.history['val_loss'])\n",
    "plt.yscale('log')\n",
    "plt.title('Training History')\n",
    "plt.ylabel('loss')\n",
    "plt.xlabel('epoch')\n",
    "plt.legend(['training', 'validation'], loc='upper right')\n",
    "plt.show()"
   ]
  },
  {
   "cell_type": "markdown",
   "id": "cb9aff3e",
   "metadata": {},
   "source": [
    "## Run prediction on test Standard Model (background)  sample and on full anomaly (signal) sample"
   ]
  },
  {
   "cell_type": "code",
   "execution_count": null,
   "id": "2d387060",
   "metadata": {},
   "outputs": [],
   "source": [
    "predictedQCD = autoencoder.predict(X_tests)\n",
    "predicted_anomaly = autoencoder.predict(df_sigs)"
   ]
  },
  {
   "cell_type": "markdown",
   "id": "a915d888",
   "metadata": {},
   "source": [
    "## Calculate losses"
   ]
  },
  {
   "cell_type": "code",
   "execution_count": null,
   "id": "cead7e5d",
   "metadata": {},
   "outputs": [],
   "source": [
    "def mse(data_in, data_out):\n",
    "    print(data_in.shape)\n",
    "    print(data_out.shape)\n",
    "    mse = (data_out-data_in)*(data_out-data_in)\n",
    "    print(mse.shape)\n",
    "    # sum over features\n",
    "    mse = mse.sum(1)\n",
    "    print(mse.shape)\n",
    "    return mse\n",
    "\n",
    "lossQCD = mse(X_tests, predictedQCD)\n",
    "loss_anomaly=mse(df_sigs, predicted_anomaly)"
   ]
  },
  {
   "cell_type": "markdown",
   "id": "ab62c8c2",
   "metadata": {},
   "source": [
    "## Plot them for Standard Model"
   ]
  },
  {
   "cell_type": "code",
   "execution_count": null,
   "id": "b071d148",
   "metadata": {},
   "outputs": [],
   "source": [
    "maxScore = np.max(lossQCD)\n",
    "\n",
    "plt.hist(lossQCD, bins=100, label='Standard Model', density=True, range=(0, maxScore),\n",
    "         histtype='step', fill=False, linewidth=1.5)\n",
    "plt.semilogy()\n",
    "plt.xlabel(\"AE Loss\")\n",
    "plt.ylabel(\"Probability (a.u.)\")\n",
    "plt.grid(True)\n",
    "plt.legend(loc='upper right')\n",
    "plt.show()"
   ]
  },
  {
   "cell_type": "markdown",
   "id": "f85f3dc9",
   "metadata": {},
   "source": [
    "## Compare losses for Standard Model and Anomaly"
   ]
  },
  {
   "cell_type": "code",
   "execution_count": null,
   "id": "7a414a57",
   "metadata": {},
   "outputs": [],
   "source": [
    "import math\n",
    "maxScore=np.max(loss_anomaly)\n",
    "minScore=np.min(np.log(lossQCD))\n",
    "plt.hist(np.log(lossQCD), bins=100, label='Standard Model', density=True, range=(minScore, math.log(maxScore)),\n",
    "         histtype='step', fill=False, linewidth=1.5)\n",
    "plt.hist(np.log(loss_anomaly), bins=100, label='Anomaly', density=True, range=(minScore, math.log(maxScore)),\n",
    "            histtype='step', fill=False, linewidth=1.5)\n",
    "#plt.hist(lossQCD, bins=100, label='ttbar', density=True, range=(0, maxScore),\n",
    "#         histtype='step', fill=False, linewidth=1.5)\n",
    "#plt.hist(loss_anomaly, bins=100, label='Heavy Higgs', density=True, range=(0, maxScore),\n",
    "#            histtype='step', fill=False, linewidth=1.5)\n",
    "plt.semilogy()\n",
    "plt.xlabel(\"log(AE Loss)\")\n",
    "plt.ylabel(\"Probability (a.u.)\")\n",
    "plt.grid(True)\n",
    "plt.legend(loc='upper right')\n",
    "plt.show()"
   ]
  },
  {
   "cell_type": "markdown",
   "id": "3f4acbda",
   "metadata": {},
   "source": [
    "## Calculate and plot ROC and AUC"
   ]
  },
  {
   "cell_type": "code",
   "execution_count": null,
   "id": "5675faa3",
   "metadata": {},
   "outputs": [],
   "source": [
    "from sklearn.metrics import roc_curve, auc\n",
    "plt.figure()\n",
    "# set SM label at zero\n",
    "targetQCD = np.zeros(lossQCD.shape[0])\n",
    "target_anomaly=np.ones(loss_anomaly.shape[0])\n",
    "print(loss_anomaly.shape, targetQCD.shape)\n",
    "trueVal = np.concatenate((target_anomaly,targetQCD))\n",
    "predVal = np.concatenate((loss_anomaly,lossQCD))\n",
    "print(trueVal.shape, predVal.shape)\n",
    "fpr, tpr, threshold = roc_curve(trueVal,predVal)\n",
    "auc1= auc(fpr, tpr)\n",
    "plt.plot(fpr,tpr,label='Anomaly Detection, auc = %.1f%%'%(auc1*100.))\n",
    "#plt.semilogy()\n",
    "plt.xlabel(\"False Positive\")\n",
    "plt.ylabel(\"True Positive\")\n",
    "plt.grid(True)\n",
    "plt.legend(loc='lower right')\n",
    "plt.show()\n"
   ]
  },
  {
   "attachments": {
    "image.png": {
     "image/png": "[encoded data removed]"
    }
   },
   "cell_type": "markdown",
   "id": "768a52a6",
   "metadata": {},
   "source": [
    "Compare for SUSY model AUC obtained with supervised  DNN\n",
    "\n",
    "![image.png](attachment:image.png)"
   ]
  },
  {
   "cell_type": "code",
   "execution_count": null,
   "id": "424c7cd2",
   "metadata": {},
   "outputs": [],
   "source": []
  }
 ],
 "metadata": {
  "colab": {
   "collapsed_sections": [
    "f28bb0fe",
    "a106a44d",
    "db0d12fc",
    "db13e1ca"
   ],
   "name": "Lecture1spli.ipynb",
   "provenance": [],
   "toc_visible": true
  },
  "kernelspec": {
   "display_name": "Python 3 (ipykernel)",
   "language": "python",
   "name": "python3"
  },
  "language_info": {
   "codemirror_mode": {
    "name": "ipython",
    "version": 3
   },
   "file_extension": ".py",
   "mimetype": "text/x-python",
   "name": "python",
   "nbconvert_exporter": "python",
   "pygments_lexer": "ipython3",
   "version": "3.8.10"
  }
 },
 "nbformat": 4,
 "nbformat_minor": 5
}
