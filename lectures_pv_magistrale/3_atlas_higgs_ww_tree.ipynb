{
 "cells": [
  {
   "cell_type": "markdown",
   "metadata": {
    "id": "TiSTHbA25ZtB"
   },
   "source": [
    "# Performing the Higgs -> WW-> l leptons search \n",
    "\n",
    "##  Test performance of logistic regression\n",
    "\n",
    "Focus on discriminating Higgs signal from irreducible SM WW production.\n",
    "\n",
    "Final state is 2 leptons + missing tranverse momentum.\n",
    "\n",
    "This notebooks shows the use of a simple decision tree for analysis\n"
   ]
  },
  {
   "cell_type": "markdown",
   "metadata": {
    "id": "5dgRkVPu5ZtK"
   },
   "source": [
    "# Installation of packages not available by default on colab\n"
   ]
  },
  {
   "cell_type": "code",
   "execution_count": 1,
   "metadata": {
    "colab": {
     "base_uri": "https://localhost:8080/"
    },
    "id": "rjpPQFJHBHZO",
    "outputId": "4e4e4a10-448d-4576-a5a3-c9810c5fa386"
   },
   "outputs": [],
   "source": [
    "import sys\n",
    "# update the pip package installer\n",
    "#%pip install --upgrade --user pip\n",
    "# install required packages\n",
    "#%pip install --upgrade --user uproot awkward vector numpy matplotlib\n",
    "\n",
    "\n",
    "#!pip install vector\n",
    "#!pip install hist"
   ]
  },
  {
   "cell_type": "markdown",
   "metadata": {
    "id": "YrW2zmSv5ZtP"
   },
   "source": [
    "## Import packages used in the analysis\n",
    "\n",
    "We're going to be using a number of tools to help us:\n",
    "* vector: to allow vectorized 4-momentum calculations\n",
    "* numpy: provides numerical calculations such as histogramming\n",
    "* matplotlib: common tool for making plots, figures, images, visualisations"
   ]
  },
  {
   "cell_type": "code",
   "execution_count": 2,
   "metadata": {
    "id": "0tezkWvi5ZtP"
   },
   "outputs": [],
   "source": [
    "\n",
    "import vector # for 4-momentum calculations\n",
    "import time # to measure time to analyse\n",
    "import math # for mathematical functions such as square root\n",
    "import numpy as np # for numerical calculations such as histogramming\n",
    "import matplotlib.pyplot as plt\n",
    "import pandas as pd\n"
   ]
  },
  {
   "cell_type": "markdown",
   "metadata": {},
   "source": [
    "## Read in csv files for signal and background"
   ]
  },
  {
   "cell_type": "code",
   "execution_count": 3,
   "metadata": {},
   "outputs": [
    {
     "name": "stdout",
     "output_type": "stream",
     "text": [
      "Size of dataset : 10000\n"
     ]
    }
   ],
   "source": [
    "fn2=\"https://cernbox.cern.ch/remote.php/dav/public-files/6mTuRapglPXnwUT/hww_atlas.csv.gz\" #hww\n",
    "totf2=600000\n",
    "#fn1=\"https://cernbox.cern.ch/remote.php/dav/public-files/bt9p3KS952M0I11/ttlep_atlas.csv.gz\" #ttlep\n",
    "fn1=\"https://cernbox.cern.ch/remote.php/dav/public-files/ndKtAQHMxNUmumC/ww_atlas.csv.gz\" #ww\n",
    "totf1=600000\n",
    "\n",
    "N = 10000\n",
    "print(\"Size of dataset : %i\"%N)\n",
    "df1 = pd.read_csv(fn1, compression='gzip', header=0,nrows=N,engine='python')\n",
    "df2 = pd.read_csv(fn2, compression='gzip', header=0,nrows=N,engine='python')\n"
   ]
  },
  {
   "cell_type": "markdown",
   "metadata": {},
   "source": [
    "## Add labelling and high-level variables\n",
    "\n",
    "The csv files only contain the 4-vectors of the two leptons. In order to perform analysis:\n",
    "\n",
    "* Label whether each sample is signal or background\n",
    "* concatenate samples\n",
    "* store 4-vectors of leptons amd etmiss in 'vector' structures for manipulation\n",
    "* build high-level variables\n",
    "* drop redundant ones"
   ]
  },
  {
   "cell_type": "code",
   "execution_count": 4,
   "metadata": {},
   "outputs": [],
   "source": [
    "# add labelling signal/background\n",
    "df1['SIG']=0\n",
    "df2['SIG']=1\n",
    "\n",
    "\n",
    "dftot=pd.concat([df1,df2])\n",
    "\n",
    "#\n",
    "# create array of 4-vectors of two leptons and etmiss for calculation of derived\n",
    "# variables\n",
    "#\n",
    "p4l1=vector.array({\"pt\":dftot[\"ptl1\"], \"phi\":dftot[\"phil1\"],\n",
    "    \"eta\":dftot[\"etal1\"], \"e\":dftot[\"el1\"]})\n",
    "p4l2=vector.array({\"pt\":dftot[\"ptl2\"], \"phi\":dftot[\"phil2\"],\n",
    "    \"eta\":dftot[\"etal2\"], \"e\":dftot[\"el2\"]})\n",
    "etmv=vector.array({\"pt\":dftot[\"met_et\"], \"phi\":dftot[\"met_phi\"]})\n",
    "\n",
    "#\n",
    "#  rotate variables to exploit azimuthal symmetry\n",
    "#\n",
    "dftot[\"dphil1m\"]=p4l1.deltaphi(etmv)\n",
    "dftot[\"dphil2m\"]=p4l2.deltaphi(etmv)\n",
    "\n",
    "#  High level variables for 2-l+etm system\n",
    "#\n",
    "p4ll=p4l1+p4l2\n",
    "dftot[\"dphill\"]=p4l1.deltaphi(p4l2)\n",
    "dftot[\"dphillm\"]=p4ll.deltaphi(etmv)\n",
    "ptll=p4ll.pt\n",
    "mll=p4ll.M\n",
    "dftot[\"ptll\"]=ptll\n",
    "dftot[\"mll\"]=mll\n",
    "#\n",
    "#  transverse mass of decaying particle\n",
    "#\n",
    "etm=dftot[\"met_et\"]\n",
    "ptllv=vector.array({\"x\":p4ll.x, \"y\":p4ll.y})\n",
    "c2=(etmv.x+ptllv.x)**2+(etmv.y+ptllv.y)**2\n",
    "etll=np.sqrt(ptll*ptll+mll*mll)\n",
    "c1=(etll+etm)**2\n",
    "mt=np.sqrt(c1-c2)\n",
    "dftot[\"mt\"]=mt\n",
    "#\n",
    "#   drop redundant variables\n",
    "#\n",
    "df=dftot.drop(columns=['phil1','phil2','met_phi'])\n",
    "\n",
    "#coln=df.columns\n",
    "\n",
    "#print(coln)\n",
    "\n",
    "#print(df.head())\n",
    "\n",
    "#print(df.info())"
   ]
  },
  {
   "cell_type": "markdown",
   "metadata": {},
   "source": [
    "## Look at signal and background statistics after reading data"
   ]
  },
  {
   "cell_type": "code",
   "execution_count": 5,
   "metadata": {},
   "outputs": [
    {
     "name": "stdout",
     "output_type": "stream",
     "text": [
      "473.09703183599987 26970.569601018\n"
     ]
    }
   ],
   "source": [
    "def getnormev(df,totsig,totbg,evread):\n",
    "  nsigw=((df.query(\"SIG==1\"))[\"totalWeight\"]).sum()*totsig/evread\n",
    "  nbgw=((df.query(\"SIG==0\"))[\"totalWeight\"]).sum()*totbg/evread\n",
    "  return nsigw,nbgw\n",
    "\n",
    "nsigw,nbgw=getnormev(df,totf2,totf1,N)\n",
    "print(nsigw,nbgw)\n"
   ]
  },
  {
   "cell_type": "markdown",
   "metadata": {},
   "source": [
    "## Calculation of significance before selection"
   ]
  },
  {
   "cell_type": "code",
   "execution_count": 6,
   "metadata": {},
   "outputs": [],
   "source": [
    "from math import sqrt, log\n",
    "def calc_sig(nsig, nbg, nbExpEr):\n",
    "    nbObs=nsig+nbg\n",
    "    nbExp=nbg\n",
    "    if nbExp>0 and nbExpEr>0:\n",
    "      factor1 = nbObs*log( (nbObs*(nbExp+nbExpEr**2))/(nbExp**2+nbObs*nbExpEr**2) )\n",
    "      factor2 = (nbExp**2/nbExpEr**2)*log( 1 + (nbExpEr**2*(nbObs-nbExp))/(nbExp*(nbExp+nbExpEr**2)) )\n",
    "      signi  = sqrt(2*(factor1 - factor2))\n",
    "    if nbExp>0 and nbExpEr==0:\n",
    "      signi=sqrt(2*((nsig+nbg)*log(1+nsig/nbg)-nsig))\n",
    "    if nbExp==0 and nbExpEr==0:\n",
    "      signi=sqrt(nsig)\n",
    "    if nbExp==0 and nbExpEr>0:\n",
    "      signi=nsig/sqrt(nbExpEr)\n",
    "    return signi"
   ]
  },
  {
   "cell_type": "code",
   "execution_count": 7,
   "metadata": {},
   "outputs": [
    {
     "name": "stdout",
     "output_type": "stream",
     "text": [
      "significance is  1.4907167185777639\n"
     ]
    }
   ],
   "source": [
    "print(\"significance is \",calc_sig(nsigw,nbgw,0.01*nbgw))"
   ]
  },
  {
   "cell_type": "markdown",
   "metadata": {},
   "source": [
    "## Define dataframe with variables to be used for training\n",
    "\n",
    "Dataframe will also contain flag on whether it is signal and background ('SIG') and weight for normalisation to LHC statistics ('totalWeight')\n",
    "\n",
    "We randomize the sample. This is not needed, as the splitting in the next cell will mix events"
   ]
  },
  {
   "cell_type": "code",
   "execution_count": 8,
   "metadata": {},
   "outputs": [
    {
     "name": "stdout",
     "output_type": "stream",
     "text": [
      "df_all  (20000, 14)\n"
     ]
    }
   ],
   "source": [
    "tfea = ['SIG','ptl1','ptl2','dphil1m','dphil2m','etal1','etal2','met_et','mll','ptll','dphill','dphillm','mt','totalWeight'] # list of features for discriminant analysis\n",
    "df_all=df[tfea]\n",
    "df_all.columns=tfea\n",
    "#print(df_all.keys)\n",
    "# randomize it\n",
    "df_all=df_all.sample(frac=1)\n",
    "\n",
    "print(\"df_all \", df_all.shape)\n"
   ]
  },
  {
   "cell_type": "markdown",
   "metadata": {},
   "source": [
    "## Definition of training and test samples\n",
    "\n",
    "As usual use train_test_split from sklearn library\n",
    "Two steps:\n",
    "\n",
    "* Split out a 25% test sample to use at the end for performance evaluation:  X_testu\n",
    "* Remaining 75% split into a 90% training sample and 10% validation sample to be used during training: X_trainu, X_valu"
   ]
  },
  {
   "cell_type": "code",
   "execution_count": 9,
   "metadata": {},
   "outputs": [
    {
     "name": "stderr",
     "output_type": "stream",
     "text": [
      "/usr/lib/python3/dist-packages/scipy/__init__.py:146: UserWarning: A NumPy version >=1.17.3 and <1.25.0 is required for this version of SciPy (detected version 1.26.1\n",
      "  warnings.warn(f\"A NumPy version >={np_minversion} and <{np_maxversion}\"\n"
     ]
    },
    {
     "name": "stdout",
     "output_type": "stream",
     "text": [
      "Index(['ptl1', 'ptl2', 'dphil1m', 'dphil2m', 'etal1', 'etal2', 'met_et', 'mll',\n",
      "       'ptll', 'dphill', 'dphillm', 'mt', 'totalWeight'],\n",
      "      dtype='object')\n",
      "(20000, 13)\n",
      "Index(['ptl1', 'ptl2', 'dphil1m', 'dphil2m', 'etal1', 'etal2', 'met_et', 'mll',\n",
      "       'ptll', 'dphill', 'dphillm', 'mt'],\n",
      "      dtype='object')\n",
      "(13500, 12)\n"
     ]
    }
   ],
   "source": [
    "from sklearn.model_selection import train_test_split\n",
    "#Define vectors for input to ML\n",
    "\n",
    "# Use 'SIG' column as definition of target\n",
    "y = df_all['SIG']\n",
    "\n",
    "# drop it from dataframe for\n",
    "X = df_all[[col for col in df_all.columns if col!=\"SIG\"]]\n",
    "col_fin=X.columns\n",
    "print(col_fin)\n",
    "print(X.shape)\n",
    "\n",
    "# now split out test saple for final performance evaluations\n",
    "\n",
    "X_traina, X_testu, y_traina, y_test = train_test_split(X, y,\n",
    "                                   test_size=.25, random_state=0)\n",
    "\n",
    "# save in X_testw test sample with weights included\n",
    "\n",
    "X_testw=X_testu\n",
    "\n",
    "# now further split train sample in actual train and validation\n",
    "\n",
    "X_trainu, X_valu, y_train, y_val = train_test_split(X_traina, y_traina,\n",
    "                                   test_size=.10, random_state=0)\n",
    "\n",
    "\n",
    "# drop weighths \n",
    "\n",
    "X_trainu=X_trainu[[col for col in X_trainu.columns if col!=\"totalWeight\"]]\n",
    "X_testu=X_testu[[col for col in X_testu.columns if col!=\"totalWeight\"]]\n",
    "X_valu=X_valu[[col for col in X_valu.columns if col!=\"totalWeight\"]]\n",
    "\n",
    "print(X_trainu.columns)\n",
    "print(X_trainu.shape)\n",
    "\n"
   ]
  },
  {
   "cell_type": "markdown",
   "metadata": {},
   "source": [
    "## Scaling of samples so that all of the variables  are in the same range\n",
    "\n",
    "Needed to make life easier for ML<br />\n",
    "Use StandardScaler method from sklearn library"
   ]
  },
  {
   "cell_type": "code",
   "execution_count": 10,
   "metadata": {},
   "outputs": [
    {
     "name": "stdout",
     "output_type": "stream",
     "text": [
      "Index(['ptl1', 'ptl2', 'dphil1m', 'dphil2m', 'etal1', 'etal2', 'met_et', 'mll',\n",
      "       'ptll', 'dphill', 'dphillm', 'mt'],\n",
      "      dtype='object')\n",
      "train  (13500, 12)\n",
      "ytrain nbg (6725, 1) ytrain nsig (6775, 1)\n",
      "test (5000, 12)\n",
      "val (1500, 12)\n"
     ]
    }
   ],
   "source": [
    "from sklearn.preprocessing import StandardScaler\n",
    "scaler = StandardScaler() # initialise StandardScaler\n",
    "print(X_trainu.columns)\n",
    "# Fit only to the training data\n",
    "scaler.fit(X_trainu)\n",
    "\n",
    "# Now apply the transformations to the data:\n",
    "X_train = scaler.transform(X_trainu)\n",
    "X_test = scaler.transform(X_testu)\n",
    "X_test=pd.DataFrame(X_test)\n",
    "X_val=scaler.transform(X_valu)\n",
    "print('train ', X_train.shape)\n",
    "dfy=pd.DataFrame(y_train)\n",
    "print('ytrain nbg',dfy.query(\"SIG==0\").shape,'ytrain nsig',dfy.query(\"SIG==1\").shape)\n",
    "print('test', X_test.shape)\n",
    "print('val', X_val.shape)"
   ]
  },
  {
   "cell_type": "markdown",
   "metadata": {},
   "source": [
    "# Decision tree classifier\n",
    "\n",
    "Documentation for the possible options is in <br />\n",
    "\n",
    "https://scikit-learn.org/stable/modules/generated/sklearn.tree.DecisionTreeClassifier.html\n",
    "    "
   ]
  },
  {
   "cell_type": "code",
   "execution_count": 11,
   "metadata": {},
   "outputs": [
    {
     "name": "stderr",
     "output_type": "stream",
     "text": [
      "/home/polesell/.local/lib/python3.10/site-packages/sklearn/base.py:486: UserWarning: X has feature names, but DecisionTreeClassifier was fitted without feature names\n",
      "  warnings.warn(\n"
     ]
    }
   ],
   "source": [
    "from sklearn.tree import DecisionTreeClassifier\n",
    "from sklearn import tree\n",
    "\n",
    "test_tree = pd.DataFrame(X_test)\n",
    "test_tree.columns=X_testu.columns\n",
    "\n",
    "clf = DecisionTreeClassifier(max_depth=3, min_samples_leaf=5, criterion='gini', splitter='best', random_state=0)\n",
    "clf.fit(X_train, y_train)\n",
    "\n",
    "\n",
    "Ypredr=clf.predict_proba(test_tree)"
   ]
  },
  {
   "cell_type": "markdown",
   "metadata": {},
   "source": [
    "## Run prediction"
   ]
  },
  {
   "cell_type": "markdown",
   "metadata": {},
   "source": [
    "## Create dataframe with labels, probabilities  and normalisation weights"
   ]
  },
  {
   "cell_type": "code",
   "execution_count": 12,
   "metadata": {},
   "outputs": [],
   "source": [
    "df_test_acc_r=X_testw.copy()\n",
    "\n",
    "df_test_acc_r['SIG']=y_test\n",
    "df_test_acc_r['PROB']=Ypredr[:,1]"
   ]
  },
  {
   "cell_type": "markdown",
   "metadata": {},
   "source": [
    "# Look at the classification performance"
   ]
  },
  {
   "cell_type": "markdown",
   "metadata": {},
   "source": [
    "## Plot distribution of output probabilities  for signal and backround\n",
    "\n",
    "The output of the classification is for each event a number between 0 and 1 representing the probability that that event is a signal event. Since for each event we know whether it was a signal (SIG=1) or a background (SIG=0), we can plot the output probability of the network for each of the two classes.\n",
    "This is done in order to understand on which variables the network leveraged for the classification\n"
   ]
  },
  {
   "cell_type": "code",
   "execution_count": 13,
   "metadata": {},
   "outputs": [
    {
     "name": "stdout",
     "output_type": "stream",
     "text": [
      "nsig  2471\n",
      "nbkg  2529\n"
     ]
    },
    {
     "data": {
      "image/png": "[encoded data removed]",
      "text/plain": [
       "<Figure size 432x288 with 1 Axes>"
      ]
     },
     "metadata": {
      "needs_background": "light"
     },
     "output_type": "display_data"
    }
   ],
   "source": [
    "# split according to the label\n",
    "df_test_acc_r_bkg = df_test_acc_r.query('SIG==0')\n",
    "df_test_acc_r_sig = df_test_acc_r.query('SIG==1')\n",
    "print('nsig ',df_test_acc_r_sig.shape[0])\n",
    "print('nbkg ',df_test_acc_r_bkg.shape[0])\n",
    "bins = np.linspace(0, 1,50)\n",
    "plt.hist(df_test_acc_r_bkg.PROB, bins, alpha=0.5, density=True, label='Background')\n",
    "plt.hist(df_test_acc_r_sig.PROB, bins, alpha=0.5, density=True, label='Signal')\n",
    "plt.legend(loc='best')\n",
    "plt.show()"
   ]
  },
  {
   "cell_type": "markdown",
   "metadata": {},
   "source": [
    "## Plot ROC curve and calculate AUC\n",
    "In order to perform our the final selection we put a lower limit on the value of the probability and we count the fraction of events above this limit for both signal and backround, i.e for each value of PROB we have two values: The 'true positive rate (TPR)' (efficiency of signal selection in HEP language), and 'false positive rate (FPR)' (efficency for selecting background). If we TPR versus FPR the other as a function of PROB we obtain a curve called the Receive Operating Characteristic (ROC) curve https://en.wikipedia.org/wiki/Receiver_operating_characteristic. Methods for building the ROC curve are availabel in sklearn.metrics. An ideal ROC curve would be along upper x and left y axes of the plot, corresponding to the case where all of the signal events have PROB=1 and all background events have PROB=0. The worst case is a curve where TPR=FPR, i.e. the discrimination power is the same as extracting a random number for PROB."
   ]
  },
  {
   "cell_type": "code",
   "execution_count": 14,
   "metadata": {},
   "outputs": [
    {
     "name": "stdout",
     "output_type": "stream",
     "text": [
      "Regression auc  0.8900690476910573\n"
     ]
    },
    {
     "data": {
      "text/plain": [
       "<function matplotlib.pyplot.show(close=None, block=None)>"
      ]
     },
     "execution_count": 14,
     "metadata": {},
     "output_type": "execute_result"
    },
    {
     "data": {
      "image/png": "[encoded data removed]",
      "text/plain": [
       "<Figure size 432x288 with 1 Axes>"
      ]
     },
     "metadata": {
      "needs_background": "light"
     },
     "output_type": "display_data"
    }
   ],
   "source": [
    "from sklearn.metrics import roc_curve\n",
    "from sklearn.metrics import auc\n",
    "from sklearn.metrics import roc_auc_score\n",
    "\n",
    "plt.plot([0.001, 1], [0, 1], 'k--')\n",
    "fpr_keras, tpr_keras, thresholds_keras = roc_curve(y_test, Ypredr[:,1])\n",
    "auc_keras = auc(fpr_keras, tpr_keras)\n",
    "print(\"Regression auc \",auc_keras)\n",
    "plt.plot(fpr_keras, tpr_keras, label='Tree AUC = {:.3f}'.format(auc_keras))\n",
    "plt.xlabel('False positive rate')\n",
    "plt.ylabel('True positive rate')\n",
    "plt.legend(loc='best')\n",
    "plt.show    \n"
   ]
  },
  {
   "cell_type": "markdown",
   "metadata": {},
   "source": [
    "# Calculate signal significance after selection"
   ]
  },
  {
   "cell_type": "markdown",
   "metadata": {},
   "source": [
    "The output of the 'roc_curve' function is made of three vectors:\n",
    "\n",
    " * a vector with number of events 'SIG=0' with 'PROB' above threshold (false positives)\n",
    " * a vector with number of events 'SIG=1' with 'PROB' above threshold (true positives)\n",
    " * a vector of thresholds on 'PROB'\n",
    " \n",
    "We loop on the vector of thresholds, and for each threshold we calculate the number of signal and background events normalised to the LHC statistics, and on the basis of that we calculate significance"
   ]
  },
  {
   "cell_type": "code",
   "execution_count": 15,
   "metadata": {},
   "outputs": [],
   "source": [
    "from numpy import nanmax\n",
    "#   calculate significance for a discriminator yielding\n",
    "#   predictions Ypredt for labels y_test, assuming\n",
    "#   nsigtot:  number of signal events before selection\n",
    "#   nbgtot: nuber of background events before selection\n",
    "#   errfbg: fractional systematic uncertainty on background\n",
    "#\n",
    "def plot_signi_base(y_test, Ypredt, nsigtot, nbgtot, errfbg, lab):\n",
    "  fpr_keras, tpr_keras, thresholds_keras = roc_curve(y_test, Ypredt)\n",
    "  n_bg=fpr_keras*nbgtot\n",
    "  n_sig=tpr_keras*nsigtot\n",
    "  errbg=errfbg*n_bg\n",
    "  signi=[]\n",
    "  thr=[]      \n",
    "  for i in range(1,len(n_sig)):\n",
    "      if(thresholds_keras[i]>0.):\n",
    "        signi.append(calc_sig(n_sig[i],n_bg[i],errbg[i]))\n",
    "        thr.append(thresholds_keras[i])        \n",
    "  imax=-1\n",
    "  signimax=0.\n",
    "  for i in range(0,len(signi)):\n",
    "     if signi[i]>signimax:\n",
    "        imax=i\n",
    "        signimax=signi[i]  \n",
    "  maxs=nanmax(signi)\n",
    "  print(lab+\":\") \n",
    "  print(\" max significance is  \",signimax,\" nbg \",n_bg[imax],\" nsig \",n_sig[imax],\" cut \",thresholds_keras[imax])\n",
    "  print(\" background efficiency: \", n_bg[imax]/nbgtot,\" signal efficiency: \", n_sig[imax]/nsigtot )\n",
    "  plt.plot(thr,signi, label=lab)\n",
    "    \n",
    "  plt.xlabel('Cut on PROB')\n",
    "  plt.ylabel('Significance')\n",
    "\n",
    "\n",
    "  return thr, signi, imax\n",
    "\n",
    "\n",
    "  "
   ]
  },
  {
   "cell_type": "code",
   "execution_count": 16,
   "metadata": {},
   "outputs": [
    {
     "name": "stdout",
     "output_type": "stream",
     "text": [
      "116.92024456200001 6487.037258382001\n"
     ]
    }
   ],
   "source": [
    "nsigw,nbgw=getnormev(df_test_acc_r,totf2,totf1,N)\n",
    "print(nsigw,nbgw)"
   ]
  },
  {
   "cell_type": "code",
   "execution_count": 17,
   "metadata": {},
   "outputs": [
    {
     "name": "stdout",
     "output_type": "stream",
     "text": [
      "nbg 6487.037258382001:\n",
      " max significance is   2.6714400495888273  nbg  0.0  nsig  0.0  cut  inf\n",
      " background efficiency:  0.0  signal efficiency:  0.0\n"
     ]
    },
    {
     "data": {
      "text/plain": [
       "<function matplotlib.pyplot.show(close=None, block=None)>"
      ]
     },
     "execution_count": 17,
     "metadata": {},
     "output_type": "execute_result"
    },
    {
     "data": {
      "image/png": "[encoded data removed]",
      "text/plain": [
       "<Figure size 432x288 with 1 Axes>"
      ]
     },
     "metadata": {
      "needs_background": "light"
     },
     "output_type": "display_data"
    }
   ],
   "source": [
    "# The background estimate has a systematic  uncertainty  which is expressed as a fraction of background events\n",
    "# we use 1% \n",
    "bfr=0.01\n",
    "thr, signi, imax=plot_signi_base(y_test, Ypredr[:,1],nsigw,nbgw,bfr, 'nbg '+str(nbgw))\n",
    "plt.legend(loc='best')\n",
    "plt.show"
   ]
  },
  {
   "cell_type": "markdown",
   "metadata": {},
   "source": [
    "## Compare label and prediction in 1-d projections"
   ]
  },
  {
   "cell_type": "code",
   "execution_count": 18,
   "metadata": {},
   "outputs": [
    {
     "data": {
      "image/png": "[encoded data removed]",
      "text/plain": [
       "<Figure size 1008x360 with 2 Axes>"
      ]
     },
     "metadata": {
      "needs_background": "light"
     },
     "output_type": "display_data"
    },
    {
     "data": {
      "image/png": "[encoded data removed]",
      "text/plain": [
       "<Figure size 1008x360 with 2 Axes>"
      ]
     },
     "metadata": {
      "needs_background": "light"
     },
     "output_type": "display_data"
    }
   ],
   "source": [
    "MeV=0.001\n",
    "pred_false='PROB<0.5'\n",
    "pred_true='PROB>0.5'\n",
    "lab_false='SIG==0'\n",
    "lab_true='SIG==1'\n",
    "nbin=50\n",
    "blow=0.\n",
    "fig1= plt.figure(figsize=(14,5))\n",
    "plt.subplot(1, 2,1)\n",
    "var=\"mt\"\n",
    "varmin=0.\n",
    "varmax=250.\n",
    "scale=MeV\n",
    "bins = np.linspace(varmin , varmax, nbin)\n",
    "plt.hist(df_test_acc_r.query(pred_false)[var]*scale, bins, alpha=0.5, density=True, label=pred_false)\n",
    "plt.hist(df_test_acc_r.query(pred_true)[var]*scale, bins, alpha=0.5, density=True, label=pred_true)\n",
    "plt.legend(loc='best')\n",
    "plt.xlabel(var)\n",
    "plt.ylabel('normalised events')\n",
    "plt.subplot(1, 2,2)\n",
    "plt.hist(df_test_acc_r.query(lab_false)[var]*MeV, bins, alpha=0.5, density=True, label=lab_false)\n",
    "plt.hist(df_test_acc_r.query(lab_true)[var]*MeV, bins, alpha=0.5, density=True, label=lab_true)\n",
    "plt.legend(loc='best')\n",
    "plt.xlabel(var)\n",
    "plt.ylabel('normalised events')\n",
    "plt.show()\n",
    "var=\"mll\"\n",
    "varmin=0.\n",
    "varmax=250\n",
    "scale=MeV\n",
    "bins = np.linspace(varmin , varmax, nbin)\n",
    "fig2= plt.figure(figsize=(14,5))\n",
    "plt.subplot(1, 2,1)\n",
    "plt.hist(df_test_acc_r.query(pred_false)[var]*MeV, bins, alpha=0.5, density=True, label=pred_false)\n",
    "plt.hist(df_test_acc_r.query(pred_true)[var]*MeV, bins, alpha=0.5, density=True, label=pred_true)\n",
    "plt.legend(loc='best')\n",
    "plt.xlabel(var)\n",
    "plt.ylabel('normalised events')\n",
    "plt.subplot(1, 2,2)\n",
    "plt.hist(df_test_acc_r.query(lab_false)[var]*MeV, bins, alpha=0.5, density=True, label=lab_false)\n",
    "plt.hist(df_test_acc_r.query(lab_true)[var]*MeV, bins, alpha=0.5, density=True, label=lab_true)\n",
    "plt.legend(loc='best')\n",
    "plt.xlabel(var)\n",
    "plt.ylabel('normalised events')\n",
    "plt.show()"
   ]
  },
  {
   "cell_type": "markdown",
   "metadata": {},
   "source": [
    "## Compare label and prediction in 2-d projections"
   ]
  },
  {
   "cell_type": "code",
   "execution_count": 19,
   "metadata": {},
   "outputs": [
    {
     "data": {
      "image/png": "[encoded data removed]",
      "text/plain": [
       "<Figure size 1008x360 with 2 Axes>"
      ]
     },
     "metadata": {
      "needs_background": "light"
     },
     "output_type": "display_data"
    },
    {
     "data": {
      "image/png": "[encoded data removed]",
      "text/plain": [
       "<Figure size 1008x360 with 2 Axes>"
      ]
     },
     "metadata": {
      "needs_background": "light"
     },
     "output_type": "display_data"
    }
   ],
   "source": [
    "pred_false='PROB<0.5'\n",
    "pred_true='PROB>0.5'\n",
    "lab_false='SIG==0'\n",
    "lab_true='SIG==1'\n",
    "varx=\"mt\"\n",
    "varminx=0.\n",
    "varmaxx=250.\n",
    "nbinx=50\n",
    "scalex=MeV\n",
    "vary=\"mll\"\n",
    "nbiny=50\n",
    "varminy=0.\n",
    "varmaxy=250\n",
    "scaley=MeV\n",
    "binx = np.linspace(varminx,varmaxx,nbinx)\n",
    "biny = np.linspace(varminy,varmaxy,nbiny)\n",
    "fig1= plt.figure(figsize=(14,5))\n",
    "plt.subplot(1, 2,1)\n",
    "plt.hist2d(df_test_acc_r.query(pred_false)[varx]*scalex, df_test_acc_r.query(pred_false)[vary]*scaley, \n",
    "           bins=[binx, biny], density=False)\n",
    "plt.xlabel(varx)\n",
    "plt.ylabel(vary)\n",
    "plt.title(pred_false)\n",
    "plt.subplot(1, 2,2)\n",
    "plt.hist2d(df_test_acc_r.query(lab_false)[varx]*scalex, df_test_acc_r.query(lab_false)[vary]*scaley, \n",
    "           bins=[binx, biny], density=False)\n",
    "plt.xlabel(varx)\n",
    "plt.ylabel(vary)\n",
    "plt.title(lab_false)\n",
    "plt.show()\n",
    "fig2= plt.figure(figsize=(14,5))\n",
    "plt.subplot(1, 2,1)\n",
    "plt.hist2d(df_test_acc_r.query(pred_true)[varx]*scalex, df_test_acc_r.query(pred_true)[vary]*scaley, \n",
    "           bins=[binx, biny], density=False)\n",
    "plt.xlabel(varx)\n",
    "plt.ylabel(vary)\n",
    "plt.title(pred_true)\n",
    "plt.subplot(1, 2,2)\n",
    "plt.hist2d(df_test_acc_r.query(lab_true)[varx]*scalex, df_test_acc_r.query(lab_true)[vary]*scaley, \n",
    "           bins=[binx, biny], density=False)\n",
    "plt.xlabel(varx)\n",
    "plt.ylabel(vary)\n",
    "plt.title(lab_true)\n",
    "plt.show()"
   ]
  },
  {
   "cell_type": "code",
   "execution_count": 20,
   "metadata": {},
   "outputs": [
    {
     "data": {
      "image/svg+xml": [
       "<?xml version=\"1.0\" encoding=\"UTF-8\" standalone=\"no\"?>\n",
       "<!DOCTYPE svg PUBLIC \"-//W3C//DTD SVG 1.1//EN\"\n",
       " \"http://www.w3.org/Graphics/SVG/1.1/DTD/svg11.dtd\">\n",
       "<!-- Generated by graphviz version 2.43.0 (0)\n",
       " -->\n",
       "<!-- Title: Tree Pages: 1 -->\n",
       "<svg width=\"1319pt\" height=\"418pt\"\n",
       " viewBox=\"0.00 0.00 1318.50 418.00\" xmlns=\"http://www.w3.org/2000/svg\" xmlns:xlink=\"http://www.w3.org/1999/xlink\">\n",
       "<g id=\"graph0\" class=\"graph\" transform=\"scale(1 1) rotate(0) translate(4 414)\">\n",
       "<title>Tree</title>\n",
       "<polygon fill=\"white\" stroke=\"transparent\" points=\"-4,4 -4,-414 1314.5,-414 1314.5,4 -4,4\"/>\n",
       "<!-- 0 -->\n",
       "<g id=\"node1\" class=\"node\">\n",
       "<title>0</title>\n",
       "<path fill=\"#fefeff\" stroke=\"black\" d=\"M732.5,-410C732.5,-410 589.5,-410 589.5,-410 583.5,-410 577.5,-404 577.5,-398 577.5,-398 577.5,-344 577.5,-344 577.5,-338 583.5,-332 589.5,-332 589.5,-332 732.5,-332 732.5,-332 738.5,-332 744.5,-338 744.5,-344 744.5,-344 744.5,-398 744.5,-398 744.5,-404 738.5,-410 732.5,-410\"/>\n",
       "<text text-anchor=\"start\" x=\"619\" y=\"-395.8\" font-family=\"Helvetica,sans-Serif\" font-size=\"14.00\">x</text>\n",
       "<text text-anchor=\"start\" x=\"628\" y=\"-395.8\" font-family=\"Helvetica,sans-Serif\" baseline-shift=\"sub\" font-size=\"14.00\">7</text>\n",
       "<text text-anchor=\"start\" x=\"636\" y=\"-395.8\" font-family=\"Helvetica,sans-Serif\" font-size=\"14.00\"> ≤ &#45;0.088</text>\n",
       "<text text-anchor=\"start\" x=\"626\" y=\"-381.8\" font-family=\"Helvetica,sans-Serif\" font-size=\"14.00\">gini = 0.5</text>\n",
       "<text text-anchor=\"start\" x=\"599\" y=\"-367.8\" font-family=\"Helvetica,sans-Serif\" font-size=\"14.00\">samples = 13500</text>\n",
       "<text text-anchor=\"start\" x=\"585.5\" y=\"-353.8\" font-family=\"Helvetica,sans-Serif\" font-size=\"14.00\">value = [6725, 6775]</text>\n",
       "<text text-anchor=\"start\" x=\"615.5\" y=\"-339.8\" font-family=\"Helvetica,sans-Serif\" font-size=\"14.00\">class = good</text>\n",
       "</g>\n",
       "<!-- 1 -->\n",
       "<g id=\"node2\" class=\"node\">\n",
       "<title>1</title>\n",
       "<path fill=\"#7bbeee\" stroke=\"black\" d=\"M572.5,-296C572.5,-296 429.5,-296 429.5,-296 423.5,-296 417.5,-290 417.5,-284 417.5,-284 417.5,-230 417.5,-230 417.5,-224 423.5,-218 429.5,-218 429.5,-218 572.5,-218 572.5,-218 578.5,-218 584.5,-224 584.5,-230 584.5,-230 584.5,-284 584.5,-284 584.5,-290 578.5,-296 572.5,-296\"/>\n",
       "<text text-anchor=\"start\" x=\"457.5\" y=\"-281.8\" font-family=\"Helvetica,sans-Serif\" font-size=\"14.00\">x</text>\n",
       "<text text-anchor=\"start\" x=\"466.5\" y=\"-281.8\" font-family=\"Helvetica,sans-Serif\" baseline-shift=\"sub\" font-size=\"14.00\">11</text>\n",
       "<text text-anchor=\"start\" x=\"482.5\" y=\"-281.8\" font-family=\"Helvetica,sans-Serif\" font-size=\"14.00\"> ≤ 0.002</text>\n",
       "<text text-anchor=\"start\" x=\"457\" y=\"-267.8\" font-family=\"Helvetica,sans-Serif\" font-size=\"14.00\">gini = 0.375</text>\n",
       "<text text-anchor=\"start\" x=\"443.5\" y=\"-253.8\" font-family=\"Helvetica,sans-Serif\" font-size=\"14.00\">samples = 8682</text>\n",
       "<text text-anchor=\"start\" x=\"425.5\" y=\"-239.8\" font-family=\"Helvetica,sans-Serif\" font-size=\"14.00\">value = [2172, 6510]</text>\n",
       "<text text-anchor=\"start\" x=\"455.5\" y=\"-225.8\" font-family=\"Helvetica,sans-Serif\" font-size=\"14.00\">class = good</text>\n",
       "</g>\n",
       "<!-- 0&#45;&gt;1 -->\n",
       "<g id=\"edge1\" class=\"edge\">\n",
       "<title>0&#45;&gt;1</title>\n",
       "<path fill=\"none\" stroke=\"black\" d=\"M606.38,-331.77C592.61,-322.13 577.72,-311.7 563.59,-301.81\"/>\n",
       "<polygon fill=\"black\" stroke=\"black\" points=\"565.57,-298.93 555.37,-296.06 561.55,-304.66 565.57,-298.93\"/>\n",
       "<text text-anchor=\"middle\" x=\"559.71\" y=\"-316.98\" font-family=\"Helvetica,sans-Serif\" font-size=\"14.00\">True</text>\n",
       "</g>\n",
       "<!-- 8 -->\n",
       "<g id=\"node9\" class=\"node\">\n",
       "<title>8</title>\n",
       "<path fill=\"#e78845\" stroke=\"black\" d=\"M889,-296C889,-296 755,-296 755,-296 749,-296 743,-290 743,-284 743,-284 743,-230 743,-230 743,-224 749,-218 755,-218 755,-218 889,-218 889,-218 895,-218 901,-224 901,-230 901,-230 901,-284 901,-284 901,-290 895,-296 889,-296\"/>\n",
       "<text text-anchor=\"start\" x=\"782.5\" y=\"-281.8\" font-family=\"Helvetica,sans-Serif\" font-size=\"14.00\">x</text>\n",
       "<text text-anchor=\"start\" x=\"791.5\" y=\"-281.8\" font-family=\"Helvetica,sans-Serif\" baseline-shift=\"sub\" font-size=\"14.00\">7</text>\n",
       "<text text-anchor=\"start\" x=\"799.5\" y=\"-281.8\" font-family=\"Helvetica,sans-Serif\" font-size=\"14.00\"> ≤ 0.043</text>\n",
       "<text text-anchor=\"start\" x=\"778\" y=\"-267.8\" font-family=\"Helvetica,sans-Serif\" font-size=\"14.00\">gini = 0.104</text>\n",
       "<text text-anchor=\"start\" x=\"764.5\" y=\"-253.8\" font-family=\"Helvetica,sans-Serif\" font-size=\"14.00\">samples = 4818</text>\n",
       "<text text-anchor=\"start\" x=\"751\" y=\"-239.8\" font-family=\"Helvetica,sans-Serif\" font-size=\"14.00\">value = [4553, 265]</text>\n",
       "<text text-anchor=\"start\" x=\"781\" y=\"-225.8\" font-family=\"Helvetica,sans-Serif\" font-size=\"14.00\">class = bad</text>\n",
       "</g>\n",
       "<!-- 0&#45;&gt;8 -->\n",
       "<g id=\"edge8\" class=\"edge\">\n",
       "<title>0&#45;&gt;8</title>\n",
       "<path fill=\"none\" stroke=\"black\" d=\"M715.96,-331.77C729.82,-322.13 744.8,-311.7 759.02,-301.81\"/>\n",
       "<polygon fill=\"black\" stroke=\"black\" points=\"761.08,-304.64 767.29,-296.06 757.08,-298.9 761.08,-304.64\"/>\n",
       "<text text-anchor=\"middle\" x=\"762.87\" y=\"-316.97\" font-family=\"Helvetica,sans-Serif\" font-size=\"14.00\">False</text>\n",
       "</g>\n",
       "<!-- 2 -->\n",
       "<g id=\"node3\" class=\"node\">\n",
       "<title>2</title>\n",
       "<path fill=\"#6bb6ec\" stroke=\"black\" d=\"M326.5,-182C326.5,-182 183.5,-182 183.5,-182 177.5,-182 171.5,-176 171.5,-170 171.5,-170 171.5,-116 171.5,-116 171.5,-110 177.5,-104 183.5,-104 183.5,-104 326.5,-104 326.5,-104 332.5,-104 338.5,-110 338.5,-116 338.5,-116 338.5,-170 338.5,-170 338.5,-176 332.5,-182 326.5,-182\"/>\n",
       "<text text-anchor=\"start\" x=\"217.5\" y=\"-167.8\" font-family=\"Helvetica,sans-Serif\" font-size=\"14.00\">x</text>\n",
       "<text text-anchor=\"start\" x=\"226.5\" y=\"-167.8\" font-family=\"Helvetica,sans-Serif\" baseline-shift=\"sub\" font-size=\"14.00\">7</text>\n",
       "<text text-anchor=\"start\" x=\"234.5\" y=\"-167.8\" font-family=\"Helvetica,sans-Serif\" font-size=\"14.00\"> ≤ &#45;0.38</text>\n",
       "<text text-anchor=\"start\" x=\"211\" y=\"-153.8\" font-family=\"Helvetica,sans-Serif\" font-size=\"14.00\">gini = 0.321</text>\n",
       "<text text-anchor=\"start\" x=\"197.5\" y=\"-139.8\" font-family=\"Helvetica,sans-Serif\" font-size=\"14.00\">samples = 7813</text>\n",
       "<text text-anchor=\"start\" x=\"179.5\" y=\"-125.8\" font-family=\"Helvetica,sans-Serif\" font-size=\"14.00\">value = [1566, 6247]</text>\n",
       "<text text-anchor=\"start\" x=\"209.5\" y=\"-111.8\" font-family=\"Helvetica,sans-Serif\" font-size=\"14.00\">class = good</text>\n",
       "</g>\n",
       "<!-- 1&#45;&gt;2 -->\n",
       "<g id=\"edge2\" class=\"edge\">\n",
       "<title>1&#45;&gt;2</title>\n",
       "<path fill=\"none\" stroke=\"black\" d=\"M417.37,-217.93C395.09,-207.78 370.88,-196.76 348.13,-186.4\"/>\n",
       "<polygon fill=\"black\" stroke=\"black\" points=\"349.37,-183.12 338.81,-182.16 346.47,-189.49 349.37,-183.12\"/>\n",
       "</g>\n",
       "<!-- 5 -->\n",
       "<g id=\"node6\" class=\"node\">\n",
       "<title>5</title>\n",
       "<path fill=\"#f0b88f\" stroke=\"black\" d=\"M563.5,-182C563.5,-182 438.5,-182 438.5,-182 432.5,-182 426.5,-176 426.5,-170 426.5,-170 426.5,-116 426.5,-116 426.5,-110 432.5,-104 438.5,-104 438.5,-104 563.5,-104 563.5,-104 569.5,-104 575.5,-110 575.5,-116 575.5,-116 575.5,-170 575.5,-170 575.5,-176 569.5,-182 563.5,-182\"/>\n",
       "<text text-anchor=\"start\" x=\"457.5\" y=\"-167.8\" font-family=\"Helvetica,sans-Serif\" font-size=\"14.00\">x</text>\n",
       "<text text-anchor=\"start\" x=\"466.5\" y=\"-167.8\" font-family=\"Helvetica,sans-Serif\" baseline-shift=\"sub\" font-size=\"14.00\">11</text>\n",
       "<text text-anchor=\"start\" x=\"482.5\" y=\"-167.8\" font-family=\"Helvetica,sans-Serif\" font-size=\"14.00\"> ≤ 0.297</text>\n",
       "<text text-anchor=\"start\" x=\"457\" y=\"-153.8\" font-family=\"Helvetica,sans-Serif\" font-size=\"14.00\">gini = 0.422</text>\n",
       "<text text-anchor=\"start\" x=\"448\" y=\"-139.8\" font-family=\"Helvetica,sans-Serif\" font-size=\"14.00\">samples = 869</text>\n",
       "<text text-anchor=\"start\" x=\"434.5\" y=\"-125.8\" font-family=\"Helvetica,sans-Serif\" font-size=\"14.00\">value = [606, 263]</text>\n",
       "<text text-anchor=\"start\" x=\"460\" y=\"-111.8\" font-family=\"Helvetica,sans-Serif\" font-size=\"14.00\">class = bad</text>\n",
       "</g>\n",
       "<!-- 1&#45;&gt;5 -->\n",
       "<g id=\"edge5\" class=\"edge\">\n",
       "<title>1&#45;&gt;5</title>\n",
       "<path fill=\"none\" stroke=\"black\" d=\"M501,-217.77C501,-209.57 501,-200.8 501,-192.28\"/>\n",
       "<polygon fill=\"black\" stroke=\"black\" points=\"504.5,-192.06 501,-182.06 497.5,-192.06 504.5,-192.06\"/>\n",
       "</g>\n",
       "<!-- 3 -->\n",
       "<g id=\"node4\" class=\"node\">\n",
       "<title>3</title>\n",
       "<path fill=\"#5aade9\" stroke=\"black\" d=\"M146,-68C146,-68 12,-68 12,-68 6,-68 0,-62 0,-56 0,-56 0,-12 0,-12 0,-6 6,0 12,0 12,0 146,0 146,0 152,0 158,-6 158,-12 158,-12 158,-56 158,-56 158,-62 152,-68 146,-68\"/>\n",
       "<text text-anchor=\"start\" x=\"35\" y=\"-52.8\" font-family=\"Helvetica,sans-Serif\" font-size=\"14.00\">gini = 0.246</text>\n",
       "<text text-anchor=\"start\" x=\"21.5\" y=\"-37.8\" font-family=\"Helvetica,sans-Serif\" font-size=\"14.00\">samples = 5376</text>\n",
       "<text text-anchor=\"start\" x=\"8\" y=\"-22.8\" font-family=\"Helvetica,sans-Serif\" font-size=\"14.00\">value = [772, 4604]</text>\n",
       "<text text-anchor=\"start\" x=\"33.5\" y=\"-7.8\" font-family=\"Helvetica,sans-Serif\" font-size=\"14.00\">class = good</text>\n",
       "</g>\n",
       "<!-- 2&#45;&gt;3 -->\n",
       "<g id=\"edge3\" class=\"edge\">\n",
       "<title>2&#45;&gt;3</title>\n",
       "<path fill=\"none\" stroke=\"black\" d=\"M192.45,-103.97C176.2,-94.09 158.67,-83.44 142.37,-73.53\"/>\n",
       "<polygon fill=\"black\" stroke=\"black\" points=\"143.82,-70.31 133.46,-68.11 140.19,-76.3 143.82,-70.31\"/>\n",
       "</g>\n",
       "<!-- 4 -->\n",
       "<g id=\"node5\" class=\"node\">\n",
       "<title>4</title>\n",
       "<path fill=\"#99ccf2\" stroke=\"black\" d=\"M322,-68C322,-68 188,-68 188,-68 182,-68 176,-62 176,-56 176,-56 176,-12 176,-12 176,-6 182,0 188,0 188,0 322,0 322,0 328,0 334,-6 334,-12 334,-12 334,-56 334,-56 334,-62 328,-68 322,-68\"/>\n",
       "<text text-anchor=\"start\" x=\"211\" y=\"-52.8\" font-family=\"Helvetica,sans-Serif\" font-size=\"14.00\">gini = 0.439</text>\n",
       "<text text-anchor=\"start\" x=\"197.5\" y=\"-37.8\" font-family=\"Helvetica,sans-Serif\" font-size=\"14.00\">samples = 2437</text>\n",
       "<text text-anchor=\"start\" x=\"184\" y=\"-22.8\" font-family=\"Helvetica,sans-Serif\" font-size=\"14.00\">value = [794, 1643]</text>\n",
       "<text text-anchor=\"start\" x=\"209.5\" y=\"-7.8\" font-family=\"Helvetica,sans-Serif\" font-size=\"14.00\">class = good</text>\n",
       "</g>\n",
       "<!-- 2&#45;&gt;4 -->\n",
       "<g id=\"edge4\" class=\"edge\">\n",
       "<title>2&#45;&gt;4</title>\n",
       "<path fill=\"none\" stroke=\"black\" d=\"M255,-103.97C255,-95.69 255,-86.86 255,-78.39\"/>\n",
       "<polygon fill=\"black\" stroke=\"black\" points=\"258.5,-78.28 255,-68.28 251.5,-78.28 258.5,-78.28\"/>\n",
       "</g>\n",
       "<!-- 6 -->\n",
       "<g id=\"node7\" class=\"node\">\n",
       "<title>6</title>\n",
       "<path fill=\"#f7d6bf\" stroke=\"black\" d=\"M488.5,-68C488.5,-68 363.5,-68 363.5,-68 357.5,-68 351.5,-62 351.5,-56 351.5,-56 351.5,-12 351.5,-12 351.5,-6 357.5,0 363.5,0 363.5,0 488.5,0 488.5,0 494.5,0 500.5,-6 500.5,-12 500.5,-12 500.5,-56 500.5,-56 500.5,-62 494.5,-68 488.5,-68\"/>\n",
       "<text text-anchor=\"start\" x=\"382\" y=\"-52.8\" font-family=\"Helvetica,sans-Serif\" font-size=\"14.00\">gini = 0.481</text>\n",
       "<text text-anchor=\"start\" x=\"373\" y=\"-37.8\" font-family=\"Helvetica,sans-Serif\" font-size=\"14.00\">samples = 543</text>\n",
       "<text text-anchor=\"start\" x=\"359.5\" y=\"-22.8\" font-family=\"Helvetica,sans-Serif\" font-size=\"14.00\">value = [324, 219]</text>\n",
       "<text text-anchor=\"start\" x=\"385\" y=\"-7.8\" font-family=\"Helvetica,sans-Serif\" font-size=\"14.00\">class = bad</text>\n",
       "</g>\n",
       "<!-- 5&#45;&gt;6 -->\n",
       "<g id=\"edge6\" class=\"edge\">\n",
       "<title>5&#45;&gt;6</title>\n",
       "<path fill=\"none\" stroke=\"black\" d=\"M474.35,-103.97C468.16,-95.14 461.54,-85.7 455.24,-76.72\"/>\n",
       "<polygon fill=\"black\" stroke=\"black\" points=\"457.94,-74.46 449.33,-68.28 452.2,-78.48 457.94,-74.46\"/>\n",
       "</g>\n",
       "<!-- 7 -->\n",
       "<g id=\"node8\" class=\"node\">\n",
       "<title>7</title>\n",
       "<path fill=\"#e99558\" stroke=\"black\" d=\"M647,-68C647,-68 531,-68 531,-68 525,-68 519,-62 519,-56 519,-56 519,-12 519,-12 519,-6 525,0 531,0 531,0 647,0 647,0 653,0 659,-6 659,-12 659,-12 659,-56 659,-56 659,-62 653,-68 647,-68\"/>\n",
       "<text text-anchor=\"start\" x=\"545\" y=\"-52.8\" font-family=\"Helvetica,sans-Serif\" font-size=\"14.00\">gini = 0.234</text>\n",
       "<text text-anchor=\"start\" x=\"536\" y=\"-37.8\" font-family=\"Helvetica,sans-Serif\" font-size=\"14.00\">samples = 326</text>\n",
       "<text text-anchor=\"start\" x=\"527\" y=\"-22.8\" font-family=\"Helvetica,sans-Serif\" font-size=\"14.00\">value = [282, 44]</text>\n",
       "<text text-anchor=\"start\" x=\"548\" y=\"-7.8\" font-family=\"Helvetica,sans-Serif\" font-size=\"14.00\">class = bad</text>\n",
       "</g>\n",
       "<!-- 5&#45;&gt;7 -->\n",
       "<g id=\"edge7\" class=\"edge\">\n",
       "<title>5&#45;&gt;7</title>\n",
       "<path fill=\"none\" stroke=\"black\" d=\"M532.27,-103.97C539.69,-94.96 547.63,-85.31 555.15,-76.16\"/>\n",
       "<polygon fill=\"black\" stroke=\"black\" points=\"557.98,-78.23 561.63,-68.28 552.57,-73.79 557.98,-78.23\"/>\n",
       "</g>\n",
       "<!-- 9 -->\n",
       "<g id=\"node10\" class=\"node\">\n",
       "<title>9</title>\n",
       "<path fill=\"#f0b58b\" stroke=\"black\" d=\"M898,-182C898,-182 746,-182 746,-182 740,-182 734,-176 734,-170 734,-170 734,-116 734,-116 734,-110 740,-104 746,-104 746,-104 898,-104 898,-104 904,-104 910,-110 910,-116 910,-116 910,-170 910,-170 910,-176 904,-182 898,-182\"/>\n",
       "<text text-anchor=\"start\" x=\"780\" y=\"-167.8\" font-family=\"Helvetica,sans-Serif\" font-size=\"14.00\">x</text>\n",
       "<text text-anchor=\"start\" x=\"789\" y=\"-167.8\" font-family=\"Helvetica,sans-Serif\" baseline-shift=\"sub\" font-size=\"14.00\">6</text>\n",
       "<text text-anchor=\"start\" x=\"797\" y=\"-167.8\" font-family=\"Helvetica,sans-Serif\" font-size=\"14.00\"> ≤ &#45;0.082</text>\n",
       "<text text-anchor=\"start\" x=\"778\" y=\"-153.8\" font-family=\"Helvetica,sans-Serif\" font-size=\"14.00\">gini = 0.415</text>\n",
       "<text text-anchor=\"start\" x=\"769\" y=\"-139.8\" font-family=\"Helvetica,sans-Serif\" font-size=\"14.00\">samples = 705</text>\n",
       "<text text-anchor=\"start\" x=\"742\" y=\"-125.8\" font-family=\"Helvetica,sans-Serif\" font-size=\"14.00\">value = [498.0, 207.0]</text>\n",
       "<text text-anchor=\"start\" x=\"781\" y=\"-111.8\" font-family=\"Helvetica,sans-Serif\" font-size=\"14.00\">class = bad</text>\n",
       "</g>\n",
       "<!-- 8&#45;&gt;9 -->\n",
       "<g id=\"edge9\" class=\"edge\">\n",
       "<title>8&#45;&gt;9</title>\n",
       "<path fill=\"none\" stroke=\"black\" d=\"M822,-217.77C822,-209.57 822,-200.8 822,-192.28\"/>\n",
       "<polygon fill=\"black\" stroke=\"black\" points=\"825.5,-192.06 822,-182.06 818.5,-192.06 825.5,-192.06\"/>\n",
       "</g>\n",
       "<!-- 12 -->\n",
       "<g id=\"node13\" class=\"node\">\n",
       "<title>12</title>\n",
       "<path fill=\"#e5833c\" stroke=\"black\" d=\"M1135.5,-182C1135.5,-182 1010.5,-182 1010.5,-182 1004.5,-182 998.5,-176 998.5,-170 998.5,-170 998.5,-116 998.5,-116 998.5,-110 1004.5,-104 1010.5,-104 1010.5,-104 1135.5,-104 1135.5,-104 1141.5,-104 1147.5,-110 1147.5,-116 1147.5,-116 1147.5,-170 1147.5,-170 1147.5,-176 1141.5,-182 1135.5,-182\"/>\n",
       "<text text-anchor=\"start\" x=\"1033.5\" y=\"-167.8\" font-family=\"Helvetica,sans-Serif\" font-size=\"14.00\">x</text>\n",
       "<text text-anchor=\"start\" x=\"1042.5\" y=\"-167.8\" font-family=\"Helvetica,sans-Serif\" baseline-shift=\"sub\" font-size=\"14.00\">7</text>\n",
       "<text text-anchor=\"start\" x=\"1050.5\" y=\"-167.8\" font-family=\"Helvetica,sans-Serif\" font-size=\"14.00\"> ≤ 0.132</text>\n",
       "<text text-anchor=\"start\" x=\"1029\" y=\"-153.8\" font-family=\"Helvetica,sans-Serif\" font-size=\"14.00\">gini = 0.028</text>\n",
       "<text text-anchor=\"start\" x=\"1015.5\" y=\"-139.8\" font-family=\"Helvetica,sans-Serif\" font-size=\"14.00\">samples = 4113</text>\n",
       "<text text-anchor=\"start\" x=\"1006.5\" y=\"-125.8\" font-family=\"Helvetica,sans-Serif\" font-size=\"14.00\">value = [4055, 58]</text>\n",
       "<text text-anchor=\"start\" x=\"1032\" y=\"-111.8\" font-family=\"Helvetica,sans-Serif\" font-size=\"14.00\">class = bad</text>\n",
       "</g>\n",
       "<!-- 8&#45;&gt;12 -->\n",
       "<g id=\"edge12\" class=\"edge\">\n",
       "<title>8&#45;&gt;12</title>\n",
       "<path fill=\"none\" stroke=\"black\" d=\"M901.07,-220.72C928.96,-208.27 960.41,-194.24 988.71,-181.61\"/>\n",
       "<polygon fill=\"black\" stroke=\"black\" points=\"990.47,-184.66 998.18,-177.39 987.62,-178.27 990.47,-184.66\"/>\n",
       "</g>\n",
       "<!-- 10 -->\n",
       "<g id=\"node11\" class=\"node\">\n",
       "<title>10</title>\n",
       "<path fill=\"#f8dcc8\" stroke=\"black\" d=\"M814.5,-68C814.5,-68 689.5,-68 689.5,-68 683.5,-68 677.5,-62 677.5,-56 677.5,-56 677.5,-12 677.5,-12 677.5,-6 683.5,0 689.5,0 689.5,0 814.5,0 814.5,0 820.5,0 826.5,-6 826.5,-12 826.5,-12 826.5,-56 826.5,-56 826.5,-62 820.5,-68 814.5,-68\"/>\n",
       "<text text-anchor=\"start\" x=\"708\" y=\"-52.8\" font-family=\"Helvetica,sans-Serif\" font-size=\"14.00\">gini = 0.487</text>\n",
       "<text text-anchor=\"start\" x=\"699\" y=\"-37.8\" font-family=\"Helvetica,sans-Serif\" font-size=\"14.00\">samples = 439</text>\n",
       "<text text-anchor=\"start\" x=\"685.5\" y=\"-22.8\" font-family=\"Helvetica,sans-Serif\" font-size=\"14.00\">value = [255, 184]</text>\n",
       "<text text-anchor=\"start\" x=\"711\" y=\"-7.8\" font-family=\"Helvetica,sans-Serif\" font-size=\"14.00\">class = bad</text>\n",
       "</g>\n",
       "<!-- 9&#45;&gt;10 -->\n",
       "<g id=\"edge10\" class=\"edge\">\n",
       "<title>9&#45;&gt;10</title>\n",
       "<path fill=\"none\" stroke=\"black\" d=\"M797.12,-103.97C791.35,-95.14 785.17,-85.7 779.29,-76.72\"/>\n",
       "<polygon fill=\"black\" stroke=\"black\" points=\"782.18,-74.74 773.78,-68.28 776.32,-78.57 782.18,-74.74\"/>\n",
       "</g>\n",
       "<!-- 11 -->\n",
       "<g id=\"node12\" class=\"node\">\n",
       "<title>11</title>\n",
       "<path fill=\"#e78d4c\" stroke=\"black\" d=\"M973,-68C973,-68 857,-68 857,-68 851,-68 845,-62 845,-56 845,-56 845,-12 845,-12 845,-6 851,0 857,0 857,0 973,0 973,0 979,0 985,-6 985,-12 985,-12 985,-56 985,-56 985,-62 979,-68 973,-68\"/>\n",
       "<text text-anchor=\"start\" x=\"871\" y=\"-52.8\" font-family=\"Helvetica,sans-Serif\" font-size=\"14.00\">gini = 0.158</text>\n",
       "<text text-anchor=\"start\" x=\"862\" y=\"-37.8\" font-family=\"Helvetica,sans-Serif\" font-size=\"14.00\">samples = 266</text>\n",
       "<text text-anchor=\"start\" x=\"853\" y=\"-22.8\" font-family=\"Helvetica,sans-Serif\" font-size=\"14.00\">value = [243, 23]</text>\n",
       "<text text-anchor=\"start\" x=\"874\" y=\"-7.8\" font-family=\"Helvetica,sans-Serif\" font-size=\"14.00\">class = bad</text>\n",
       "</g>\n",
       "<!-- 9&#45;&gt;11 -->\n",
       "<g id=\"edge11\" class=\"edge\">\n",
       "<title>9&#45;&gt;11</title>\n",
       "<path fill=\"none\" stroke=\"black\" d=\"M855.05,-103.97C862.96,-94.87 871.44,-85.11 879.46,-75.88\"/>\n",
       "<polygon fill=\"black\" stroke=\"black\" points=\"882.15,-78.13 886.07,-68.28 876.87,-73.54 882.15,-78.13\"/>\n",
       "</g>\n",
       "<!-- 13 -->\n",
       "<g id=\"node14\" class=\"node\">\n",
       "<title>13</title>\n",
       "<path fill=\"#e89152\" stroke=\"black\" d=\"M1131,-68C1131,-68 1015,-68 1015,-68 1009,-68 1003,-62 1003,-56 1003,-56 1003,-12 1003,-12 1003,-6 1009,0 1015,0 1015,0 1131,0 1131,0 1137,0 1143,-6 1143,-12 1143,-12 1143,-56 1143,-56 1143,-62 1137,-68 1131,-68\"/>\n",
       "<text text-anchor=\"start\" x=\"1029\" y=\"-52.8\" font-family=\"Helvetica,sans-Serif\" font-size=\"14.00\">gini = 0.196</text>\n",
       "<text text-anchor=\"start\" x=\"1020\" y=\"-37.8\" font-family=\"Helvetica,sans-Serif\" font-size=\"14.00\">samples = 354</text>\n",
       "<text text-anchor=\"start\" x=\"1011\" y=\"-22.8\" font-family=\"Helvetica,sans-Serif\" font-size=\"14.00\">value = [315, 39]</text>\n",
       "<text text-anchor=\"start\" x=\"1032\" y=\"-7.8\" font-family=\"Helvetica,sans-Serif\" font-size=\"14.00\">class = bad</text>\n",
       "</g>\n",
       "<!-- 12&#45;&gt;13 -->\n",
       "<g id=\"edge13\" class=\"edge\">\n",
       "<title>12&#45;&gt;13</title>\n",
       "<path fill=\"none\" stroke=\"black\" d=\"M1073,-103.97C1073,-95.69 1073,-86.86 1073,-78.39\"/>\n",
       "<polygon fill=\"black\" stroke=\"black\" points=\"1076.5,-78.28 1073,-68.28 1069.5,-78.28 1076.5,-78.28\"/>\n",
       "</g>\n",
       "<!-- 14 -->\n",
       "<g id=\"node15\" class=\"node\">\n",
       "<title>14</title>\n",
       "<path fill=\"#e5823a\" stroke=\"black\" d=\"M1298.5,-68C1298.5,-68 1173.5,-68 1173.5,-68 1167.5,-68 1161.5,-62 1161.5,-56 1161.5,-56 1161.5,-12 1161.5,-12 1161.5,-6 1167.5,0 1173.5,0 1173.5,0 1298.5,0 1298.5,0 1304.5,0 1310.5,-6 1310.5,-12 1310.5,-12 1310.5,-56 1310.5,-56 1310.5,-62 1304.5,-68 1298.5,-68\"/>\n",
       "<text text-anchor=\"start\" x=\"1196.5\" y=\"-52.8\" font-family=\"Helvetica,sans-Serif\" font-size=\"14.00\">gini = 0.01</text>\n",
       "<text text-anchor=\"start\" x=\"1178.5\" y=\"-37.8\" font-family=\"Helvetica,sans-Serif\" font-size=\"14.00\">samples = 3759</text>\n",
       "<text text-anchor=\"start\" x=\"1169.5\" y=\"-22.8\" font-family=\"Helvetica,sans-Serif\" font-size=\"14.00\">value = [3740, 19]</text>\n",
       "<text text-anchor=\"start\" x=\"1195\" y=\"-7.8\" font-family=\"Helvetica,sans-Serif\" font-size=\"14.00\">class = bad</text>\n",
       "</g>\n",
       "<!-- 12&#45;&gt;14 -->\n",
       "<g id=\"edge14\" class=\"edge\">\n",
       "<title>12&#45;&gt;14</title>\n",
       "<path fill=\"none\" stroke=\"black\" d=\"M1130.93,-103.97C1145.84,-94.18 1161.91,-83.63 1176.89,-73.8\"/>\n",
       "<polygon fill=\"black\" stroke=\"black\" points=\"1179.12,-76.52 1185.56,-68.11 1175.28,-70.67 1179.12,-76.52\"/>\n",
       "</g>\n",
       "</g>\n",
       "</svg>\n"
      ],
      "text/plain": [
       "<graphviz.sources.Source at 0x7792fbf9f9a0>"
      ]
     },
     "execution_count": 20,
     "metadata": {},
     "output_type": "execute_result"
    }
   ],
   "source": [
    "import graphviz\n",
    "dot_data = tree.export_graphviz(clf, out_file=None)\n",
    "dot_data = tree.export_graphviz(clf, out_file=None,\n",
    "                     class_names=[\"bad\",\"good\"],\n",
    "                     filled=True, rounded=True,\n",
    "                     special_characters=True)\n",
    "graph = graphviz.Source(dot_data)\n",
    "graph"
   ]
  },
  {
   "cell_type": "markdown",
   "metadata": {},
   "source": [
    "# Exercises"
   ]
  },
  {
   "cell_type": "markdown",
   "metadata": {},
   "source": [
    "* Try to run decision tree without normalisation, and compare performance\n",
    "* Modify parameteres in decision tree\n",
    "  * In particular, increase number of leaves, and verify on graphical representation of the tree what it did \n",
    "* Rerun decision tree only with variables actually used by tree"
   ]
  }
 ],
 "metadata": {
  "colab": {
   "provenance": []
  },
  "kernelspec": {
   "display_name": "Python 3 (ipykernel)",
   "language": "python",
   "name": "python3"
  },
  "language_info": {
   "codemirror_mode": {
    "name": "ipython",
    "version": 3
   },
   "file_extension": ".py",
   "mimetype": "text/x-python",
   "name": "python",
   "nbconvert_exporter": "python",
   "pygments_lexer": "ipython3",
   "version": "3.10.12"
  },
  "toc": {
   "base_numbering": 1,
   "nav_menu": {},
   "number_sections": true,
   "sideBar": true,
   "skip_h1_title": false,
   "title_cell": "Table of Contents",
   "title_sidebar": "Contents",
   "toc_cell": false,
   "toc_position": {},
   "toc_section_display": true,
   "toc_window_display": false
  }
 },
 "nbformat": 4,
 "nbformat_minor": 1
}
