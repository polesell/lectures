{
 "cells": [
  {
   "cell_type": "markdown",
   "metadata": {
    "id": "TiSTHbA25ZtB"
   },
   "source": [
    "# Performing the Higgs -> WW-> l leptons search \n",
    "\n",
    "##  Test performance of the XGB algorithm \n",
    "\n",
    "Focus on discriminating Higgs signal from irreducible SM WW production.\n",
    "\n",
    "Final state is 2 leptons + missing tranverse momentum.\n",
    "\n",
    "This notebooks shows the use of XGB for the analysis"
   ]
  },
  {
   "cell_type": "markdown",
   "metadata": {
    "id": "5dgRkVPu5ZtK"
   },
   "source": [
    "# Installation of packages not available by default on colab\n"
   ]
  },
  {
   "cell_type": "code",
   "execution_count": 1,
   "metadata": {
    "colab": {
     "base_uri": "https://localhost:8080/"
    },
    "id": "rjpPQFJHBHZO",
    "outputId": "4e4e4a10-448d-4576-a5a3-c9810c5fa386"
   },
   "outputs": [
    {
     "name": "stdout",
     "output_type": "stream",
     "text": [
      "Defaulting to user installation because normal site-packages is not writeable\n",
      "Requirement already satisfied: vector in /home/polesell/.local/lib/python3.10/site-packages (1.1.1.post1)\n",
      "Requirement already satisfied: numpy>=1.13.3 in /home/polesell/.local/lib/python3.10/site-packages (from vector) (1.26.1)\n",
      "Requirement already satisfied: packaging>=19 in /usr/lib/python3/dist-packages (from vector) (21.3)\n"
     ]
    }
   ],
   "source": [
    "import sys\n",
    "# update the pip package installer\n",
    "#%pip install --upgrade --user pip\n",
    "# install required packages\n",
    "#%pip install --upgrade --user uproot awkward vector numpy matplotlib\n",
    "\n",
    "\n",
    "!pip install vector\n",
    "#!pip install hist"
   ]
  },
  {
   "cell_type": "markdown",
   "metadata": {
    "id": "YrW2zmSv5ZtP"
   },
   "source": [
    "## Import packages used in the analysis\n",
    "\n",
    "We're going to be using a number of tools to help us:\n",
    "* vector: to allow vectorized 4-momentum calculations\n",
    "* numpy: provides numerical calculations such as histogramming\n",
    "* matplotlib: common tool for making plots, figures, images, visualisations"
   ]
  },
  {
   "cell_type": "code",
   "execution_count": 2,
   "metadata": {
    "id": "0tezkWvi5ZtP"
   },
   "outputs": [],
   "source": [
    "\n",
    "import vector # for 4-momentum calculations\n",
    "import time # to measure time to analyse\n",
    "import math # for mathematical functions such as square root\n",
    "import numpy as np # for numerical calculations such as histogramming\n",
    "import matplotlib.pyplot as plt\n",
    "import pandas as pd\n"
   ]
  },
  {
   "cell_type": "markdown",
   "metadata": {},
   "source": [
    "## Read in csv files for signal and background"
   ]
  },
  {
   "cell_type": "code",
   "execution_count": 3,
   "metadata": {},
   "outputs": [
    {
     "name": "stdout",
     "output_type": "stream",
     "text": [
      "Size of dataset : 50000\n"
     ]
    }
   ],
   "source": [
    "fn2=\"https://cernbox.cern.ch/remote.php/dav/public-files/6mTuRapglPXnwUT/hww_atlas.csv.gz\" #hww\n",
    "totf2=600000\n",
    "#fn1=\"https://cernbox.cern.ch/remote.php/dav/public-files/bt9p3KS952M0I11/ttlep_atlas.csv.gz\" #ttlep\n",
    "fn1=\"https://cernbox.cern.ch/remote.php/dav/public-files/ndKtAQHMxNUmumC/ww_atlas.csv.gz\" #ww\n",
    "totf1=600000\n",
    "\n",
    "N = 50000\n",
    "print(\"Size of dataset : %i\"%N)\n",
    "df1 = pd.read_csv(fn1, compression='gzip', header=0,nrows=N,engine='python')\n",
    "df2 = pd.read_csv(fn2, compression='gzip', header=0,nrows=N,engine='python')"
   ]
  },
  {
   "cell_type": "code",
   "execution_count": 4,
   "metadata": {},
   "outputs": [
    {
     "name": "stdout",
     "output_type": "stream",
     "text": [
      "(50000, 16)\n",
      "(50000, 16)\n"
     ]
    }
   ],
   "source": [
    "print(df1.shape)\n",
    "print(df2.shape)"
   ]
  },
  {
   "cell_type": "markdown",
   "metadata": {},
   "source": [
    "## Add labelling and high-level variables\n",
    "\n",
    "The csv files only contain the 4-vectors of the two leptons. In order to perform analysis:\n",
    "\n",
    "* Label whether each sample is signal or background\n",
    "* concatenate samples\n",
    "* store 4-vectors of leptons amd etmiss in 'vector' structures for manipulation\n",
    "* build high-level variables\n",
    "* drop redundant ones"
   ]
  },
  {
   "cell_type": "code",
   "execution_count": 5,
   "metadata": {},
   "outputs": [],
   "source": [
    "# add labelling signal/background\n",
    "df1['SIG']=0\n",
    "df2['SIG']=1\n",
    "\n",
    "\n",
    "dftot=pd.concat([df1,df2])\n",
    "\n",
    "#\n",
    "# create array of 4-vectors of two leptons and etmiss for calculation of derived\n",
    "# variables\n",
    "#\n",
    "p4l1=vector.array({\"pt\":dftot[\"ptl1\"], \"phi\":dftot[\"phil1\"],\n",
    "    \"eta\":dftot[\"etal1\"], \"e\":dftot[\"el1\"]})\n",
    "p4l2=vector.array({\"pt\":dftot[\"ptl2\"], \"phi\":dftot[\"phil2\"],\n",
    "    \"eta\":dftot[\"etal2\"], \"e\":dftot[\"el2\"]})\n",
    "etmv=vector.array({\"pt\":dftot[\"met_et\"], \"phi\":dftot[\"met_phi\"]})\n",
    "\n",
    "#\n",
    "#  rotate variables to exploit azimuthal symmetry\n",
    "#\n",
    "dftot[\"dphil1m\"]=p4l1.deltaphi(etmv)\n",
    "dftot[\"dphil2m\"]=p4l2.deltaphi(etmv)\n",
    "\n",
    "#  High level variables for 2-l+etm system\n",
    "#\n",
    "p4ll=p4l1+p4l2\n",
    "dftot[\"dphill\"]=p4l1.deltaphi(p4l2)\n",
    "dftot[\"dphillm\"]=p4ll.deltaphi(etmv)\n",
    "ptll=p4ll.pt\n",
    "mll=p4ll.M\n",
    "dftot[\"ptll\"]=ptll\n",
    "dftot[\"mll\"]=mll\n",
    "#\n",
    "#  transverse mass of decaying particle\n",
    "#\n",
    "etm=dftot[\"met_et\"]\n",
    "ptllv=vector.array({\"x\":p4ll.x, \"y\":p4ll.y})\n",
    "c2=(etmv.x+ptllv.x)**2+(etmv.y+ptllv.y)**2\n",
    "etll=np.sqrt(ptll*ptll+mll*mll)\n",
    "c1=(etll+etm)**2\n",
    "mt=np.sqrt(c1-c2)\n",
    "dftot[\"mt\"]=mt\n",
    "#\n",
    "#   drop redundant variables\n",
    "#\n",
    "df=dftot.drop(columns=['phil1','phil2','met_phi'])\n",
    "\n",
    "#coln=df.columns\n",
    "\n",
    "#print(coln)\n",
    "\n",
    "#print(df.head())\n",
    "\n",
    "#print(df.info())"
   ]
  },
  {
   "cell_type": "markdown",
   "metadata": {},
   "source": [
    "## Look at signal and background statistics after reading data"
   ]
  },
  {
   "cell_type": "code",
   "execution_count": 6,
   "metadata": {},
   "outputs": [
    {
     "name": "stdout",
     "output_type": "stream",
     "text": [
      "472.77396899039974 26427.228577091635\n"
     ]
    }
   ],
   "source": [
    "def getnormev(df,totsig,totbg,evread):\n",
    "  nsigw=((df.query(\"SIG==1\"))[\"totalWeight\"]).sum()*totsig/evread\n",
    "  nbgw=((df.query(\"SIG==0\"))[\"totalWeight\"]).sum()*totbg/evread\n",
    "  return nsigw,nbgw\n",
    "\n",
    "nsigw,nbgw=getnormev(df,totf2,totf1,N)\n",
    "print(nsigw,nbgw)"
   ]
  },
  {
   "cell_type": "markdown",
   "metadata": {},
   "source": [
    "## Calculation of significance before selection"
   ]
  },
  {
   "cell_type": "code",
   "execution_count": 7,
   "metadata": {},
   "outputs": [],
   "source": [
    "from math import sqrt, log\n",
    "def calc_sig(nsig, nbg, nbExpEr):\n",
    "    nbObs=nsig+nbg\n",
    "    nbExp=nbg\n",
    "    if nbExp>0 and nbExpEr>0:\n",
    "      factor1 = nbObs*log( (nbObs*(nbExp+nbExpEr**2))/(nbExp**2+nbObs*nbExpEr**2) )\n",
    "      factor2 = (nbExp**2/nbExpEr**2)*log( 1 + (nbExpEr**2*(nbObs-nbExp))/(nbExp*(nbExp+nbExpEr**2)) )\n",
    "      signi  = sqrt(2*(factor1 - factor2))\n",
    "    if nbExp>0 and nbExpEr==0:\n",
    "      signi=sqrt(2*((nsig+nbg)*log(1+nsig/nbg)-nsig))\n",
    "    if nbExp==0 and nbExpEr==0:\n",
    "      signi=sqrt(nsig)\n",
    "    if nbExp==0 and nbExpEr>0:\n",
    "      signi=nsig/sqrt(nbExpEr)\n",
    "    return signi"
   ]
  },
  {
   "cell_type": "code",
   "execution_count": 8,
   "metadata": {},
   "outputs": [
    {
     "name": "stdout",
     "output_type": "stream",
     "text": [
      "significance is  1.515984681366236\n"
     ]
    }
   ],
   "source": [
    "print(\"significance is \",calc_sig(nsigw,nbgw,0.01*nbgw))"
   ]
  },
  {
   "cell_type": "markdown",
   "metadata": {},
   "source": [
    "## Define dataframe with variables to be used for training\n",
    "\n",
    "Dataframe will also contain flag on whether it is signal and background ('SIG') and weight for normalisation to LHC statistics ('totalWeight')\n",
    "\n",
    "We randomize the sample. This is not needed, as the splitting in the next cell will mix events"
   ]
  },
  {
   "cell_type": "code",
   "execution_count": 9,
   "metadata": {},
   "outputs": [
    {
     "name": "stdout",
     "output_type": "stream",
     "text": [
      "df_all  (100000, 14)\n"
     ]
    }
   ],
   "source": [
    "tfea = ['SIG','ptl1','ptl2','dphil1m','dphil2m','etal1','etal2','met_et','mll','ptll','dphill','dphillm','mt','totalWeight'] # list of features for discriminant analysis\n",
    "df_all=df[tfea]\n",
    "df_all.columns=tfea\n",
    "#print(df_all.keys)\n",
    "# randomize it\n",
    "df_all=df_all.sample(frac=1)\n",
    "\n",
    "print(\"df_all \", df_all.shape)\n"
   ]
  },
  {
   "cell_type": "markdown",
   "metadata": {},
   "source": [
    "## Definition of training and test samples\n",
    "\n",
    "As usual use train_test_split from sklearn library\n",
    "Two steps:\n",
    "\n",
    "* Split out a 25% test sample to use at the end for performance evaluation:  X_testu\n",
    "* Remaining 75% split into a 90% training sample and 10% validation sample to be used during training: X_trainu, X_valu"
   ]
  },
  {
   "cell_type": "code",
   "execution_count": 10,
   "metadata": {},
   "outputs": [
    {
     "name": "stderr",
     "output_type": "stream",
     "text": [
      "/usr/lib/python3/dist-packages/scipy/__init__.py:146: UserWarning: A NumPy version >=1.17.3 and <1.25.0 is required for this version of SciPy (detected version 1.26.1\n",
      "  warnings.warn(f\"A NumPy version >={np_minversion} and <{np_maxversion}\"\n"
     ]
    },
    {
     "name": "stdout",
     "output_type": "stream",
     "text": [
      "Index(['ptl1', 'ptl2', 'dphil1m', 'dphil2m', 'etal1', 'etal2', 'met_et', 'mll',\n",
      "       'ptll', 'dphill', 'dphillm', 'mt', 'totalWeight'],\n",
      "      dtype='object')\n",
      "(100000, 13)\n",
      "Index(['ptl1', 'ptl2', 'dphil1m', 'dphil2m', 'etal1', 'etal2', 'met_et', 'mll',\n",
      "       'ptll', 'dphill', 'dphillm', 'mt'],\n",
      "      dtype='object')\n",
      "(67500, 12)\n"
     ]
    }
   ],
   "source": [
    "from sklearn.model_selection import train_test_split\n",
    "#Define vectors for input to ML\n",
    "\n",
    "# Use 'SIG' column as definition of target\n",
    "y = df_all['SIG']\n",
    "\n",
    "# drop it from dataframe for\n",
    "X = df_all[[col for col in df_all.columns if col!=\"SIG\"]]\n",
    "col_fin=X.columns\n",
    "print(col_fin)\n",
    "print(X.shape)\n",
    "\n",
    "# now split out test saple for final performance evaluations\n",
    "\n",
    "X_traina, X_testu, y_traina, y_test = train_test_split(X, y,\n",
    "                                   test_size=.25, random_state=0)\n",
    "\n",
    "# save in X_testw test sample with weights included\n",
    "\n",
    "X_testw=X_testu\n",
    "\n",
    "# now further split train sample in actual train and validation\n",
    "\n",
    "X_trainu, X_valu, y_train, y_val = train_test_split(X_traina, y_traina,\n",
    "                                   test_size=.10, random_state=0)\n",
    "\n",
    "\n",
    "# drop weighths \n",
    "\n",
    "X_trainu=X_trainu[[col for col in X_trainu.columns if col!=\"totalWeight\"]]\n",
    "X_testu=X_testu[[col for col in X_testu.columns if col!=\"totalWeight\"]]\n",
    "X_valu=X_valu[[col for col in X_valu.columns if col!=\"totalWeight\"]]\n",
    "\n",
    "print(X_trainu.columns)\n",
    "print(X_trainu.shape)\n",
    "\n"
   ]
  },
  {
   "cell_type": "markdown",
   "metadata": {},
   "source": [
    "## Scaling of samples so that all of the variables  are in the same range\n",
    "\n",
    "Needed to make life easier for ML<br />\n",
    "Use StandardScaler method from sklearn library"
   ]
  },
  {
   "cell_type": "code",
   "execution_count": 11,
   "metadata": {},
   "outputs": [
    {
     "name": "stdout",
     "output_type": "stream",
     "text": [
      "Index(['ptl1', 'ptl2', 'dphil1m', 'dphil2m', 'etal1', 'etal2', 'met_et', 'mll',\n",
      "       'ptll', 'dphill', 'dphillm', 'mt'],\n",
      "      dtype='object')\n",
      "train  (67500, 12)\n",
      "ytrain nbg (33702, 1) ytrain nsig (33798, 1)\n",
      "test (25000, 12)\n",
      "val (7500, 12)\n"
     ]
    }
   ],
   "source": [
    "from sklearn.preprocessing import StandardScaler\n",
    "scaler = StandardScaler() # initialise StandardScaler\n",
    "print(X_trainu.columns)\n",
    "# Fit only to the training data\n",
    "scaler.fit(X_trainu)\n",
    "\n",
    "# Now apply the transformations to the data:\n",
    "X_train = scaler.transform(X_trainu)\n",
    "X_test = scaler.transform(X_testu)\n",
    "X_test=pd.DataFrame(X_test)\n",
    "X_val=scaler.transform(X_valu)\n",
    "print('train ', X_train.shape)\n",
    "dfy=pd.DataFrame(y_train)\n",
    "print('ytrain nbg',dfy.query(\"SIG==0\").shape,'ytrain nsig',dfy.query(\"SIG==1\").shape)\n",
    "print('test', X_test.shape)\n",
    "print('val', X_val.shape)"
   ]
  },
  {
   "cell_type": "markdown",
   "metadata": {},
   "source": [
    "# Run XGBOOST\n",
    "https://xgboost.readthedocs.io/en/stable/index.html\n",
    "eXtreme Gradient BOOST  "
   ]
  },
  {
   "cell_type": "code",
   "execution_count": 12,
   "metadata": {},
   "outputs": [
    {
     "name": "stdout",
     "output_type": "stream",
     "text": [
      "2.0.3\n",
      "[0]\tvalidation_0-logloss:0.66696\tvalidation_1-logloss:0.66695\n",
      "[1]\tvalidation_0-logloss:0.64329\tvalidation_1-logloss:0.64326\n",
      "[2]\tvalidation_0-logloss:0.62173\tvalidation_1-logloss:0.62178\n",
      "[3]\tvalidation_0-logloss:0.60211\tvalidation_1-logloss:0.60219\n",
      "[4]\tvalidation_0-logloss:0.58427\tvalidation_1-logloss:0.58432\n",
      "[5]\tvalidation_0-logloss:0.56782\tvalidation_1-logloss:0.56794\n",
      "[6]\tvalidation_0-logloss:0.55277\tvalidation_1-logloss:0.55283\n",
      "[7]\tvalidation_0-logloss:0.53896\tvalidation_1-logloss:0.53895\n",
      "[8]\tvalidation_0-logloss:0.52610\tvalidation_1-logloss:0.52628\n",
      "[9]\tvalidation_0-logloss:0.51438\tvalidation_1-logloss:0.51449\n",
      "[10]\tvalidation_0-logloss:0.50353\tvalidation_1-logloss:0.50365\n",
      "[11]\tvalidation_0-logloss:0.49328\tvalidation_1-logloss:0.49348\n",
      "[12]\tvalidation_0-logloss:0.48399\tvalidation_1-logloss:0.48414\n",
      "[13]\tvalidation_0-logloss:0.47532\tvalidation_1-logloss:0.47544\n",
      "[14]\tvalidation_0-logloss:0.46731\tvalidation_1-logloss:0.46737\n",
      "[15]\tvalidation_0-logloss:0.45951\tvalidation_1-logloss:0.45970\n",
      "[16]\tvalidation_0-logloss:0.45260\tvalidation_1-logloss:0.45271\n",
      "[17]\tvalidation_0-logloss:0.44596\tvalidation_1-logloss:0.44609\n",
      "[18]\tvalidation_0-logloss:0.43989\tvalidation_1-logloss:0.44001\n",
      "[19]\tvalidation_0-logloss:0.43397\tvalidation_1-logloss:0.43422\n",
      "[20]\tvalidation_0-logloss:0.42870\tvalidation_1-logloss:0.42886\n",
      "[21]\tvalidation_0-logloss:0.42361\tvalidation_1-logloss:0.42377\n",
      "[22]\tvalidation_0-logloss:0.41891\tvalidation_1-logloss:0.41909\n",
      "[23]\tvalidation_0-logloss:0.41458\tvalidation_1-logloss:0.41476\n",
      "[24]\tvalidation_0-logloss:0.41055\tvalidation_1-logloss:0.41072\n",
      "[25]\tvalidation_0-logloss:0.40664\tvalidation_1-logloss:0.40683\n",
      "[26]\tvalidation_0-logloss:0.40312\tvalidation_1-logloss:0.40327\n",
      "[27]\tvalidation_0-logloss:0.39971\tvalidation_1-logloss:0.39989\n",
      "[28]\tvalidation_0-logloss:0.39659\tvalidation_1-logloss:0.39680\n"
     ]
    },
    {
     "name": "stderr",
     "output_type": "stream",
     "text": [
      "/home/polesell/.local/lib/python3.10/site-packages/xgboost/sklearn.py:889: UserWarning: `eval_metric` in `fit` method is deprecated for better compatibility with scikit-learn, use `eval_metric` in constructor or`set_params` instead.\n",
      "  warnings.warn(\n"
     ]
    },
    {
     "name": "stdout",
     "output_type": "stream",
     "text": [
      "[29]\tvalidation_0-logloss:0.39357\tvalidation_1-logloss:0.39382\n",
      "[30]\tvalidation_0-logloss:0.39076\tvalidation_1-logloss:0.39103\n",
      "[31]\tvalidation_0-logloss:0.38818\tvalidation_1-logloss:0.38847\n",
      "[32]\tvalidation_0-logloss:0.38567\tvalidation_1-logloss:0.38599\n",
      "[33]\tvalidation_0-logloss:0.38333\tvalidation_1-logloss:0.38368\n",
      "[34]\tvalidation_0-logloss:0.38118\tvalidation_1-logloss:0.38154\n",
      "[35]\tvalidation_0-logloss:0.37912\tvalidation_1-logloss:0.37947\n",
      "[36]\tvalidation_0-logloss:0.37720\tvalidation_1-logloss:0.37756\n",
      "[37]\tvalidation_0-logloss:0.37541\tvalidation_1-logloss:0.37575\n",
      "[38]\tvalidation_0-logloss:0.37365\tvalidation_1-logloss:0.37403\n",
      "[39]\tvalidation_0-logloss:0.37204\tvalidation_1-logloss:0.37242\n",
      "[40]\tvalidation_0-logloss:0.37049\tvalidation_1-logloss:0.37085\n",
      "[41]\tvalidation_0-logloss:0.36906\tvalidation_1-logloss:0.36944\n",
      "[42]\tvalidation_0-logloss:0.36766\tvalidation_1-logloss:0.36807\n",
      "[43]\tvalidation_0-logloss:0.36632\tvalidation_1-logloss:0.36679\n",
      "[44]\tvalidation_0-logloss:0.36510\tvalidation_1-logloss:0.36558\n",
      "[45]\tvalidation_0-logloss:0.36392\tvalidation_1-logloss:0.36443\n",
      "[46]\tvalidation_0-logloss:0.36284\tvalidation_1-logloss:0.36336\n",
      "[47]\tvalidation_0-logloss:0.36178\tvalidation_1-logloss:0.36231\n",
      "[48]\tvalidation_0-logloss:0.36080\tvalidation_1-logloss:0.36141\n",
      "[49]\tvalidation_0-logloss:0.35985\tvalidation_1-logloss:0.36050\n",
      "[50]\tvalidation_0-logloss:0.35895\tvalidation_1-logloss:0.35966\n",
      "[51]\tvalidation_0-logloss:0.35813\tvalidation_1-logloss:0.35887\n",
      "[52]\tvalidation_0-logloss:0.35733\tvalidation_1-logloss:0.35812\n",
      "[53]\tvalidation_0-logloss:0.35656\tvalidation_1-logloss:0.35736\n",
      "[54]\tvalidation_0-logloss:0.35584\tvalidation_1-logloss:0.35665\n",
      "[55]\tvalidation_0-logloss:0.35515\tvalidation_1-logloss:0.35598\n",
      "[56]\tvalidation_0-logloss:0.35450\tvalidation_1-logloss:0.35538\n",
      "[57]\tvalidation_0-logloss:0.35388\tvalidation_1-logloss:0.35476\n",
      "[58]\tvalidation_0-logloss:0.35323\tvalidation_1-logloss:0.35421\n",
      "[59]\tvalidation_0-logloss:0.35266\tvalidation_1-logloss:0.35371\n",
      "[60]\tvalidation_0-logloss:0.35202\tvalidation_1-logloss:0.35320\n",
      "[61]\tvalidation_0-logloss:0.35151\tvalidation_1-logloss:0.35269\n",
      "[62]\tvalidation_0-logloss:0.35104\tvalidation_1-logloss:0.35224\n",
      "[63]\tvalidation_0-logloss:0.35049\tvalidation_1-logloss:0.35179\n",
      "[64]\tvalidation_0-logloss:0.35003\tvalidation_1-logloss:0.35134\n",
      "[65]\tvalidation_0-logloss:0.34958\tvalidation_1-logloss:0.35097\n",
      "[66]\tvalidation_0-logloss:0.34918\tvalidation_1-logloss:0.35058\n",
      "[67]\tvalidation_0-logloss:0.34873\tvalidation_1-logloss:0.35023\n",
      "[68]\tvalidation_0-logloss:0.34835\tvalidation_1-logloss:0.34990\n",
      "[69]\tvalidation_0-logloss:0.34801\tvalidation_1-logloss:0.34957\n",
      "[70]\tvalidation_0-logloss:0.34762\tvalidation_1-logloss:0.34926\n",
      "[71]\tvalidation_0-logloss:0.34724\tvalidation_1-logloss:0.34884\n",
      "[72]\tvalidation_0-logloss:0.34691\tvalidation_1-logloss:0.34858\n",
      "[73]\tvalidation_0-logloss:0.34657\tvalidation_1-logloss:0.34835\n",
      "[74]\tvalidation_0-logloss:0.34625\tvalidation_1-logloss:0.34802\n",
      "[75]\tvalidation_0-logloss:0.34591\tvalidation_1-logloss:0.34767\n",
      "[76]\tvalidation_0-logloss:0.34561\tvalidation_1-logloss:0.34747\n",
      "[77]\tvalidation_0-logloss:0.34536\tvalidation_1-logloss:0.34723\n",
      "[78]\tvalidation_0-logloss:0.34502\tvalidation_1-logloss:0.34692\n",
      "[79]\tvalidation_0-logloss:0.34476\tvalidation_1-logloss:0.34666\n",
      "[80]\tvalidation_0-logloss:0.34453\tvalidation_1-logloss:0.34645\n",
      "[81]\tvalidation_0-logloss:0.34430\tvalidation_1-logloss:0.34624\n",
      "[82]\tvalidation_0-logloss:0.34411\tvalidation_1-logloss:0.34607\n",
      "[83]\tvalidation_0-logloss:0.34386\tvalidation_1-logloss:0.34583\n",
      "[84]\tvalidation_0-logloss:0.34366\tvalidation_1-logloss:0.34559\n",
      "[85]\tvalidation_0-logloss:0.34342\tvalidation_1-logloss:0.34544\n",
      "[86]\tvalidation_0-logloss:0.34322\tvalidation_1-logloss:0.34524\n",
      "[87]\tvalidation_0-logloss:0.34300\tvalidation_1-logloss:0.34505\n",
      "[88]\tvalidation_0-logloss:0.34283\tvalidation_1-logloss:0.34488\n",
      "[89]\tvalidation_0-logloss:0.34266\tvalidation_1-logloss:0.34466\n",
      "[90]\tvalidation_0-logloss:0.34245\tvalidation_1-logloss:0.34446\n",
      "[91]\tvalidation_0-logloss:0.34225\tvalidation_1-logloss:0.34428\n",
      "[92]\tvalidation_0-logloss:0.34209\tvalidation_1-logloss:0.34407\n",
      "[93]\tvalidation_0-logloss:0.34195\tvalidation_1-logloss:0.34396\n",
      "[94]\tvalidation_0-logloss:0.34179\tvalidation_1-logloss:0.34381\n",
      "[95]\tvalidation_0-logloss:0.34163\tvalidation_1-logloss:0.34364\n",
      "[96]\tvalidation_0-logloss:0.34146\tvalidation_1-logloss:0.34349\n",
      "[97]\tvalidation_0-logloss:0.34129\tvalidation_1-logloss:0.34334\n",
      "[98]\tvalidation_0-logloss:0.34110\tvalidation_1-logloss:0.34319\n",
      "[99]\tvalidation_0-logloss:0.34091\tvalidation_1-logloss:0.34301\n",
      "[100]\tvalidation_0-logloss:0.34080\tvalidation_1-logloss:0.34292\n",
      "[101]\tvalidation_0-logloss:0.34064\tvalidation_1-logloss:0.34273\n",
      "[102]\tvalidation_0-logloss:0.34050\tvalidation_1-logloss:0.34261\n",
      "[103]\tvalidation_0-logloss:0.34033\tvalidation_1-logloss:0.34248\n",
      "[104]\tvalidation_0-logloss:0.34018\tvalidation_1-logloss:0.34232\n",
      "[105]\tvalidation_0-logloss:0.34005\tvalidation_1-logloss:0.34221\n",
      "[106]\tvalidation_0-logloss:0.33992\tvalidation_1-logloss:0.34209\n",
      "[107]\tvalidation_0-logloss:0.33978\tvalidation_1-logloss:0.34199\n",
      "[108]\tvalidation_0-logloss:0.33967\tvalidation_1-logloss:0.34189\n",
      "[109]\tvalidation_0-logloss:0.33954\tvalidation_1-logloss:0.34177\n",
      "[110]\tvalidation_0-logloss:0.33940\tvalidation_1-logloss:0.34168\n",
      "[111]\tvalidation_0-logloss:0.33927\tvalidation_1-logloss:0.34155\n",
      "[112]\tvalidation_0-logloss:0.33918\tvalidation_1-logloss:0.34148\n",
      "[113]\tvalidation_0-logloss:0.33909\tvalidation_1-logloss:0.34144\n",
      "[114]\tvalidation_0-logloss:0.33898\tvalidation_1-logloss:0.34137\n",
      "[115]\tvalidation_0-logloss:0.33887\tvalidation_1-logloss:0.34126\n",
      "[116]\tvalidation_0-logloss:0.33874\tvalidation_1-logloss:0.34119\n",
      "[117]\tvalidation_0-logloss:0.33865\tvalidation_1-logloss:0.34105\n",
      "[118]\tvalidation_0-logloss:0.33855\tvalidation_1-logloss:0.34099\n",
      "[119]\tvalidation_0-logloss:0.33847\tvalidation_1-logloss:0.34093\n",
      "[120]\tvalidation_0-logloss:0.33839\tvalidation_1-logloss:0.34088\n",
      "[121]\tvalidation_0-logloss:0.33830\tvalidation_1-logloss:0.34077\n",
      "[122]\tvalidation_0-logloss:0.33819\tvalidation_1-logloss:0.34066\n",
      "[123]\tvalidation_0-logloss:0.33812\tvalidation_1-logloss:0.34062\n",
      "[124]\tvalidation_0-logloss:0.33802\tvalidation_1-logloss:0.34056\n",
      "[125]\tvalidation_0-logloss:0.33793\tvalidation_1-logloss:0.34047\n",
      "[126]\tvalidation_0-logloss:0.33783\tvalidation_1-logloss:0.34040\n",
      "[127]\tvalidation_0-logloss:0.33776\tvalidation_1-logloss:0.34038\n",
      "[128]\tvalidation_0-logloss:0.33770\tvalidation_1-logloss:0.34032\n",
      "[129]\tvalidation_0-logloss:0.33760\tvalidation_1-logloss:0.34027\n",
      "[130]\tvalidation_0-logloss:0.33751\tvalidation_1-logloss:0.34021\n",
      "[131]\tvalidation_0-logloss:0.33745\tvalidation_1-logloss:0.34017\n",
      "[132]\tvalidation_0-logloss:0.33737\tvalidation_1-logloss:0.34008\n",
      "[133]\tvalidation_0-logloss:0.33730\tvalidation_1-logloss:0.34006\n",
      "[134]\tvalidation_0-logloss:0.33722\tvalidation_1-logloss:0.34001\n",
      "[135]\tvalidation_0-logloss:0.33715\tvalidation_1-logloss:0.33994\n",
      "[136]\tvalidation_0-logloss:0.33705\tvalidation_1-logloss:0.33986\n",
      "[137]\tvalidation_0-logloss:0.33698\tvalidation_1-logloss:0.33980\n",
      "[138]\tvalidation_0-logloss:0.33691\tvalidation_1-logloss:0.33971\n",
      "[139]\tvalidation_0-logloss:0.33685\tvalidation_1-logloss:0.33969\n",
      "[140]\tvalidation_0-logloss:0.33679\tvalidation_1-logloss:0.33967\n",
      "[141]\tvalidation_0-logloss:0.33673\tvalidation_1-logloss:0.33963\n",
      "[142]\tvalidation_0-logloss:0.33666\tvalidation_1-logloss:0.33958\n",
      "[143]\tvalidation_0-logloss:0.33657\tvalidation_1-logloss:0.33954\n",
      "[144]\tvalidation_0-logloss:0.33650\tvalidation_1-logloss:0.33948\n",
      "[145]\tvalidation_0-logloss:0.33640\tvalidation_1-logloss:0.33941\n",
      "[146]\tvalidation_0-logloss:0.33632\tvalidation_1-logloss:0.33938\n",
      "[147]\tvalidation_0-logloss:0.33626\tvalidation_1-logloss:0.33930\n",
      "[148]\tvalidation_0-logloss:0.33620\tvalidation_1-logloss:0.33925\n",
      "[149]\tvalidation_0-logloss:0.33615\tvalidation_1-logloss:0.33919\n",
      "[150]\tvalidation_0-logloss:0.33610\tvalidation_1-logloss:0.33916\n",
      "[151]\tvalidation_0-logloss:0.33604\tvalidation_1-logloss:0.33908\n",
      "[152]\tvalidation_0-logloss:0.33594\tvalidation_1-logloss:0.33905\n",
      "[153]\tvalidation_0-logloss:0.33589\tvalidation_1-logloss:0.33902\n",
      "[154]\tvalidation_0-logloss:0.33584\tvalidation_1-logloss:0.33895\n",
      "[155]\tvalidation_0-logloss:0.33579\tvalidation_1-logloss:0.33891\n",
      "[156]\tvalidation_0-logloss:0.33573\tvalidation_1-logloss:0.33888\n",
      "[157]\tvalidation_0-logloss:0.33562\tvalidation_1-logloss:0.33882\n",
      "[158]\tvalidation_0-logloss:0.33557\tvalidation_1-logloss:0.33878\n"
     ]
    },
    {
     "name": "stdout",
     "output_type": "stream",
     "text": [
      "[159]\tvalidation_0-logloss:0.33548\tvalidation_1-logloss:0.33874\n",
      "[160]\tvalidation_0-logloss:0.33542\tvalidation_1-logloss:0.33872\n",
      "[161]\tvalidation_0-logloss:0.33538\tvalidation_1-logloss:0.33869\n",
      "[162]\tvalidation_0-logloss:0.33533\tvalidation_1-logloss:0.33868\n",
      "[163]\tvalidation_0-logloss:0.33528\tvalidation_1-logloss:0.33864\n",
      "[164]\tvalidation_0-logloss:0.33522\tvalidation_1-logloss:0.33861\n",
      "[165]\tvalidation_0-logloss:0.33517\tvalidation_1-logloss:0.33858\n",
      "[166]\tvalidation_0-logloss:0.33508\tvalidation_1-logloss:0.33852\n",
      "[167]\tvalidation_0-logloss:0.33500\tvalidation_1-logloss:0.33849\n",
      "[168]\tvalidation_0-logloss:0.33495\tvalidation_1-logloss:0.33846\n",
      "[169]\tvalidation_0-logloss:0.33491\tvalidation_1-logloss:0.33844\n",
      "[170]\tvalidation_0-logloss:0.33487\tvalidation_1-logloss:0.33843\n",
      "[171]\tvalidation_0-logloss:0.33483\tvalidation_1-logloss:0.33839\n",
      "[172]\tvalidation_0-logloss:0.33476\tvalidation_1-logloss:0.33837\n",
      "[173]\tvalidation_0-logloss:0.33473\tvalidation_1-logloss:0.33835\n",
      "[174]\tvalidation_0-logloss:0.33465\tvalidation_1-logloss:0.33830\n",
      "[175]\tvalidation_0-logloss:0.33460\tvalidation_1-logloss:0.33828\n",
      "[176]\tvalidation_0-logloss:0.33456\tvalidation_1-logloss:0.33824\n",
      "[177]\tvalidation_0-logloss:0.33449\tvalidation_1-logloss:0.33821\n",
      "[178]\tvalidation_0-logloss:0.33443\tvalidation_1-logloss:0.33819\n",
      "[179]\tvalidation_0-logloss:0.33436\tvalidation_1-logloss:0.33816\n",
      "[180]\tvalidation_0-logloss:0.33433\tvalidation_1-logloss:0.33816\n",
      "[181]\tvalidation_0-logloss:0.33427\tvalidation_1-logloss:0.33818\n",
      "[182]\tvalidation_0-logloss:0.33423\tvalidation_1-logloss:0.33814\n",
      "[183]\tvalidation_0-logloss:0.33419\tvalidation_1-logloss:0.33814\n",
      "[184]\tvalidation_0-logloss:0.33413\tvalidation_1-logloss:0.33810\n",
      "[185]\tvalidation_0-logloss:0.33409\tvalidation_1-logloss:0.33808\n",
      "[186]\tvalidation_0-logloss:0.33402\tvalidation_1-logloss:0.33806\n",
      "[187]\tvalidation_0-logloss:0.33397\tvalidation_1-logloss:0.33802\n",
      "[188]\tvalidation_0-logloss:0.33393\tvalidation_1-logloss:0.33800\n",
      "[189]\tvalidation_0-logloss:0.33387\tvalidation_1-logloss:0.33797\n",
      "[190]\tvalidation_0-logloss:0.33384\tvalidation_1-logloss:0.33796\n",
      "[191]\tvalidation_0-logloss:0.33380\tvalidation_1-logloss:0.33793\n",
      "[192]\tvalidation_0-logloss:0.33374\tvalidation_1-logloss:0.33792\n",
      "[193]\tvalidation_0-logloss:0.33370\tvalidation_1-logloss:0.33789\n",
      "[194]\tvalidation_0-logloss:0.33364\tvalidation_1-logloss:0.33787\n",
      "[195]\tvalidation_0-logloss:0.33361\tvalidation_1-logloss:0.33786\n",
      "[196]\tvalidation_0-logloss:0.33358\tvalidation_1-logloss:0.33787\n",
      "[197]\tvalidation_0-logloss:0.33353\tvalidation_1-logloss:0.33785\n",
      "[198]\tvalidation_0-logloss:0.33348\tvalidation_1-logloss:0.33785\n",
      "[199]\tvalidation_0-logloss:0.33344\tvalidation_1-logloss:0.33782\n",
      "[200]\tvalidation_0-logloss:0.33340\tvalidation_1-logloss:0.33779\n",
      "[201]\tvalidation_0-logloss:0.33336\tvalidation_1-logloss:0.33779\n",
      "[202]\tvalidation_0-logloss:0.33333\tvalidation_1-logloss:0.33780\n",
      "[203]\tvalidation_0-logloss:0.33329\tvalidation_1-logloss:0.33777\n",
      "[204]\tvalidation_0-logloss:0.33325\tvalidation_1-logloss:0.33776\n",
      "[205]\tvalidation_0-logloss:0.33320\tvalidation_1-logloss:0.33775\n",
      "[206]\tvalidation_0-logloss:0.33315\tvalidation_1-logloss:0.33774\n",
      "[207]\tvalidation_0-logloss:0.33311\tvalidation_1-logloss:0.33773\n",
      "[208]\tvalidation_0-logloss:0.33306\tvalidation_1-logloss:0.33768\n",
      "[209]\tvalidation_0-logloss:0.33302\tvalidation_1-logloss:0.33765\n",
      "[210]\tvalidation_0-logloss:0.33296\tvalidation_1-logloss:0.33763\n",
      "[211]\tvalidation_0-logloss:0.33292\tvalidation_1-logloss:0.33760\n",
      "[212]\tvalidation_0-logloss:0.33289\tvalidation_1-logloss:0.33760\n",
      "[213]\tvalidation_0-logloss:0.33284\tvalidation_1-logloss:0.33754\n",
      "[214]\tvalidation_0-logloss:0.33281\tvalidation_1-logloss:0.33753\n",
      "[215]\tvalidation_0-logloss:0.33278\tvalidation_1-logloss:0.33752\n",
      "[216]\tvalidation_0-logloss:0.33276\tvalidation_1-logloss:0.33752\n",
      "[217]\tvalidation_0-logloss:0.33272\tvalidation_1-logloss:0.33747\n",
      "[218]\tvalidation_0-logloss:0.33268\tvalidation_1-logloss:0.33745\n",
      "[219]\tvalidation_0-logloss:0.33263\tvalidation_1-logloss:0.33742\n",
      "[220]\tvalidation_0-logloss:0.33257\tvalidation_1-logloss:0.33739\n",
      "[221]\tvalidation_0-logloss:0.33254\tvalidation_1-logloss:0.33739\n",
      "[222]\tvalidation_0-logloss:0.33252\tvalidation_1-logloss:0.33735\n",
      "[223]\tvalidation_0-logloss:0.33246\tvalidation_1-logloss:0.33732\n",
      "[224]\tvalidation_0-logloss:0.33244\tvalidation_1-logloss:0.33733\n",
      "[225]\tvalidation_0-logloss:0.33238\tvalidation_1-logloss:0.33726\n",
      "[226]\tvalidation_0-logloss:0.33234\tvalidation_1-logloss:0.33721\n",
      "[227]\tvalidation_0-logloss:0.33230\tvalidation_1-logloss:0.33719\n",
      "[228]\tvalidation_0-logloss:0.33225\tvalidation_1-logloss:0.33716\n",
      "[229]\tvalidation_0-logloss:0.33221\tvalidation_1-logloss:0.33715\n",
      "[230]\tvalidation_0-logloss:0.33216\tvalidation_1-logloss:0.33713\n",
      "[231]\tvalidation_0-logloss:0.33213\tvalidation_1-logloss:0.33711\n",
      "[232]\tvalidation_0-logloss:0.33209\tvalidation_1-logloss:0.33711\n",
      "[233]\tvalidation_0-logloss:0.33206\tvalidation_1-logloss:0.33708\n",
      "[234]\tvalidation_0-logloss:0.33204\tvalidation_1-logloss:0.33708\n",
      "[235]\tvalidation_0-logloss:0.33201\tvalidation_1-logloss:0.33708\n",
      "[236]\tvalidation_0-logloss:0.33196\tvalidation_1-logloss:0.33708\n",
      "[237]\tvalidation_0-logloss:0.33193\tvalidation_1-logloss:0.33706\n",
      "[238]\tvalidation_0-logloss:0.33190\tvalidation_1-logloss:0.33707\n",
      "[239]\tvalidation_0-logloss:0.33186\tvalidation_1-logloss:0.33702\n",
      "[240]\tvalidation_0-logloss:0.33183\tvalidation_1-logloss:0.33699\n",
      "[241]\tvalidation_0-logloss:0.33179\tvalidation_1-logloss:0.33696\n",
      "[242]\tvalidation_0-logloss:0.33176\tvalidation_1-logloss:0.33695\n",
      "[243]\tvalidation_0-logloss:0.33175\tvalidation_1-logloss:0.33695\n",
      "[244]\tvalidation_0-logloss:0.33170\tvalidation_1-logloss:0.33693\n",
      "[245]\tvalidation_0-logloss:0.33167\tvalidation_1-logloss:0.33691\n",
      "[246]\tvalidation_0-logloss:0.33165\tvalidation_1-logloss:0.33692\n",
      "[247]\tvalidation_0-logloss:0.33162\tvalidation_1-logloss:0.33691\n",
      "[248]\tvalidation_0-logloss:0.33159\tvalidation_1-logloss:0.33692\n",
      "[249]\tvalidation_0-logloss:0.33156\tvalidation_1-logloss:0.33691\n",
      "[250]\tvalidation_0-logloss:0.33153\tvalidation_1-logloss:0.33688\n",
      "[251]\tvalidation_0-logloss:0.33150\tvalidation_1-logloss:0.33685\n",
      "[252]\tvalidation_0-logloss:0.33145\tvalidation_1-logloss:0.33683\n",
      "[253]\tvalidation_0-logloss:0.33143\tvalidation_1-logloss:0.33683\n",
      "[254]\tvalidation_0-logloss:0.33141\tvalidation_1-logloss:0.33684\n",
      "[255]\tvalidation_0-logloss:0.33138\tvalidation_1-logloss:0.33683\n",
      "[256]\tvalidation_0-logloss:0.33136\tvalidation_1-logloss:0.33682\n",
      "[257]\tvalidation_0-logloss:0.33131\tvalidation_1-logloss:0.33679\n",
      "[258]\tvalidation_0-logloss:0.33127\tvalidation_1-logloss:0.33678\n",
      "[259]\tvalidation_0-logloss:0.33123\tvalidation_1-logloss:0.33676\n",
      "[260]\tvalidation_0-logloss:0.33119\tvalidation_1-logloss:0.33674\n",
      "[261]\tvalidation_0-logloss:0.33115\tvalidation_1-logloss:0.33674\n",
      "[262]\tvalidation_0-logloss:0.33112\tvalidation_1-logloss:0.33675\n",
      "[263]\tvalidation_0-logloss:0.33110\tvalidation_1-logloss:0.33673\n",
      "[264]\tvalidation_0-logloss:0.33108\tvalidation_1-logloss:0.33672\n",
      "[265]\tvalidation_0-logloss:0.33104\tvalidation_1-logloss:0.33671\n",
      "[266]\tvalidation_0-logloss:0.33102\tvalidation_1-logloss:0.33670\n",
      "[267]\tvalidation_0-logloss:0.33098\tvalidation_1-logloss:0.33669\n",
      "[268]\tvalidation_0-logloss:0.33096\tvalidation_1-logloss:0.33668\n",
      "[269]\tvalidation_0-logloss:0.33093\tvalidation_1-logloss:0.33667\n",
      "[270]\tvalidation_0-logloss:0.33089\tvalidation_1-logloss:0.33668\n",
      "[271]\tvalidation_0-logloss:0.33087\tvalidation_1-logloss:0.33669\n",
      "[272]\tvalidation_0-logloss:0.33084\tvalidation_1-logloss:0.33667\n",
      "[273]\tvalidation_0-logloss:0.33081\tvalidation_1-logloss:0.33668\n",
      "[274]\tvalidation_0-logloss:0.33080\tvalidation_1-logloss:0.33668\n",
      "[275]\tvalidation_0-logloss:0.33076\tvalidation_1-logloss:0.33664\n",
      "[276]\tvalidation_0-logloss:0.33074\tvalidation_1-logloss:0.33664\n",
      "[277]\tvalidation_0-logloss:0.33072\tvalidation_1-logloss:0.33663\n",
      "[278]\tvalidation_0-logloss:0.33070\tvalidation_1-logloss:0.33662\n",
      "[279]\tvalidation_0-logloss:0.33066\tvalidation_1-logloss:0.33662\n",
      "[280]\tvalidation_0-logloss:0.33064\tvalidation_1-logloss:0.33661\n",
      "[281]\tvalidation_0-logloss:0.33060\tvalidation_1-logloss:0.33662\n",
      "[282]\tvalidation_0-logloss:0.33057\tvalidation_1-logloss:0.33661\n",
      "[283]\tvalidation_0-logloss:0.33054\tvalidation_1-logloss:0.33659\n",
      "[284]\tvalidation_0-logloss:0.33052\tvalidation_1-logloss:0.33659\n",
      "[285]\tvalidation_0-logloss:0.33050\tvalidation_1-logloss:0.33660\n",
      "[286]\tvalidation_0-logloss:0.33047\tvalidation_1-logloss:0.33660\n",
      "[287]\tvalidation_0-logloss:0.33044\tvalidation_1-logloss:0.33660\n"
     ]
    },
    {
     "name": "stdout",
     "output_type": "stream",
     "text": [
      "[288]\tvalidation_0-logloss:0.33040\tvalidation_1-logloss:0.33658\n",
      "[289]\tvalidation_0-logloss:0.33038\tvalidation_1-logloss:0.33656\n",
      "[290]\tvalidation_0-logloss:0.33034\tvalidation_1-logloss:0.33655\n",
      "[291]\tvalidation_0-logloss:0.33033\tvalidation_1-logloss:0.33656\n",
      "[292]\tvalidation_0-logloss:0.33031\tvalidation_1-logloss:0.33656\n",
      "[293]\tvalidation_0-logloss:0.33028\tvalidation_1-logloss:0.33655\n",
      "[294]\tvalidation_0-logloss:0.33026\tvalidation_1-logloss:0.33654\n",
      "[295]\tvalidation_0-logloss:0.33021\tvalidation_1-logloss:0.33655\n",
      "[296]\tvalidation_0-logloss:0.33019\tvalidation_1-logloss:0.33655\n",
      "[297]\tvalidation_0-logloss:0.33015\tvalidation_1-logloss:0.33653\n",
      "[298]\tvalidation_0-logloss:0.33012\tvalidation_1-logloss:0.33652\n",
      "[299]\tvalidation_0-logloss:0.33009\tvalidation_1-logloss:0.33650\n"
     ]
    }
   ],
   "source": [
    "import xgboost as xgb  \n",
    "import time\n",
    "print(xgb.__version__)\n",
    "\n",
    "XGBclassifier = xgb.sklearn.XGBClassifier(nthread=7, seed=1, \n",
    "                                          objective='binary:logistic', \n",
    "                                          use_label_encoder=False,\n",
    "                                          eta=0.05, max_depth=3, reg_lambda=1, \n",
    "                                          n_estimators=300)\n",
    "#Train and time classifier\n",
    "start_time = time.time()\n",
    "eval_set = [(X_train, y_train), (X_val, y_val)]\n",
    "XGBclassifier.fit(X_train, y_train, eval_metric=[\"logloss\"], \n",
    "                  eval_set=eval_set,verbose=True  )\n",
    "run_time = time.time() - start_time\n",
    "\n",
    "#XGBclassifier.save_model('xgb_test')\n",
    "Ypredr= XGBclassifier.predict_proba(X_test)[:,1]\n"
   ]
  },
  {
   "cell_type": "code",
   "execution_count": 13,
   "metadata": {},
   "outputs": [
    {
     "data": {
      "image/png": "[encoded data removed]",
      "text/plain": [
       "<Figure size 720x720 with 1 Axes>"
      ]
     },
     "metadata": {
      "needs_background": "light"
     },
     "output_type": "display_data"
    },
    {
     "name": "stdout",
     "output_type": "stream",
     "text": [
      "Index(['ptl1', 'ptl2', 'dphil1m', 'dphil2m', 'etal1', 'etal2', 'met_et', 'mll',\n",
      "       'ptll', 'dphill', 'dphillm', 'mt'],\n",
      "      dtype='object')\n"
     ]
    },
    {
     "data": {
      "image/png": "[encoded data removed]",
      "text/plain": [
       "<Figure size 432x288 with 1 Axes>"
      ]
     },
     "metadata": {
      "needs_background": "light"
     },
     "output_type": "display_data"
    }
   ],
   "source": [
    "\n",
    "results = XGBclassifier.evals_result()\n",
    "epochs = len(results['validation_0']['logloss'])\n",
    "x_axis = range(0, epochs)\n",
    "    \n",
    "# plot log loss\n",
    "fig, ax = plt.subplots(figsize=(10,10))\n",
    "ax.plot(x_axis, results['validation_0']['logloss'], label='Train')\n",
    "ax.plot(x_axis, results['validation_1']['logloss'], label='Test')\n",
    "ax.legend()\n",
    "    \n",
    "plt.ylabel('Log Loss')\n",
    "plt.title('XGBoost Log Loss')\n",
    "plt.show()\n",
    "\n",
    "print(X_trainu.columns)\n",
    "\n",
    "xgb.plot_importance(XGBclassifier,grid=False);"
   ]
  },
  {
   "cell_type": "markdown",
   "metadata": {},
   "source": [
    "## Create dataframe with labels, probabilities  and normalisation weights"
   ]
  },
  {
   "cell_type": "code",
   "execution_count": 14,
   "metadata": {},
   "outputs": [
    {
     "name": "stdout",
     "output_type": "stream",
     "text": [
      "(25000,)\n"
     ]
    }
   ],
   "source": [
    "print(Ypredr.shape)\n",
    "df_test_acc_r=X_testw.copy()\n",
    "df_test_acc_r['SIG']=y_test\n",
    "df_test_acc_r['PROB']=Ypredr\n"
   ]
  },
  {
   "cell_type": "markdown",
   "metadata": {},
   "source": [
    "# Look at the classification performance"
   ]
  },
  {
   "cell_type": "markdown",
   "metadata": {},
   "source": [
    "## Plot distribution of output probabilities  for signal and backround\n",
    "\n",
    "The output of the classification is for each event a number between 0 and 1 representing the probability that that event is a signal event. Since for each event we know whether it was a signal (SIG=1) or a background (SIG=0), we can plot the output probability of the network for each of the two classes.\n",
    "This is done in order to understand on which variables the network leveraged for the classification\n"
   ]
  },
  {
   "cell_type": "code",
   "execution_count": 15,
   "metadata": {},
   "outputs": [
    {
     "name": "stdout",
     "output_type": "stream",
     "text": [
      "nsig  12459\n",
      "nbkg  12541\n"
     ]
    },
    {
     "data": {
      "image/png": "[encoded data removed]",
      "text/plain": [
       "<Figure size 432x288 with 1 Axes>"
      ]
     },
     "metadata": {
      "needs_background": "light"
     },
     "output_type": "display_data"
    }
   ],
   "source": [
    "# split according to the label\n",
    "df_test_acc_r_bkg = df_test_acc_r.query('SIG==0')\n",
    "df_test_acc_r_sig = df_test_acc_r.query('SIG==1')\n",
    "print('nsig ',df_test_acc_r_sig.shape[0])\n",
    "print('nbkg ',df_test_acc_r_bkg.shape[0])\n",
    "bins = np.linspace(0, 1,50)\n",
    "plt.hist(df_test_acc_r_bkg.PROB, bins, alpha=0.5, density=True, label='Background')\n",
    "plt.hist(df_test_acc_r_sig.PROB, bins, alpha=0.5, density=True, label='Signal')\n",
    "plt.legend(loc='best')\n",
    "plt.show()"
   ]
  },
  {
   "cell_type": "markdown",
   "metadata": {},
   "source": [
    "## Plot ROC curve and calculate AUC\n",
    "In order to perform our the final selection we put a lower limit on the value of the probability and we count the fraction of events above this limit for both signal and backround, i.e for each value of PROB we have two values: The 'true positive rate (TPR)' (efficiency of signal selection in HEP language), and 'false positive rate (FPR)' (efficency for selecting background). If we TPR versus FPR the other as a function of PROB we obtain a curve called the Receive Operating Characteristic (ROC) curve https://en.wikipedia.org/wiki/Receiver_operating_characteristic. Methods for building the ROC curve are availabel in sklearn.metrics. An ideal ROC curve would be along upper x and left y axes of the plot, corresponding to the case where all of the signal events have PROB=1 and all background events have PROB=0. The worst case is a curve where TPR=FPR, i.e. the discrimination power is the same as extracting a random number for PROB."
   ]
  },
  {
   "cell_type": "code",
   "execution_count": 16,
   "metadata": {},
   "outputs": [
    {
     "name": "stdout",
     "output_type": "stream",
     "text": [
      "XGB auc  0.9135549739898322\n"
     ]
    },
    {
     "data": {
      "text/plain": [
       "<function matplotlib.pyplot.show(close=None, block=None)>"
      ]
     },
     "execution_count": 16,
     "metadata": {},
     "output_type": "execute_result"
    },
    {
     "data": {
      "image/png": "[encoded data removed]",
      "text/plain": [
       "<Figure size 432x288 with 1 Axes>"
      ]
     },
     "metadata": {
      "needs_background": "light"
     },
     "output_type": "display_data"
    }
   ],
   "source": [
    "from sklearn.metrics import roc_curve\n",
    "from sklearn.metrics import auc\n",
    "from sklearn.metrics import roc_auc_score\n",
    "\n",
    "plt.plot([0.001, 1], [0, 1], 'k--')\n",
    "fpr_keras, tpr_keras, thresholds_keras = roc_curve(y_test, Ypredr)\n",
    "auc_keras = auc(fpr_keras, tpr_keras)\n",
    "print(\"XGB auc \",auc_keras)\n",
    "plt.plot(fpr_keras, tpr_keras, label='XGB AUC = {:.3f}'.format(auc_keras))\n",
    "plt.xlabel('False positive rate')\n",
    "plt.ylabel('True positive rate')\n",
    "plt.legend(loc='best')\n",
    "plt.show    \n"
   ]
  },
  {
   "cell_type": "markdown",
   "metadata": {},
   "source": [
    "# Calculate signal significance after selection"
   ]
  },
  {
   "cell_type": "markdown",
   "metadata": {},
   "source": [
    "The output of the 'roc_curve' function is made of three vectors:\n",
    "\n",
    " * a vector with number of events 'SIG=0' with 'PROB' above threshold (false positives)\n",
    " * a vector with number of events 'SIG=1' with 'PROB' above threshold (true positives)\n",
    " * a vector of thresholds on 'PROB'\n",
    " \n",
    "We loop on the vector of thresholds, and for each threshold we calculate the number of signal and background events normalised to the LHC statistics, and on the basis of that we calculate significance"
   ]
  },
  {
   "cell_type": "code",
   "execution_count": 17,
   "metadata": {},
   "outputs": [],
   "source": [
    "from numpy import nanmax\n",
    "#   calculate significance for a discriminator yielding\n",
    "#   predictions Ypredt for labels y_test, assuming\n",
    "#   nsigtot:  number of signal events before selection\n",
    "#   nbgtot: nuber of background events before selection\n",
    "#   errfbg: fractional systematic uncertainty on background\n",
    "#\n",
    "def plot_signi_base(y_test, Ypredt, nsigtot, nbgtot, errfbg, lab):\n",
    "  fpr_keras, tpr_keras, thresholds_keras = roc_curve(y_test, Ypredt)\n",
    "  n_bg=fpr_keras*nbgtot\n",
    "  n_sig=tpr_keras*nsigtot\n",
    "  errbg=errfbg*n_bg\n",
    "  signi=[]\n",
    "  thr=[]      \n",
    "  for i in range(1,len(n_sig)):\n",
    "      if(thresholds_keras[i]>0.):\n",
    "        signi.append(calc_sig(n_sig[i],n_bg[i],errbg[i]))\n",
    "        thr.append(thresholds_keras[i])        \n",
    "  imax=-1\n",
    "  signimax=0.\n",
    "  for i in range(0,len(signi)):\n",
    "     if signi[i]>signimax:\n",
    "        imax=i\n",
    "        signimax=signi[i]  \n",
    "  maxs=nanmax(signi)\n",
    "  print(lab+\":\") \n",
    "  print(\" max significance is  \",signimax,\" nbg \",n_bg[imax],\" nsig \",n_sig[imax],\" cut \",thresholds_keras[imax])\n",
    "  print(\" background efficiency: \", n_bg[imax]/nbgtot,\" signal efficiency: \", n_sig[imax]/nsigtot )\n",
    "  plt.plot(thr,signi, label=lab)\n",
    "    \n",
    "  plt.xlabel('Cut on PROB')\n",
    "  plt.ylabel('Significance')\n",
    "\n",
    "\n",
    "  return thr, signi, imax\n",
    "\n",
    "\n",
    "  "
   ]
  },
  {
   "cell_type": "code",
   "execution_count": 18,
   "metadata": {},
   "outputs": [
    {
     "name": "stdout",
     "output_type": "stream",
     "text": [
      "117.83242200839999 6581.7841314888\n"
     ]
    }
   ],
   "source": [
    "nsigw,nbgw=getnormev(df_test_acc_r,totf2,totf1,N)\n",
    "print(nsigw,nbgw)"
   ]
  },
  {
   "cell_type": "code",
   "execution_count": 19,
   "metadata": {},
   "outputs": [
    {
     "name": "stdout",
     "output_type": "stream",
     "text": [
      "nbg 6581.7841314888:\n",
      " max significance is   2.9437591440873376  nbg  603.5445140907519  nsig  75.8595278055523  cut  0.790428\n",
      " background efficiency:  0.09169922653695878  signal efficiency:  0.6437916365679428\n"
     ]
    },
    {
     "data": {
      "text/plain": [
       "<function matplotlib.pyplot.show(close=None, block=None)>"
      ]
     },
     "execution_count": 19,
     "metadata": {},
     "output_type": "execute_result"
    },
    {
     "data": {
      "image/png": "[encoded data removed]",
      "text/plain": [
       "<Figure size 432x288 with 1 Axes>"
      ]
     },
     "metadata": {
      "needs_background": "light"
     },
     "output_type": "display_data"
    }
   ],
   "source": [
    "# The background estimate has a systematic  uncertainty  which is expressed as a fraction of background events\n",
    "# we use 1% \n",
    "bfr=0.01\n",
    "thr, signi, imax=plot_signi_base(y_test, Ypredr,nsigw,nbgw,bfr, 'nbg '+str(nbgw))\n",
    "plt.legend(loc='best')\n",
    "plt.show"
   ]
  },
  {
   "cell_type": "markdown",
   "metadata": {},
   "source": [
    "## Compare label and prediction in 1-d projections"
   ]
  },
  {
   "cell_type": "code",
   "execution_count": 20,
   "metadata": {},
   "outputs": [
    {
     "data": {
      "image/png": "[encoded data removed]",
      "text/plain": [
       "<Figure size 1008x360 with 2 Axes>"
      ]
     },
     "metadata": {
      "needs_background": "light"
     },
     "output_type": "display_data"
    },
    {
     "data": {
      "image/png": "[encoded data removed]",
      "text/plain": [
       "<Figure size 1008x360 with 2 Axes>"
      ]
     },
     "metadata": {
      "needs_background": "light"
     },
     "output_type": "display_data"
    }
   ],
   "source": [
    "MeV=0.001\n",
    "pred_false='PROB<0.5'\n",
    "pred_true='PROB>0.5'\n",
    "lab_false='SIG==0'\n",
    "lab_true='SIG==1'\n",
    "nbin=50\n",
    "blow=0.\n",
    "fig1= plt.figure(figsize=(14,5))\n",
    "plt.subplot(1, 2,1)\n",
    "var=\"mt\"\n",
    "varmin=0.\n",
    "varmax=250.\n",
    "scale=MeV\n",
    "bins = np.linspace(varmin , varmax, nbin)\n",
    "plt.hist(df_test_acc_r.query(pred_false)[var]*scale, bins, alpha=0.5, density=True, label=pred_false)\n",
    "plt.hist(df_test_acc_r.query(pred_true)[var]*scale, bins, alpha=0.5, density=True, label=pred_true)\n",
    "plt.legend(loc='best')\n",
    "plt.xlabel(var)\n",
    "plt.ylabel('normalised events')\n",
    "plt.subplot(1, 2,2)\n",
    "plt.hist(df_test_acc_r.query(lab_false)[var]*MeV, bins, alpha=0.5, density=True, label=lab_false)\n",
    "plt.hist(df_test_acc_r.query(lab_true)[var]*MeV, bins, alpha=0.5, density=True, label=lab_true)\n",
    "plt.legend(loc='best')\n",
    "plt.xlabel(var)\n",
    "plt.ylabel('normalised events')\n",
    "plt.show()\n",
    "var=\"mll\"\n",
    "varmin=0.\n",
    "varmax=250\n",
    "scale=MeV\n",
    "bins = np.linspace(varmin , varmax, nbin)\n",
    "fig2= plt.figure(figsize=(14,5))\n",
    "plt.subplot(1, 2,1)\n",
    "plt.hist(df_test_acc_r.query(pred_false)[var]*MeV, bins, alpha=0.5, density=True, label=pred_false)\n",
    "plt.hist(df_test_acc_r.query(pred_true)[var]*MeV, bins, alpha=0.5, density=True, label=pred_true)\n",
    "plt.legend(loc='best')\n",
    "plt.xlabel(var)\n",
    "plt.ylabel('normalised events')\n",
    "plt.subplot(1, 2,2)\n",
    "plt.hist(df_test_acc_r.query(lab_false)[var]*MeV, bins, alpha=0.5, density=True, label=lab_false)\n",
    "plt.hist(df_test_acc_r.query(lab_true)[var]*MeV, bins, alpha=0.5, density=True, label=lab_true)\n",
    "plt.legend(loc='best')\n",
    "plt.xlabel(var)\n",
    "plt.ylabel('normalised events')\n",
    "plt.show()"
   ]
  },
  {
   "cell_type": "markdown",
   "metadata": {},
   "source": [
    "## Compare label and prediction in 2-d projections"
   ]
  },
  {
   "cell_type": "code",
   "execution_count": 21,
   "metadata": {},
   "outputs": [
    {
     "data": {
      "image/png": "[encoded data removed]",
      "text/plain": [
       "<Figure size 1008x360 with 2 Axes>"
      ]
     },
     "metadata": {
      "needs_background": "light"
     },
     "output_type": "display_data"
    },
    {
     "data": {
      "image/png": "[encoded data removed]",
      "text/plain": [
       "<Figure size 1008x360 with 2 Axes>"
      ]
     },
     "metadata": {
      "needs_background": "light"
     },
     "output_type": "display_data"
    }
   ],
   "source": [
    "pred_false='PROB<0.5'\n",
    "pred_true='PROB>0.5'\n",
    "lab_false='SIG==0'\n",
    "lab_true='SIG==1'\n",
    "varx=\"mt\"\n",
    "varminx=0.\n",
    "varmaxx=250.\n",
    "nbinx=50\n",
    "scalex=MeV\n",
    "vary=\"mll\"\n",
    "nbiny=50\n",
    "varminy=0.\n",
    "varmaxy=250\n",
    "scaley=MeV\n",
    "binx = np.linspace(varminx,varmaxx,nbinx)\n",
    "biny = np.linspace(varminy,varmaxy,nbiny)\n",
    "fig1= plt.figure(figsize=(14,5))\n",
    "plt.subplot(1, 2,1)\n",
    "plt.hist2d(df_test_acc_r.query(pred_false)[varx]*scalex, df_test_acc_r.query(pred_false)[vary]*scaley, \n",
    "           bins=[binx, biny], density=False)\n",
    "plt.xlabel(varx)\n",
    "plt.ylabel(vary)\n",
    "plt.title(pred_false)\n",
    "plt.subplot(1, 2,2)\n",
    "plt.hist2d(df_test_acc_r.query(lab_false)[varx]*scalex, df_test_acc_r.query(lab_false)[vary]*scaley, \n",
    "           bins=[binx, biny], density=False)\n",
    "plt.xlabel(varx)\n",
    "plt.ylabel(vary)\n",
    "plt.title(lab_false)\n",
    "plt.show()\n",
    "fig2= plt.figure(figsize=(14,5))\n",
    "plt.subplot(1, 2,1)\n",
    "plt.hist2d(df_test_acc_r.query(pred_true)[varx]*scalex, df_test_acc_r.query(pred_true)[vary]*scaley, \n",
    "           bins=[binx, biny], density=False)\n",
    "plt.xlabel(varx)\n",
    "plt.ylabel(vary)\n",
    "plt.title(pred_true)\n",
    "plt.subplot(1, 2,2)\n",
    "plt.hist2d(df_test_acc_r.query(lab_true)[varx]*scalex, df_test_acc_r.query(lab_true)[vary]*scaley, \n",
    "           bins=[binx, biny], density=False)\n",
    "plt.xlabel(varx)\n",
    "plt.ylabel(vary)\n",
    "plt.title(lab_true)\n",
    "plt.show()"
   ]
  },
  {
   "cell_type": "markdown",
   "metadata": {},
   "source": [
    "# Exercises\n",
    "\n",
    "Exercises:\n",
    "* Study performance of XGB by playing with hyperparameters\n",
    "  * eta \n",
    "  * max_depth \n",
    "  * reg_lambda\n",
    "  * n_estimators\n",
    "* Study performance by removing variables with least importance\n",
    "  "
   ]
  },
  {
   "cell_type": "markdown",
   "metadata": {},
   "source": [
    "\n"
   ]
  }
 ],
 "metadata": {
  "colab": {
   "provenance": []
  },
  "kernelspec": {
   "display_name": "Python 3 (ipykernel)",
   "language": "python",
   "name": "python3"
  },
  "language_info": {
   "codemirror_mode": {
    "name": "ipython",
    "version": 3
   },
   "file_extension": ".py",
   "mimetype": "text/x-python",
   "name": "python",
   "nbconvert_exporter": "python",
   "pygments_lexer": "ipython3",
   "version": "3.10.12"
  },
  "toc": {
   "base_numbering": 1,
   "nav_menu": {},
   "number_sections": true,
   "sideBar": true,
   "skip_h1_title": false,
   "title_cell": "Table of Contents",
   "title_sidebar": "Contents",
   "toc_cell": false,
   "toc_position": {},
   "toc_section_display": true,
   "toc_window_display": false
  }
 },
 "nbformat": 4,
 "nbformat_minor": 1
}
