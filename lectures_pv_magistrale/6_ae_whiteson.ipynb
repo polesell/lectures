{
 "cells": [
  {
   "cell_type": "markdown",
   "id": "77f155f0",
   "metadata": {
    "id": "77f155f0"
   },
   "source": [
    "# Classification exercise in HEP"
   ]
  },
  {
   "cell_type": "markdown",
   "id": "1e6dad39",
   "metadata": {},
   "source": [
    "## Example of KERAS-based DNN implementation of an LHC sarch analysis\n",
    "\n",
    "It is inspired by the work shown in Baldi et al.\n",
    "(https://arxiv.org/abs/1402.4735), and it uses as data samples the ones accompanying that paper, and available as\n",
    "\n",
    "https://archive.ics.uci.edu/ml/machine-learning-databases/00279/SUSY.csv.gz\n",
    "\n",
    "and\n",
    "\n",
    "https://archive.ics.uci.edu/ml/machine-learning-databases/00280/HIGGS.csv.gz."
   ]
  },
  {
   "cell_type": "markdown",
   "id": "5999f14b",
   "metadata": {},
   "source": [
    "## Definition of the physics problem\n",
    "\n",
    "Each of the samples includes a large sample of simulated LHC events, chracterised by a well defined final state. \n",
    "For the HIGGS sample the final state is two jets coming from the fragmentation of two b-quarks, and the decay \n",
    "products of two W bosons. If we adress the case where one of the W decays into a lepton and a neutrino, and the \n",
    "other decays into two jets, we have four jets, 1 lepton and the measured imbalance of the momentum in the plane. \n",
    "For each of the jets/lepton the 4-momentum is stored in the datafiles, in the standard coordinate system used in \n",
    "collider experiments, and the two components on the of the tranverse momentum imbalance (MET), which represent \n",
    "a measurement of the two transverse components of the momentum of the neutrino which escapes detection.\n",
    "Each event has a label 0 or 1, which will be named SIG, where 1 means that the event is a SIGNAL event, \n",
    "i.e. it was produced by the physical process we are trying to discover, and 0 means that the event is \n",
    "a BACKGROUND i.e. was produced by a known process, and we want to discard it. \n"
   ]
  },
  {
   "cell_type": "markdown",
   "id": "a03516ea",
   "metadata": {},
   "source": [
    "## Data loading\n",
    "\n",
    "The provided samples are of several million events, in order to fit into the colab memory and to have a reasonable execution speed during the lecture we provide in dropbox reduced samples of 240k events. To further speed up execution the sample can be further reduced m"
   ]
  },
  {
   "cell_type": "code",
   "execution_count": 1,
   "id": "2a478a04",
   "metadata": {
    "id": "66879435",
    "outputId": "32bcd850-a50a-48ac-d347-85502013e80b"
   },
   "outputs": [
    {
     "name": "stdout",
     "output_type": "stream",
     "text": [
      "higgsusy switch  1\n",
      "Size of dataset : 240000\n",
      "data loaded\n"
     ]
    }
   ],
   "source": [
    "#Load the dataset using pandas and numpy\n",
    "\n",
    "import pandas as pd\n",
    "import numpy as np\n",
    "import gzip\n",
    "import matplotlib.pyplot as plt\n",
    "\n",
    "\n",
    "higgsusy=1\n",
    "\n",
    "print(\"higgsusy switch \",higgsusy)\n",
    "\n",
    "if higgsusy==1:\n",
    "\n",
    "  link='https://www.dropbox.com/s/muyqdaw17iqxlnd/susyred1.csv.gz?dl=1' \n",
    "\n",
    "\n",
    "  features=['SIG','lep_1_pT', 'lep_1_eta', 'lep_1_phi', 'lep_2_pT', 'lep_2_eta', 'lep_2_phi',\n",
    "            'MET_val', 'MET_phi', 'MET_rel', 'axial_MET',  'MT2']        \n",
    "\n",
    "  low_features=['lep_1_pT', 'lep_1_eta', 'lep_1_phi', 'lep_2_pT', 'lep_2_eta', 'lep_2_phi',\n",
    "                'MET_val', 'MET_phi']\n",
    "\n",
    "  high_features=['MET_rel', 'axial_MET', 'MT2']\n",
    "                  \n",
    "if higgsusy==2:\n",
    "\n",
    "  link='https://www.dropbox.com/s/vdnstm4qo24uppn/higgsred.csv.gz?dl=1'\n",
    "  \n",
    "  features=['SIG','lepton_pT', 'lepton_eta', 'lepton_phi', 'MET_val', 'MET_phi', \n",
    "            'jet1_pt', 'jet1_eta', 'jet1_phi', 'jet1_btag', 'jet2_pt', 'jet2_eta', 'jet2_phi', 'jet2_btag', \n",
    "            'jet3_pt', 'jet3_eta', 'jet3_phi', 'jet3_btag', 'jet4_pt', 'jet4_eta', 'jet4_phi', 'jet4_btag', \n",
    "            'm_jj', 'm_jjj', 'm_lv', 'm_jlv', 'm_bb', 'm_wbb', 'm_wwbb']\n",
    "\n",
    "  low_features=['lepton_pT', 'lepton_eta', 'lepton_phi', 'MET_val', 'MET_phi', \n",
    "            'jet1_pt', 'jet1_eta', 'jet1_phi', 'jet1_btag', 'jet2_pt', 'jet2_eta', 'jet2_phi', 'jet2_btag', \n",
    "            'jet3_pt', 'jet3_eta', 'jet3_phi', 'jet3_btag', 'jet4_pt', 'jet4_eta', 'jet4_phi', 'jet4_btag']\n",
    "\n",
    "  high_features=['m_jj', 'm_jjj', 'm_lv', 'm_jlv', 'm_bb', 'm_wbb', 'm_wwbb']\n",
    "\n",
    "# define number of records that we want to read\n",
    "N = 240000\n",
    "print(\"Size of dataset : %i\"%N)\n",
    "df = pd.read_csv(link, compression='gzip', header=None,nrows=N,engine='python')\n",
    "#Name the columns using the 'features' array\n",
    "df.columns=features\n",
    "#Inspect contents\n",
    "#print(df.head)\n",
    "print (\"data loaded\")"
   ]
  },
  {
   "cell_type": "markdown",
   "id": "20cfa896",
   "metadata": {},
   "source": [
    "## Data preparation"
   ]
  },
  {
   "cell_type": "markdown",
   "id": "36b019af",
   "metadata": {
    "id": "36b019af"
   },
   "source": [
    "Once we have loaded the data, we need to define the input vector X, including all of the columns except the label one, and the target vector including only the label.\n",
    "\n",
    "Since we are going for anomaly detection, we split at this level the SM (bg, SIG==0) on which we will train the \n",
    "autoencoder, and the anomaly (sig, SIG==1) on which we will benchmark the performance of the autoencoder"
   ]
  },
  {
   "cell_type": "code",
   "execution_count": 2,
   "id": "635cff04",
   "metadata": {},
   "outputs": [],
   "source": [
    "\n",
    "df_bgf=df.query(\"SIG==0\")\n",
    "df_sig=df.query(\"SIG==1\")\n",
    "df_bg = df_bgf[[col for col in df_bgf.columns if col!=\"SIG\"]]\n",
    "label_standard = df_bgf['SIG'].values\n",
    "df_sig = df_sig[[col for col in df_sig.columns if col!=\"SIG\"]]"
   ]
  },
  {
   "cell_type": "markdown",
   "id": "700b0eb6",
   "metadata": {
    "id": "700b0eb6"
   },
   "source": [
    "### Split training and test samples\n",
    "\n",
    "We split only the signal sample into a test and a train sample, and we further split away a 10% of the training events to be used for monitoring the optimisation"
   ]
  },
  {
   "cell_type": "code",
   "execution_count": 3,
   "id": "cc70444e",
   "metadata": {
    "id": "bd4f1926",
    "outputId": "9b060cab-5c2d-47aa-f96c-d77ceb264ec8"
   },
   "outputs": [
    {
     "name": "stderr",
     "output_type": "stream",
     "text": [
      "/usr/lib/python3/dist-packages/scipy/__init__.py:146: UserWarning: A NumPy version >=1.17.3 and <1.25.0 is required for this version of SciPy (detected version 1.26.1\n",
      "  warnings.warn(f\"A NumPy version >={np_minversion} and <{np_maxversion}\"\n"
     ]
    },
    {
     "name": "stdout",
     "output_type": "stream",
     "text": [
      "(104138, 11) (26035, 11) (104138,) (26035,)\n",
      "(93724, 11) (10414, 11) (93724,) (10414,) (26035,)\n"
     ]
    }
   ],
   "source": [
    "from sklearn.model_selection import train_test_split\n",
    "X_learn, X_test, label_learn, label_test = train_test_split(df_bg, label_standard, test_size=0.2)\n",
    "print(X_learn.shape, X_test.shape, label_learn.shape, label_test.shape)\n",
    "X_train, X_val, label_train, label_val = train_test_split(X_learn, label_learn, test_size=0.1)\n",
    "print(X_train.shape, X_val.shape, label_train.shape, label_val.shape, label_test.shape)\n",
    "del df_bg, df_bgf, label_standard, X_learn, label_learn"
   ]
  },
  {
   "cell_type": "markdown",
   "id": "d6f6bb76",
   "metadata": {},
   "source": [
    "### Scaling of features to have average one"
   ]
  },
  {
   "cell_type": "code",
   "execution_count": 4,
   "id": "fabab2cc",
   "metadata": {},
   "outputs": [],
   "source": [
    "from sklearn.preprocessing import StandardScaler\n",
    "scaler = StandardScaler() # initialise StandardScaler\n",
    "\n",
    "# Fit only to the training data\n",
    "scaler.fit(X_train)\n",
    "\n",
    "# Now apply the transformations to the data:\n",
    "X_trains = scaler.transform(X_train)\n",
    "X_tests = scaler.transform(X_test)\n",
    "X_vals = scaler.transform(X_val)\n",
    "df_sigs = scaler.transform(df_sig)"
   ]
  },
  {
   "cell_type": "markdown",
   "id": "2afddc63",
   "metadata": {},
   "source": [
    "## Create the autoencoder"
   ]
  },
  {
   "cell_type": "code",
   "execution_count": 5,
   "id": "ab961f8d",
   "metadata": {},
   "outputs": [
    {
     "name": "stderr",
     "output_type": "stream",
     "text": [
      "2024-05-13 16:16:44.959545: I tensorflow/core/util/port.cc:111] oneDNN custom operations are on. You may see slightly different numerical results due to floating-point round-off errors from different computation orders. To turn them off, set the environment variable `TF_ENABLE_ONEDNN_OPTS=0`.\n",
      "2024-05-13 16:16:44.960963: I tensorflow/tsl/cuda/cudart_stub.cc:28] Could not find cuda drivers on your machine, GPU will not be used.\n",
      "2024-05-13 16:16:44.981411: E tensorflow/compiler/xla/stream_executor/cuda/cuda_dnn.cc:9342] Unable to register cuDNN factory: Attempting to register factory for plugin cuDNN when one has already been registered\n",
      "2024-05-13 16:16:44.981438: E tensorflow/compiler/xla/stream_executor/cuda/cuda_fft.cc:609] Unable to register cuFFT factory: Attempting to register factory for plugin cuFFT when one has already been registered\n",
      "2024-05-13 16:16:44.981460: E tensorflow/compiler/xla/stream_executor/cuda/cuda_blas.cc:1518] Unable to register cuBLAS factory: Attempting to register factory for plugin cuBLAS when one has already been registered\n",
      "2024-05-13 16:16:44.986402: I tensorflow/tsl/cuda/cudart_stub.cc:28] Could not find cuda drivers on your machine, GPU will not be used.\n",
      "2024-05-13 16:16:44.986569: I tensorflow/core/platform/cpu_feature_guard.cc:182] This TensorFlow binary is optimized to use available CPU instructions in performance-critical operations.\n",
      "To enable the following instructions: AVX2 AVX_VNNI FMA, in other operations, rebuild TensorFlow with the appropriate compiler flags.\n",
      "2024-05-13 16:16:45.496353: W tensorflow/compiler/tf2tensorrt/utils/py_utils.cc:38] TF-TRT Warning: Could not find TensorRT\n"
     ]
    },
    {
     "name": "stdout",
     "output_type": "stream",
     "text": [
      "Model: \"model\"\n",
      "_________________________________________________________________\n",
      " Layer (type)                Output Shape              Param #   \n",
      "=================================================================\n",
      " input_1 (InputLayer)        [(None, 11)]              0         \n",
      "                                                                 \n",
      " dense_1 (Dense)             (None, 50)                600       \n",
      "                                                                 \n",
      " activation_1 (Activation)   (None, 50)                0         \n",
      "                                                                 \n",
      " dense_2 (Dense)             (None, 5)                 255       \n",
      "                                                                 \n",
      " activation_2 (Activation)   (None, 5)                 0         \n",
      "                                                                 \n",
      " dense_4 (Dense)             (None, 100)               600       \n",
      "                                                                 \n",
      " activation_4 (Activation)   (None, 100)               0         \n",
      "                                                                 \n",
      " dense_5 (Dense)             (None, 11)                1111      \n",
      "                                                                 \n",
      "=================================================================\n",
      "Total params: 2566 (10.02 KB)\n",
      "Trainable params: 2566 (10.02 KB)\n",
      "Non-trainable params: 0 (0.00 Byte)\n",
      "_________________________________________________________________\n"
     ]
    }
   ],
   "source": [
    "# keras imports\n",
    "from tensorflow.keras.models import Model\n",
    "from tensorflow.keras.layers import Dense, Input, Flatten\n",
    "from tensorflow.keras.layers import BatchNormalization, Activation\n",
    "from tensorflow.keras.utils import plot_model\n",
    "from tensorflow.keras import backend as K\n",
    "from tensorflow.keras import metrics\n",
    "from tensorflow.keras.callbacks import EarlyStopping, ReduceLROnPlateau, TerminateOnNaN\n",
    "\n",
    "nvar=X_trains.shape[1]\n",
    "#---------\n",
    "# Encoder\n",
    "#---------\n",
    "inputLayer = Input(shape=nvar)\n",
    "#\n",
    "enc = Dense(100)(inputLayer)\n",
    "enc = Activation('elu')(enc)\n",
    "#\n",
    "enc = Dense(50)(inputLayer)\n",
    "enc = Activation('elu')(enc)\n",
    "#\n",
    "enc = Dense(5)(enc)\n",
    "enc = Activation('elu')(enc)\n",
    "\n",
    "#---------\n",
    "# Decoder\n",
    "#---------\n",
    "dec = Dense(50)(enc)\n",
    "dec = Activation('elu')(dec)\n",
    "#\n",
    "dec = Dense(100)(enc)\n",
    "dec = Activation('elu')(dec)\n",
    "#\n",
    "dec = Dense(nvar)(dec)\n",
    "autoencoder = Model(inputs=inputLayer, outputs=dec)\n",
    "\n",
    "autoencoder.compile(loss='mse', optimizer='adam')\n",
    "autoencoder.summary()"
   ]
  },
  {
   "cell_type": "markdown",
   "id": "1dc614c6",
   "metadata": {},
   "source": [
    "## Train the autoencoder"
   ]
  },
  {
   "cell_type": "code",
   "execution_count": 6,
   "id": "ba15acee",
   "metadata": {},
   "outputs": [
    {
     "name": "stdout",
     "output_type": "stream",
     "text": [
      "Epoch 1/300\n",
      "733/733 - 1s - loss: 0.2574 - val_loss: 0.1956 - 1s/epoch - 2ms/step\n",
      "Epoch 2/300\n",
      "733/733 - 1s - loss: 0.1922 - val_loss: 0.1842 - 731ms/epoch - 997us/step\n",
      "Epoch 3/300\n",
      "733/733 - 1s - loss: 0.1834 - val_loss: 0.1767 - 859ms/epoch - 1ms/step\n",
      "Epoch 4/300\n",
      "733/733 - 1s - loss: 0.1758 - val_loss: 0.1714 - 892ms/epoch - 1ms/step\n",
      "Epoch 5/300\n",
      "733/733 - 1s - loss: 0.1672 - val_loss: 0.1593 - 852ms/epoch - 1ms/step\n",
      "Epoch 6/300\n",
      "733/733 - 1s - loss: 0.1518 - val_loss: 0.1450 - 822ms/epoch - 1ms/step\n",
      "Epoch 7/300\n",
      "733/733 - 1s - loss: 0.1434 - val_loss: 0.1375 - 951ms/epoch - 1ms/step\n",
      "Epoch 8/300\n",
      "733/733 - 1s - loss: 0.1381 - val_loss: 0.1333 - 837ms/epoch - 1ms/step\n",
      "Epoch 9/300\n",
      "733/733 - 1s - loss: 0.1340 - val_loss: 0.1314 - 812ms/epoch - 1ms/step\n",
      "Epoch 10/300\n",
      "733/733 - 1s - loss: 0.1300 - val_loss: 0.1251 - 821ms/epoch - 1ms/step\n",
      "Epoch 11/300\n",
      "733/733 - 1s - loss: 0.1244 - val_loss: 0.1183 - 920ms/epoch - 1ms/step\n",
      "Epoch 12/300\n",
      "733/733 - 1s - loss: 0.1181 - val_loss: 0.1147 - 884ms/epoch - 1ms/step\n",
      "Epoch 13/300\n",
      "733/733 - 1s - loss: 0.1140 - val_loss: 0.1108 - 832ms/epoch - 1ms/step\n",
      "Epoch 14/300\n",
      "733/733 - 1s - loss: 0.1110 - val_loss: 0.1077 - 769ms/epoch - 1ms/step\n",
      "Epoch 15/300\n",
      "733/733 - 1s - loss: 0.1085 - val_loss: 0.1046 - 793ms/epoch - 1ms/step\n",
      "Epoch 16/300\n",
      "733/733 - 1s - loss: 0.1064 - val_loss: 0.1027 - 741ms/epoch - 1ms/step\n",
      "Epoch 17/300\n",
      "733/733 - 1s - loss: 0.1047 - val_loss: 0.1009 - 837ms/epoch - 1ms/step\n",
      "Epoch 18/300\n",
      "733/733 - 1s - loss: 0.1031 - val_loss: 0.1003 - 740ms/epoch - 1ms/step\n",
      "Epoch 19/300\n",
      "733/733 - 1s - loss: 0.1016 - val_loss: 0.0995 - 764ms/epoch - 1ms/step\n",
      "Epoch 20/300\n",
      "733/733 - 1s - loss: 0.1002 - val_loss: 0.0966 - 875ms/epoch - 1ms/step\n",
      "Epoch 21/300\n",
      "733/733 - 1s - loss: 0.0988 - val_loss: 0.0957 - 886ms/epoch - 1ms/step\n",
      "Epoch 22/300\n",
      "733/733 - 1s - loss: 0.0976 - val_loss: 0.0943 - 785ms/epoch - 1ms/step\n",
      "Epoch 23/300\n",
      "733/733 - 1s - loss: 0.0964 - val_loss: 0.0944 - 758ms/epoch - 1ms/step\n",
      "Epoch 24/300\n",
      "733/733 - 1s - loss: 0.0952 - val_loss: 0.0935 - 833ms/epoch - 1ms/step\n",
      "Epoch 25/300\n",
      "733/733 - 1s - loss: 0.0941 - val_loss: 0.0915 - 770ms/epoch - 1ms/step\n",
      "Epoch 26/300\n",
      "733/733 - 1s - loss: 0.0932 - val_loss: 0.0914 - 752ms/epoch - 1ms/step\n",
      "Epoch 27/300\n",
      "733/733 - 1s - loss: 0.0923 - val_loss: 0.0899 - 806ms/epoch - 1ms/step\n",
      "Epoch 28/300\n",
      "733/733 - 1s - loss: 0.0915 - val_loss: 0.0888 - 752ms/epoch - 1ms/step\n",
      "Epoch 29/300\n",
      "733/733 - 1s - loss: 0.0906 - val_loss: 0.0876 - 764ms/epoch - 1ms/step\n",
      "Epoch 30/300\n",
      "733/733 - 1s - loss: 0.0899 - val_loss: 0.0872 - 700ms/epoch - 956us/step\n",
      "Epoch 31/300\n",
      "733/733 - 1s - loss: 0.0894 - val_loss: 0.0871 - 681ms/epoch - 929us/step\n",
      "Epoch 32/300\n",
      "733/733 - 1s - loss: 0.0886 - val_loss: 0.0858 - 907ms/epoch - 1ms/step\n",
      "Epoch 33/300\n",
      "733/733 - 1s - loss: 0.0879 - val_loss: 0.0856 - 711ms/epoch - 969us/step\n",
      "Epoch 34/300\n",
      "733/733 - 1s - loss: 0.0874 - val_loss: 0.0842 - 759ms/epoch - 1ms/step\n",
      "Epoch 35/300\n",
      "733/733 - 1s - loss: 0.0868 - val_loss: 0.0855 - 896ms/epoch - 1ms/step\n",
      "Epoch 36/300\n",
      "733/733 - 1s - loss: 0.0863 - val_loss: 0.0832 - 807ms/epoch - 1ms/step\n",
      "Epoch 37/300\n",
      "733/733 - 1s - loss: 0.0858 - val_loss: 0.0829 - 680ms/epoch - 928us/step\n",
      "Epoch 38/300\n",
      "733/733 - 1s - loss: 0.0853 - val_loss: 0.0836 - 837ms/epoch - 1ms/step\n",
      "Epoch 39/300\n",
      "733/733 - 1s - loss: 0.0849 - val_loss: 0.0833 - 868ms/epoch - 1ms/step\n",
      "Epoch 40/300\n",
      "733/733 - 1s - loss: 0.0844 - val_loss: 0.0824 - 790ms/epoch - 1ms/step\n",
      "Epoch 41/300\n",
      "733/733 - 1s - loss: 0.0840 - val_loss: 0.0823 - 752ms/epoch - 1ms/step\n",
      "Epoch 42/300\n",
      "733/733 - 1s - loss: 0.0836 - val_loss: 0.0818 - 883ms/epoch - 1ms/step\n",
      "Epoch 43/300\n",
      "733/733 - 1s - loss: 0.0832 - val_loss: 0.0809 - 1s/epoch - 1ms/step\n",
      "Epoch 44/300\n",
      "733/733 - 1s - loss: 0.0828 - val_loss: 0.0811 - 1s/epoch - 1ms/step\n",
      "Epoch 45/300\n",
      "733/733 - 1s - loss: 0.0823 - val_loss: 0.0805 - 716ms/epoch - 977us/step\n",
      "Epoch 46/300\n",
      "733/733 - 1s - loss: 0.0820 - val_loss: 0.0803 - 853ms/epoch - 1ms/step\n",
      "Epoch 47/300\n",
      "733/733 - 1s - loss: 0.0817 - val_loss: 0.0802 - 830ms/epoch - 1ms/step\n",
      "Epoch 48/300\n",
      "733/733 - 1s - loss: 0.0815 - val_loss: 0.0799 - 864ms/epoch - 1ms/step\n",
      "Epoch 49/300\n",
      "733/733 - 1s - loss: 0.0810 - val_loss: 0.0788 - 786ms/epoch - 1ms/step\n",
      "Epoch 50/300\n",
      "733/733 - 1s - loss: 0.0807 - val_loss: 0.0781 - 804ms/epoch - 1ms/step\n",
      "Epoch 51/300\n",
      "733/733 - 1s - loss: 0.0805 - val_loss: 0.0778 - 801ms/epoch - 1ms/step\n",
      "Epoch 52/300\n",
      "733/733 - 1s - loss: 0.0801 - val_loss: 0.0787 - 874ms/epoch - 1ms/step\n",
      "Epoch 53/300\n",
      "733/733 - 1s - loss: 0.0799 - val_loss: 0.0803 - 754ms/epoch - 1ms/step\n",
      "Epoch 54/300\n",
      "733/733 - 1s - loss: 0.0795 - val_loss: 0.0800 - 1s/epoch - 1ms/step\n",
      "Epoch 55/300\n",
      "733/733 - 1s - loss: 0.0794 - val_loss: 0.0770 - 929ms/epoch - 1ms/step\n",
      "Epoch 56/300\n",
      "733/733 - 1s - loss: 0.0789 - val_loss: 0.0766 - 739ms/epoch - 1ms/step\n",
      "Epoch 57/300\n",
      "733/733 - 1s - loss: 0.0785 - val_loss: 0.0762 - 840ms/epoch - 1ms/step\n",
      "Epoch 58/300\n",
      "733/733 - 1s - loss: 0.0785 - val_loss: 0.0770 - 723ms/epoch - 986us/step\n",
      "Epoch 59/300\n",
      "733/733 - 1s - loss: 0.0782 - val_loss: 0.0762 - 769ms/epoch - 1ms/step\n",
      "Epoch 60/300\n",
      "733/733 - 1s - loss: 0.0780 - val_loss: 0.0765 - 732ms/epoch - 998us/step\n",
      "Epoch 61/300\n",
      "733/733 - 1s - loss: 0.0777 - val_loss: 0.0762 - 797ms/epoch - 1ms/step\n",
      "Epoch 62/300\n",
      "733/733 - 1s - loss: 0.0775 - val_loss: 0.0755 - 711ms/epoch - 971us/step\n",
      "Epoch 63/300\n",
      "733/733 - 1s - loss: 0.0773 - val_loss: 0.0759 - 885ms/epoch - 1ms/step\n",
      "Epoch 64/300\n",
      "733/733 - 1s - loss: 0.0771 - val_loss: 0.0751 - 732ms/epoch - 999us/step\n",
      "Epoch 65/300\n",
      "733/733 - 1s - loss: 0.0769 - val_loss: 0.0746 - 890ms/epoch - 1ms/step\n",
      "Epoch 66/300\n",
      "733/733 - 1s - loss: 0.0767 - val_loss: 0.0750 - 863ms/epoch - 1ms/step\n",
      "Epoch 67/300\n",
      "733/733 - 1s - loss: 0.0764 - val_loss: 0.0755 - 732ms/epoch - 999us/step\n",
      "Epoch 68/300\n",
      "733/733 - 1s - loss: 0.0763 - val_loss: 0.0747 - 843ms/epoch - 1ms/step\n",
      "Epoch 69/300\n",
      "733/733 - 1s - loss: 0.0760 - val_loss: 0.0753 - 788ms/epoch - 1ms/step\n",
      "Epoch 70/300\n",
      "733/733 - 1s - loss: 0.0760 - val_loss: 0.0746 - 832ms/epoch - 1ms/step\n",
      "Epoch 71/300\n",
      "733/733 - 1s - loss: 0.0758 - val_loss: 0.0746 - 824ms/epoch - 1ms/step\n",
      "Epoch 72/300\n",
      "733/733 - 1s - loss: 0.0755 - val_loss: 0.0736 - 792ms/epoch - 1ms/step\n",
      "Epoch 73/300\n",
      "733/733 - 1s - loss: 0.0754 - val_loss: 0.0738 - 893ms/epoch - 1ms/step\n",
      "Epoch 74/300\n",
      "733/733 - 1s - loss: 0.0751 - val_loss: 0.0742 - 971ms/epoch - 1ms/step\n",
      "Epoch 75/300\n",
      "733/733 - 1s - loss: 0.0749 - val_loss: 0.0727 - 885ms/epoch - 1ms/step\n",
      "Epoch 76/300\n",
      "733/733 - 1s - loss: 0.0750 - val_loss: 0.0734 - 871ms/epoch - 1ms/step\n",
      "Epoch 77/300\n",
      "733/733 - 1s - loss: 0.0747 - val_loss: 0.0730 - 843ms/epoch - 1ms/step\n",
      "Epoch 78/300\n",
      "733/733 - 1s - loss: 0.0746 - val_loss: 0.0741 - 890ms/epoch - 1ms/step\n",
      "Epoch 79/300\n",
      "733/733 - 1s - loss: 0.0744 - val_loss: 0.0724 - 882ms/epoch - 1ms/step\n",
      "Epoch 80/300\n",
      "733/733 - 1s - loss: 0.0743 - val_loss: 0.0719 - 960ms/epoch - 1ms/step\n",
      "Epoch 81/300\n",
      "733/733 - 1s - loss: 0.0742 - val_loss: 0.0725 - 749ms/epoch - 1ms/step\n",
      "Epoch 82/300\n",
      "733/733 - 1s - loss: 0.0740 - val_loss: 0.0729 - 683ms/epoch - 932us/step\n",
      "Epoch 83/300\n",
      "733/733 - 1s - loss: 0.0739 - val_loss: 0.0723 - 746ms/epoch - 1ms/step\n",
      "Epoch 84/300\n",
      "733/733 - 1s - loss: 0.0739 - val_loss: 0.0724 - 868ms/epoch - 1ms/step\n",
      "Epoch 85/300\n",
      "733/733 - 1s - loss: 0.0738 - val_loss: 0.0717 - 832ms/epoch - 1ms/step\n",
      "Epoch 86/300\n",
      "733/733 - 1s - loss: 0.0736 - val_loss: 0.0727 - 731ms/epoch - 997us/step\n",
      "Epoch 87/300\n",
      "733/733 - 1s - loss: 0.0734 - val_loss: 0.0717 - 977ms/epoch - 1ms/step\n",
      "Epoch 88/300\n",
      "733/733 - 1s - loss: 0.0735 - val_loss: 0.0717 - 704ms/epoch - 961us/step\n",
      "Epoch 89/300\n",
      "733/733 - 1s - loss: 0.0732 - val_loss: 0.0725 - 774ms/epoch - 1ms/step\n",
      "Epoch 90/300\n",
      "733/733 - 1s - loss: 0.0732 - val_loss: 0.0716 - 826ms/epoch - 1ms/step\n",
      "Epoch 91/300\n",
      "733/733 - 1s - loss: 0.0731 - val_loss: 0.0719 - 748ms/epoch - 1ms/step\n",
      "Epoch 92/300\n",
      "733/733 - 1s - loss: 0.0731 - val_loss: 0.0710 - 758ms/epoch - 1ms/step\n",
      "Epoch 93/300\n",
      "733/733 - 1s - loss: 0.0729 - val_loss: 0.0716 - 809ms/epoch - 1ms/step\n",
      "Epoch 94/300\n",
      "733/733 - 1s - loss: 0.0727 - val_loss: 0.0708 - 795ms/epoch - 1ms/step\n",
      "Epoch 95/300\n",
      "733/733 - 1s - loss: 0.0727 - val_loss: 0.0717 - 812ms/epoch - 1ms/step\n",
      "Epoch 96/300\n",
      "733/733 - 1s - loss: 0.0726 - val_loss: 0.0726 - 776ms/epoch - 1ms/step\n",
      "Epoch 97/300\n",
      "733/733 - 1s - loss: 0.0725 - val_loss: 0.0712 - 796ms/epoch - 1ms/step\n"
     ]
    },
    {
     "name": "stdout",
     "output_type": "stream",
     "text": [
      "Epoch 98/300\n",
      "733/733 - 1s - loss: 0.0725 - val_loss: 0.0712 - 888ms/epoch - 1ms/step\n",
      "Epoch 99/300\n",
      "733/733 - 1s - loss: 0.0722 - val_loss: 0.0710 - 913ms/epoch - 1ms/step\n",
      "Epoch 100/300\n",
      "733/733 - 1s - loss: 0.0723 - val_loss: 0.0708 - 821ms/epoch - 1ms/step\n",
      "Epoch 101/300\n",
      "733/733 - 1s - loss: 0.0721 - val_loss: 0.0702 - 732ms/epoch - 999us/step\n",
      "Epoch 102/300\n",
      "733/733 - 1s - loss: 0.0720 - val_loss: 0.0702 - 852ms/epoch - 1ms/step\n",
      "Epoch 103/300\n",
      "733/733 - 1s - loss: 0.0722 - val_loss: 0.0711 - 761ms/epoch - 1ms/step\n",
      "Epoch 104/300\n",
      "733/733 - 1s - loss: 0.0719 - val_loss: 0.0709 - 714ms/epoch - 975us/step\n",
      "Epoch 105/300\n",
      "733/733 - 1s - loss: 0.0718 - val_loss: 0.0705 - 918ms/epoch - 1ms/step\n",
      "Epoch 106/300\n",
      "733/733 - 1s - loss: 0.0718 - val_loss: 0.0697 - 816ms/epoch - 1ms/step\n",
      "Epoch 107/300\n",
      "733/733 - 1s - loss: 0.0717 - val_loss: 0.0700 - 806ms/epoch - 1ms/step\n",
      "Epoch 108/300\n",
      "733/733 - 1s - loss: 0.0717 - val_loss: 0.0704 - 900ms/epoch - 1ms/step\n",
      "Epoch 109/300\n",
      "733/733 - 1s - loss: 0.0716 - val_loss: 0.0698 - 798ms/epoch - 1ms/step\n",
      "Epoch 110/300\n",
      "733/733 - 1s - loss: 0.0715 - val_loss: 0.0709 - 864ms/epoch - 1ms/step\n",
      "Epoch 111/300\n",
      "733/733 - 1s - loss: 0.0715 - val_loss: 0.0706 - 827ms/epoch - 1ms/step\n",
      "Epoch 112/300\n",
      "733/733 - 1s - loss: 0.0715 - val_loss: 0.0701 - 846ms/epoch - 1ms/step\n",
      "Epoch 113/300\n",
      "733/733 - 1s - loss: 0.0715 - val_loss: 0.0700 - 862ms/epoch - 1ms/step\n",
      "Epoch 114/300\n",
      "733/733 - 1s - loss: 0.0712 - val_loss: 0.0694 - 833ms/epoch - 1ms/step\n",
      "Epoch 115/300\n",
      "733/733 - 1s - loss: 0.0711 - val_loss: 0.0698 - 841ms/epoch - 1ms/step\n",
      "Epoch 116/300\n",
      "733/733 - 1s - loss: 0.0711 - val_loss: 0.0697 - 789ms/epoch - 1ms/step\n",
      "Epoch 117/300\n",
      "733/733 - 1s - loss: 0.0710 - val_loss: 0.0697 - 760ms/epoch - 1ms/step\n",
      "Epoch 118/300\n",
      "733/733 - 1s - loss: 0.0710 - val_loss: 0.0701 - 654ms/epoch - 892us/step\n",
      "Epoch 119/300\n",
      "733/733 - 1s - loss: 0.0710 - val_loss: 0.0696 - 817ms/epoch - 1ms/step\n",
      "Epoch 120/300\n",
      "733/733 - 1s - loss: 0.0710 - val_loss: 0.0691 - 872ms/epoch - 1ms/step\n",
      "Epoch 121/300\n",
      "733/733 - 1s - loss: 0.0708 - val_loss: 0.0697 - 784ms/epoch - 1ms/step\n",
      "Epoch 122/300\n",
      "733/733 - 1s - loss: 0.0707 - val_loss: 0.0695 - 871ms/epoch - 1ms/step\n",
      "Epoch 123/300\n",
      "733/733 - 1s - loss: 0.0707 - val_loss: 0.0705 - 880ms/epoch - 1ms/step\n",
      "Epoch 124/300\n",
      "733/733 - 1s - loss: 0.0707 - val_loss: 0.0703 - 800ms/epoch - 1ms/step\n",
      "Epoch 125/300\n",
      "733/733 - 1s - loss: 0.0706 - val_loss: 0.0697 - 884ms/epoch - 1ms/step\n",
      "Epoch 126/300\n",
      "733/733 - 1s - loss: 0.0704 - val_loss: 0.0691 - 873ms/epoch - 1ms/step\n",
      "Epoch 127/300\n",
      "733/733 - 1s - loss: 0.0704 - val_loss: 0.0688 - 784ms/epoch - 1ms/step\n",
      "Epoch 128/300\n",
      "733/733 - 1s - loss: 0.0705 - val_loss: 0.0708 - 871ms/epoch - 1ms/step\n",
      "Epoch 129/300\n",
      "733/733 - 1s - loss: 0.0704 - val_loss: 0.0692 - 871ms/epoch - 1ms/step\n",
      "Epoch 130/300\n",
      "733/733 - 1s - loss: 0.0703 - val_loss: 0.0697 - 951ms/epoch - 1ms/step\n",
      "Epoch 131/300\n",
      "733/733 - 1s - loss: 0.0703 - val_loss: 0.0701 - 921ms/epoch - 1ms/step\n",
      "Epoch 132/300\n",
      "733/733 - 1s - loss: 0.0702 - val_loss: 0.0698 - 823ms/epoch - 1ms/step\n",
      "Epoch 133/300\n",
      "733/733 - 1s - loss: 0.0701 - val_loss: 0.0692 - 865ms/epoch - 1ms/step\n",
      "Epoch 134/300\n",
      "733/733 - 1s - loss: 0.0701 - val_loss: 0.0690 - 904ms/epoch - 1ms/step\n",
      "Epoch 135/300\n",
      "733/733 - 1s - loss: 0.0701 - val_loss: 0.0687 - 862ms/epoch - 1ms/step\n",
      "Epoch 136/300\n",
      "733/733 - 1s - loss: 0.0700 - val_loss: 0.0691 - 924ms/epoch - 1ms/step\n",
      "Epoch 137/300\n",
      "733/733 - 1s - loss: 0.0701 - val_loss: 0.0691 - 758ms/epoch - 1ms/step\n",
      "Epoch 138/300\n",
      "733/733 - 1s - loss: 0.0700 - val_loss: 0.0688 - 823ms/epoch - 1ms/step\n",
      "Epoch 139/300\n",
      "733/733 - 1s - loss: 0.0699 - val_loss: 0.0688 - 793ms/epoch - 1ms/step\n",
      "Epoch 140/300\n",
      "733/733 - 1s - loss: 0.0698 - val_loss: 0.0695 - 845ms/epoch - 1ms/step\n",
      "Epoch 141/300\n",
      "733/733 - 1s - loss: 0.0698 - val_loss: 0.0693 - 1s/epoch - 2ms/step\n",
      "Epoch 142/300\n",
      "733/733 - 1s - loss: 0.0700 - val_loss: 0.0691 - 901ms/epoch - 1ms/step\n",
      "Epoch 143/300\n",
      "733/733 - 1s - loss: 0.0699 - val_loss: 0.0692 - 780ms/epoch - 1ms/step\n",
      "Epoch 144/300\n",
      "733/733 - 1s - loss: 0.0696 - val_loss: 0.0688 - 758ms/epoch - 1ms/step\n",
      "Epoch 145/300\n",
      "733/733 - 1s - loss: 0.0698 - val_loss: 0.0687 - 764ms/epoch - 1ms/step\n",
      "Epoch 145: early stopping\n"
     ]
    }
   ],
   "source": [
    "batch_size = 128\n",
    "n_epochs = 300\n",
    "\n",
    "history = autoencoder.fit(X_trains, X_trains, epochs=n_epochs, batch_size=batch_size, verbose = 2,\n",
    "                validation_data=(X_vals, X_vals),\n",
    "                callbacks = [\n",
    "                EarlyStopping(monitor='val_loss', patience=10, verbose=1),\n",
    "#                ReduceLROnPlateau(monitor='val_loss', factor=0.1, patience=2, verbose=1),\n",
    "                TerminateOnNaN()])"
   ]
  },
  {
   "cell_type": "code",
   "execution_count": 7,
   "id": "08024b67",
   "metadata": {},
   "outputs": [
    {
     "data": {
      "image/png": "[encoded data removed]",
      "text/plain": [
       "<Figure size 432x288 with 1 Axes>"
      ]
     },
     "metadata": {
      "needs_background": "light"
     },
     "output_type": "display_data"
    }
   ],
   "source": [
    "# plot training history\n",
    "plt.plot(history.history['loss'])\n",
    "plt.plot(history.history['val_loss'])\n",
    "plt.yscale('log')\n",
    "plt.title('Training History')\n",
    "plt.ylabel('loss')\n",
    "plt.xlabel('epoch')\n",
    "plt.legend(['training', 'validation'], loc='upper right')\n",
    "plt.show()"
   ]
  },
  {
   "cell_type": "markdown",
   "id": "cb9aff3e",
   "metadata": {},
   "source": [
    "## Run prediction on test Standard Model (background)  sample and on full anomaly (signal) sample"
   ]
  },
  {
   "cell_type": "code",
   "execution_count": 8,
   "id": "2d387060",
   "metadata": {},
   "outputs": [
    {
     "name": "stdout",
     "output_type": "stream",
     "text": [
      "814/814 [==============================] - 1s 733us/step\n",
      "3433/3433 [==============================] - 3s 755us/step\n"
     ]
    }
   ],
   "source": [
    "predictedQCD = autoencoder.predict(X_tests)\n",
    "predicted_anomaly = autoencoder.predict(df_sigs)"
   ]
  },
  {
   "cell_type": "markdown",
   "id": "a915d888",
   "metadata": {},
   "source": [
    "## Calculate losses"
   ]
  },
  {
   "cell_type": "code",
   "execution_count": 9,
   "id": "cead7e5d",
   "metadata": {},
   "outputs": [
    {
     "name": "stdout",
     "output_type": "stream",
     "text": [
      "(26035, 11)\n",
      "(26035, 11)\n",
      "(26035, 11)\n",
      "(26035,)\n",
      "(109827, 11)\n",
      "(109827, 11)\n",
      "(109827, 11)\n",
      "(109827,)\n"
     ]
    }
   ],
   "source": [
    "def mse(data_in, data_out):\n",
    "    print(data_in.shape)\n",
    "    print(data_out.shape)\n",
    "    mse = (data_out-data_in)*(data_out-data_in)\n",
    "    print(mse.shape)\n",
    "    # sum over features\n",
    "    mse = mse.sum(1)\n",
    "    print(mse.shape)\n",
    "    return mse\n",
    "\n",
    "lossQCD = mse(X_tests, predictedQCD)\n",
    "loss_anomaly=mse(df_sigs, predicted_anomaly)"
   ]
  },
  {
   "cell_type": "markdown",
   "id": "ab62c8c2",
   "metadata": {},
   "source": [
    "## Plot them for Standard Model"
   ]
  },
  {
   "cell_type": "code",
   "execution_count": 10,
   "id": "b071d148",
   "metadata": {},
   "outputs": [
    {
     "data": {
      "image/png": "[encoded data removed]",
      "text/plain": [
       "<Figure size 432x288 with 1 Axes>"
      ]
     },
     "metadata": {
      "needs_background": "light"
     },
     "output_type": "display_data"
    }
   ],
   "source": [
    "maxScore = np.max(lossQCD)\n",
    "\n",
    "plt.hist(lossQCD, bins=100, label='Standard Model', density=True, range=(0, maxScore),\n",
    "         histtype='step', fill=False, linewidth=1.5)\n",
    "plt.semilogy()\n",
    "plt.xlabel(\"AE Loss\")\n",
    "plt.ylabel(\"Probability (a.u.)\")\n",
    "plt.grid(True)\n",
    "plt.legend(loc='upper right')\n",
    "plt.show()"
   ]
  },
  {
   "cell_type": "markdown",
   "id": "f85f3dc9",
   "metadata": {},
   "source": [
    "## Compare losses for Standard Model and Anomaly"
   ]
  },
  {
   "cell_type": "code",
   "execution_count": 11,
   "id": "7a414a57",
   "metadata": {},
   "outputs": [
    {
     "data": {
      "image/png": "[encoded data removed]",
      "text/plain": [
       "<Figure size 432x288 with 1 Axes>"
      ]
     },
     "metadata": {
      "needs_background": "light"
     },
     "output_type": "display_data"
    }
   ],
   "source": [
    "import math\n",
    "maxScore=np.max(loss_anomaly)\n",
    "minScore=np.min(np.log(lossQCD))\n",
    "plt.hist(np.log(lossQCD), bins=100, label='Standard Model', density=True, range=(minScore, math.log(maxScore)),\n",
    "         histtype='step', fill=False, linewidth=1.5)\n",
    "plt.hist(np.log(loss_anomaly), bins=100, label='Anomaly', density=True, range=(minScore, math.log(maxScore)),\n",
    "            histtype='step', fill=False, linewidth=1.5)\n",
    "#plt.hist(lossQCD, bins=100, label='ttbar', density=True, range=(0, maxScore),\n",
    "#         histtype='step', fill=False, linewidth=1.5)\n",
    "#plt.hist(loss_anomaly, bins=100, label='Heavy Higgs', density=True, range=(0, maxScore),\n",
    "#            histtype='step', fill=False, linewidth=1.5)\n",
    "plt.semilogy()\n",
    "plt.xlabel(\"log(AE Loss)\")\n",
    "plt.ylabel(\"Probability (a.u.)\")\n",
    "plt.grid(True)\n",
    "plt.legend(loc='upper right')\n",
    "plt.show()"
   ]
  },
  {
   "cell_type": "markdown",
   "id": "3f4acbda",
   "metadata": {},
   "source": [
    "## Calculate and plot ROC and AUC"
   ]
  },
  {
   "cell_type": "code",
   "execution_count": 12,
   "id": "5675faa3",
   "metadata": {},
   "outputs": [
    {
     "name": "stdout",
     "output_type": "stream",
     "text": [
      "(109827,) (26035,)\n",
      "(135862,) (135862,)\n"
     ]
    },
    {
     "data": {
      "image/png": "[encoded data removed]",
      "text/plain": [
       "<Figure size 432x288 with 1 Axes>"
      ]
     },
     "metadata": {
      "needs_background": "light"
     },
     "output_type": "display_data"
    }
   ],
   "source": [
    "from sklearn.metrics import roc_curve, auc\n",
    "plt.figure()\n",
    "# set SM label at zero\n",
    "targetQCD = np.zeros(lossQCD.shape[0])\n",
    "target_anomaly=np.ones(loss_anomaly.shape[0])\n",
    "print(loss_anomaly.shape, targetQCD.shape)\n",
    "trueVal = np.concatenate((target_anomaly,targetQCD))\n",
    "predVal = np.concatenate((loss_anomaly,lossQCD))\n",
    "print(trueVal.shape, predVal.shape)\n",
    "fpr, tpr, threshold = roc_curve(trueVal,predVal)\n",
    "auc1= auc(fpr, tpr)\n",
    "plt.plot(fpr,tpr,label='Anomaly Detection, auc = %.1f%%'%(auc1*100.))\n",
    "#plt.semilogy()\n",
    "plt.xlabel(\"False Positive\")\n",
    "plt.ylabel(\"True Positive\")\n",
    "plt.grid(True)\n",
    "plt.legend(loc='lower right')\n",
    "plt.show()\n"
   ]
  },
  {
   "attachments": {
    "image.png": {
     "image/png": "[encoded data removed]"
    }
   },
   "cell_type": "markdown",
   "id": "768a52a6",
   "metadata": {},
   "source": [
    "Compare for SUSY model AUC obtained with supervised  DNN\n",
    "\n",
    "![image.png](attachment:image.png)"
   ]
  },
  {
   "cell_type": "code",
   "execution_count": null,
   "id": "424c7cd2",
   "metadata": {},
   "outputs": [],
   "source": []
  }
 ],
 "metadata": {
  "colab": {
   "collapsed_sections": [
    "f28bb0fe",
    "a106a44d",
    "db0d12fc",
    "db13e1ca"
   ],
   "name": "Lecture1spli.ipynb",
   "provenance": [],
   "toc_visible": true
  },
  "kernelspec": {
   "display_name": "Python 3 (ipykernel)",
   "language": "python",
   "name": "python3"
  },
  "language_info": {
   "codemirror_mode": {
    "name": "ipython",
    "version": 3
   },
   "file_extension": ".py",
   "mimetype": "text/x-python",
   "name": "python",
   "nbconvert_exporter": "python",
   "pygments_lexer": "ipython3",
   "version": "3.10.12"
  }
 },
 "nbformat": 4,
 "nbformat_minor": 5
}
