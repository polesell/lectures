{
 "cells": [
  {
   "cell_type": "markdown",
   "metadata": {
    "id": "TiSTHbA25ZtB"
   },
   "source": [
    "# Performing the Higgs -> WW-> 2 leptons search \n",
    "\n",
    "\n",
    "\n"
   ]
  },
  {
   "cell_type": "markdown",
   "metadata": {
    "id": "5dgRkVPu5ZtK"
   },
   "source": [
    "# Installation of packages not available by default on colab\n"
   ]
  },
  {
   "cell_type": "code",
   "execution_count": null,
   "metadata": {
    "colab": {
     "base_uri": "https://localhost:8080/"
    },
    "id": "rjpPQFJHBHZO",
    "outputId": "4e4e4a10-448d-4576-a5a3-c9810c5fa386"
   },
   "outputs": [],
   "source": [
    "import sys\n",
    "# update the pip package installer\n",
    "#%pip install --upgrade --user pip\n",
    "# install required packages\n",
    "#%pip install --upgrade --user uproot awkward vector numpy matplotlib\n",
    "\n",
    "!pip install uproot\n",
    "!pip install vector\n",
    "!pip install awkward\n",
    "!pip install hist"
   ]
  },
  {
   "cell_type": "markdown",
   "metadata": {
    "id": "YrW2zmSv5ZtP"
   },
   "source": [
    "## Import packages used in the analysis\n",
    "\n",
    "We're going to be using a number of tools to help us:\n",
    "* uproot: lets us read .root files typically used in particle physics into data formats used in python\n",
    "* awkward: lets us store data as awkward arrays, a format that generalizes numpy to nested data with possibly variable length lists\n",
    "* vector: to allow vectorized 4-momentum calculations\n",
    "* numpy: provides numerical calculations such as histogramming\n",
    "* matplotlib: common tool for making plots, figures, images, visualisations"
   ]
  },
  {
   "cell_type": "code",
   "execution_count": 1,
   "metadata": {
    "id": "0tezkWvi5ZtP"
   },
   "outputs": [],
   "source": [
    "import uproot # for reading .root files\n",
    "import awkward as ak # to represent nested data in columnar format\n",
    "import vector # for 4-momentum calculations\n",
    "import time # to measure time to analyse\n",
    "import math # for mathematical functions such as square root\n",
    "import numpy as np # for numerical calculations such as histogramming\n",
    "import matplotlib.pyplot as plt\n",
    "import pandas as pd\n"
   ]
  },
  {
   "cell_type": "markdown",
   "metadata": {
    "id": "x1jsgyX25ZtR"
   },
   "source": [
    "## Data fraction, file path\n",
    "\n",
    "General definitions of fraction of data used, where to access the input files"
   ]
  },
  {
   "cell_type": "code",
   "execution_count": 2,
   "metadata": {
    "id": "kvTJwT3Fu0B8"
   },
   "outputs": [],
   "source": [
    "#lumi = 0.5 # fb-1 # data_A only\n",
    "#lumi = 1.9 # fb-1 # data_B only\n",
    "#lumi = 2.9 # fb-1 # data_C only\n",
    "#lumi = 4.7 # fb-1 # data_D only\n",
    "lumi = 10 # fb-1 # data_A,data_B,data_C,data_D\n",
    "fraction = 10000 # reduce this is if you want the code to run quicker"
   ]
  },
  {
   "cell_type": "markdown",
   "metadata": {
    "id": "nQfajNQQ5ZtR"
   },
   "source": [
    "<a id='fraction'></a>"
   ]
  },
  {
   "cell_type": "code",
   "execution_count": 3,
   "metadata": {
    "id": "M7SvDjMB5ZtS"
   },
   "outputs": [],
   "source": [
    "tuple_path = \"https://atlas-opendata.web.cern.ch/atlas-opendata/samples/2020/2lep/\" # web address"
   ]
  },
  {
   "cell_type": "markdown",
   "metadata": {
    "id": "ygZz8Zeg5ZtU"
   },
   "source": [
    "Units, as stored in the data files.<br /> \n",
    "The quantities in the ATLAS ntuple are unfortunately stored in MeV.<br />\n",
    "Since the natural unit for LHC analysis is GeV, we define conversion factors"
   ]
  },
  {
   "cell_type": "code",
   "execution_count": 4,
   "metadata": {
    "id": "dlHtfEWO5ZtU"
   },
   "outputs": [],
   "source": [
    "MeV = 0.001\n",
    "GeV = 1.0\n",
    "mz = 91.12"
   ]
  },
  {
   "cell_type": "markdown",
   "metadata": {
    "id": "1rwxT2a_u0CA"
   },
   "source": [
    "Define different classes of ntuples to access as a dictionary called \"samples\".<br />\n",
    "One has four types of ntuples:<br />\n",
    "<ul>\n",
    "<li>Data: the real data collected by ATLAS at the LHC\n",
    "<li>Reducible backgrounds: \n",
    "<li>Irreducible backgrounds\n",
    "<li>Signal\n",
    "</ul>\n",
    "The names in the list must correspond to the names of a sample defined in infofile.py"
   ]
  },
  {
   "cell_type": "code",
   "execution_count": 5,
   "metadata": {
    "id": "cpceF7lo5ZtT"
   },
   "outputs": [],
   "source": [
    "samples = {\n",
    "#  'data': {\n",
    "#    'list' : ['data_A','data_B','data_C','data_D'],\n",
    "#  },\n",
    "#  'reducible' : { # ttbar\n",
    "#     'list' : ['ttbar_lep'],\n",
    "#     'color' : \"#6b59d3\" # purple\n",
    "#  },\n",
    "  'background' : { # WW\n",
    "     'list' : ['llvv'],\n",
    "     'color' : \"#ff0000\" # red\n",
    "  },\n",
    "  'signal' : { # H -> WW -> llvv\n",
    "     'list' : ['ggH125_WW2lep'],\n",
    "     'color' : \"#00cdff\" # light blue\n",
    "  },\n",
    "}"
   ]
  },
  {
   "cell_type": "code",
   "execution_count": 6,
   "metadata": {
    "colab": {
     "base_uri": "https://localhost:8080/"
    },
    "id": "eXQ9WIxju0B4",
    "outputId": "57d3c8c1-0a61-4f59-90e8-98a4f9147281"
   },
   "outputs": [],
   "source": [
    "import os.path\n",
    "if os.path.isfile('infofile.py')==False:\n",
    "  !wget https://raw.githubusercontent.com/atlas-outreach-data-tools/notebooks-collection-opendata/master/13-TeV-examples/uproot_python/infofile.py    \n",
    "import infofile    \n",
    "#!head -n 12 infofile.py"
   ]
  },
  {
   "cell_type": "code",
   "execution_count": 7,
   "metadata": {
    "id": "elnlxPRBu0CB"
   },
   "outputs": [],
   "source": [
    "def get_xsec_weight(sample):\n",
    "  info = infofile.infos[sample] # open infofile\n",
    "  xsec_weight = (lumi*1000*info[\"xsec\"])/(info[\"sumw\"]*info[\"red_eff\"]) #*1000 to go from fb-1 to pb-1\n",
    "  return xsec_weight # return cross-section weight\n",
    "\n",
    "def calc_weight(xsec_weight, events):\n",
    "    return (\n",
    "        xsec_weight\n",
    "        * events.mcWeight\n",
    "        * events.scaleFactor_PILEUP\n",
    "        * events.scaleFactor_ELE\n",
    "        * events.scaleFactor_MUON\n",
    "        * events.scaleFactor_LepTRIGGER\n",
    "    )"
   ]
  },
  {
   "cell_type": "code",
   "execution_count": 8,
   "metadata": {
    "id": "EEWAYhJru0CB"
   },
   "outputs": [],
   "source": [
    "def get_data_from_files():\n",
    "\n",
    "  data = {} # define empty dictionary to hold dataframes\n",
    "  statMC = {}\n",
    "  for s in samples: # loop over samples\n",
    "    print('Processing '+s+' samples') # print which sample\n",
    "    frames = [] # define empty list to hold data\n",
    "    stattot=0\n",
    "    for val in samples[s]['list']: # loop over each file\n",
    "      if s == 'data': prefix = \"Data/\" # Data prefix\n",
    "      else: # MC prefix\n",
    "        prefix = \"MC/mc_\"+str(infofile.infos[val][\"DSID\"])+\".\"\n",
    "      fileString = tuple_path+prefix+val+\".2lep.root\" # file name to open\n",
    "      temp, stats = read_file(fileString,val) # call the function read_file defined below\n",
    "      stattot=stattot+stats\n",
    "      frames.append(temp) # append dataframe returned from read_file to list of dataframes\n",
    "    data[s] = pd.concat(frames) # dictionary entry is concatenated dataframes\n",
    "    statMC[s]=stattot\n",
    "\n",
    "  return data, statMC# return dictionary of dataframes"
   ]
  },
  {
   "cell_type": "markdown",
   "metadata": {
    "id": "2MyurcAr5ZtV"
   },
   "source": [
    "Define function to calculate kinematic quantities based on components of two leptons and Etmiss.<br />\n",
    "It accesses the dataframe where the particle data are stored as scalar components, and creates an \n",
    "array of 4-vectors with the vector library<br />\n",
    "The variables are then built using the 4-vector algebra"
   ]
  },
  {
   "cell_type": "code",
   "execution_count": 9,
   "metadata": {
    "id": "oj8gJb4R5ZtV"
   },
   "outputs": [],
   "source": [
    "def calc_kine(dff):\n",
    "    pl1=vector.array({\"pt\":dff[\"ptl1\"], \"phi\":dff[\"phil1\"],\n",
    "       \"eta\":dff[\"etal1\"], \"e\":dff[\"el1\"]})\n",
    "    pl2=vector.array({\"pt\":dff[\"ptl2\"], \"phi\":dff[\"phil2\"],\n",
    "       \"eta\":dff[\"etal2\"], \"e\":dff[\"el2\"]})\n",
    "    etmv=vector.array({\"pt\":dff[\"met_et\"], \"phi\":dff[\"met_phi\"]})\n",
    "    etm=dff[\"met_et\"]\n",
    "    pll=pl1+pl2\n",
    "    ptllv=vector.array({\"x\":pll.x, \"y\":pll.y})\n",
    "    c2=(etmv.x+ptllv.x)**2+(etmv.y+ptllv.y)**2\n",
    "    dphill=pl1.deltaphi(pl2)\n",
    "    dphillm=pll.deltaphi(etmv)\n",
    "    mll=pll.M\n",
    "    ptll=pll.pt\n",
    "    etll=np.sqrt(ptll*ptll+mll*mll)\n",
    "    c1=(etll+etm)**2\n",
    "    mt=np.sqrt(c1-c2)\n",
    "    return mll,dphill,ptll,dphillm,mt"
   ]
  },
  {
   "cell_type": "markdown",
   "metadata": {},
   "source": [
    "Calculate the angular difference in transverse plane between each of the leptons and the Etmiss vector.<br />\n",
    "They will be used to reduce number of variables exploiting the azimuthal invariance of the events"
   ]
  },
  {
   "cell_type": "code",
   "execution_count": 10,
   "metadata": {},
   "outputs": [],
   "source": [
    "def calc_dphil1m(dff):\n",
    "    pl=vector.array({\"pt\":dff[\"ptl1\"], \"phi\":dff[\"phil1\"],\n",
    "       \"eta\":dff[\"etal1\"], \"e\":dff[\"el1\"]})\n",
    "    em=vector.array({\"pt\":dff[\"met_et\"], \"phi\":dff[\"met_phi\"]})\n",
    "    return pl.deltaphi(em)\n",
    "def calc_dphil2m(dff):\n",
    "    pl=vector.array({\"pt\":dff[\"ptl2\"], \"phi\":dff[\"phil2\"],\n",
    "       \"eta\":dff[\"etal2\"], \"e\":dff[\"el2\"]})\n",
    "    em=vector.array({\"pt\":dff[\"met_et\"], \"phi\":dff[\"met_phi\"]})\n",
    "    return pl.deltaphi(em)"
   ]
  },
  {
   "cell_type": "markdown",
   "metadata": {
    "id": "qip61stOu0CC"
   },
   "source": [
    "Simple template for a selection function acting on the dataframe, it creates a boolean. Implement selections on the quality of leptons"
   ]
  },
  {
   "cell_type": "code",
   "execution_count": 11,
   "metadata": {
    "id": "QR-1NL4f5ZtV"
   },
   "outputs": [],
   "source": [
    "def cut_iso(df):\n",
    "   isol1=(df[\"ptcl1\"]/df[\"ptl1\"]<0.2) & (df[\"etcl1\"]/df[\"ptl1\"]<0.2)\n",
    "   isol2=(df[\"ptcl2\"]/df[\"ptl2\"]<0.2) & (df[\"etcl2\"]/df[\"ptl2\"]<0.2)\n",
    "   return isol1 & isol2\n",
    "def cut_ossf(df):\n",
    "   ltc1=df[\"chl1\"]*df[\"typl1\"]\n",
    "   ltc2=df[\"chl2\"]*df[\"typl2\"]\n",
    "   return (ltc1+ltc2!=0) & ((df[\"chl1\"]+df[\"chl2\"])>0) \n",
    "def cut_tight(df):\n",
    "   return (df[\"tightl1\"]==1) & (df[\"tightl2\"]==1)"
   ]
  },
  {
   "cell_type": "markdown",
   "metadata": {
    "id": "R-GwlBqK5ZtW"
   },
   "source": [
    "Define function to get data from files.\n",
    "\n",
    "The datasets used in this notebook have already been filtered to include at least 4 leptons per event"
   ]
  },
  {
   "cell_type": "code",
   "execution_count": 12,
   "metadata": {
    "id": "uRmvqb0U5ZtW"
   },
   "outputs": [],
   "source": [
    "def read_file(path, sample):\n",
    "  with uproot.open( path + \":mini\") as tree:\n",
    "    numevents = tree.num_entries # number of events\n",
    "    stopev=numevents*fraction\n",
    "    if fraction>1:\n",
    "      stopev=fraction\n",
    "    if 'data' not in sample: \n",
    "      xsec_weight = get_xsec_weight(sample) # get cross-section weight\n",
    "      print('sample xs weight',xsec_weight,'totev ',xsec_weight*numevents )    \n",
    "# variables to extract from ntuple are separated \n",
    "    lepvar=[\"lep_pt\", \"lep_eta\", \"lep_phi\",\"lep_E\",\n",
    "          \"lep_charge\",\"lep_type\",\n",
    "          \"lep_ptcone30\",\"lep_etcone20\", \"lep_isTightID\"]\n",
    "    scalvar=[\"met_et\",\"met_phi\",\"jet_n\"]\n",
    "    weivar=[\"mcWeight\",\"scaleFactor_PILEUP\",\n",
    "            \"scaleFactor_ELE\",\"scaleFactor_MUON\",\n",
    "            \"scaleFactor_LepTRIGGER\"] # variables to calculate Monte Carlo weight\n",
    "    tupvar=weivar+lepvar+scalvar\n",
    "# read tree into awkward array with uproot\n",
    "    print(\"num\",numevents, stopev)\n",
    "    lep_momentum = tree.arrays(tupvar,entry_stop=stopev,library=\"ak\")\n",
    "# define the names of the variables to go into dataframe\n",
    "    colnam=[\"ptl1\",\"etal1\",\"phil1\",\"el1\",\"chl1\",\"typl1\",\"ptcl1\",\"etcl1\",\"tightl1\",\n",
    "          \"ptl2\",\"etal2\",\"phil2\",\"el2\",\"chl2\",\"typl2\",\"ptcl2\",\"etcl2\",\"tightl2\"]\n",
    "# create numpy vector assuming that lep_ arrays have 4 components\n",
    "    for i in range(0,2):\n",
    "      for j in range(0,len(lepvar)):\n",
    "        if i==0 and j==0:\n",
    "          ptlep=ak.to_numpy(lep_momentum[lepvar[j]][:,i])\n",
    "        else:\n",
    "          ptlep=np.vstack([ptlep,ak.to_numpy(lep_momentum[lepvar[j]][:,i])])\n",
    "# end up with numpy 2d vector with n_var rows and n_event columns\n",
    "# to transpose, as in pandas 'features' are columns and 'observations' rows\n",
    "    ptlep=ptlep.transpose()\n",
    "# create dataframe \n",
    "    df = pd.DataFrame(ptlep)\n",
    "# add names of columns\n",
    "    df.columns=colnam \n",
    "# add scalar variables\n",
    "    for i in range(0, len(scalvar)):\n",
    "      df[scalvar[i]]=lep_momentum[scalvar[i]]\n",
    "#   calculate dphi rotation variables\n",
    "    df[\"dphil1m\"]=calc_dphil1m(df)\n",
    "    df[\"dphil2m\"]=calc_dphil2m(df)\n",
    "#   calculate lepton-lepton variables\n",
    "    mll,dphill,ptll,dphillm,mt=calc_kine(df)\n",
    "    df[\"dphill\"]=np.abs(dphill)\n",
    "    df[\"dphillm\"]=np.abs(dphillm)\n",
    "    df[\"mll\"]=mll\n",
    "    df[\"ptll\"]=ptll\n",
    "    df[\"mt\"]=mt\n",
    "# add MC weights and signal/background labelling\n",
    "    if 'data' not in sample: # only do this for Monte Carlo simulation files\n",
    "# multiply all Monte Carlo weights and scale factors together to give total weight\n",
    "      wei=calc_weight(xsec_weight, lep_momentum)*numevents/stopev\n",
    "      numevscal=sum(wei)\n",
    "      print(\" events with MC weight: \", numevscal)\n",
    "      df[\"totalWeight\"] = wei\n",
    "      \n",
    "      if  'H125' in sample:\n",
    "        df[\"SIG\"]=np.ones(df.shape[0])\n",
    "      else:\n",
    "        df[\"SIG\"]=np.zeros(df.shape[0])\n",
    "    print(\"dataframe after preselection \" ,df.shape)\n",
    "    return df, numevscal"
   ]
  },
  {
   "cell_type": "markdown",
   "metadata": {
    "id": "mwFgiBZ35ZtY"
   },
   "source": [
    "# Run the reading of files"
   ]
  },
  {
   "cell_type": "code",
   "execution_count": 13,
   "metadata": {
    "colab": {
     "base_uri": "https://localhost:8080/"
    },
    "id": "AZerdO-d5ZtY",
    "outputId": "b60b1980-25a5-424f-9ba2-bbfd4ab169ab",
    "scrolled": false
   },
   "outputs": [
    {
     "name": "stdout",
     "output_type": "stream",
     "text": [
      "Processing background samples\n",
      "sample xs weight 0.02473775926465947 totev  84332.08505687251\n",
      "num 3409043 10000\n",
      " events with MC weight:  24507.76918829738\n",
      "dataframe after preselection  (10000, 30)\n",
      "Processing signal samples\n",
      "sample xs weight 2.652880224948454e-05 totev  16.67826004221719\n",
      "num 628685 10000\n",
      " events with MC weight:  422.1956684700628\n",
      "dataframe after preselection  (10000, 30)\n",
      "dict_keys(['background', 'signal'])\n",
      "{'background': 24507.76918829738, 'signal': 422.1956684700628}\n",
      "Time taken: 36.8s\n"
     ]
    }
   ],
   "source": [
    "start = time.time() # time at start of whole processing\n",
    "df, statMC = get_data_from_files() #process all files\n",
    "print(df.keys())\n",
    "print(statMC)\n",
    "elapsed = time.time() - start # time after whole processing\n",
    "print(\"Time taken: \"+str(round(elapsed,1))+\"s\") # print total time taken to process every file"
   ]
  },
  {
   "cell_type": "markdown",
   "metadata": {},
   "source": [
    "## Apply preselections or add secondary variables if desired to separate datafranes"
   ]
  },
  {
   "cell_type": "markdown",
   "metadata": {},
   "source": [
    "Define routine which loops over all the samples in the dictionary of dataframes and applies\n",
    "selections on them. <br />\n",
    "It would be simpler to apply the cuts when reading the files, but in this way you can play with \n",
    "the selections without the need of reloading the files every time<br />\n",
    "One can also create dataframes with different selection levels and compare them"
   ]
  },
  {
   "cell_type": "code",
   "execution_count": 14,
   "metadata": {},
   "outputs": [],
   "source": [
    "def add_columns(df):\n",
    "\n",
    "  data = {} # define empty dictionary to hold dataframes\n",
    "  for s in samples: # loop over samples\n",
    "    print('Add columns '+s+' samples') # print which sample\n",
    "    print('before', df[s].shape) \n",
    "    adddf=df[s] \n",
    "#   put here def of new variable\n",
    "    data[s]=adddf\n",
    "\n",
    "  return data # return dictionary of dataframes\n",
    "\n",
    "def apply_selections(df):\n",
    "\n",
    "  data = {} # define empty dictionary to hold dataframes\n",
    "  for s in samples: # loop over samples\n",
    "    print('Apply selections on '+s+' samples') # print which sample\n",
    "    print('before', df[s].shape) \n",
    "    seldf=df[s]\n",
    "    seldf=seldf.query(\"ptl1>20000\")\n",
    "    print('after',seldf.shape)\n",
    "    data[s]=seldf\n",
    "#    data[s] = pd.concat(frames) # dictionary entry is concatenated dataframes\n",
    "\n",
    "  return data # return dictionary of dataframes"
   ]
  },
  {
   "cell_type": "code",
   "execution_count": 15,
   "metadata": {},
   "outputs": [],
   "source": [
    "# Calculate events for available samples in dataframe dictionary normalised\n",
    "# to available statistics\n",
    "def calc_events(df):\n",
    "  stat = {} # define empty dictionary to hold stat\n",
    "  for s in samples: # loop over samples\n",
    "    if s not in ['data']: \n",
    "      print('Calculate events on '+s+' samples') # print which sample\n",
    "      stat[s]=(df[s]['totalWeight']).sum()\n",
    "    if s in ['data']:\n",
    "      stat[s]=df[s].shape[0]\n",
    "  return stat # return dictionary of statistics"
   ]
  },
  {
   "cell_type": "markdown",
   "metadata": {},
   "source": [
    "## Look at statistics before preselection"
   ]
  },
  {
   "cell_type": "code",
   "execution_count": 16,
   "metadata": {},
   "outputs": [
    {
     "name": "stdout",
     "output_type": "stream",
     "text": [
      "Calculate events on background samples\n",
      "Calculate events on signal samples\n",
      "422.19566847006445 24507.769188297352\n"
     ]
    }
   ],
   "source": [
    "finstat=calc_events(df)\n",
    "nsig=finstat['signal']\n",
    "nbg=finstat['background']\n",
    "print(nsig,nbg)"
   ]
  },
  {
   "cell_type": "markdown",
   "metadata": {},
   "source": [
    "## Apply preselections and check  numbers of events normalised to statistics"
   ]
  },
  {
   "cell_type": "code",
   "execution_count": 17,
   "metadata": {},
   "outputs": [
    {
     "name": "stdout",
     "output_type": "stream",
     "text": [
      "Apply selections on background samples\n",
      "before (10000, 30)\n",
      "after (10000, 30)\n",
      "Apply selections on signal samples\n",
      "before (10000, 30)\n",
      "after (10000, 30)\n"
     ]
    }
   ],
   "source": [
    "dfs=apply_selections(df)"
   ]
  },
  {
   "cell_type": "code",
   "execution_count": 18,
   "metadata": {},
   "outputs": [
    {
     "name": "stdout",
     "output_type": "stream",
     "text": [
      "Calculate events on background samples\n",
      "Calculate events on signal samples\n",
      "422.19566847006445 24507.769188297352\n"
     ]
    }
   ],
   "source": [
    "finstat1=calc_events(dfs)\n",
    "nsig1=finstat1['signal']\n",
    "nbg1=finstat1['background']\n",
    "print(nsig1,nbg1)\n"
   ]
  },
  {
   "cell_type": "markdown",
   "metadata": {},
   "source": [
    "# Prepare data for ML analysis\n",
    "\n",
    "## Fist step: build dataframes on which the analysis will be performed.<br />\n",
    "\n",
    "* Concatenate signal and background files\n",
    "* Randomize the distribution such that signal and background are randomly mixed\n",
    "* To allow visualisation remove events with very high values of the unbounded variables\n",
    "* Split out of the samples the events with row numbering above a given number to be used as a validation sample in the following"
   ]
  },
  {
   "cell_type": "code",
   "execution_count": 19,
   "metadata": {},
   "outputs": [
    {
     "name": "stdout",
     "output_type": "stream",
     "text": [
      "background 10000\n",
      "signal 10000\n"
     ]
    }
   ],
   "source": [
    "# choose the features for training\n",
    "tfea = ['SIG','ptl1','ptl2','dphil1m','dphil2m','etal1','etal2','met_et','mll','mt','ptll','dphill','dphillm'] # list of features for discriminant analysis\n",
    "# concatenate all samples\n",
    "df_all=pd.concat(df[key][tfea] for key in df)\n",
    "for key in df:\n",
    "   print(key,df[key].shape[0])\n",
    "df_all.columns=tfea\n",
    "#print(df_all.keys)\n",
    "# randomize it\n",
    "#df_all=df_all.sample(frac=1)\n",
    "# kludge, put reasonable upper limit on unbounded variables to allow automatic plotting\n",
    "# in a reasobnable range\n",
    "#df_all=df_all.query(\"ptl1<500000 & ptl2<250000 & met_et<500000 & mll<500000 & mt<1000000 & ptll<500000\")"
   ]
  },
  {
   "cell_type": "markdown",
   "metadata": {},
   "source": [
    "## Definition of training and test samples\n",
    "\n",
    "As usual use train_test_split from sklearn library"
   ]
  },
  {
   "cell_type": "code",
   "execution_count": 20,
   "metadata": {},
   "outputs": [
    {
     "name": "stdout",
     "output_type": "stream",
     "text": [
      "Index(['ptl1', 'ptl2', 'dphil1m', 'dphil2m', 'etal1', 'etal2', 'met_et', 'mll',\n",
      "       'mt', 'ptll', 'dphill', 'dphillm'],\n",
      "      dtype='object')\n",
      "(20000, 12)\n"
     ]
    }
   ],
   "source": [
    "from sklearn.model_selection import train_test_split\n",
    "#Define vectors for input to ML\n",
    "# Use 'SIG' column as definition of target\n",
    "y = df_all['SIG']\n",
    "\n",
    "X = df_all[[col for col in df_all.columns if col!=\"SIG\"]]\n",
    "col_fin=X.columns\n",
    "print(col_fin)\n",
    "print(X.shape)\n",
    "X_traina, X_testu, y_traina, y_test = train_test_split(X, y,\n",
    "                                   test_size=.25, random_state=0)\n",
    "# now further split train sample in actual train and validation\n",
    "X_trainu, X_valu, y_train, y_val = train_test_split(X_traina, y_traina,\n",
    "                                   test_size=.10, random_state=0)\n",
    "\n",
    "\n"
   ]
  },
  {
   "cell_type": "markdown",
   "metadata": {},
   "source": [
    "## Scaling of samples so that all of the variables  are in the same range\n",
    "\n",
    "Needed to make life easier for ML<br />\n",
    "Use StandardScaler method from sklearn library"
   ]
  },
  {
   "cell_type": "code",
   "execution_count": 21,
   "metadata": {},
   "outputs": [
    {
     "name": "stdout",
     "output_type": "stream",
     "text": [
      "Index(['ptl1', 'ptl2', 'dphil1m', 'dphil2m', 'etal1', 'etal2', 'met_et', 'mll',\n",
      "       'mt', 'ptll', 'dphill', 'dphillm'],\n",
      "      dtype='object')\n",
      "train  (13500, 12)\n",
      "ytrain nbg (6724, 1) ytrain nsig (6776, 1)\n",
      "test (5000, 12)\n",
      "val (1500, 12)\n"
     ]
    }
   ],
   "source": [
    "from sklearn.preprocessing import StandardScaler\n",
    "scaler = StandardScaler() # initialise StandardScaler\n",
    "print(X_trainu.columns)\n",
    "# Fit only to the training data\n",
    "scaler.fit(X_trainu)\n",
    "\n",
    "# Now apply the transformations to the data:\n",
    "X_train = scaler.transform(X_trainu)\n",
    "X_test = scaler.transform(X_testu)\n",
    "X_test=pd.DataFrame(X_test)\n",
    "X_val=scaler.transform(X_valu)\n",
    "print('train ', X_train.shape)\n",
    "dfy=pd.DataFrame(y_train)\n",
    "print('ytrain nbg',dfy.query(\"SIG==0\").shape,'ytrain nsig',dfy.query(\"SIG==1\").shape)\n",
    "print('test', X_test.shape)\n",
    "print('val', X_val.shape)"
   ]
  },
  {
   "cell_type": "markdown",
   "metadata": {},
   "source": [
    "# Logistic regression\n",
    "\n",
    "Implement in Keras and run"
   ]
  },
  {
   "cell_type": "code",
   "execution_count": 22,
   "metadata": {},
   "outputs": [
    {
     "name": "stderr",
     "output_type": "stream",
     "text": [
      "2023-05-16 16:50:24.268562: I tensorflow/tsl/cuda/cudart_stub.cc:28] Could not find cuda drivers on your machine, GPU will not be used.\n",
      "2023-05-16 16:50:24.311798: I tensorflow/tsl/cuda/cudart_stub.cc:28] Could not find cuda drivers on your machine, GPU will not be used.\n",
      "2023-05-16 16:50:24.312039: I tensorflow/core/platform/cpu_feature_guard.cc:182] This TensorFlow binary is optimized to use available CPU instructions in performance-critical operations.\n",
      "To enable the following instructions: AVX2 FMA, in other operations, rebuild TensorFlow with the appropriate compiler flags.\n",
      "2023-05-16 16:50:25.077634: W tensorflow/compiler/tf2tensorrt/utils/py_utils.cc:38] TF-TRT Warning: Could not find TensorRT\n"
     ]
    },
    {
     "name": "stdout",
     "output_type": "stream",
     "text": [
      "2.12.0\n",
      "Model: \"sequential\"\n",
      "_________________________________________________________________\n",
      " Layer (type)                Output Shape              Param #   \n",
      "=================================================================\n",
      " dense (Dense)               (None, 1)                 13        \n",
      "                                                                 \n",
      "=================================================================\n",
      "Total params: 13\n",
      "Trainable params: 13\n",
      "Non-trainable params: 0\n",
      "_________________________________________________________________\n",
      "Epoch 1/100\n",
      "135/135 [==============================] - 0s 2ms/step - loss: 0.8533 - accuracy: 0.5139 - val_loss: 0.6901 - val_accuracy: 0.6020\n",
      "Epoch 2/100\n",
      "135/135 [==============================] - 0s 1ms/step - loss: 0.5905 - accuracy: 0.6803 - val_loss: 0.5718 - val_accuracy: 0.7087\n",
      "Epoch 3/100\n",
      "135/135 [==============================] - 0s 1ms/step - loss: 0.5158 - accuracy: 0.7485 - val_loss: 0.5243 - val_accuracy: 0.7507\n",
      "Epoch 4/100\n",
      "135/135 [==============================] - 0s 1ms/step - loss: 0.4806 - accuracy: 0.7735 - val_loss: 0.4982 - val_accuracy: 0.7700\n",
      "Epoch 5/100\n",
      "135/135 [==============================] - 0s 1ms/step - loss: 0.4596 - accuracy: 0.7888 - val_loss: 0.4813 - val_accuracy: 0.7860\n",
      "Epoch 6/100\n",
      "135/135 [==============================] - 0s 1ms/step - loss: 0.4456 - accuracy: 0.7981 - val_loss: 0.4694 - val_accuracy: 0.7913\n",
      "Epoch 7/100\n",
      "135/135 [==============================] - 0s 1ms/step - loss: 0.4356 - accuracy: 0.8057 - val_loss: 0.4605 - val_accuracy: 0.7973\n",
      "Epoch 8/100\n",
      "135/135 [==============================] - 0s 1ms/step - loss: 0.4279 - accuracy: 0.8103 - val_loss: 0.4534 - val_accuracy: 0.8073\n",
      "Epoch 9/100\n",
      "135/135 [==============================] - 0s 1ms/step - loss: 0.4219 - accuracy: 0.8130 - val_loss: 0.4477 - val_accuracy: 0.8107\n",
      "Epoch 10/100\n",
      "135/135 [==============================] - 0s 1ms/step - loss: 0.4171 - accuracy: 0.8159 - val_loss: 0.4429 - val_accuracy: 0.8133\n",
      "Epoch 11/100\n",
      "135/135 [==============================] - 0s 1ms/step - loss: 0.4130 - accuracy: 0.8181 - val_loss: 0.4389 - val_accuracy: 0.8133\n",
      "Epoch 12/100\n",
      "135/135 [==============================] - 0s 1ms/step - loss: 0.4096 - accuracy: 0.8198 - val_loss: 0.4354 - val_accuracy: 0.8160\n",
      "Epoch 13/100\n",
      "135/135 [==============================] - 0s 1ms/step - loss: 0.4067 - accuracy: 0.8223 - val_loss: 0.4324 - val_accuracy: 0.8167\n",
      "Epoch 14/100\n",
      "135/135 [==============================] - 0s 1ms/step - loss: 0.4042 - accuracy: 0.8231 - val_loss: 0.4297 - val_accuracy: 0.8187\n",
      "Epoch 15/100\n",
      "135/135 [==============================] - 0s 1ms/step - loss: 0.4019 - accuracy: 0.8241 - val_loss: 0.4273 - val_accuracy: 0.8193\n",
      "Epoch 16/100\n",
      "135/135 [==============================] - 0s 1ms/step - loss: 0.3999 - accuracy: 0.8250 - val_loss: 0.4252 - val_accuracy: 0.8173\n",
      "Epoch 17/100\n",
      "135/135 [==============================] - 0s 1ms/step - loss: 0.3981 - accuracy: 0.8262 - val_loss: 0.4233 - val_accuracy: 0.8187\n",
      "Epoch 18/100\n",
      "135/135 [==============================] - 0s 1ms/step - loss: 0.3965 - accuracy: 0.8268 - val_loss: 0.4215 - val_accuracy: 0.8187\n",
      "Epoch 19/100\n",
      "135/135 [==============================] - 0s 1ms/step - loss: 0.3951 - accuracy: 0.8276 - val_loss: 0.4199 - val_accuracy: 0.8193\n",
      "Epoch 20/100\n",
      "135/135 [==============================] - 0s 1ms/step - loss: 0.3937 - accuracy: 0.8283 - val_loss: 0.4185 - val_accuracy: 0.8200\n",
      "Epoch 21/100\n",
      "135/135 [==============================] - 0s 1ms/step - loss: 0.3925 - accuracy: 0.8294 - val_loss: 0.4171 - val_accuracy: 0.8200\n",
      "Epoch 22/100\n",
      "135/135 [==============================] - 0s 1ms/step - loss: 0.3913 - accuracy: 0.8296 - val_loss: 0.4158 - val_accuracy: 0.8180\n",
      "Epoch 23/100\n",
      "135/135 [==============================] - 0s 1ms/step - loss: 0.3902 - accuracy: 0.8294 - val_loss: 0.4147 - val_accuracy: 0.8213\n",
      "Epoch 24/100\n",
      "135/135 [==============================] - 0s 1ms/step - loss: 0.3893 - accuracy: 0.8303 - val_loss: 0.4136 - val_accuracy: 0.8207\n",
      "Epoch 25/100\n",
      "135/135 [==============================] - 0s 1ms/step - loss: 0.3883 - accuracy: 0.8310 - val_loss: 0.4126 - val_accuracy: 0.8213\n",
      "Epoch 26/100\n",
      "135/135 [==============================] - 0s 1ms/step - loss: 0.3874 - accuracy: 0.8313 - val_loss: 0.4116 - val_accuracy: 0.8213\n",
      "Epoch 27/100\n",
      "135/135 [==============================] - 0s 1ms/step - loss: 0.3866 - accuracy: 0.8316 - val_loss: 0.4107 - val_accuracy: 0.8213\n",
      "Epoch 28/100\n",
      "135/135 [==============================] - 0s 1ms/step - loss: 0.3858 - accuracy: 0.8319 - val_loss: 0.4098 - val_accuracy: 0.8233\n",
      "Epoch 29/100\n",
      "135/135 [==============================] - 0s 1ms/step - loss: 0.3851 - accuracy: 0.8324 - val_loss: 0.4090 - val_accuracy: 0.8227\n",
      "Epoch 30/100\n",
      "135/135 [==============================] - 0s 1ms/step - loss: 0.3844 - accuracy: 0.8329 - val_loss: 0.4083 - val_accuracy: 0.8233\n",
      "Epoch 31/100\n",
      "135/135 [==============================] - 0s 1ms/step - loss: 0.3837 - accuracy: 0.8336 - val_loss: 0.4076 - val_accuracy: 0.8240\n",
      "Epoch 32/100\n",
      "135/135 [==============================] - 0s 1ms/step - loss: 0.3831 - accuracy: 0.8338 - val_loss: 0.4069 - val_accuracy: 0.8240\n",
      "Epoch 33/100\n",
      "135/135 [==============================] - 0s 1ms/step - loss: 0.3825 - accuracy: 0.8340 - val_loss: 0.4062 - val_accuracy: 0.8240\n",
      "Epoch 34/100\n",
      "135/135 [==============================] - 0s 1ms/step - loss: 0.3819 - accuracy: 0.8340 - val_loss: 0.4056 - val_accuracy: 0.8240\n",
      "Epoch 35/100\n",
      "135/135 [==============================] - 0s 1ms/step - loss: 0.3813 - accuracy: 0.8340 - val_loss: 0.4050 - val_accuracy: 0.8233\n",
      "Epoch 36/100\n",
      "135/135 [==============================] - 0s 1ms/step - loss: 0.3808 - accuracy: 0.8342 - val_loss: 0.4045 - val_accuracy: 0.8240\n",
      "Epoch 37/100\n",
      "135/135 [==============================] - 0s 1ms/step - loss: 0.3803 - accuracy: 0.8343 - val_loss: 0.4039 - val_accuracy: 0.8240\n",
      "Epoch 38/100\n",
      "135/135 [==============================] - 0s 1ms/step - loss: 0.3798 - accuracy: 0.8346 - val_loss: 0.4034 - val_accuracy: 0.8233\n",
      "Epoch 39/100\n",
      "135/135 [==============================] - 0s 1ms/step - loss: 0.3793 - accuracy: 0.8347 - val_loss: 0.4029 - val_accuracy: 0.8240\n",
      "Epoch 40/100\n",
      "135/135 [==============================] - 0s 1ms/step - loss: 0.3788 - accuracy: 0.8349 - val_loss: 0.4024 - val_accuracy: 0.8240\n",
      "Epoch 41/100\n",
      "135/135 [==============================] - 0s 1ms/step - loss: 0.3784 - accuracy: 0.8350 - val_loss: 0.4020 - val_accuracy: 0.8260\n",
      "Epoch 42/100\n",
      "135/135 [==============================] - 0s 1ms/step - loss: 0.3780 - accuracy: 0.8356 - val_loss: 0.4016 - val_accuracy: 0.8267\n",
      "Epoch 43/100\n",
      "135/135 [==============================] - 0s 1ms/step - loss: 0.3775 - accuracy: 0.8356 - val_loss: 0.4012 - val_accuracy: 0.8280\n",
      "Epoch 44/100\n",
      "135/135 [==============================] - 0s 1ms/step - loss: 0.3771 - accuracy: 0.8356 - val_loss: 0.4008 - val_accuracy: 0.8280\n",
      "Epoch 45/100\n",
      "135/135 [==============================] - 0s 1ms/step - loss: 0.3768 - accuracy: 0.8361 - val_loss: 0.4004 - val_accuracy: 0.8280\n",
      "Epoch 46/100\n",
      "135/135 [==============================] - 0s 1ms/step - loss: 0.3764 - accuracy: 0.8359 - val_loss: 0.4000 - val_accuracy: 0.8280\n",
      "Epoch 47/100\n",
      "135/135 [==============================] - 0s 1ms/step - loss: 0.3760 - accuracy: 0.8356 - val_loss: 0.3996 - val_accuracy: 0.8267\n",
      "Epoch 48/100\n",
      "135/135 [==============================] - 0s 1ms/step - loss: 0.3757 - accuracy: 0.8359 - val_loss: 0.3993 - val_accuracy: 0.8267\n",
      "Epoch 49/100\n",
      "135/135 [==============================] - 0s 1ms/step - loss: 0.3753 - accuracy: 0.8361 - val_loss: 0.3990 - val_accuracy: 0.8273\n",
      "Epoch 50/100\n",
      "135/135 [==============================] - 0s 1ms/step - loss: 0.3750 - accuracy: 0.8364 - val_loss: 0.3987 - val_accuracy: 0.8273\n",
      "Epoch 51/100\n",
      "135/135 [==============================] - 0s 1ms/step - loss: 0.3747 - accuracy: 0.8364 - val_loss: 0.3983 - val_accuracy: 0.8273\n",
      "Epoch 52/100\n",
      "135/135 [==============================] - 0s 1ms/step - loss: 0.3744 - accuracy: 0.8365 - val_loss: 0.3981 - val_accuracy: 0.8280\n",
      "Epoch 53/100\n",
      "135/135 [==============================] - 0s 1ms/step - loss: 0.3741 - accuracy: 0.8367 - val_loss: 0.3978 - val_accuracy: 0.8287\n",
      "Epoch 54/100\n"
     ]
    },
    {
     "name": "stdout",
     "output_type": "stream",
     "text": [
      "135/135 [==============================] - 0s 1ms/step - loss: 0.3738 - accuracy: 0.8367 - val_loss: 0.3975 - val_accuracy: 0.8287\n",
      "Epoch 55/100\n",
      "135/135 [==============================] - 0s 1ms/step - loss: 0.3735 - accuracy: 0.8370 - val_loss: 0.3972 - val_accuracy: 0.8293\n",
      "Epoch 56/100\n",
      "135/135 [==============================] - 0s 1ms/step - loss: 0.3732 - accuracy: 0.8376 - val_loss: 0.3970 - val_accuracy: 0.8293\n",
      "Epoch 57/100\n",
      "135/135 [==============================] - 0s 1ms/step - loss: 0.3730 - accuracy: 0.8379 - val_loss: 0.3967 - val_accuracy: 0.8293\n",
      "Epoch 58/100\n",
      "135/135 [==============================] - 0s 1ms/step - loss: 0.3727 - accuracy: 0.8377 - val_loss: 0.3965 - val_accuracy: 0.8280\n",
      "Epoch 59/100\n",
      "135/135 [==============================] - 0s 1ms/step - loss: 0.3724 - accuracy: 0.8379 - val_loss: 0.3963 - val_accuracy: 0.8280\n",
      "Epoch 60/100\n",
      "135/135 [==============================] - 0s 1ms/step - loss: 0.3722 - accuracy: 0.8383 - val_loss: 0.3960 - val_accuracy: 0.8280\n",
      "Epoch 61/100\n",
      "135/135 [==============================] - 0s 1ms/step - loss: 0.3720 - accuracy: 0.8381 - val_loss: 0.3958 - val_accuracy: 0.8280\n",
      "Epoch 62/100\n",
      "135/135 [==============================] - 0s 1ms/step - loss: 0.3717 - accuracy: 0.8384 - val_loss: 0.3956 - val_accuracy: 0.8280\n",
      "Epoch 63/100\n",
      "135/135 [==============================] - 0s 1ms/step - loss: 0.3715 - accuracy: 0.8385 - val_loss: 0.3954 - val_accuracy: 0.8280\n",
      "Epoch 64/100\n",
      "135/135 [==============================] - 0s 1ms/step - loss: 0.3713 - accuracy: 0.8381 - val_loss: 0.3952 - val_accuracy: 0.8267\n",
      "Epoch 65/100\n",
      "135/135 [==============================] - 0s 1ms/step - loss: 0.3711 - accuracy: 0.8384 - val_loss: 0.3950 - val_accuracy: 0.8260\n",
      "Epoch 66/100\n",
      "135/135 [==============================] - 0s 1ms/step - loss: 0.3708 - accuracy: 0.8384 - val_loss: 0.3948 - val_accuracy: 0.8267\n",
      "Epoch 67/100\n",
      "135/135 [==============================] - 0s 1ms/step - loss: 0.3706 - accuracy: 0.8390 - val_loss: 0.3947 - val_accuracy: 0.8273\n",
      "Epoch 68/100\n",
      "135/135 [==============================] - 0s 1ms/step - loss: 0.3704 - accuracy: 0.8386 - val_loss: 0.3945 - val_accuracy: 0.8273\n",
      "Epoch 69/100\n",
      "135/135 [==============================] - 0s 1ms/step - loss: 0.3703 - accuracy: 0.8390 - val_loss: 0.3943 - val_accuracy: 0.8273\n",
      "Epoch 70/100\n",
      "135/135 [==============================] - 0s 1ms/step - loss: 0.3701 - accuracy: 0.8390 - val_loss: 0.3942 - val_accuracy: 0.8273\n",
      "Epoch 71/100\n",
      "135/135 [==============================] - 0s 1ms/step - loss: 0.3699 - accuracy: 0.8390 - val_loss: 0.3940 - val_accuracy: 0.8267\n",
      "Epoch 72/100\n",
      "135/135 [==============================] - 0s 1ms/step - loss: 0.3697 - accuracy: 0.8395 - val_loss: 0.3939 - val_accuracy: 0.8273\n",
      "Epoch 73/100\n",
      "135/135 [==============================] - 0s 1ms/step - loss: 0.3695 - accuracy: 0.8395 - val_loss: 0.3937 - val_accuracy: 0.8273\n",
      "Epoch 74/100\n",
      "135/135 [==============================] - 0s 1ms/step - loss: 0.3694 - accuracy: 0.8398 - val_loss: 0.3936 - val_accuracy: 0.8280\n",
      "Epoch 75/100\n",
      "135/135 [==============================] - 0s 1ms/step - loss: 0.3692 - accuracy: 0.8397 - val_loss: 0.3934 - val_accuracy: 0.8287\n",
      "Epoch 76/100\n",
      "135/135 [==============================] - 0s 1ms/step - loss: 0.3690 - accuracy: 0.8396 - val_loss: 0.3933 - val_accuracy: 0.8287\n",
      "Epoch 77/100\n",
      "135/135 [==============================] - 0s 1ms/step - loss: 0.3689 - accuracy: 0.8399 - val_loss: 0.3932 - val_accuracy: 0.8287\n",
      "Epoch 78/100\n",
      "135/135 [==============================] - 0s 1ms/step - loss: 0.3687 - accuracy: 0.8398 - val_loss: 0.3931 - val_accuracy: 0.8293\n",
      "Epoch 79/100\n",
      "135/135 [==============================] - 0s 1ms/step - loss: 0.3686 - accuracy: 0.8396 - val_loss: 0.3929 - val_accuracy: 0.8300\n",
      "Epoch 80/100\n",
      "135/135 [==============================] - 0s 1ms/step - loss: 0.3684 - accuracy: 0.8401 - val_loss: 0.3928 - val_accuracy: 0.8300\n",
      "Epoch 81/100\n",
      "135/135 [==============================] - 0s 1ms/step - loss: 0.3683 - accuracy: 0.8399 - val_loss: 0.3927 - val_accuracy: 0.8300\n",
      "Epoch 82/100\n",
      "135/135 [==============================] - 0s 1ms/step - loss: 0.3681 - accuracy: 0.8404 - val_loss: 0.3926 - val_accuracy: 0.8300\n",
      "Epoch 83/100\n",
      "135/135 [==============================] - 0s 1ms/step - loss: 0.3680 - accuracy: 0.8401 - val_loss: 0.3925 - val_accuracy: 0.8300\n",
      "Epoch 84/100\n",
      "135/135 [==============================] - 0s 1ms/step - loss: 0.3678 - accuracy: 0.8403 - val_loss: 0.3924 - val_accuracy: 0.8300\n",
      "Epoch 85/100\n",
      "135/135 [==============================] - 0s 1ms/step - loss: 0.3677 - accuracy: 0.8406 - val_loss: 0.3923 - val_accuracy: 0.8307\n",
      "Epoch 86/100\n",
      "135/135 [==============================] - 0s 1ms/step - loss: 0.3676 - accuracy: 0.8405 - val_loss: 0.3922 - val_accuracy: 0.8307\n",
      "Epoch 87/100\n",
      "135/135 [==============================] - 0s 1ms/step - loss: 0.3675 - accuracy: 0.8404 - val_loss: 0.3921 - val_accuracy: 0.8307\n",
      "Epoch 88/100\n",
      "135/135 [==============================] - 0s 1ms/step - loss: 0.3673 - accuracy: 0.8408 - val_loss: 0.3920 - val_accuracy: 0.8307\n",
      "Epoch 89/100\n",
      "135/135 [==============================] - 0s 1ms/step - loss: 0.3672 - accuracy: 0.8408 - val_loss: 0.3919 - val_accuracy: 0.8307\n",
      "Epoch 90/100\n",
      "135/135 [==============================] - 0s 1ms/step - loss: 0.3671 - accuracy: 0.8409 - val_loss: 0.3918 - val_accuracy: 0.8307\n",
      "Epoch 91/100\n",
      "135/135 [==============================] - 0s 1ms/step - loss: 0.3670 - accuracy: 0.8407 - val_loss: 0.3917 - val_accuracy: 0.8307\n",
      "Epoch 92/100\n",
      "135/135 [==============================] - 0s 1ms/step - loss: 0.3669 - accuracy: 0.8407 - val_loss: 0.3916 - val_accuracy: 0.8307\n",
      "Epoch 93/100\n",
      "135/135 [==============================] - 0s 1ms/step - loss: 0.3668 - accuracy: 0.8411 - val_loss: 0.3915 - val_accuracy: 0.8307\n",
      "Epoch 94/100\n",
      "135/135 [==============================] - 0s 1ms/step - loss: 0.3667 - accuracy: 0.8407 - val_loss: 0.3915 - val_accuracy: 0.8307\n",
      "Epoch 95/100\n",
      "135/135 [==============================] - 0s 1ms/step - loss: 0.3666 - accuracy: 0.8413 - val_loss: 0.3914 - val_accuracy: 0.8307\n",
      "Epoch 96/100\n",
      "135/135 [==============================] - 0s 1ms/step - loss: 0.3664 - accuracy: 0.8413 - val_loss: 0.3913 - val_accuracy: 0.8307\n",
      "Epoch 97/100\n",
      "135/135 [==============================] - 0s 2ms/step - loss: 0.3663 - accuracy: 0.8412 - val_loss: 0.3912 - val_accuracy: 0.8307\n",
      "Epoch 98/100\n",
      "135/135 [==============================] - 0s 1ms/step - loss: 0.3663 - accuracy: 0.8410 - val_loss: 0.3911 - val_accuracy: 0.8307\n",
      "Epoch 99/100\n",
      "135/135 [==============================] - 0s 1ms/step - loss: 0.3661 - accuracy: 0.8411 - val_loss: 0.3911 - val_accuracy: 0.8307\n",
      "Epoch 100/100\n",
      "135/135 [==============================] - 0s 1ms/step - loss: 0.3661 - accuracy: 0.8413 - val_loss: 0.3910 - val_accuracy: 0.8307\n"
     ]
    }
   ],
   "source": [
    "import tensorflow\n",
    "print(tensorflow.__version__)\n",
    "from tensorflow import keras\n",
    "#from keras.utils import plot_model\n",
    "from tensorflow.keras.layers import Dense\n",
    "from sklearn.model_selection import train_test_split\n",
    "import warnings\n",
    "\n",
    "varnum=X_train.shape[1]\n",
    "model = keras.Sequential()\n",
    "model.add(keras.layers.Dense(1, input_dim=varnum, activation='sigmoid'))\n",
    "model.summary()\n",
    "\n",
    "model.compile(optimizer='SGD',\n",
    "              loss='binary_crossentropy',\n",
    "              metrics=['accuracy'])\n",
    "history=model.fit(X_train, y_train, \n",
    "                  validation_data=(X_val,y_val), \n",
    "                  batch_size=100, epochs=100)"
   ]
  },
  {
   "cell_type": "markdown",
   "metadata": {},
   "source": [
    "## Run prediction"
   ]
  },
  {
   "cell_type": "code",
   "execution_count": 23,
   "metadata": {},
   "outputs": [
    {
     "name": "stdout",
     "output_type": "stream",
     "text": [
      "157/157 [==============================] - 0s 973us/step\n"
     ]
    }
   ],
   "source": [
    "Ypredr=model.predict(X_test)"
   ]
  },
  {
   "cell_type": "markdown",
   "metadata": {},
   "source": [
    "## Create dataframe with labels and probabilities "
   ]
  },
  {
   "cell_type": "code",
   "execution_count": 24,
   "metadata": {},
   "outputs": [
    {
     "name": "stdout",
     "output_type": "stream",
     "text": [
      "\n"
     ]
    }
   ],
   "source": [
    "df_test_acc_r=X_testu.copy()\n",
    "print()\n",
    "df_test_acc_r['SIG']=y_test\n",
    "df_test_acc_r['PROB']=Ypredr"
   ]
  },
  {
   "cell_type": "markdown",
   "metadata": {},
   "source": [
    "# Look at the classification performance"
   ]
  },
  {
   "cell_type": "markdown",
   "metadata": {},
   "source": [
    "## Plot history of losses along epochs for Keras"
   ]
  },
  {
   "cell_type": "code",
   "execution_count": 25,
   "metadata": {},
   "outputs": [
    {
     "data": {
      "image/png": "[encoded data removed]",
      "text/plain": [
       "<Figure size 432x288 with 1 Axes>"
      ]
     },
     "metadata": {
      "needs_background": "light"
     },
     "output_type": "display_data"
    }
   ],
   "source": [
    "plt.plot(history.history['loss'])\n",
    "plt.plot(history.history['val_loss'])\n",
    "plt.title('regression')\n",
    "plt.ylabel('loss')\n",
    "plt.xlabel('epoch')\n",
    "plt.legend(['train', 'test'], loc='upper right')\n",
    "plt.show()"
   ]
  },
  {
   "cell_type": "markdown",
   "metadata": {},
   "source": [
    "## Plot distribution of output probabilities  for signal and backround\n",
    "\n",
    "The output of the classification is for each event a number between 0 and 1 representing the probability that that event is a signal event. Since for each event we know whether it was a signal (SIG=1) or a background (SIG=0), we can plot the output probability of the network for each of the two classes.\n"
   ]
  },
  {
   "cell_type": "code",
   "execution_count": 26,
   "metadata": {},
   "outputs": [
    {
     "name": "stdout",
     "output_type": "stream",
     "text": [
      "nsig  2523\n",
      "nbkg  2477\n"
     ]
    },
    {
     "data": {
      "image/png": "[encoded data removed]",
      "text/plain": [
       "<Figure size 432x288 with 1 Axes>"
      ]
     },
     "metadata": {
      "needs_background": "light"
     },
     "output_type": "display_data"
    }
   ],
   "source": [
    "# split according to the label\n",
    "df_test_acc_r_bkg = df_test_acc_r.query('SIG==0')\n",
    "df_test_acc_r_sig = df_test_acc_r.query('SIG==1')\n",
    "print('nsig ',df_test_acc_r_sig.shape[0])\n",
    "print('nbkg ',df_test_acc_r_bkg.shape[0])\n",
    "bins = np.linspace(0, 1,50)\n",
    "plt.hist(df_test_acc_r_bkg.PROB, bins, alpha=0.5, density=True, label='Background')\n",
    "plt.hist(df_test_acc_r_sig.PROB, bins, alpha=0.5, density=True, label='Signal')\n",
    "plt.legend(loc='best')\n",
    "plt.show()"
   ]
  },
  {
   "cell_type": "markdown",
   "metadata": {},
   "source": [
    "## Plot ROC curve and calculate AUC\n",
    "In order to perform our the final selection we put a lower limit on the value of the probability and we count the fraction of events above this limit for both signal and backround, i.e for each value of PROB we have two values: The 'true positive rate (TPR)' (efficiency of signal selection in HEP language), and 'false positive rate (FPR)' (efficency for selecting background). If we TPR versus FPR the other as a function of PROB we obtain a curve called the Receive Operating Characteristic (ROC) curve https://en.wikipedia.org/wiki/Receiver_operating_characteristic. Methods for building the ROC curve are availabel in sklearn.metrics. An ideal ROC curve would be along upper x and left y axes of the plot, corresponding to the case where all of the signal events have PROB=1 and all background events have PROB=0. The worst case is a curve where TPR=FPR, i.e. the discrimination power is the same as extracting a random number for PROB."
   ]
  },
  {
   "cell_type": "code",
   "execution_count": 27,
   "metadata": {},
   "outputs": [
    {
     "name": "stdout",
     "output_type": "stream",
     "text": [
      "Regression auc  0.8988352774178806\n"
     ]
    },
    {
     "data": {
      "text/plain": [
       "<function matplotlib.pyplot.show(close=None, block=None)>"
      ]
     },
     "execution_count": 27,
     "metadata": {},
     "output_type": "execute_result"
    },
    {
     "data": {
      "image/png": "[encoded data removed]",
      "text/plain": [
       "<Figure size 432x288 with 1 Axes>"
      ]
     },
     "metadata": {
      "needs_background": "light"
     },
     "output_type": "display_data"
    }
   ],
   "source": [
    "from sklearn.metrics import roc_curve\n",
    "from sklearn.metrics import auc\n",
    "from sklearn.metrics import roc_auc_score\n",
    "\n",
    "plt.plot([0.001, 1], [0, 1], 'k--')\n",
    "fpr_keras, tpr_keras, thresholds_keras = roc_curve(y_test, Ypredr)\n",
    "auc_keras = auc(fpr_keras, tpr_keras)\n",
    "print(\"Regression auc \",auc_keras)\n",
    "plt.plot(fpr_keras, tpr_keras, label='Regresssion AUC = {:.3f}'.format(auc_keras))\n",
    "plt.xlabel('False positive rate')\n",
    "plt.ylabel('True positive rate')\n",
    "plt.legend(loc='best')\n",
    "plt.show    \n"
   ]
  },
  {
   "cell_type": "markdown",
   "metadata": {},
   "source": [
    "## Compare label and prediction in 1-d projections"
   ]
  },
  {
   "cell_type": "code",
   "execution_count": 38,
   "metadata": {},
   "outputs": [
    {
     "data": {
      "image/png": "[encoded data removed]",
      "text/plain": [
       "<Figure size 1008x360 with 2 Axes>"
      ]
     },
     "metadata": {
      "needs_background": "light"
     },
     "output_type": "display_data"
    },
    {
     "data": {
      "image/png": "[encoded data removed]",
      "text/plain": [
       "<Figure size 1008x360 with 2 Axes>"
      ]
     },
     "metadata": {
      "needs_background": "light"
     },
     "output_type": "display_data"
    }
   ],
   "source": [
    "pred_false='PROB<0.5'\n",
    "pred_true='PROB>0.5'\n",
    "lab_false='SIG==0'\n",
    "lab_true='SIG==1'\n",
    "nbin=50\n",
    "blow=0.\n",
    "fig1= plt.figure(figsize=(14,5))\n",
    "plt.subplot(1, 2,1)\n",
    "var=\"mt\"\n",
    "varmin=0.\n",
    "varmax=250.\n",
    "scale=MeV\n",
    "bins = np.linspace(varmin , varmax, nbin)\n",
    "plt.hist(df_test_acc_r.query(pred_false)[var]*scale, bins, alpha=0.5, density=True, label=pred_false)\n",
    "plt.hist(df_test_acc_r.query(pred_true)[var]*scale, bins, alpha=0.5, density=True, label=pred_true)\n",
    "plt.legend(loc='best')\n",
    "plt.xlabel(var)\n",
    "plt.ylabel('normalised events')\n",
    "plt.subplot(1, 2,2)\n",
    "plt.hist(df_test_acc_r.query(lab_false)[var]*MeV, bins, alpha=0.5, density=True, label=lab_false)\n",
    "plt.hist(df_test_acc_r.query(lab_true)[var]*MeV, bins, alpha=0.5, density=True, label=lab_true)\n",
    "plt.legend(loc='best')\n",
    "plt.xlabel(var)\n",
    "plt.ylabel('normalised events')\n",
    "plt.show()\n",
    "var=\"mll\"\n",
    "varmin=0.\n",
    "varmax=250\n",
    "scale=MeV\n",
    "bins = np.linspace(varmin , varmax, nbin)\n",
    "fig2= plt.figure(figsize=(14,5))\n",
    "plt.subplot(1, 2,1)\n",
    "plt.hist(df_test_acc_r.query(pred_false)[var]*MeV, bins, alpha=0.5, density=True, label=pred_false)\n",
    "plt.hist(df_test_acc_r.query(pred_true)[var]*MeV, bins, alpha=0.5, density=True, label=pred_true)\n",
    "plt.legend(loc='best')\n",
    "plt.xlabel(var)\n",
    "plt.ylabel('normalised events')\n",
    "plt.subplot(1, 2,2)\n",
    "plt.hist(df_test_acc_r.query(lab_false)[var]*MeV, bins, alpha=0.5, density=True, label=lab_false)\n",
    "plt.hist(df_test_acc_r.query(lab_true)[var]*MeV, bins, alpha=0.5, density=True, label=lab_true)\n",
    "plt.legend(loc='best')\n",
    "plt.xlabel(var)\n",
    "plt.ylabel('normalised events')\n",
    "plt.show()"
   ]
  },
  {
   "cell_type": "markdown",
   "metadata": {},
   "source": [
    "## Visualise weights"
   ]
  },
  {
   "cell_type": "code",
   "execution_count": 29,
   "metadata": {},
   "outputs": [
    {
     "name": "stdout",
     "output_type": "stream",
     "text": [
      "variable names Index(['ptl1', 'ptl2', 'dphil1m', 'dphil2m', 'etal1', 'etal2', 'met_et', 'mll',\n",
      "       'mt', 'ptll', 'dphill', 'dphillm'],\n",
      "      dtype='object')\n",
      "layer weights [[-0.31884354]\n",
      " [-0.35237622]\n",
      " [-0.02594792]\n",
      " [-0.01634728]\n",
      " [ 0.0541401 ]\n",
      " [-0.05537266]\n",
      " [-0.17010815]\n",
      " [-2.2411165 ]\n",
      " [-2.0206728 ]\n",
      " [ 0.32245827]\n",
      " [-0.21945861]\n",
      " [ 0.41100436]]\n",
      "layer biases [-1.0882626]\n"
     ]
    }
   ],
   "source": [
    "layer_weights = model.layers[0].get_weights()[0]\n",
    "layer_biases  = model.layers[0].get_weights()[1]\n",
    "print('variable names',col_fin)\n",
    "print('layer weights',layer_weights)\n",
    "print('layer biases',layer_biases)"
   ]
  },
  {
   "cell_type": "code",
   "execution_count": 30,
   "metadata": {},
   "outputs": [
    {
     "data": {
      "image/png": "[encoded data removed]",
      "text/plain": [
       "<Figure size 1008x360 with 2 Axes>"
      ]
     },
     "metadata": {
      "needs_background": "light"
     },
     "output_type": "display_data"
    },
    {
     "data": {
      "image/png": "[encoded data removed]",
      "text/plain": [
       "<Figure size 1008x360 with 2 Axes>"
      ]
     },
     "metadata": {
      "needs_background": "light"
     },
     "output_type": "display_data"
    }
   ],
   "source": [
    "pred_false='PROB<0.5'\n",
    "pred_true='PROB>0.5'\n",
    "lab_false='SIG==0'\n",
    "lab_true='SIG==1'\n",
    "varx=\"mt\"\n",
    "varminx=0.\n",
    "varmaxx=250.\n",
    "nbinx=50\n",
    "scalex=MeV\n",
    "vary=\"mll\"\n",
    "nbiny=50\n",
    "varminy=0.\n",
    "varmaxy=250\n",
    "scaley=MeV\n",
    "binx = np.linspace(varminx,varmaxx,nbinx)\n",
    "biny = np.linspace(varminy,varmaxy,nbiny)\n",
    "fig1= plt.figure(figsize=(14,5))\n",
    "plt.subplot(1, 2,1)\n",
    "plt.hist2d(df_test_acc_r.query(pred_false)[varx]*scalex, df_test_acc_r.query(pred_false)[vary]*scaley, \n",
    "           bins=[binx, biny], density=False)\n",
    "plt.xlabel(varx)\n",
    "plt.ylabel(vary)\n",
    "plt.title(pred_false)\n",
    "plt.subplot(1, 2,2)\n",
    "plt.hist2d(df_test_acc_r.query(lab_false)[varx]*scalex, df_test_acc_r.query(lab_false)[vary]*scaley, \n",
    "           bins=[binx, biny], density=False)\n",
    "plt.xlabel(varx)\n",
    "plt.ylabel(vary)\n",
    "plt.title(lab_false)\n",
    "plt.show()\n",
    "fig2= plt.figure(figsize=(14,5))\n",
    "plt.subplot(1, 2,1)\n",
    "plt.hist2d(df_test_acc_r.query(pred_true)[varx]*scalex, df_test_acc_r.query(pred_true)[vary]*scaley, \n",
    "           bins=[binx, biny], density=False)\n",
    "plt.xlabel(varx)\n",
    "plt.ylabel(vary)\n",
    "plt.title(pred_true)\n",
    "plt.subplot(1, 2,2)\n",
    "plt.hist2d(df_test_acc_r.query(lab_true)[varx]*scalex, df_test_acc_r.query(lab_true)[vary]*scaley, \n",
    "           bins=[binx, biny], density=False)\n",
    "plt.xlabel(varx)\n",
    "plt.ylabel(vary)\n",
    "plt.title(lab_true)\n",
    "plt.show()"
   ]
  },
  {
   "cell_type": "markdown",
   "metadata": {},
   "source": [
    "# Decision tree classifier\n",
    "\n",
    "Documentation for the possible options is in <br />\n",
    "\n",
    "https://scikit-learn.org/stable/modules/generated/sklearn.tree.DecisionTreeClassifier.html\n",
    "    "
   ]
  },
  {
   "cell_type": "code",
   "execution_count": 31,
   "metadata": {},
   "outputs": [
    {
     "name": "stdout",
     "output_type": "stream",
     "text": [
      "Training finished\n"
     ]
    }
   ],
   "source": [
    "from sklearn.tree import DecisionTreeClassifier\n",
    "from sklearn import tree\n",
    "\n",
    "test_tree = pd.DataFrame(X_testu)\n",
    "test_tree.columns=col_fin\n",
    "\n",
    "clf = DecisionTreeClassifier(max_leaf_nodes=6, criterion='gini', splitter='best', random_state=0)\n",
    "clf.fit(X_trainu, y_train)\n",
    "\n",
    "\n",
    "Ypredt=clf.predict_proba(test_tree)\n",
    "\n",
    "print('Training finished')"
   ]
  },
  {
   "cell_type": "code",
   "execution_count": 32,
   "metadata": {},
   "outputs": [
    {
     "name": "stdout",
     "output_type": "stream",
     "text": [
      "(5000, 2)\n"
     ]
    }
   ],
   "source": [
    "print(Ypredt.shape)\n",
    "df_test_acc_t=X_testu.copy()\n",
    "df_test_acc_t['SIG']=y_test\n",
    "df_test_acc_t['PROB']=Ypredt[:,1]"
   ]
  },
  {
   "cell_type": "markdown",
   "metadata": {},
   "source": [
    "## Plot distribution of output probabilities  for signal and backround"
   ]
  },
  {
   "cell_type": "code",
   "execution_count": 33,
   "metadata": {},
   "outputs": [
    {
     "name": "stdout",
     "output_type": "stream",
     "text": [
      "nsig  2523\n",
      "nbkg  2477\n"
     ]
    },
    {
     "data": {
      "image/png": "[encoded data removed]",
      "text/plain": [
       "<Figure size 432x288 with 1 Axes>"
      ]
     },
     "metadata": {
      "needs_background": "light"
     },
     "output_type": "display_data"
    }
   ],
   "source": [
    "# split according to the label\n",
    "df_test_acc_t_bkg = df_test_acc_t.query('SIG==0')\n",
    "df_test_acc_t_sig = df_test_acc_t.query('SIG==1')\n",
    "print('nsig ',df_test_acc_t_sig.shape[0])\n",
    "print('nbkg ',df_test_acc_t_bkg.shape[0])\n",
    "bins = np.linspace(0, 1,50)\n",
    "plt.hist(df_test_acc_t_bkg.PROB, bins, alpha=0.5, density=True, label='Background')\n",
    "plt.hist(df_test_acc_t_sig.PROB, bins, alpha=0.5, density=True, label='Signal')\n",
    "plt.legend(loc='best')\n",
    "plt.show()"
   ]
  },
  {
   "cell_type": "markdown",
   "metadata": {},
   "source": [
    "## Plot ROC curve and calculate AUC"
   ]
  },
  {
   "cell_type": "code",
   "execution_count": 34,
   "metadata": {},
   "outputs": [
    {
     "name": "stdout",
     "output_type": "stream",
     "text": [
      "Regression auc  0.8846936804731151\n"
     ]
    },
    {
     "data": {
      "text/plain": [
       "<function matplotlib.pyplot.show(close=None, block=None)>"
      ]
     },
     "execution_count": 34,
     "metadata": {},
     "output_type": "execute_result"
    },
    {
     "data": {
      "image/png": "[encoded data removed]",
      "text/plain": [
       "<Figure size 432x288 with 1 Axes>"
      ]
     },
     "metadata": {
      "needs_background": "light"
     },
     "output_type": "display_data"
    }
   ],
   "source": [
    "from sklearn.metrics import roc_curve\n",
    "from sklearn.metrics import auc\n",
    "from sklearn.metrics import roc_auc_score\n",
    "\n",
    "plt.plot([0.001, 1], [0, 1], 'k--')\n",
    "fpr_keras, tpr_keras, thresholds_keras = roc_curve(y_test, Ypredt[:,1])\n",
    "auc_keras = auc(fpr_keras, tpr_keras)\n",
    "print(\"Regression auc \",auc_keras)\n",
    "plt.plot(fpr_keras, tpr_keras, label='Regresssion AUC = {:.3f}'.format(auc_keras))\n",
    "plt.xlabel('False positive rate')\n",
    "plt.ylabel('True positive rate')\n",
    "plt.legend(loc='best')\n",
    "plt.show    \n"
   ]
  },
  {
   "cell_type": "markdown",
   "metadata": {},
   "source": [
    "## Compare label and prediction in 1-d projections"
   ]
  },
  {
   "cell_type": "code",
   "execution_count": 35,
   "metadata": {},
   "outputs": [
    {
     "data": {
      "image/png": "[encoded data removed]",
      "text/plain": [
       "<Figure size 1008x360 with 2 Axes>"
      ]
     },
     "metadata": {
      "needs_background": "light"
     },
     "output_type": "display_data"
    },
    {
     "data": {
      "image/png": "[encoded data removed]",
      "text/plain": [
       "<Figure size 1008x360 with 2 Axes>"
      ]
     },
     "metadata": {
      "needs_background": "light"
     },
     "output_type": "display_data"
    }
   ],
   "source": [
    "pred_false='PROB<0.5'\n",
    "pred_true='PROB>0.5'\n",
    "lab_false='SIG==0'\n",
    "lab_true='SIG==1'\n",
    "nbin=50\n",
    "fig3= plt.figure(figsize=(14,5))\n",
    "plt.subplot(1, 2,1)\n",
    "var=\"mt\"\n",
    "varmin=0.\n",
    "varmax=250.\n",
    "scale=MeV\n",
    "bins = np.linspace(varmin , varmax, nbin)\n",
    "plt.hist(df_test_acc_t.query(pred_false)[var]*scale, bins, alpha=0.5, density=True, label=pred_false)\n",
    "plt.hist(df_test_acc_t.query(pred_true)[var]*scale, bins, alpha=0.5, density=True, label=pred_true)\n",
    "plt.legend(loc='best')\n",
    "plt.xlabel(var)\n",
    "plt.ylabel('normalised events')\n",
    "plt.subplot(1, 2,2)\n",
    "plt.hist(df_test_acc_t.query(lab_false)[var]*MeV, bins, alpha=0.5, density=True, label=lab_false)\n",
    "plt.hist(df_test_acc_t.query(lab_true)[var]*MeV, bins, alpha=0.5, density=True, label=lab_true)\n",
    "plt.legend(loc='best')\n",
    "plt.xlabel(var)\n",
    "plt.ylabel('normalised events')\n",
    "plt.show()\n",
    "var=\"mll\"\n",
    "varmin=0.\n",
    "varmax=250\n",
    "scale=MeV\n",
    "bins = np.linspace(varmin , varmax, nbin)\n",
    "fig4= plt.figure(figsize=(14,5))\n",
    "plt.subplot(1, 2,1)\n",
    "plt.hist(df_test_acc_t.query(pred_false)[var]*scale, bins, alpha=0.5, density=True, label=pred_false)\n",
    "plt.hist(df_test_acc_t.query(pred_true)[var]*scale, bins, alpha=0.5, density=True, label=pred_true)\n",
    "plt.legend(loc='best')\n",
    "plt.xlabel(var)\n",
    "plt.ylabel('normalised events')\n",
    "plt.subplot(1, 2,2)\n",
    "plt.hist(df_test_acc_t.query(lab_false)[var]*scale, bins, alpha=0.5, density=True, label=lab_false)\n",
    "plt.hist(df_test_acc_t.query(lab_true)[var]*scale, bins, alpha=0.5, density=True, label=lab_true)\n",
    "plt.legend(loc='best')\n",
    "plt.xlabel(var)\n",
    "plt.ylabel('normalised events')\n",
    "plt.show()"
   ]
  },
  {
   "cell_type": "code",
   "execution_count": 36,
   "metadata": {},
   "outputs": [
    {
     "data": {
      "image/png": "[encoded data removed]",
      "text/plain": [
       "<Figure size 1008x360 with 2 Axes>"
      ]
     },
     "metadata": {
      "needs_background": "light"
     },
     "output_type": "display_data"
    },
    {
     "data": {
      "image/png": "[encoded data removed]",
      "text/plain": [
       "<Figure size 1008x360 with 2 Axes>"
      ]
     },
     "metadata": {
      "needs_background": "light"
     },
     "output_type": "display_data"
    }
   ],
   "source": [
    "pred_false='PROB<0.5'\n",
    "pred_true='PROB>0.5'\n",
    "lab_false='SIG==0'\n",
    "lab_true='SIG==1'\n",
    "varx=\"mt\"\n",
    "varminx=0.\n",
    "varmaxx=250.\n",
    "nbinx=50\n",
    "scalex=MeV\n",
    "vary=\"mll\"\n",
    "nbiny=50\n",
    "varminy=0.\n",
    "varmaxy=250.\n",
    "scaley=MeV\n",
    "binx = np.linspace(varminx,varmaxx,nbinx)\n",
    "biny = np.linspace(varminy,varmaxy,nbiny)\n",
    "fig1= plt.figure(figsize=(14,5))\n",
    "plt.subplot(1, 2,1)\n",
    "plt.hist2d(df_test_acc_t.query(pred_false)[varx]*scalex, df_test_acc_t.query(pred_false)[vary]*scaley, \n",
    "           bins=[binx, biny], density=False)\n",
    "plt.xlabel(varx)\n",
    "plt.ylabel(vary)\n",
    "plt.title(pred_false)\n",
    "plt.subplot(1, 2,2)\n",
    "plt.hist2d(df_test_acc_t.query(lab_false)[varx]*scalex, df_test_acc_t.query(lab_false)[vary]*scaley, \n",
    "           bins=[binx, biny], density=False)\n",
    "plt.xlabel(varx)\n",
    "plt.ylabel(vary)\n",
    "plt.title(lab_false)\n",
    "plt.show()\n",
    "fig2= plt.figure(figsize=(14,5))\n",
    "plt.subplot(1, 2,1)\n",
    "plt.hist2d(df_test_acc_t.query(pred_true)[varx]*scalex, df_test_acc_t.query(pred_true)[vary]*scaley, \n",
    "           bins=[binx, biny], density=False)\n",
    "plt.xlabel(varx)\n",
    "plt.ylabel(vary)\n",
    "plt.title(pred_true)\n",
    "plt.subplot(1, 2,2)\n",
    "plt.hist2d(df_test_acc_t.query(lab_true)[varx]*scalex, df_test_acc_t.query(lab_true)[vary]*scaley, \n",
    "           bins=[binx, biny], density=False)\n",
    "plt.xlabel(varx)\n",
    "plt.ylabel(vary)\n",
    "plt.title(lab_true)\n",
    "plt.show()"
   ]
  },
  {
   "cell_type": "markdown",
   "metadata": {},
   "source": [
    "## Visualize tree"
   ]
  },
  {
   "cell_type": "code",
   "execution_count": 37,
   "metadata": {},
   "outputs": [
    {
     "data": {
      "image/svg+xml": [
       "<?xml version=\"1.0\" encoding=\"UTF-8\" standalone=\"no\"?>\n",
       "<!DOCTYPE svg PUBLIC \"-//W3C//DTD SVG 1.1//EN\"\n",
       " \"http://www.w3.org/Graphics/SVG/1.1/DTD/svg11.dtd\">\n",
       "<!-- Generated by graphviz version 2.43.0 (0)\n",
       " -->\n",
       "<!-- Title: Tree Pages: 1 -->\n",
       "<svg width=\"852pt\" height=\"418pt\"\n",
       " viewBox=\"0.00 0.00 851.50 418.00\" xmlns=\"http://www.w3.org/2000/svg\" xmlns:xlink=\"http://www.w3.org/1999/xlink\">\n",
       "<g id=\"graph0\" class=\"graph\" transform=\"scale(1 1) rotate(0) translate(4 414)\">\n",
       "<title>Tree</title>\n",
       "<polygon fill=\"white\" stroke=\"transparent\" points=\"-4,4 -4,-414 847.5,-414 847.5,4 -4,4\"/>\n",
       "<!-- 0 -->\n",
       "<g id=\"node1\" class=\"node\">\n",
       "<title>0</title>\n",
       "<path fill=\"#fdfeff\" stroke=\"black\" d=\"M586.5,-410C586.5,-410 443.5,-410 443.5,-410 437.5,-410 431.5,-404 431.5,-398 431.5,-398 431.5,-344 431.5,-344 431.5,-338 437.5,-332 443.5,-332 443.5,-332 586.5,-332 586.5,-332 592.5,-332 598.5,-338 598.5,-344 598.5,-344 598.5,-398 598.5,-398 598.5,-404 592.5,-410 586.5,-410\"/>\n",
       "<text text-anchor=\"start\" x=\"457\" y=\"-395.8\" font-family=\"Helvetica,sans-Serif\" font-size=\"14.00\">X</text>\n",
       "<text text-anchor=\"start\" x=\"467\" y=\"-395.8\" font-family=\"Helvetica,sans-Serif\" baseline-shift=\"sub\" font-size=\"14.00\">7</text>\n",
       "<text text-anchor=\"start\" x=\"475\" y=\"-395.8\" font-family=\"Helvetica,sans-Serif\" font-size=\"14.00\"> ≤ 68322.816</text>\n",
       "<text text-anchor=\"start\" x=\"480\" y=\"-381.8\" font-family=\"Helvetica,sans-Serif\" font-size=\"14.00\">gini = 0.5</text>\n",
       "<text text-anchor=\"start\" x=\"453\" y=\"-367.8\" font-family=\"Helvetica,sans-Serif\" font-size=\"14.00\">samples = 13500</text>\n",
       "<text text-anchor=\"start\" x=\"439.5\" y=\"-353.8\" font-family=\"Helvetica,sans-Serif\" font-size=\"14.00\">value = [6724, 6776]</text>\n",
       "<text text-anchor=\"start\" x=\"469.5\" y=\"-339.8\" font-family=\"Helvetica,sans-Serif\" font-size=\"14.00\">class = good</text>\n",
       "</g>\n",
       "<!-- 1 -->\n",
       "<g id=\"node2\" class=\"node\">\n",
       "<title>1</title>\n",
       "<path fill=\"#7bbeee\" stroke=\"black\" d=\"M496.5,-296C496.5,-296 353.5,-296 353.5,-296 347.5,-296 341.5,-290 341.5,-284 341.5,-284 341.5,-230 341.5,-230 341.5,-224 347.5,-218 353.5,-218 353.5,-218 496.5,-218 496.5,-218 502.5,-218 508.5,-224 508.5,-230 508.5,-230 508.5,-284 508.5,-284 508.5,-290 502.5,-296 496.5,-296\"/>\n",
       "<text text-anchor=\"start\" x=\"362.5\" y=\"-281.8\" font-family=\"Helvetica,sans-Serif\" font-size=\"14.00\">X</text>\n",
       "<text text-anchor=\"start\" x=\"372.5\" y=\"-281.8\" font-family=\"Helvetica,sans-Serif\" baseline-shift=\"sub\" font-size=\"14.00\">8</text>\n",
       "<text text-anchor=\"start\" x=\"380.5\" y=\"-281.8\" font-family=\"Helvetica,sans-Serif\" font-size=\"14.00\"> ≤ 139658.727</text>\n",
       "<text text-anchor=\"start\" x=\"381\" y=\"-267.8\" font-family=\"Helvetica,sans-Serif\" font-size=\"14.00\">gini = 0.375</text>\n",
       "<text text-anchor=\"start\" x=\"367.5\" y=\"-253.8\" font-family=\"Helvetica,sans-Serif\" font-size=\"14.00\">samples = 8696</text>\n",
       "<text text-anchor=\"start\" x=\"349.5\" y=\"-239.8\" font-family=\"Helvetica,sans-Serif\" font-size=\"14.00\">value = [2172, 6524]</text>\n",
       "<text text-anchor=\"start\" x=\"379.5\" y=\"-225.8\" font-family=\"Helvetica,sans-Serif\" font-size=\"14.00\">class = good</text>\n",
       "</g>\n",
       "<!-- 0&#45;&gt;1 -->\n",
       "<g id=\"edge1\" class=\"edge\">\n",
       "<title>0&#45;&gt;1</title>\n",
       "<path fill=\"none\" stroke=\"black\" d=\"M484.28,-331.77C477.11,-322.85 469.4,-313.26 461.99,-304.04\"/>\n",
       "<polygon fill=\"black\" stroke=\"black\" points=\"464.57,-301.66 455.58,-296.06 459.12,-306.05 464.57,-301.66\"/>\n",
       "<text text-anchor=\"middle\" x=\"452.88\" y=\"-317.21\" font-family=\"Helvetica,sans-Serif\" font-size=\"14.00\">True</text>\n",
       "</g>\n",
       "<!-- 2 -->\n",
       "<g id=\"node9\" class=\"node\">\n",
       "<title>2</title>\n",
       "<path fill=\"#e68844\" stroke=\"black\" d=\"M672,-296C672,-296 538,-296 538,-296 532,-296 526,-290 526,-284 526,-284 526,-230 526,-230 526,-224 532,-218 538,-218 538,-218 672,-218 672,-218 678,-218 684,-224 684,-230 684,-230 684,-284 684,-284 684,-290 678,-296 672,-296\"/>\n",
       "<text text-anchor=\"start\" x=\"547\" y=\"-281.8\" font-family=\"Helvetica,sans-Serif\" font-size=\"14.00\">X</text>\n",
       "<text text-anchor=\"start\" x=\"557\" y=\"-281.8\" font-family=\"Helvetica,sans-Serif\" baseline-shift=\"sub\" font-size=\"14.00\">7</text>\n",
       "<text text-anchor=\"start\" x=\"565\" y=\"-281.8\" font-family=\"Helvetica,sans-Serif\" font-size=\"14.00\"> ≤ 76845.867</text>\n",
       "<text text-anchor=\"start\" x=\"561\" y=\"-267.8\" font-family=\"Helvetica,sans-Serif\" font-size=\"14.00\">gini = 0.099</text>\n",
       "<text text-anchor=\"start\" x=\"547.5\" y=\"-253.8\" font-family=\"Helvetica,sans-Serif\" font-size=\"14.00\">samples = 4804</text>\n",
       "<text text-anchor=\"start\" x=\"534\" y=\"-239.8\" font-family=\"Helvetica,sans-Serif\" font-size=\"14.00\">value = [4552, 252]</text>\n",
       "<text text-anchor=\"start\" x=\"564\" y=\"-225.8\" font-family=\"Helvetica,sans-Serif\" font-size=\"14.00\">class = bad</text>\n",
       "</g>\n",
       "<!-- 0&#45;&gt;2 -->\n",
       "<g id=\"edge8\" class=\"edge\">\n",
       "<title>0&#45;&gt;2</title>\n",
       "<path fill=\"none\" stroke=\"black\" d=\"M545.72,-331.77C552.89,-322.85 560.6,-313.26 568.01,-304.04\"/>\n",
       "<polygon fill=\"black\" stroke=\"black\" points=\"570.88,-306.05 574.42,-296.06 565.43,-301.66 570.88,-306.05\"/>\n",
       "<text text-anchor=\"middle\" x=\"577.12\" y=\"-317.21\" font-family=\"Helvetica,sans-Serif\" font-size=\"14.00\">False</text>\n",
       "</g>\n",
       "<!-- 3 -->\n",
       "<g id=\"node3\" class=\"node\">\n",
       "<title>3</title>\n",
       "<path fill=\"#6ab5eb\" stroke=\"black\" d=\"M324.5,-182C324.5,-182 181.5,-182 181.5,-182 175.5,-182 169.5,-176 169.5,-170 169.5,-170 169.5,-116 169.5,-116 169.5,-110 175.5,-104 181.5,-104 181.5,-104 324.5,-104 324.5,-104 330.5,-104 336.5,-110 336.5,-116 336.5,-116 336.5,-170 336.5,-170 336.5,-176 330.5,-182 324.5,-182\"/>\n",
       "<text text-anchor=\"start\" x=\"204\" y=\"-167.8\" font-family=\"Helvetica,sans-Serif\" font-size=\"14.00\">X</text>\n",
       "<text text-anchor=\"start\" x=\"214\" y=\"-167.8\" font-family=\"Helvetica,sans-Serif\" baseline-shift=\"sub\" font-size=\"14.00\">7</text>\n",
       "<text text-anchor=\"start\" x=\"222\" y=\"-167.8\" font-family=\"Helvetica,sans-Serif\" font-size=\"14.00\"> ≤ 46102.1</text>\n",
       "<text text-anchor=\"start\" x=\"213.5\" y=\"-153.8\" font-family=\"Helvetica,sans-Serif\" font-size=\"14.00\">gini = 0.32</text>\n",
       "<text text-anchor=\"start\" x=\"195.5\" y=\"-139.8\" font-family=\"Helvetica,sans-Serif\" font-size=\"14.00\">samples = 7805</text>\n",
       "<text text-anchor=\"start\" x=\"177.5\" y=\"-125.8\" font-family=\"Helvetica,sans-Serif\" font-size=\"14.00\">value = [1560, 6245]</text>\n",
       "<text text-anchor=\"start\" x=\"207.5\" y=\"-111.8\" font-family=\"Helvetica,sans-Serif\" font-size=\"14.00\">class = good</text>\n",
       "</g>\n",
       "<!-- 1&#45;&gt;3 -->\n",
       "<g id=\"edge2\" class=\"edge\">\n",
       "<title>1&#45;&gt;3</title>\n",
       "<path fill=\"none\" stroke=\"black\" d=\"M366.29,-217.77C351.34,-208.04 335.17,-197.51 319.86,-187.53\"/>\n",
       "<polygon fill=\"black\" stroke=\"black\" points=\"321.74,-184.58 311.45,-182.06 317.92,-190.45 321.74,-184.58\"/>\n",
       "</g>\n",
       "<!-- 4 -->\n",
       "<g id=\"node6\" class=\"node\">\n",
       "<title>4</title>\n",
       "<path fill=\"#f1ba93\" stroke=\"black\" d=\"M491.5,-182C491.5,-182 366.5,-182 366.5,-182 360.5,-182 354.5,-176 354.5,-170 354.5,-170 354.5,-116 354.5,-116 354.5,-110 360.5,-104 366.5,-104 366.5,-104 491.5,-104 491.5,-104 497.5,-104 503.5,-110 503.5,-116 503.5,-116 503.5,-170 503.5,-170 503.5,-176 497.5,-182 491.5,-182\"/>\n",
       "<text text-anchor=\"start\" x=\"366.5\" y=\"-167.8\" font-family=\"Helvetica,sans-Serif\" font-size=\"14.00\">X</text>\n",
       "<text text-anchor=\"start\" x=\"376.5\" y=\"-167.8\" font-family=\"Helvetica,sans-Serif\" baseline-shift=\"sub\" font-size=\"14.00\">8</text>\n",
       "<text text-anchor=\"start\" x=\"384.5\" y=\"-167.8\" font-family=\"Helvetica,sans-Serif\" font-size=\"14.00\"> ≤ 166401.203</text>\n",
       "<text text-anchor=\"start\" x=\"389.5\" y=\"-153.8\" font-family=\"Helvetica,sans-Serif\" font-size=\"14.00\">gini = 0.43</text>\n",
       "<text text-anchor=\"start\" x=\"376\" y=\"-139.8\" font-family=\"Helvetica,sans-Serif\" font-size=\"14.00\">samples = 891</text>\n",
       "<text text-anchor=\"start\" x=\"362.5\" y=\"-125.8\" font-family=\"Helvetica,sans-Serif\" font-size=\"14.00\">value = [612, 279]</text>\n",
       "<text text-anchor=\"start\" x=\"388\" y=\"-111.8\" font-family=\"Helvetica,sans-Serif\" font-size=\"14.00\">class = bad</text>\n",
       "</g>\n",
       "<!-- 1&#45;&gt;4 -->\n",
       "<g id=\"edge5\" class=\"edge\">\n",
       "<title>1&#45;&gt;4</title>\n",
       "<path fill=\"none\" stroke=\"black\" d=\"M426.37,-217.77C426.66,-209.57 426.97,-200.8 427.28,-192.28\"/>\n",
       "<polygon fill=\"black\" stroke=\"black\" points=\"430.78,-192.18 427.64,-182.06 423.79,-191.93 430.78,-192.18\"/>\n",
       "</g>\n",
       "<!-- 5 -->\n",
       "<g id=\"node4\" class=\"node\">\n",
       "<title>5</title>\n",
       "<path fill=\"#5aade9\" stroke=\"black\" d=\"M146,-68C146,-68 12,-68 12,-68 6,-68 0,-62 0,-56 0,-56 0,-12 0,-12 0,-6 6,0 12,0 12,0 146,0 146,0 152,0 158,-6 158,-12 158,-12 158,-56 158,-56 158,-62 152,-68 146,-68\"/>\n",
       "<text text-anchor=\"start\" x=\"35\" y=\"-52.8\" font-family=\"Helvetica,sans-Serif\" font-size=\"14.00\">gini = 0.246</text>\n",
       "<text text-anchor=\"start\" x=\"21.5\" y=\"-37.8\" font-family=\"Helvetica,sans-Serif\" font-size=\"14.00\">samples = 5364</text>\n",
       "<text text-anchor=\"start\" x=\"8\" y=\"-22.8\" font-family=\"Helvetica,sans-Serif\" font-size=\"14.00\">value = [769, 4595]</text>\n",
       "<text text-anchor=\"start\" x=\"33.5\" y=\"-7.8\" font-family=\"Helvetica,sans-Serif\" font-size=\"14.00\">class = good</text>\n",
       "</g>\n",
       "<!-- 3&#45;&gt;5 -->\n",
       "<g id=\"edge3\" class=\"edge\">\n",
       "<title>3&#45;&gt;5</title>\n",
       "<path fill=\"none\" stroke=\"black\" d=\"M191.16,-103.97C175.09,-94.09 157.77,-83.44 141.65,-73.53\"/>\n",
       "<polygon fill=\"black\" stroke=\"black\" points=\"143.19,-70.37 132.84,-68.11 139.53,-76.33 143.19,-70.37\"/>\n",
       "</g>\n",
       "<!-- 6 -->\n",
       "<g id=\"node5\" class=\"node\">\n",
       "<title>6</title>\n",
       "<path fill=\"#98ccf1\" stroke=\"black\" d=\"M322,-68C322,-68 188,-68 188,-68 182,-68 176,-62 176,-56 176,-56 176,-12 176,-12 176,-6 182,0 188,0 188,0 322,0 322,0 328,0 334,-6 334,-12 334,-12 334,-56 334,-56 334,-62 328,-68 322,-68\"/>\n",
       "<text text-anchor=\"start\" x=\"211\" y=\"-52.8\" font-family=\"Helvetica,sans-Serif\" font-size=\"14.00\">gini = 0.438</text>\n",
       "<text text-anchor=\"start\" x=\"197.5\" y=\"-37.8\" font-family=\"Helvetica,sans-Serif\" font-size=\"14.00\">samples = 2441</text>\n",
       "<text text-anchor=\"start\" x=\"184\" y=\"-22.8\" font-family=\"Helvetica,sans-Serif\" font-size=\"14.00\">value = [791, 1650]</text>\n",
       "<text text-anchor=\"start\" x=\"209.5\" y=\"-7.8\" font-family=\"Helvetica,sans-Serif\" font-size=\"14.00\">class = good</text>\n",
       "</g>\n",
       "<!-- 3&#45;&gt;6 -->\n",
       "<g id=\"edge4\" class=\"edge\">\n",
       "<title>3&#45;&gt;6</title>\n",
       "<path fill=\"none\" stroke=\"black\" d=\"M253.71,-103.97C253.87,-95.69 254.03,-86.86 254.19,-78.39\"/>\n",
       "<polygon fill=\"black\" stroke=\"black\" points=\"257.69,-78.35 254.38,-68.28 250.69,-78.22 257.69,-78.35\"/>\n",
       "</g>\n",
       "<!-- 9 -->\n",
       "<g id=\"node7\" class=\"node\">\n",
       "<title>9</title>\n",
       "<path fill=\"#f8dcc8\" stroke=\"black\" d=\"M490.5,-68C490.5,-68 365.5,-68 365.5,-68 359.5,-68 353.5,-62 353.5,-56 353.5,-56 353.5,-12 353.5,-12 353.5,-6 359.5,0 365.5,0 365.5,0 490.5,0 490.5,0 496.5,0 502.5,-6 502.5,-12 502.5,-12 502.5,-56 502.5,-56 502.5,-62 496.5,-68 490.5,-68\"/>\n",
       "<text text-anchor=\"start\" x=\"384\" y=\"-52.8\" font-family=\"Helvetica,sans-Serif\" font-size=\"14.00\">gini = 0.487</text>\n",
       "<text text-anchor=\"start\" x=\"375\" y=\"-37.8\" font-family=\"Helvetica,sans-Serif\" font-size=\"14.00\">samples = 571</text>\n",
       "<text text-anchor=\"start\" x=\"361.5\" y=\"-22.8\" font-family=\"Helvetica,sans-Serif\" font-size=\"14.00\">value = [332, 239]</text>\n",
       "<text text-anchor=\"start\" x=\"387\" y=\"-7.8\" font-family=\"Helvetica,sans-Serif\" font-size=\"14.00\">class = bad</text>\n",
       "</g>\n",
       "<!-- 4&#45;&gt;9 -->\n",
       "<g id=\"edge6\" class=\"edge\">\n",
       "<title>4&#45;&gt;9</title>\n",
       "<path fill=\"none\" stroke=\"black\" d=\"M428.64,-103.97C428.57,-95.69 428.48,-86.86 428.41,-78.39\"/>\n",
       "<polygon fill=\"black\" stroke=\"black\" points=\"431.9,-78.25 428.31,-68.28 424.9,-78.32 431.9,-78.25\"/>\n",
       "</g>\n",
       "<!-- 10 -->\n",
       "<g id=\"node8\" class=\"node\">\n",
       "<title>10</title>\n",
       "<path fill=\"#e99355\" stroke=\"black\" d=\"M649,-68C649,-68 533,-68 533,-68 527,-68 521,-62 521,-56 521,-56 521,-12 521,-12 521,-6 527,0 533,0 533,0 649,0 649,0 655,0 661,-6 661,-12 661,-12 661,-56 661,-56 661,-62 655,-68 649,-68\"/>\n",
       "<text text-anchor=\"start\" x=\"547\" y=\"-52.8\" font-family=\"Helvetica,sans-Serif\" font-size=\"14.00\">gini = 0.219</text>\n",
       "<text text-anchor=\"start\" x=\"538\" y=\"-37.8\" font-family=\"Helvetica,sans-Serif\" font-size=\"14.00\">samples = 320</text>\n",
       "<text text-anchor=\"start\" x=\"529\" y=\"-22.8\" font-family=\"Helvetica,sans-Serif\" font-size=\"14.00\">value = [280, 40]</text>\n",
       "<text text-anchor=\"start\" x=\"550\" y=\"-7.8\" font-family=\"Helvetica,sans-Serif\" font-size=\"14.00\">class = bad</text>\n",
       "</g>\n",
       "<!-- 4&#45;&gt;10 -->\n",
       "<g id=\"edge7\" class=\"edge\">\n",
       "<title>4&#45;&gt;10</title>\n",
       "<path fill=\"none\" stroke=\"black\" d=\"M486.57,-103.97C501.4,-94.18 517.37,-83.63 532.25,-73.8\"/>\n",
       "<polygon fill=\"black\" stroke=\"black\" points=\"534.46,-76.54 540.87,-68.11 530.6,-70.7 534.46,-76.54\"/>\n",
       "</g>\n",
       "<!-- 7 -->\n",
       "<g id=\"node10\" class=\"node\">\n",
       "<title>7</title>\n",
       "<path fill=\"#f0b78e\" stroke=\"black\" d=\"M664.5,-177C664.5,-177 539.5,-177 539.5,-177 533.5,-177 527.5,-171 527.5,-165 527.5,-165 527.5,-121 527.5,-121 527.5,-115 533.5,-109 539.5,-109 539.5,-109 664.5,-109 664.5,-109 670.5,-109 676.5,-115 676.5,-121 676.5,-121 676.5,-165 676.5,-165 676.5,-171 670.5,-177 664.5,-177\"/>\n",
       "<text text-anchor=\"start\" x=\"562.5\" y=\"-161.8\" font-family=\"Helvetica,sans-Serif\" font-size=\"14.00\">gini = 0.42</text>\n",
       "<text text-anchor=\"start\" x=\"549\" y=\"-146.8\" font-family=\"Helvetica,sans-Serif\" font-size=\"14.00\">samples = 620</text>\n",
       "<text text-anchor=\"start\" x=\"535.5\" y=\"-131.8\" font-family=\"Helvetica,sans-Serif\" font-size=\"14.00\">value = [434, 186]</text>\n",
       "<text text-anchor=\"start\" x=\"561\" y=\"-116.8\" font-family=\"Helvetica,sans-Serif\" font-size=\"14.00\">class = bad</text>\n",
       "</g>\n",
       "<!-- 2&#45;&gt;7 -->\n",
       "<g id=\"edge9\" class=\"edge\">\n",
       "<title>2&#45;&gt;7</title>\n",
       "<path fill=\"none\" stroke=\"black\" d=\"M603.98,-217.77C603.71,-207.99 603.43,-197.4 603.16,-187.38\"/>\n",
       "<polygon fill=\"black\" stroke=\"black\" points=\"606.66,-187.1 602.89,-177.2 599.66,-187.29 606.66,-187.1\"/>\n",
       "</g>\n",
       "<!-- 8 -->\n",
       "<g id=\"node11\" class=\"node\">\n",
       "<title>8</title>\n",
       "<path fill=\"#e5833c\" stroke=\"black\" d=\"M831.5,-177C831.5,-177 706.5,-177 706.5,-177 700.5,-177 694.5,-171 694.5,-165 694.5,-165 694.5,-121 694.5,-121 694.5,-115 700.5,-109 706.5,-109 706.5,-109 831.5,-109 831.5,-109 837.5,-109 843.5,-115 843.5,-121 843.5,-121 843.5,-165 843.5,-165 843.5,-171 837.5,-177 831.5,-177\"/>\n",
       "<text text-anchor=\"start\" x=\"725\" y=\"-161.8\" font-family=\"Helvetica,sans-Serif\" font-size=\"14.00\">gini = 0.031</text>\n",
       "<text text-anchor=\"start\" x=\"711.5\" y=\"-146.8\" font-family=\"Helvetica,sans-Serif\" font-size=\"14.00\">samples = 4184</text>\n",
       "<text text-anchor=\"start\" x=\"702.5\" y=\"-131.8\" font-family=\"Helvetica,sans-Serif\" font-size=\"14.00\">value = [4118, 66]</text>\n",
       "<text text-anchor=\"start\" x=\"728\" y=\"-116.8\" font-family=\"Helvetica,sans-Serif\" font-size=\"14.00\">class = bad</text>\n",
       "</g>\n",
       "<!-- 2&#45;&gt;8 -->\n",
       "<g id=\"edge10\" class=\"edge\">\n",
       "<title>2&#45;&gt;8</title>\n",
       "<path fill=\"none\" stroke=\"black\" d=\"M660.98,-217.77C677.5,-206.49 695.58,-194.14 712.15,-182.82\"/>\n",
       "<polygon fill=\"black\" stroke=\"black\" points=\"714.38,-185.54 720.66,-177.01 710.43,-179.76 714.38,-185.54\"/>\n",
       "</g>\n",
       "</g>\n",
       "</svg>\n"
      ],
      "text/plain": [
       "<graphviz.sources.Source at 0x7efc478c26a0>"
      ]
     },
     "execution_count": 37,
     "metadata": {},
     "output_type": "execute_result"
    }
   ],
   "source": [
    "import graphviz\n",
    "dot_data = tree.export_graphviz(clf, out_file=None)\n",
    "dot_data = tree.export_graphviz(clf, out_file=None,\n",
    "                     class_names=[\"bad\",\"good\"],\n",
    "                     filled=True, rounded=True,\n",
    "                     special_characters=True)\n",
    "graph = graphviz.Source(dot_data)\n",
    "graph"
   ]
  },
  {
   "cell_type": "markdown",
   "metadata": {},
   "source": [
    "# Exercises"
   ]
  },
  {
   "cell_type": "markdown",
   "metadata": {},
   "source": [
    "* Try to run Logistic Regression with non-renormalised variables and extract best significance\n",
    "* Try to change optimiser for logistic regression \n",
    "* Try to remove the variables with lowest weights, and compare performance\n",
    "\n",
    "* Add one layer to the LR model and compare performance -> this is the shallow learning\n",
    "  * Vary parameters of added layer\n",
    "\n",
    "* Modify parameteres in decision tree\n",
    "  * In particular, increase number of leaves, and verify on graphical representation of the tree what id did \n",
    "* Rerun decision tree only with variables actually used by tree\n"
   ]
  },
  {
   "cell_type": "markdown",
   "metadata": {},
   "source": [
    "\n"
   ]
  }
 ],
 "metadata": {
  "colab": {
   "provenance": []
  },
  "kernelspec": {
   "display_name": "Python 3 (ipykernel)",
   "language": "python",
   "name": "python3"
  },
  "language_info": {
   "codemirror_mode": {
    "name": "ipython",
    "version": 3
   },
   "file_extension": ".py",
   "mimetype": "text/x-python",
   "name": "python",
   "nbconvert_exporter": "python",
   "pygments_lexer": "ipython3",
   "version": "3.8.10"
  },
  "toc": {
   "base_numbering": 1,
   "nav_menu": {},
   "number_sections": true,
   "sideBar": true,
   "skip_h1_title": false,
   "title_cell": "Table of Contents",
   "title_sidebar": "Contents",
   "toc_cell": false,
   "toc_position": {},
   "toc_section_display": true,
   "toc_window_display": false
  }
 },
 "nbformat": 4,
 "nbformat_minor": 1
}
